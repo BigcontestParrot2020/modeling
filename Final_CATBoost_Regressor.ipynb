{
  "nbformat": 4,
  "nbformat_minor": 0,
  "metadata": {
    "colab": {
      "name": "Final_Bingcontest",
      "provenance": [],
      "collapsed_sections": []
    },
    "kernelspec": {
      "name": "python3",
      "display_name": "Python 3"
    },
    "accelerator": "GPU"
  },
  "cells": [
    {
      "cell_type": "markdown",
      "metadata": {
        "id": "0WynzLBdakkq"
      },
      "source": [
        "## Lets Start"
      ]
    },
    {
      "cell_type": "code",
      "metadata": {
        "id": "9oXZd8IEoJOr",
        "outputId": "8403df87-c03f-4475-fbdf-4354ffaaa232",
        "colab": {
          "base_uri": "https://localhost:8080/",
          "height": 73
        }
      },
      "source": [
        "import os\n",
        "import re\n",
        "import numpy as np\n",
        "import pandas as pd\n",
        "import matplotlib.pyplot as plt\n",
        "import seaborn as sns\n",
        "import datetime as dt\n",
        "\n",
        "plt.style.use('seaborn-whitegrid')"
      ],
      "execution_count": 1,
      "outputs": [
        {
          "output_type": "stream",
          "text": [
            "/usr/local/lib/python3.6/dist-packages/statsmodels/tools/_testing.py:19: FutureWarning: pandas.util.testing is deprecated. Use the functions in the public API at pandas.testing instead.\n",
            "  import pandas.util.testing as tm\n"
          ],
          "name": "stderr"
        }
      ]
    },
    {
      "cell_type": "code",
      "metadata": {
        "id": "WBfIQh2tMn7u",
        "outputId": "e728cfdd-435a-45a6-d7bc-1116281d8c35",
        "colab": {
          "base_uri": "https://localhost:8080/",
          "height": 125
        }
      },
      "source": [
        "!git clone https://github.com/BigcontestParrot2020/csv.git"
      ],
      "execution_count": 2,
      "outputs": [
        {
          "output_type": "stream",
          "text": [
            "Cloning into 'csv'...\n",
            "remote: Enumerating objects: 47, done.\u001b[K\n",
            "remote: Counting objects: 100% (47/47), done.\u001b[K\n",
            "remote: Compressing objects: 100% (45/45), done.\u001b[K\n",
            "remote: Total 47 (delta 15), reused 0 (delta 0), pack-reused 0\u001b[K\n",
            "Unpacking objects: 100% (47/47), done.\n"
          ],
          "name": "stdout"
        }
      ]
    },
    {
      "cell_type": "code",
      "metadata": {
        "id": "YzpV_ym-bOPK",
        "outputId": "8d1028e8-e24d-4e81-a6f4-419b3c1b15c6",
        "colab": {
          "base_uri": "https://localhost:8080/",
          "height": 305
        }
      },
      "source": [
        "!apt install fonts-nanum\n",
        "\n",
        "import matplotlib as mpl\n",
        "import matplotlib.font_manager as fm\n",
        "\n",
        "fontpath = '/usr/share/fonts/truetype/nanum/NanumBarunGothic.ttf'\n",
        "font = fm.FontProperties(fname=fontpath, size=9)\n",
        "fontname = font.get_name()\n",
        "plt.rc('font', family='NanumBarunGothic') \n",
        "mpl.font_manager._rebuild()"
      ],
      "execution_count": 3,
      "outputs": [
        {
          "output_type": "stream",
          "text": [
            "Reading package lists... Done\n",
            "Building dependency tree       \n",
            "Reading state information... Done\n",
            "The following NEW packages will be installed:\n",
            "  fonts-nanum\n",
            "0 upgraded, 1 newly installed, 0 to remove and 11 not upgraded.\n",
            "Need to get 9,604 kB of archives.\n",
            "After this operation, 29.5 MB of additional disk space will be used.\n",
            "Get:1 http://archive.ubuntu.com/ubuntu bionic/universe amd64 fonts-nanum all 20170925-1 [9,604 kB]\n",
            "Fetched 9,604 kB in 3s (3,306 kB/s)\n",
            "Selecting previously unselected package fonts-nanum.\n",
            "(Reading database ... 144676 files and directories currently installed.)\n",
            "Preparing to unpack .../fonts-nanum_20170925-1_all.deb ...\n",
            "Unpacking fonts-nanum (20170925-1) ...\n",
            "Setting up fonts-nanum (20170925-1) ...\n",
            "Processing triggers for fontconfig (2.12.6-0ubuntu2) ...\n"
          ],
          "name": "stdout"
        }
      ]
    },
    {
      "cell_type": "code",
      "metadata": {
        "id": "RwriCxgPVVs_",
        "outputId": "8b025bf0-00f2-4648-8840-362b16c1755d",
        "colab": {
          "base_uri": "https://localhost:8080/",
          "height": 565
        }
      },
      "source": [
        "plt.figure(figsize = (4,2))\n",
        "plt.plot([1,2,3,4],[1,2,3,4])\n",
        "plt.title('한글 테스트')\n",
        "plt.show()"
      ],
      "execution_count": 4,
      "outputs": [
        {
          "output_type": "stream",
          "text": [
            "findfont: Font family ['NanumBarunGothic'] not found. Falling back to DejaVu Sans.\n",
            "/usr/local/lib/python3.6/dist-packages/matplotlib/backends/backend_agg.py:214: RuntimeWarning: Glyph 54620 missing from current font.\n",
            "  font.set_text(s, 0.0, flags=flags)\n",
            "/usr/local/lib/python3.6/dist-packages/matplotlib/backends/backend_agg.py:214: RuntimeWarning: Glyph 44544 missing from current font.\n",
            "  font.set_text(s, 0.0, flags=flags)\n",
            "/usr/local/lib/python3.6/dist-packages/matplotlib/backends/backend_agg.py:214: RuntimeWarning: Glyph 53580 missing from current font.\n",
            "  font.set_text(s, 0.0, flags=flags)\n",
            "/usr/local/lib/python3.6/dist-packages/matplotlib/backends/backend_agg.py:214: RuntimeWarning: Glyph 49828 missing from current font.\n",
            "  font.set_text(s, 0.0, flags=flags)\n",
            "/usr/local/lib/python3.6/dist-packages/matplotlib/backends/backend_agg.py:214: RuntimeWarning: Glyph 53944 missing from current font.\n",
            "  font.set_text(s, 0.0, flags=flags)\n",
            "findfont: Font family ['NanumBarunGothic'] not found. Falling back to DejaVu Sans.\n",
            "/usr/local/lib/python3.6/dist-packages/matplotlib/backends/backend_agg.py:183: RuntimeWarning: Glyph 54620 missing from current font.\n",
            "  font.set_text(s, 0, flags=flags)\n",
            "/usr/local/lib/python3.6/dist-packages/matplotlib/backends/backend_agg.py:183: RuntimeWarning: Glyph 44544 missing from current font.\n",
            "  font.set_text(s, 0, flags=flags)\n",
            "/usr/local/lib/python3.6/dist-packages/matplotlib/backends/backend_agg.py:183: RuntimeWarning: Glyph 53580 missing from current font.\n",
            "  font.set_text(s, 0, flags=flags)\n",
            "/usr/local/lib/python3.6/dist-packages/matplotlib/backends/backend_agg.py:183: RuntimeWarning: Glyph 49828 missing from current font.\n",
            "  font.set_text(s, 0, flags=flags)\n",
            "/usr/local/lib/python3.6/dist-packages/matplotlib/backends/backend_agg.py:183: RuntimeWarning: Glyph 53944 missing from current font.\n",
            "  font.set_text(s, 0, flags=flags)\n"
          ],
          "name": "stderr"
        },
        {
          "output_type": "display_data",
          "data": {
            "image/png": "[encoded data removed]",
            "text/plain": [
              "<Figure size 288x144 with 1 Axes>"
            ]
          },
          "metadata": {
            "tags": [],
            "needs_background": "light"
          }
        }
      ]
    },
    {
      "cell_type": "code",
      "metadata": {
        "id": "zxilbntFqYD5",
        "outputId": "976b3b71-4c17-4213-aeb9-0decffc75314",
        "colab": {
          "base_uri": "https://localhost:8080/",
          "height": 361
        }
      },
      "source": [
        "!pip install catboost\n",
        "from catboost import CatBoostRegressor, Pool"
      ],
      "execution_count": 5,
      "outputs": [
        {
          "output_type": "stream",
          "text": [
            "Collecting catboost\n",
            "\u001b[?25l  Downloading https://files.pythonhosted.org/packages/90/86/c3dcb600b4f9e7584ed90ea9d30a717fb5c0111574675f442c3e7bc19535/catboost-0.24.1-cp36-none-manylinux1_x86_64.whl (66.1MB)\n",
            "\u001b[K     |████████████████████████████████| 66.1MB 42kB/s \n",
            "\u001b[?25hRequirement already satisfied: matplotlib in /usr/local/lib/python3.6/dist-packages (from catboost) (3.2.2)\n",
            "Requirement already satisfied: pandas>=0.24.0 in /usr/local/lib/python3.6/dist-packages (from catboost) (1.0.5)\n",
            "Requirement already satisfied: graphviz in /usr/local/lib/python3.6/dist-packages (from catboost) (0.10.1)\n",
            "Requirement already satisfied: scipy in /usr/local/lib/python3.6/dist-packages (from catboost) (1.4.1)\n",
            "Requirement already satisfied: numpy>=1.16.0 in /usr/local/lib/python3.6/dist-packages (from catboost) (1.18.5)\n",
            "Requirement already satisfied: plotly in /usr/local/lib/python3.6/dist-packages (from catboost) (4.4.1)\n",
            "Requirement already satisfied: six in /usr/local/lib/python3.6/dist-packages (from catboost) (1.15.0)\n",
            "Requirement already satisfied: cycler>=0.10 in /usr/local/lib/python3.6/dist-packages (from matplotlib->catboost) (0.10.0)\n",
            "Requirement already satisfied: kiwisolver>=1.0.1 in /usr/local/lib/python3.6/dist-packages (from matplotlib->catboost) (1.2.0)\n",
            "Requirement already satisfied: pyparsing!=2.0.4,!=2.1.2,!=2.1.6,>=2.0.1 in /usr/local/lib/python3.6/dist-packages (from matplotlib->catboost) (2.4.7)\n",
            "Requirement already satisfied: python-dateutil>=2.1 in /usr/local/lib/python3.6/dist-packages (from matplotlib->catboost) (2.8.1)\n",
            "Requirement already satisfied: pytz>=2017.2 in /usr/local/lib/python3.6/dist-packages (from pandas>=0.24.0->catboost) (2018.9)\n",
            "Requirement already satisfied: retrying>=1.3.3 in /usr/local/lib/python3.6/dist-packages (from plotly->catboost) (1.3.3)\n",
            "Installing collected packages: catboost\n",
            "Successfully installed catboost-0.24.1\n"
          ],
          "name": "stdout"
        }
      ]
    },
    {
      "cell_type": "markdown",
      "metadata": {
        "id": "PrTh29fmATKL"
      },
      "source": [
        "## Get Data\n"
      ]
    },
    {
      "cell_type": "code",
      "metadata": {
        "id": "3gsWjXyLA7KO"
      },
      "source": [
        "a = pd.read_csv('/content/csv/group_가구.csv', encoding = 'utf-8', index_col = 0)\n",
        "b = pd.read_csv('/content/csv/group_가전.csv', encoding = 'utf-8', index_col = 0)\n",
        "c = pd.read_csv('/content/csv/group_건강기능.csv', encoding = 'utf-8', index_col = 0)\n",
        "d = pd.read_csv('/content/csv/group_이미용.csv', encoding = 'utf-8', index_col = 0)\n",
        "e = pd.read_csv('/content/csv/group_의류.csv', encoding = 'utf-8', index_col = 0)\n",
        "f = pd.read_csv('/content/csv/group_잡화.csv', encoding = 'utf-8', index_col = 0)\n",
        "g = pd.read_csv('/content/csv/group_주방.csv', encoding = 'utf-8', index_col = 0)\n",
        "h = pd.read_csv('/content/csv/group_침구.csv', encoding = 'utf-8', index_col = 0)\n",
        "i = pd.read_csv('/content/csv/group_속옷.csv', encoding = 'utf-8', index_col = 0)"
      ],
      "execution_count": 6,
      "outputs": []
    },
    {
      "cell_type": "code",
      "metadata": {
        "id": "Qq8F-np0BruO"
      },
      "source": [
        "data = pd.concat([a,b,c,d,e,f,g,h,i])\n",
        "data['Mean'] = data.goods_Mean\n",
        "data = data.drop(columns = ['goods_Mean','Std','goods_Std'])"
      ],
      "execution_count": 7,
      "outputs": []
    },
    {
      "cell_type": "code",
      "metadata": {
        "id": "EvczgME7EOyE"
      },
      "source": [
        "j = i = pd.read_csv('/content/csv/group_생활용품.csv', encoding = 'utf-8', index_col = 0)\n",
        "k = i = pd.read_csv('/content/csv/group_농수축.csv', encoding = 'utf-8', index_col = 0)\n",
        "k['상품'] = k.상품명"
      ],
      "execution_count": 8,
      "outputs": []
    },
    {
      "cell_type": "code",
      "metadata": {
        "id": "qJJ3cJ0jEXtL"
      },
      "source": [
        "df = pd.concat([j, k])\n",
        "df = df.drop(columns = ['Std'])\n",
        "data = pd.concat([data, df])\n",
        "data = data.fillna('해당없음')\n",
        "train_df = data.copy()"
      ],
      "execution_count": 9,
      "outputs": []
    },
    {
      "cell_type": "code",
      "metadata": {
        "id": "4TlPnABtEgpg"
      },
      "source": [
        "del a, b, c, d, e, f, g, h, i ,j,k, df"
      ],
      "execution_count": 10,
      "outputs": []
    },
    {
      "cell_type": "code",
      "metadata": {
        "id": "ULvivrEpHzOQ",
        "outputId": "72fbe0d6-cd64-4561-fca3-8c013d8264ac",
        "colab": {
          "base_uri": "https://localhost:8080/",
          "height": 609
        }
      },
      "source": [
        "train_df.head()"
      ],
      "execution_count": 11,
      "outputs": [
        {
          "output_type": "execute_result",
          "data": {
            "text/html": [
              "<div>\n",
              "<style scoped>\n",
              "    .dataframe tbody tr th:only-of-type {\n",
              "        vertical-align: middle;\n",
              "    }\n",
              "\n",
              "    .dataframe tbody tr th {\n",
              "        vertical-align: top;\n",
              "    }\n",
              "\n",
              "    .dataframe thead th {\n",
              "        text-align: right;\n",
              "    }\n",
              "</style>\n",
              "<table border=\"1\" class=\"dataframe\">\n",
              "  <thead>\n",
              "    <tr style=\"text-align: right;\">\n",
              "      <th></th>\n",
              "      <th>노출(분)</th>\n",
              "      <th>상품명</th>\n",
              "      <th>상품군</th>\n",
              "      <th>판매단가</th>\n",
              "      <th>월</th>\n",
              "      <th>일</th>\n",
              "      <th>시</th>\n",
              "      <th>요일</th>\n",
              "      <th>휴일</th>\n",
              "      <th>프라임</th>\n",
              "      <th>파트</th>\n",
              "      <th>브랜드</th>\n",
              "      <th>분</th>\n",
              "      <th>취급액_로그</th>\n",
              "      <th>결제유형</th>\n",
              "      <th>성별</th>\n",
              "      <th>상품</th>\n",
              "      <th>단가</th>\n",
              "      <th>Mean</th>\n",
              "    </tr>\n",
              "    <tr>\n",
              "      <th>방송일시</th>\n",
              "      <th></th>\n",
              "      <th></th>\n",
              "      <th></th>\n",
              "      <th></th>\n",
              "      <th></th>\n",
              "      <th></th>\n",
              "      <th></th>\n",
              "      <th></th>\n",
              "      <th></th>\n",
              "      <th></th>\n",
              "      <th></th>\n",
              "      <th></th>\n",
              "      <th></th>\n",
              "      <th></th>\n",
              "      <th></th>\n",
              "      <th></th>\n",
              "      <th></th>\n",
              "      <th></th>\n",
              "      <th></th>\n",
              "    </tr>\n",
              "  </thead>\n",
              "  <tbody>\n",
              "    <tr>\n",
              "      <th>2019-02-01 22:00:00</th>\n",
              "      <td>20.0</td>\n",
              "      <td>보루네오 루나 유로탑 멀티수납형 LED 슈퍼싱글침대</td>\n",
              "      <td>가구</td>\n",
              "      <td>548000</td>\n",
              "      <td>2</td>\n",
              "      <td>1</td>\n",
              "      <td>22</td>\n",
              "      <td>Friday</td>\n",
              "      <td>0</td>\n",
              "      <td>4</td>\n",
              "      <td>First</td>\n",
              "      <td>보루네오</td>\n",
              "      <td>0</td>\n",
              "      <td>15.816855</td>\n",
              "      <td>해당없음</td>\n",
              "      <td>해당없음</td>\n",
              "      <td>슈퍼싱글침대</td>\n",
              "      <td>해당없음</td>\n",
              "      <td>16.596906</td>\n",
              "    </tr>\n",
              "    <tr>\n",
              "      <th>2019-02-01 22:00:00</th>\n",
              "      <td>20.0</td>\n",
              "      <td>보루네오 루나 유로탑 멀티수납형 LED 퀸침대</td>\n",
              "      <td>가구</td>\n",
              "      <td>598000</td>\n",
              "      <td>2</td>\n",
              "      <td>1</td>\n",
              "      <td>22</td>\n",
              "      <td>Friday</td>\n",
              "      <td>0</td>\n",
              "      <td>4</td>\n",
              "      <td>First</td>\n",
              "      <td>보루네오</td>\n",
              "      <td>0</td>\n",
              "      <td>14.998464</td>\n",
              "      <td>해당없음</td>\n",
              "      <td>해당없음</td>\n",
              "      <td>퀸침대</td>\n",
              "      <td>해당없음</td>\n",
              "      <td>16.133342</td>\n",
              "    </tr>\n",
              "    <tr>\n",
              "      <th>2019-02-01 22:00:00</th>\n",
              "      <td>20.0</td>\n",
              "      <td>보루네오 루나 유로탑 멀티수납형 LED 킹침대</td>\n",
              "      <td>가구</td>\n",
              "      <td>648000</td>\n",
              "      <td>2</td>\n",
              "      <td>1</td>\n",
              "      <td>22</td>\n",
              "      <td>Friday</td>\n",
              "      <td>0</td>\n",
              "      <td>4</td>\n",
              "      <td>First</td>\n",
              "      <td>보루네오</td>\n",
              "      <td>0</td>\n",
              "      <td>15.477731</td>\n",
              "      <td>해당없음</td>\n",
              "      <td>해당없음</td>\n",
              "      <td>킹침대</td>\n",
              "      <td>해당없음</td>\n",
              "      <td>16.199786</td>\n",
              "    </tr>\n",
              "    <tr>\n",
              "      <th>2019-02-01 22:20:00</th>\n",
              "      <td>20.0</td>\n",
              "      <td>보루네오 루나 유로탑 멀티수납형 LED 슈퍼싱글침대</td>\n",
              "      <td>가구</td>\n",
              "      <td>548000</td>\n",
              "      <td>2</td>\n",
              "      <td>1</td>\n",
              "      <td>22</td>\n",
              "      <td>Friday</td>\n",
              "      <td>0</td>\n",
              "      <td>4</td>\n",
              "      <td>Middle</td>\n",
              "      <td>보루네오</td>\n",
              "      <td>20</td>\n",
              "      <td>16.842645</td>\n",
              "      <td>해당없음</td>\n",
              "      <td>해당없음</td>\n",
              "      <td>슈퍼싱글침대</td>\n",
              "      <td>해당없음</td>\n",
              "      <td>16.596906</td>\n",
              "    </tr>\n",
              "    <tr>\n",
              "      <th>2019-02-01 22:20:00</th>\n",
              "      <td>20.0</td>\n",
              "      <td>보루네오 루나 유로탑 멀티수납형 LED 퀸침대</td>\n",
              "      <td>가구</td>\n",
              "      <td>598000</td>\n",
              "      <td>2</td>\n",
              "      <td>1</td>\n",
              "      <td>22</td>\n",
              "      <td>Friday</td>\n",
              "      <td>0</td>\n",
              "      <td>4</td>\n",
              "      <td>Middle</td>\n",
              "      <td>보루네오</td>\n",
              "      <td>20</td>\n",
              "      <td>16.689132</td>\n",
              "      <td>해당없음</td>\n",
              "      <td>해당없음</td>\n",
              "      <td>퀸침대</td>\n",
              "      <td>해당없음</td>\n",
              "      <td>16.133342</td>\n",
              "    </tr>\n",
              "  </tbody>\n",
              "</table>\n",
              "</div>"
            ],
            "text/plain": [
              "                     노출(분)                           상품명  ...    단가       Mean\n",
              "방송일시                                                      ...                 \n",
              "2019-02-01 22:00:00   20.0  보루네오 루나 유로탑 멀티수납형 LED 슈퍼싱글침대  ...  해당없음  16.596906\n",
              "2019-02-01 22:00:00   20.0     보루네오 루나 유로탑 멀티수납형 LED 퀸침대  ...  해당없음  16.133342\n",
              "2019-02-01 22:00:00   20.0     보루네오 루나 유로탑 멀티수납형 LED 킹침대  ...  해당없음  16.199786\n",
              "2019-02-01 22:20:00   20.0  보루네오 루나 유로탑 멀티수납형 LED 슈퍼싱글침대  ...  해당없음  16.596906\n",
              "2019-02-01 22:20:00   20.0     보루네오 루나 유로탑 멀티수납형 LED 퀸침대  ...  해당없음  16.133342\n",
              "\n",
              "[5 rows x 19 columns]"
            ]
          },
          "metadata": {
            "tags": []
          },
          "execution_count": 11
        }
      ]
    },
    {
      "cell_type": "code",
      "metadata": {
        "id": "zF9-zUYcY5Ff"
      },
      "source": [
        "submission = pd.read_excel('/content/csv/submission.xlsx', encoding = 'utf-8', index_col=0, skiprows = 1).iloc[:,1:]\n",
        "submission.head()"
      ],
      "execution_count": null,
      "outputs": []
    },
    {
      "cell_type": "code",
      "metadata": {
        "id": "LTX69kA5ILul"
      },
      "source": [
        "data = submission.copy()"
      ],
      "execution_count": null,
      "outputs": []
    },
    {
      "cell_type": "markdown",
      "metadata": {
        "id": "wuBTl2hxFs8q"
      },
      "source": [
        "## Define Functions"
      ]
    },
    {
      "cell_type": "code",
      "metadata": {
        "id": "aDd5JQj5JqSF"
      },
      "source": [
        "def replace(df, replace_list):\n",
        "    _df = df.copy()\n",
        "    for l in replace_list:\n",
        "        _df.상품명 = _df.상품명.str.replace(l, '', regex = False)\n",
        "    _df.상품명 = _df.상품명.str.replace(' +', ' ')\n",
        "    _df.상품명 = _df.상품명.str.lstrip()\n",
        "    _df.상품명 = _df.상품명.str.rstrip()\n",
        "    return _df\n",
        "\n",
        "def separate(df, separate_list):\n",
        "    _df = df.copy()\n",
        "    for s in separate_list:\n",
        "        _df.상품명 = _df.상품명.str.replace(s, f' {s} ', regex = False)\n",
        "    _df.상품명 = _df.상품명.str.replace(' +', ' ')\n",
        "    _df.상품명 = _df.상품명.str.lstrip()\n",
        "    _df.상품명 = _df.상품명.str.rstrip()\n",
        "    return _df"
      ],
      "execution_count": null,
      "outputs": []
    },
    {
      "cell_type": "code",
      "metadata": {
        "id": "OUORKjZ0lVEF"
      },
      "source": [
        "def goods_name(x, goods_list):\n",
        "    for s in x.split():\n",
        "        if s in goods_list:\n",
        "            return s"
      ],
      "execution_count": null,
      "outputs": []
    },
    {
      "cell_type": "code",
      "metadata": {
        "id": "-k8ZsqJ6Inj3"
      },
      "source": [
        "def preprocessing(data):\n",
        "    data.상품명 = data.상품명.str.replace(r'\\d+[월]', '',)\n",
        "    data.상품명 = data.상품명.str.replace(r'\\d+[차]', '',)\n",
        "    data.상품명 = data.상품명.str.replace(r'[시][즌]\\d+', '',)\n",
        "    data.상품명 = data.상품명.str.replace(r'[시][즌] \\d+', '',)\n",
        "\n",
        "    data.상품명 = data.상품명.str.replace(r'\\d+[.]\\d+[k][g]', '',)\n",
        "    data.상품명 = data.상품명.str.replace(r'\\d+[k][g]', '',)\n",
        "    data.상품명 = data.상품명.str.replace(r'\\d+[.]\\d+[g]', '',)\n",
        "    data.상품명 = data.상품명.str.replace(r'\\d+[g]', '',)\n",
        "    data.상품명 = data.상품명.str.replace(r'\\d+[.]\\d+[L]', '',)\n",
        "    data.상품명 = data.상품명.str.replace(r'\\d+[L]', '',)\n",
        "    data.상품명 = data.상품명.str.replace(r'\\d+[.]\\d+[리][터]', '',)\n",
        "    data.상품명 = data.상품명.str.replace(r'\\d+[리][터]', '',)\n",
        "    data.상품명 = data.상품명.str.replace(r'\\d+[.]\\d+[m]', '',)\n",
        "    data.상품명 = data.상품명.str.replace(r'\\d+[m]', '',)\n",
        "\n",
        "    data.상품명 = data.상품명.str.replace(r'\\d+[팩]', '',)\n",
        "    data.상품명 = data.상품명.str.replace(r'\\d+[박][스]', '',)\n",
        "    data.상품명 = data.상품명.str.replace(r'\\d+[미]', '')\n",
        "    data.상품명 = data.상품명.str.replace(r'\\d+[개]', '')\n",
        "    data.상품명 = data.상품명.str.replace(r'\\d+[포]', '')\n",
        "    data.상품명 = data.상품명.str.replace(r'\\d+[마][리]', '')\n",
        "\n",
        "    data.상품명 = data.상품명.str.replace(r'\\d+[종]', '',)\n",
        "\n",
        "    data = replace(data, ['2018년','2018','18년','18','2019년','2019','19년','19'])\n",
        "\n",
        "    return data"
      ],
      "execution_count": null,
      "outputs": []
    },
    {
      "cell_type": "code",
      "metadata": {
        "id": "BCbDLVX5chHW"
      },
      "source": [
        "def mean_absolute_percentage_error(y_true, y_pred): \n",
        "    y_true, y_pred = np.array(y_true), np.array(y_pred)\n",
        "    return np.mean(np.abs((y_true - y_pred) / y_true)) * 100"
      ],
      "execution_count": null,
      "outputs": []
    },
    {
      "cell_type": "markdown",
      "metadata": {
        "id": "0cvaaEYBx3px"
      },
      "source": [
        "## Commom Features"
      ]
    },
    {
      "cell_type": "markdown",
      "metadata": {
        "id": "MwRgyVo3qUQn"
      },
      "source": [
        "### feature_시간"
      ]
    },
    {
      "cell_type": "code",
      "metadata": {
        "id": "Ipdk9g30qWEH"
      },
      "source": [
        "date = pd.to_datetime(data.index)\n",
        "data['월'] = date.strftime('%m')\n",
        "data['일'] = date.strftime('%d')\n",
        "data['시'] = date.strftime('%H')\n",
        "data['분'] = date.strftime('%M')\n",
        "data['요일'] = date.strftime('%A')"
      ],
      "execution_count": null,
      "outputs": []
    },
    {
      "cell_type": "code",
      "metadata": {
        "id": "rxUjxUaXq0U7"
      },
      "source": [
        "## 타겟 데이터는 공휴일 없음!\n",
        "def get_holiday(x):\n",
        "    date = str(x.월) +'-'+ str(x.일)\n",
        "    holiday = ['01-01', '02-04', '02-05', '02-06', '03-01', '05-05', '05-06', '05-12',\n",
        "               '06-06', '08-15', '09-12', '09-13', '09-14', '10-03', '10-09', '12-25']\n",
        "    if date in holiday :\n",
        "        return 1\n",
        "    else:\n",
        "        return 0\n",
        "\n",
        "data['공휴일'] = data.apply(lambda x: get_holiday(x), axis = 1)"
      ],
      "execution_count": null,
      "outputs": []
    },
    {
      "cell_type": "code",
      "metadata": {
        "id": "fsy8lWvkIuUR"
      },
      "source": [
        "data['주말'] = data.apply(lambda x : 1 if x.요일 == 'Saturday' or x.요일 == 'Sunday' else 0, axis = 1)"
      ],
      "execution_count": null,
      "outputs": []
    },
    {
      "cell_type": "code",
      "metadata": {
        "id": "TA5hTT2CI36I"
      },
      "source": [
        "data['휴일'] = data.apply(lambda x : 1 if x.공휴일 ==1 or x.주말 == 1 else 0, axis = 1)"
      ],
      "execution_count": null,
      "outputs": []
    },
    {
      "cell_type": "code",
      "metadata": {
        "id": "91V7PTTHJON1"
      },
      "source": [
        "del data['공휴일'], data['주말']"
      ],
      "execution_count": null,
      "outputs": []
    },
    {
      "cell_type": "markdown",
      "metadata": {
        "id": "CbvLxL1prBBs"
      },
      "source": [
        "### feature_파트"
      ]
    },
    {
      "cell_type": "code",
      "metadata": {
        "id": "-xkD6f-jrCon"
      },
      "source": [
        "expo_df = data.groupby(['월','일','상품명']).count()['상품군']\n",
        "date_list = []\n",
        "name_list = []\n",
        "\n",
        "def exposure_num(x):\n",
        "    date = str(x.월)+'/'+str(x.일)\n",
        "    if date not in date_list:\n",
        "        date_list.append(date)\n",
        "        name_list.clear()\n",
        "\n",
        "    name_list.append(x.상품명)\n",
        "    \n",
        "    return name_list.count(x.상품명)/(expo_df.loc[(x.월, x.일, x.상품명)])\n",
        "\n",
        "data['파트'] = data.apply(lambda x: exposure_num(x), axis=1)"
      ],
      "execution_count": 23,
      "outputs": []
    },
    {
      "cell_type": "code",
      "metadata": {
        "id": "BjzzYbdjrUq0"
      },
      "source": [
        "def part_(x):\n",
        "    if x <= 0.5:\n",
        "        return 'First'\n",
        "    elif 0.5 < x < 1:\n",
        "        return 'Middle'\n",
        "    elif x == 1:\n",
        "      return 'Later'\n",
        "\n",
        "data['파트'] = data.파트.map(lambda x: part_(x))"
      ],
      "execution_count": 24,
      "outputs": []
    },
    {
      "cell_type": "markdown",
      "metadata": {
        "id": "A_H8BYPbx6vC"
      },
      "source": [
        "### feature_결제유형"
      ]
    },
    {
      "cell_type": "code",
      "metadata": {
        "id": "F7CmLTZJEwKX"
      },
      "source": [
        "data.상품명 = data.상품명.str.replace('세일', '', regex = False)"
      ],
      "execution_count": 25,
      "outputs": []
    },
    {
      "cell_type": "code",
      "metadata": {
        "id": "2YBtVNfbpEE-"
      },
      "source": [
        "data.상품명 = data.상품명.str.replace('(무)', '무이자', regex = False)\n",
        "data.상품명 = data.상품명.str.replace('(일)', '일시불', regex = False)\n",
        "\n",
        "data.상품명 = data.상품명.str.replace('무)', '무이자', regex = False)\n",
        "data.상품명 = data.상품명.str.replace('일)', '일시불', regex = False)\n",
        "\n",
        "data = separate(data, ['무이자', '일시불'])\n",
        "\n",
        "def payment(x):\n",
        "    if '일시불' in x:\n",
        "        return '일시불'\n",
        "    if '무이자' in x:\n",
        "        return '무이자'\n",
        "    else:\n",
        "        return '해당없음'\n",
        "\n",
        "data['결제유형'] = data.상품명.map(lambda x: payment(x))\n",
        "\n",
        "data = replace(data, ['무이자', '일시불'])"
      ],
      "execution_count": 26,
      "outputs": []
    },
    {
      "cell_type": "markdown",
      "metadata": {
        "id": "KkaQ0NmJIgUM"
      },
      "source": [
        "### feature_성별"
      ]
    },
    {
      "cell_type": "code",
      "metadata": {
        "id": "tpRobdrJIlVG"
      },
      "source": [
        "data.상품명 = data.상품명.str.replace('남성용', '남성', regex = False)\n",
        "data.상품명 = data.상품명.str.replace('여성용', '여성', regex = False)\n",
        "data.상품명 = data.상품명.str.replace('휘메일', '여성', regex = False)\n",
        "data.상품명 = data.상품명.str.replace('남아', '아동', regex = False)\n",
        "data.상품명 = data.상품명.str.replace('여성 아동', '아동', regex = False)\n",
        "data.상품명 = data.상품명.str.replace('남성 아동', '아동', regex = False)\n",
        "\n",
        "data = separate(data,['남성','여성','아동'])\n",
        "\n",
        "def sex(x):\n",
        "    if '남성' in x:\n",
        "        return '남성'\n",
        "    if '여성' in x:\n",
        "        return '여성'\n",
        "    if '아동' in x:\n",
        "        return '아동'\n",
        "\n",
        "data['성별'] = data.상품명.map(lambda x: sex(x))\n",
        "data['성별'] = data.성별.map(lambda x: '해당없음' if type(x) != str else x)"
      ],
      "execution_count": 27,
      "outputs": []
    },
    {
      "cell_type": "code",
      "metadata": {
        "id": "9KS9DIztLLeH"
      },
      "source": [
        "df = data.copy()"
      ],
      "execution_count": 28,
      "outputs": []
    },
    {
      "cell_type": "markdown",
      "metadata": {
        "id": "3DTxlpxYKzCC"
      },
      "source": [
        "### feature_브랜드"
      ]
    },
    {
      "cell_type": "markdown",
      "metadata": {
        "id": "lcRFR5b7P0rn"
      },
      "source": [
        "#### TrainSet 브랜드 전처리"
      ]
    },
    {
      "cell_type": "code",
      "metadata": {
        "id": "10nzV0LNKygC"
      },
      "source": [
        "def Brandset(group):\n",
        "    \"\"\"\n",
        "    상품명에서 브랜드를 추출하는 함수\n",
        "    대부분 상품명 첫 번째 단어에 브랜드가 위치해있다는 특징을 활용\n",
        "    예외는 수작업으로 전처리\n",
        "    \"\"\"\n",
        "    name_list= []\n",
        "    df = data[data['상품군'] == group]\n",
        "    for words in df['상품명']:\n",
        "        name_list.append(words)\n",
        "\n",
        "    brand_set= []\n",
        "    for name in name_list:\n",
        "        brand_set.append(name.split()[0])\n",
        "    brand_set = set(brand_set)\n",
        "\n",
        "    return brand_set"
      ],
      "execution_count": 29,
      "outputs": []
    },
    {
      "cell_type": "code",
      "metadata": {
        "id": "oCy4QcmrN1_Q"
      },
      "source": [
        "data = train_df.copy()"
      ],
      "execution_count": 30,
      "outputs": []
    },
    {
      "cell_type": "code",
      "metadata": {
        "id": "vbq6D5yyK2VD"
      },
      "source": [
        "# 괄호\n",
        "data.상품명 = data.상품명.str.replace('[', ' ', regex = False)\n",
        "data.상품명 = data.상품명.str.replace(']', ' ', regex = False)\n",
        "data.상품명 = data.상품명.str.replace('(', ' ', regex = False)\n",
        "data.상품명 = data.상품명.str.replace(')', ' ', regex = False)\n",
        "\n",
        "## 초특가\n",
        "data.상품명 = data.상품명.str.replace('초특가', '')\n",
        "data.상품명 = data.상품명.str.replace('일시불', '') \n",
        "data.상품명 = data.상품명.str.replace('무이자', '')"
      ],
      "execution_count": 31,
      "outputs": []
    },
    {
      "cell_type": "code",
      "metadata": {
        "id": "xLcYePNWLIE1"
      },
      "source": [
        "data.상품명 = data.상품명.str.replace('쿠첸', ' 쿠첸 ')\n",
        "data.상품명 = data.상품명.str.replace('쿠쿠', ' 쿠쿠 ')\n",
        "\n",
        "# 쿠쿠전기밥솥\n",
        "data.상품명 = data.상품명.str.replace('도냄', '', regex = False)\n",
        "data.상품명 = data.상품명.str.replace('CRP-QS107FG/FS', '', regex = False)\n",
        "data.상품명 = data.상품명.str.replace('CRP-107FG/FS', '', regex = False)\n",
        "data.상품명 = data.상품명.str.replace('QS', '', regex = False) \n",
        "data.상품명 = data.상품명.str.replace('블랙스톤', '', regex = False) \n",
        "\n",
        "# 쿠첸 압력밥솥\n",
        "data.상품명 = data.상품명.str.replace('풀스텐', '', regex = False)\n",
        "data.상품명 = data.상품명.str.replace('A1', '', regex = False)\n",
        "data.상품명 = data.상품명.str.replace(' 쿠 ', '', regex = False)\n",
        "data.상품명 = data.상품명.str.replace('신제품', '', regex = False)\n",
        "\n",
        "# 린나이 가스레인지\n",
        "data.상품명 = data.상품명.str.replace('자동불꽃조절', '')\n",
        "data.상품명 = data.상품명.str.replace('간편쿡', '')\n",
        "data.상품명 = data.상품명.str.replace('2구', '')\n",
        "data.상품명 = data.상품명.str.replace('3구', '')\n",
        "\n",
        "# 에코라믹\n",
        "data.상품명 = data.상품명.str.replace('냄비세트', ' 냄비 세트')\n",
        "data.상품명 = data.상품명.str.replace('프라이팬세트', ' 프라이팬 세트')\n",
        "data.상품명 = data.상품명.str.replace('통주물', ' ')\n",
        "data.상품명 = data.상품명.str.replace('스톤', ' ')\n",
        "\n",
        "# 후라이팬\n",
        "data.상품명 = data.상품명.str.replace('후라이팬', ' 프라이팬 ')\n",
        "\n",
        "# 에어프라이어\n",
        "data.상품명 = data.상품명.str.replace('대용량', '')\n",
        "data.상품명 = data.상품명.str.replace('디지털', '')\n",
        "data.상품명 = data.상품명.str.replace('듀얼쿡', '')\n",
        "\n",
        "\n",
        "data.상품명 = data.상품명.str.replace('가스와이드그릴레인지', '가스와이드그릴')\n",
        "data.상품명 = data.상품명.str.replace('스텐큐브', '')\n",
        "data.상품명 = data.상품명.str.replace('멀티쿡', '멀티쿠커')\n",
        "data.상품명 = data.상품명.str.replace('팬지', '')\n",
        "\n",
        "# 도마\n",
        "data.상품명 = data.상품명.str.replace('도마', ' 도마 ')\n",
        "\n",
        "data.상품명 = data.상품명.str.replace('대용량', '')\n",
        "\n",
        "# 재질\n",
        "data.상품명 = data.상품명.str.replace('스텐', ' 스텐 ')\n",
        "data.상품명 = data.상품명.str.replace('유리', ' 유리 ')\n",
        "\n",
        "data.상품명 = data.상품명.str.replace('밀폐용기', ' 밀폐용기')\n",
        "data.상품명 = data.상품명.str.replace('플랫타입', '')\n",
        "\n",
        "data.상품명 = data.상품명.str.replace('멀티', '')\n",
        "\n",
        "data.상품명 = data.상품명.str.replace('만능', '')\n",
        "\n",
        "def kitchen(x):\n",
        "    if x.상품군 == '주방':\n",
        "        x.상품명 = x.상품명.replace('옛', '')\n",
        "        x.상품명 = x.상품명.replace('멀티', '')\n",
        "        x.상품명 = x.상품명.replace('크로커다일', '')\n",
        "    else:\n",
        "        x.상품명 = x.상품명\n",
        "    return x\n",
        "\n",
        "data = data.apply(lambda x: kitchen(x), axis = 1)\n",
        "\n",
        "data.상품명 = data.상품명.str.replace(' +', ' ')\n",
        "data.상품명 = data.상품명.str.lstrip()\n",
        "data.상품명 = data.상품명.str.rstrip()"
      ],
      "execution_count": 32,
      "outputs": []
    },
    {
      "cell_type": "code",
      "metadata": {
        "id": "sYDXBRwNLXoa"
      },
      "source": [
        "data.상품명 = data.상품명.str.replace('(무)', '무이자', regex = False)\n",
        "data.상품명 = data.상품명.str.replace('무)', '무이자', regex = False)\n",
        "data.상품명 = data.상품명.str.replace('무이자', ' 무이자 ', regex = False)\n",
        "data.상품명 = data.상품명.str.replace('(일)', '일시불', regex = False)\n",
        "data.상품명 = data.상품명.str.replace('일)', '일시불', regex = False)\n",
        "data.상품명 = data.상품명.str.replace('일시불', ' 일시불 ', regex = False)\n",
        "data.상품명 = data.상품명.str.replace('해피콜', '해피콜 ', regex = False)\n",
        "data.상품명 = data.상품명.str.replace('am', 'am ', regex = False)\n",
        "data.상품명 = data.상품명.str.replace('베스트 하임', '베스트하임', regex = False)\n",
        "data.상품명 = data.상품명.str.replace('쿠진', '쿠진 ', regex = False)\n",
        "data.상품명 = data.상품명.str.replace('국내생산', '', regex = False)\n",
        "data.상품명 = data.상품명.str.replace('국내제조', '', regex = False)\n",
        "data.상품명 = data.상품명.str.replace('프랑스직수입', '', regex = False)\n",
        "data.상품명 = data.상품명.str.replace('서장훈', '서장훈 ', regex = False)\n",
        "data.상품명 = data.상품명.str.replace('휴롬', '휴롬 ', regex = False)\n",
        "data.상품명 = data.상품명.str.replace('형', '', regex = False)\n",
        "data.상품명 = data.상품명.str.replace('19년', '')\n",
        "data.상품명 = data.상품명.str.replace('1세트', '')\n",
        "data.상품명 = data.상품명.str.replace('2019년', '')\n",
        "data.상품명 = data.상품명.str.replace('2세트', '')\n",
        "data.상품명 = data.상품명.str.replace('20', '')"
      ],
      "execution_count": 33,
      "outputs": []
    },
    {
      "cell_type": "code",
      "metadata": {
        "id": "XRFhHkccLrXr"
      },
      "source": [
        "setKitchen = Brandset('주방')"
      ],
      "execution_count": 34,
      "outputs": []
    },
    {
      "cell_type": "code",
      "metadata": {
        "id": "Y4n68rtGLZgz"
      },
      "source": [
        "setKitchen.remove('뉴')\n",
        "setKitchen.remove('전기식')\n",
        "setKitchen.add('클레린')\n",
        "setKitchen.add('드럼쿡')"
      ],
      "execution_count": 35,
      "outputs": []
    },
    {
      "cell_type": "code",
      "metadata": {
        "id": "tu40svsmLh2B"
      },
      "source": [
        "data.상품명 = data.상품명.str.replace('1등급', '')\n",
        "data.상품명 = data.상품명.str.replace('221L_', '')\n",
        "data.상품명 = data.상품명.str.replace('467L_', '')\n",
        "data.상품명 = data.상품명.str.replace('국내제조', '')\n",
        "data.상품명 = data.상품명.str.replace('LG', 'LG ')\n",
        "data.상품명 = data.상품명.str.replace('삼성', '삼성 ')\n",
        "data.상품명 = data.상품명.str.replace('딤채', '딤채 ')"
      ],
      "execution_count": 36,
      "outputs": []
    },
    {
      "cell_type": "code",
      "metadata": {
        "id": "Fu697UqFOOnB"
      },
      "source": [
        "setDigital = Brandset('가전')"
      ],
      "execution_count": 37,
      "outputs": []
    },
    {
      "cell_type": "code",
      "metadata": {
        "id": "5iZFlOquORzX"
      },
      "source": [
        "def clothes(x):\n",
        "    if x.상품군 == '의류':\n",
        "        x.상품명 = x.상품명.replace('SS', 'S/S')\n",
        "        x.상품명 = x.상품명.replace('K-SWIS/S', 'K-SWISS')\n",
        "        x.상품명 = x.상품명.replace('FW', 'F/W')\n",
        "        x.상품명 = x.상품명.replace('S/S', ' S/S ')\n",
        "        x.상품명 = x.상품명.replace('F/W', ' F/W ')\n",
        "\n",
        "        x.상품명 = x.상품명.replace('기모', ' 기모 ')\n",
        "        x.상품명 = x.상품명.replace('니트', ' 니트 ')\n",
        "        x.상품명 = x.상품명.replace('팬츠', ' 팬츠 ')        \n",
        "        x.상품명 = x.상품명.replace('데님 팬츠', ' 데님 ')\n",
        "        x.상품명 = x.상품명.replace('티셔츠', ' 티셔츠 ')\n",
        "        x.상품명 = x.상품명.replace('밴딩', ' 밴딩 ')\n",
        "\n",
        "        x.상품명 = x.상품명.replace('코트', ' 코트 ')\n",
        "        x.상품명 = x.상품명.replace('밍크', ' 밍크 ')\n",
        "        x.상품명 = x.상품명.replace('그레이스', ' 그레이스 ')\n",
        "    else:\n",
        "        x.상품명 = x.상품명\n",
        "    return x\n",
        "\n",
        "data = data.apply(lambda x: clothes(x), axis = 1)\n",
        "\n",
        "data.상품명 = data.상품명.str.replace('CERINI by PAT', 'CERINI_by_PAT') \n",
        "data.상품명 = data.상품명.str.replace('USPA', 'USPA ')\n",
        "\n",
        "## 마르엘라로사티\n",
        "data.상품명 = data.상품명.str.replace('풀스킨', '')\n",
        "data.상품명 = data.상품명.str.replace('휘메일', '') #?\n",
        "\n",
        "data.상품명 = data.상품명.str.replace('트랙수트', ' 트랙수트 ')\n",
        "\n",
        "data.상품명 = data.상품명.str.replace('19', '')\n",
        "data.상품명 = data.상품명.str.replace('2019', '')\n",
        "data.상품명 = data.상품명.str.replace('20', '')\n",
        "data.상품명 = data.상품명.str.replace('F/W', '')\n",
        "data.상품명 = data.상품명.str.replace('S/S', '')"
      ],
      "execution_count": 38,
      "outputs": []
    },
    {
      "cell_type": "code",
      "metadata": {
        "id": "JmuczGfKOWXX"
      },
      "source": [
        "setClothes = Brandset('의류')"
      ],
      "execution_count": 39,
      "outputs": []
    },
    {
      "cell_type": "code",
      "metadata": {
        "id": "wVG8B8Y2OYg5"
      },
      "source": [
        "data.상품명 = data.상품명.str.replace('ARS10%', '')\n",
        "data.상품명 = data.상품명.str.replace('세일%', '')\n",
        "data.상품명 = data.상품명.str.replace('완벽더블', '')\n",
        "data.상품명 = data.상품명.str.replace('라쉬반', '라쉬반 ')"
      ],
      "execution_count": 40,
      "outputs": []
    },
    {
      "cell_type": "code",
      "metadata": {
        "id": "mporOSJKOdSJ"
      },
      "source": [
        "setInner = Brandset('속옷')"
      ],
      "execution_count": 41,
      "outputs": []
    },
    {
      "cell_type": "code",
      "metadata": {
        "id": "GIeid_dXOgST"
      },
      "source": [
        "data.상품명 = data.상품명.str.replace('무', '')\n",
        "data.상품명 = data.상품명.str.replace('일', '')"
      ],
      "execution_count": 42,
      "outputs": []
    },
    {
      "cell_type": "code",
      "metadata": {
        "id": "dXy_BskFOimZ"
      },
      "source": [
        "setStuff = Brandset('잡화')"
      ],
      "execution_count": 43,
      "outputs": []
    },
    {
      "cell_type": "code",
      "metadata": {
        "id": "slcJp8xeOkQf"
      },
      "source": [
        "data.상품명 = data.상품명.str.replace('대형', '', regex = False)\n",
        "data.상품명 = data.상품명.str.replace('더블+더블', '', regex = False)\n",
        "data.상품명 = data.상품명.str.replace('더블+싱글', '', regex = False)\n",
        "data.상품명 = data.상품명.str.replace('더블사이즈', '', regex = False)\n",
        "data.상품명 = data.상품명.str.replace('싱글사이즈', '', regex = False)\n",
        "data.상품명 = data.상품명.str.replace('싱글+싱글', '', regex = False)\n",
        "data.상품명 = data.상품명.str.replace('점보', '', regex = False)\n",
        "data.상품명 = data.상품명.str.replace('점보특대형', '', regex = False)\n",
        "data.상품명 = data.상품명.str.replace('점보형', '', regex = False)\n",
        "data.상품명 = data.상품명.str.replace('중형', '', regex = False)\n",
        "data.상품명 = data.상품명.str.replace('퀸+싱글', '', regex = False)\n",
        "data.상품명 = data.상품명.str.replace('킹+싱글', '', regex = False)\n",
        "data.상품명 = data.상품명.str.replace('퀸+퀸', '', regex = False)\n",
        "data.상품명 = data.상품명.str.replace('퀸사이즈', '', regex = False)\n",
        "data.상품명 = data.상품명.str.replace('퀸+싱글', '', regex = False)\n",
        "data.상품명 = data.상품명.str.replace('킹사이즈', '', regex = False)\n",
        "data.상품명 = data.상품명.str.replace('특대', '', regex = False)\n",
        "data.상품명 = data.상품명.str.replace('1+1', '', regex = False)\n",
        "data.상품명 = data.상품명.str.replace('3D매쉬', '', regex = False)\n",
        "data.상품명 = data.상품명.str.replace('1세트', '', regex = False)\n",
        "data.상품명 = data.상품명.str.replace('5세트', '', regex = False)\n",
        "data.상품명 = data.상품명.str.replace('ALL', '', regex = False)\n",
        "data.상품명 = data.상품명.str.replace('D)', '', regex = False)\n",
        "data.상품명 = data.상품명.str.replace('OK', '', regex = False)\n",
        "data.상품명 = data.상품명.str.replace('국내제작', '', regex = False)\n",
        "data.상품명 = data.상품명.str.replace('국내제조', '', regex = False)\n",
        "data.상품명 = data.상품명.str.replace('기본구성', '', regex = False)\n",
        "data.상품명 = data.상품명.str.replace('파격가', '', regex = False)\n",
        "data.상품명 = data.상품명.str.replace('초특가', '', regex = False)\n",
        "data.상품명 = data.상품명.str.replace('[실속패키지]', '', regex = False)\n",
        "data.상품명 = data.상품명.str.replace('[풀패키지]', '', regex = False)\n",
        "data.상품명 = data.상품명.str.replace('12.5m x 3롤', '', regex = False)\n",
        "data.상품명 = data.상품명.str.replace('12.5m x 2롤', '', regex = False)\n",
        "data.상품명 = data.상품명.str.replace('12.5m x 1롤', '', regex = False)\n",
        "data.상품명 = data.상품명.str.replace('2세트', '', regex = False)\n",
        "data.상품명 = data.상품명.str.replace('KF94', '', regex = False)\n",
        "data.상품명 = data.상품명.str.replace('엔웰스', '엔웰스 ', regex = False)\n",
        "data.상품명 = data.상품명.str.replace('D', '', regex = False)\n",
        "data.상품명 = data.상품명.str.replace('New', '', regex = False)\n",
        "data.상품명 = data.상품명.str.replace('년', '', regex = False)\n",
        "data.상품명 = data.상품명.str.replace('올바로', '올바로 ', regex = False)\n",
        "data.상품명 = data.상품명.str.replace('까사마루', '까사마루 ', regex = False)\n",
        "data.상품명 = data.상품명.str.replace('붙이는', '', regex = False)\n",
        "data.상품명 = data.상품명.str.replace('레스트업', '', regex = False)\n",
        "data.상품명 = data.상품명.str.replace('가 ', '', regex = False)\n",
        "data.상품명 = data.상품명.str.replace('대 ', '', regex = False)\n",
        "data.상품명 = data.상품명.str.replace('올뉴', '', regex = False)\n",
        "data.상품명 = data.상품명.str.replace('실속패키지', '', regex = False)\n",
        "data.상품명 = data.상품명.str.replace('풀패키지', '', regex = False)"
      ],
      "execution_count": 44,
      "outputs": []
    },
    {
      "cell_type": "code",
      "metadata": {
        "id": "DHt7IpI1Otu9"
      },
      "source": [
        "setLife = Brandset('생활용품')  # 일월, 한일 추가"
      ],
      "execution_count": 45,
      "outputs": []
    },
    {
      "cell_type": "code",
      "metadata": {
        "id": "pQ2pwd1ZOu_Y"
      },
      "source": [
        "setLife.remove('중')\n",
        "setLife.remove('월')\n",
        "setLife.remove('한')\n",
        "setLife.remove('LG')\n",
        "setLife.add('LG생활건강')\n",
        "setLife.add('일월')\n",
        "setLife.add('한일')"
      ],
      "execution_count": 46,
      "outputs": []
    },
    {
      "cell_type": "code",
      "metadata": {
        "id": "6D-bw_J4OxJF"
      },
      "source": [
        "data.상품명 = data.상품명.str.replace('3인용', '', regex = False)\n",
        "data.상품명 = data.상품명.str.replace('4인용', '', regex = False)\n",
        "data.상품명 = data.상품명.str.replace('장수', '장수 ', regex = False)\n",
        "data.상품명 = data.상품명.str.replace('SET', '', regex = False)\n",
        "data.상품명 = data.상품명.str.replace('뉴', '', regex = False)"
      ],
      "execution_count": 47,
      "outputs": []
    },
    {
      "cell_type": "code",
      "metadata": {
        "id": "8nUIiA62Ozz_"
      },
      "source": [
        "setFurniture = Brandset('가구')"
      ],
      "execution_count": 48,
      "outputs": []
    },
    {
      "cell_type": "code",
      "metadata": {
        "id": "UExA7qa1O1mP"
      },
      "source": [
        "data.상품명 = data.상품명.str.replace('NEW프리미엄', '', regex = False)\n",
        "data.상품명 = data.상품명.str.replace('TS', 'TS ', regex = False)"
      ],
      "execution_count": 49,
      "outputs": []
    },
    {
      "cell_type": "code",
      "metadata": {
        "id": "N92H-ChIO5i9"
      },
      "source": [
        "setBeauty = Brandset('이미용')\n",
        "setBeauty.remove('시크릿')\n",
        "setBeauty.add('라메종')\n",
        "setBeauty.remove('프리미엄')\n",
        "setBeauty.add('클린샤워')"
      ],
      "execution_count": 50,
      "outputs": []
    },
    {
      "cell_type": "code",
      "metadata": {
        "id": "sD59ZVm8O8Qa"
      },
      "source": [
        "data.상품명 = data.상품명.str.replace('\"', '', regex = False)\n",
        "data.상품명 = data.상품명.str.replace('농약', '', regex = False)\n",
        "data.상품명 = data.상품명.str.replace('단하루', '', regex = False)\n",
        "data.상품명 = data.상품명.str.replace('직매입', '', regex = False)\n",
        "data.상품명 = data.상품명.str.replace('특집', '', regex = False)\n",
        "data.상품명 = data.상품명.str.replace('100%리얼', '100%리얼 ', regex = False)\n",
        "data.상품명 = data.상품명.str.replace('한삼인', '한삼인 ', regex = False)"
      ],
      "execution_count": 51,
      "outputs": []
    },
    {
      "cell_type": "code",
      "metadata": {
        "id": "RgMSGQaUO-sB"
      },
      "source": [
        "setHealth = Brandset('건강기능')\n",
        "setHealth.remove('한국인')\n",
        "setHealth.add('비에날씬')"
      ],
      "execution_count": 52,
      "outputs": []
    },
    {
      "cell_type": "code",
      "metadata": {
        "id": "y9y6wMVYPAvh"
      },
      "source": [
        "setBed = Brandset('침구')\n",
        "setBed.remove('리앤코리아')"
      ],
      "execution_count": 53,
      "outputs": []
    },
    {
      "cell_type": "code",
      "metadata": {
        "id": "G-OLjJoZPDQz"
      },
      "source": [
        "food = ['팽현숙', '전철우', '농협', '바다원', '본죽', '수협', '강레오', 'SPC 삼립',\n",
        "        '김선영', '김정문', '김정배', '송도순', '명인', '목우촌', '바다먹자',\n",
        "        '뽕셰프', '산머루농원', '소들녘', '오세득', '유귀열', '이경제', '이만기',\n",
        "        '이보은', '이봉원', '이정섭', '임성근', '장보고', '조방할매', '참바다',\n",
        "        '천수봉명인', '최인선', '피시원', '하늘내린', '하동', '하림', '현대어찬', '황토방']"
      ],
      "execution_count": 54,
      "outputs": []
    },
    {
      "cell_type": "code",
      "metadata": {
        "id": "kcAlT3CxPQiX"
      },
      "source": [
        "kitchen = list(setKitchen)\n",
        "digital = list(setDigital)\n",
        "clothes = list(setClothes)\n",
        "inner = list(setInner)\n",
        "stuff = list(setStuff)\n",
        "life = list(setLife)\n",
        "furniture = list(setFurniture)\n",
        "beauty = list(setBeauty)\n",
        "health = list(setHealth)\n",
        "bed = list(setBed)"
      ],
      "execution_count": 55,
      "outputs": []
    },
    {
      "cell_type": "code",
      "metadata": {
        "id": "MiSSxkFGPUls"
      },
      "source": [
        "clothes.remove('CERINI_by_PAT')\n",
        "clothes.append('CERINI by PAT')"
      ],
      "execution_count": 56,
      "outputs": []
    },
    {
      "cell_type": "code",
      "metadata": {
        "id": "vuimgGNwPXww"
      },
      "source": [
        "def Brand(group, name):\n",
        "    for brand in group:\n",
        "        if brand in name:\n",
        "            return brand"
      ],
      "execution_count": 57,
      "outputs": []
    },
    {
      "cell_type": "markdown",
      "metadata": {
        "id": "GsCL84fTQA15"
      },
      "source": [
        "#### submission에 전처리 적용하기"
      ]
    },
    {
      "cell_type": "code",
      "metadata": {
        "id": "8_IA1Hs3PxpM"
      },
      "source": [
        "data = df.copy()"
      ],
      "execution_count": 58,
      "outputs": []
    },
    {
      "cell_type": "code",
      "metadata": {
        "id": "XHAQ30HkPbCI"
      },
      "source": [
        "brand_list = []\n",
        "for i in range(len(data)):\n",
        "    group = data['상품군'].iloc[i]\n",
        "    name = data['상품명'].iloc[i]\n",
        "    \n",
        "    if group == '주방':\n",
        "        brand_list.append(Brand(kitchen, name))\n",
        "    elif group == '가전':\n",
        "        brand_list.append(Brand(digital, name))\n",
        "    elif group == '의류':\n",
        "        brand_list.append(Brand(clothes, name))\n",
        "    elif group == '속옷':\n",
        "        brand_list.append(Brand(inner, name))\n",
        "    elif group == '잡화':\n",
        "        brand_list.append(Brand(stuff, name))\n",
        "    elif group == '생활용품':\n",
        "        brand_list.append(Brand(life, name))\n",
        "    elif group == '가구':\n",
        "        brand_list.append(Brand(furniture, name))\n",
        "    elif group == '이미용':\n",
        "        brand_list.append(Brand(beauty, name))\n",
        "    elif group == '건강기능':\n",
        "        brand_list.append(Brand(health, name))\n",
        "    elif group == '침구':\n",
        "        brand_list.append(Brand(bed, name))\n",
        "    elif group == '농수축':\n",
        "        brand_list.append(Brand(food, name))\n",
        "    else:\n",
        "        brand_list.append('무형')"
      ],
      "execution_count": 59,
      "outputs": []
    },
    {
      "cell_type": "code",
      "metadata": {
        "id": "1X1jRNhoPHBl"
      },
      "source": [
        "data['브랜드'] = brand_list"
      ],
      "execution_count": 60,
      "outputs": []
    },
    {
      "cell_type": "code",
      "metadata": {
        "id": "HSAJokS8QXvW"
      },
      "source": [
        "data.브랜드 = data.브랜드.map(lambda x: 'Trainset에 존재하지 않습니다' if type(x) != str else x)"
      ],
      "execution_count": 61,
      "outputs": []
    },
    {
      "cell_type": "code",
      "metadata": {
        "id": "uVaBeeraQ0E5"
      },
      "source": [
        "test_df = data.copy()"
      ],
      "execution_count": 62,
      "outputs": []
    },
    {
      "cell_type": "code",
      "metadata": {
        "id": "reITb9WaQ2_3",
        "outputId": "3d979eac-bf34-41c0-9c72-aba4a69254a8",
        "colab": {
          "base_uri": "https://localhost:8080/",
          "height": 541
        }
      },
      "source": [
        "test_df.head()"
      ],
      "execution_count": 63,
      "outputs": [
        {
          "output_type": "execute_result",
          "data": {
            "text/html": [
              "<div>\n",
              "<style scoped>\n",
              "    .dataframe tbody tr th:only-of-type {\n",
              "        vertical-align: middle;\n",
              "    }\n",
              "\n",
              "    .dataframe tbody tr th {\n",
              "        vertical-align: top;\n",
              "    }\n",
              "\n",
              "    .dataframe thead th {\n",
              "        text-align: right;\n",
              "    }\n",
              "</style>\n",
              "<table border=\"1\" class=\"dataframe\">\n",
              "  <thead>\n",
              "    <tr style=\"text-align: right;\">\n",
              "      <th></th>\n",
              "      <th>마더코드</th>\n",
              "      <th>상품코드</th>\n",
              "      <th>상품명</th>\n",
              "      <th>상품군</th>\n",
              "      <th>판매단가</th>\n",
              "      <th>취급액</th>\n",
              "      <th>월</th>\n",
              "      <th>일</th>\n",
              "      <th>시</th>\n",
              "      <th>분</th>\n",
              "      <th>요일</th>\n",
              "      <th>휴일</th>\n",
              "      <th>파트</th>\n",
              "      <th>결제유형</th>\n",
              "      <th>성별</th>\n",
              "      <th>브랜드</th>\n",
              "    </tr>\n",
              "    <tr>\n",
              "      <th>방송일시</th>\n",
              "      <th></th>\n",
              "      <th></th>\n",
              "      <th></th>\n",
              "      <th></th>\n",
              "      <th></th>\n",
              "      <th></th>\n",
              "      <th></th>\n",
              "      <th></th>\n",
              "      <th></th>\n",
              "      <th></th>\n",
              "      <th></th>\n",
              "      <th></th>\n",
              "      <th></th>\n",
              "      <th></th>\n",
              "      <th></th>\n",
              "      <th></th>\n",
              "    </tr>\n",
              "  </thead>\n",
              "  <tbody>\n",
              "    <tr>\n",
              "      <th>2020-06-01 06:20:00</th>\n",
              "      <td>100650</td>\n",
              "      <td>201971</td>\n",
              "      <td>잭필드 남성 반팔셔츠 4종</td>\n",
              "      <td>의류</td>\n",
              "      <td>59800</td>\n",
              "      <td>NaN</td>\n",
              "      <td>06</td>\n",
              "      <td>01</td>\n",
              "      <td>06</td>\n",
              "      <td>20</td>\n",
              "      <td>Monday</td>\n",
              "      <td>0</td>\n",
              "      <td>First</td>\n",
              "      <td>해당없음</td>\n",
              "      <td>남성</td>\n",
              "      <td>Trainset에 존재하지 않습니다</td>\n",
              "    </tr>\n",
              "    <tr>\n",
              "      <th>2020-06-01 06:40:00</th>\n",
              "      <td>100650</td>\n",
              "      <td>201971</td>\n",
              "      <td>잭필드 남성 반팔셔츠 4종</td>\n",
              "      <td>의류</td>\n",
              "      <td>59800</td>\n",
              "      <td>NaN</td>\n",
              "      <td>06</td>\n",
              "      <td>01</td>\n",
              "      <td>06</td>\n",
              "      <td>40</td>\n",
              "      <td>Monday</td>\n",
              "      <td>0</td>\n",
              "      <td>Middle</td>\n",
              "      <td>해당없음</td>\n",
              "      <td>남성</td>\n",
              "      <td>Trainset에 존재하지 않습니다</td>\n",
              "    </tr>\n",
              "    <tr>\n",
              "      <th>2020-06-01 07:00:00</th>\n",
              "      <td>100650</td>\n",
              "      <td>201971</td>\n",
              "      <td>잭필드 남성 반팔셔츠 4종</td>\n",
              "      <td>의류</td>\n",
              "      <td>59800</td>\n",
              "      <td>NaN</td>\n",
              "      <td>06</td>\n",
              "      <td>01</td>\n",
              "      <td>07</td>\n",
              "      <td>00</td>\n",
              "      <td>Monday</td>\n",
              "      <td>0</td>\n",
              "      <td>Later</td>\n",
              "      <td>해당없음</td>\n",
              "      <td>남성</td>\n",
              "      <td>Trainset에 존재하지 않습니다</td>\n",
              "    </tr>\n",
              "    <tr>\n",
              "      <th>2020-06-01 07:20:00</th>\n",
              "      <td>100445</td>\n",
              "      <td>202278</td>\n",
              "      <td>쿠미투니카 쿨 레이시 란쥬쉐이퍼&amp;팬티</td>\n",
              "      <td>속옷</td>\n",
              "      <td>69900</td>\n",
              "      <td>NaN</td>\n",
              "      <td>06</td>\n",
              "      <td>01</td>\n",
              "      <td>07</td>\n",
              "      <td>20</td>\n",
              "      <td>Monday</td>\n",
              "      <td>0</td>\n",
              "      <td>First</td>\n",
              "      <td>해당없음</td>\n",
              "      <td>해당없음</td>\n",
              "      <td>쿠미투니카</td>\n",
              "    </tr>\n",
              "    <tr>\n",
              "      <th>2020-06-01 07:40:00</th>\n",
              "      <td>100445</td>\n",
              "      <td>202278</td>\n",
              "      <td>쿠미투니카 쿨 레이시 란쥬쉐이퍼&amp;팬티</td>\n",
              "      <td>속옷</td>\n",
              "      <td>69900</td>\n",
              "      <td>NaN</td>\n",
              "      <td>06</td>\n",
              "      <td>01</td>\n",
              "      <td>07</td>\n",
              "      <td>40</td>\n",
              "      <td>Monday</td>\n",
              "      <td>0</td>\n",
              "      <td>Middle</td>\n",
              "      <td>해당없음</td>\n",
              "      <td>해당없음</td>\n",
              "      <td>쿠미투니카</td>\n",
              "    </tr>\n",
              "  </tbody>\n",
              "</table>\n",
              "</div>"
            ],
            "text/plain": [
              "                       마더코드    상품코드  ...    성별                  브랜드\n",
              "방송일시                                 ...                           \n",
              "2020-06-01 06:20:00  100650  201971  ...    남성  Trainset에 존재하지 않습니다\n",
              "2020-06-01 06:40:00  100650  201971  ...    남성  Trainset에 존재하지 않습니다\n",
              "2020-06-01 07:00:00  100650  201971  ...    남성  Trainset에 존재하지 않습니다\n",
              "2020-06-01 07:20:00  100445  202278  ...  해당없음                쿠미투니카\n",
              "2020-06-01 07:40:00  100445  202278  ...  해당없음                쿠미투니카\n",
              "\n",
              "[5 rows x 16 columns]"
            ]
          },
          "metadata": {
            "tags": []
          },
          "execution_count": 63
        }
      ]
    },
    {
      "cell_type": "code",
      "metadata": {
        "id": "xtww4aoaycq1"
      },
      "source": [
        "data_group = {}\n",
        "for g in set(data.상품군):\n",
        "    data_group.update({g: data[data.상품군 == g]})\n",
        "\n",
        "del data"
      ],
      "execution_count": 64,
      "outputs": []
    },
    {
      "cell_type": "code",
      "metadata": {
        "id": "SKyJ59WPJAMg",
        "outputId": "084e6204-ca40-4a3e-949e-9e91f2dc21e1",
        "colab": {
          "base_uri": "https://localhost:8080/",
          "height": 405
        }
      },
      "source": [
        "data_group['주방'].head()"
      ],
      "execution_count": 65,
      "outputs": [
        {
          "output_type": "execute_result",
          "data": {
            "text/html": [
              "<div>\n",
              "<style scoped>\n",
              "    .dataframe tbody tr th:only-of-type {\n",
              "        vertical-align: middle;\n",
              "    }\n",
              "\n",
              "    .dataframe tbody tr th {\n",
              "        vertical-align: top;\n",
              "    }\n",
              "\n",
              "    .dataframe thead th {\n",
              "        text-align: right;\n",
              "    }\n",
              "</style>\n",
              "<table border=\"1\" class=\"dataframe\">\n",
              "  <thead>\n",
              "    <tr style=\"text-align: right;\">\n",
              "      <th></th>\n",
              "      <th>마더코드</th>\n",
              "      <th>상품코드</th>\n",
              "      <th>상품명</th>\n",
              "      <th>상품군</th>\n",
              "      <th>판매단가</th>\n",
              "      <th>취급액</th>\n",
              "      <th>월</th>\n",
              "      <th>일</th>\n",
              "      <th>시</th>\n",
              "      <th>분</th>\n",
              "      <th>요일</th>\n",
              "      <th>휴일</th>\n",
              "      <th>파트</th>\n",
              "      <th>결제유형</th>\n",
              "      <th>성별</th>\n",
              "      <th>브랜드</th>\n",
              "    </tr>\n",
              "    <tr>\n",
              "      <th>방송일시</th>\n",
              "      <th></th>\n",
              "      <th></th>\n",
              "      <th></th>\n",
              "      <th></th>\n",
              "      <th></th>\n",
              "      <th></th>\n",
              "      <th></th>\n",
              "      <th></th>\n",
              "      <th></th>\n",
              "      <th></th>\n",
              "      <th></th>\n",
              "      <th></th>\n",
              "      <th></th>\n",
              "      <th></th>\n",
              "      <th></th>\n",
              "      <th></th>\n",
              "    </tr>\n",
              "  </thead>\n",
              "  <tbody>\n",
              "    <tr>\n",
              "      <th>2020-06-01 09:20:00</th>\n",
              "      <td>100638</td>\n",
              "      <td>201956</td>\n",
              "      <td>램프쿡 자동회전냄비</td>\n",
              "      <td>주방</td>\n",
              "      <td>109000</td>\n",
              "      <td>NaN</td>\n",
              "      <td>06</td>\n",
              "      <td>01</td>\n",
              "      <td>09</td>\n",
              "      <td>20</td>\n",
              "      <td>Monday</td>\n",
              "      <td>0</td>\n",
              "      <td>First</td>\n",
              "      <td>해당없음</td>\n",
              "      <td>해당없음</td>\n",
              "      <td>램프쿡</td>\n",
              "    </tr>\n",
              "    <tr>\n",
              "      <th>2020-06-01 09:40:00</th>\n",
              "      <td>100638</td>\n",
              "      <td>201956</td>\n",
              "      <td>램프쿡 자동회전냄비</td>\n",
              "      <td>주방</td>\n",
              "      <td>109000</td>\n",
              "      <td>NaN</td>\n",
              "      <td>06</td>\n",
              "      <td>01</td>\n",
              "      <td>09</td>\n",
              "      <td>40</td>\n",
              "      <td>Monday</td>\n",
              "      <td>0</td>\n",
              "      <td>Middle</td>\n",
              "      <td>해당없음</td>\n",
              "      <td>해당없음</td>\n",
              "      <td>램프쿡</td>\n",
              "    </tr>\n",
              "    <tr>\n",
              "      <th>2020-06-01 10:00:00</th>\n",
              "      <td>100638</td>\n",
              "      <td>201956</td>\n",
              "      <td>램프쿡 자동회전냄비</td>\n",
              "      <td>주방</td>\n",
              "      <td>109000</td>\n",
              "      <td>NaN</td>\n",
              "      <td>06</td>\n",
              "      <td>01</td>\n",
              "      <td>10</td>\n",
              "      <td>00</td>\n",
              "      <td>Monday</td>\n",
              "      <td>0</td>\n",
              "      <td>Later</td>\n",
              "      <td>해당없음</td>\n",
              "      <td>해당없음</td>\n",
              "      <td>램프쿡</td>\n",
              "    </tr>\n",
              "    <tr>\n",
              "      <th>2020-06-02 07:20:00</th>\n",
              "      <td>100255</td>\n",
              "      <td>200867</td>\n",
              "      <td>한일 대용량 레드 스텐 분쇄믹서기</td>\n",
              "      <td>주방</td>\n",
              "      <td>119800</td>\n",
              "      <td>NaN</td>\n",
              "      <td>06</td>\n",
              "      <td>02</td>\n",
              "      <td>07</td>\n",
              "      <td>20</td>\n",
              "      <td>Tuesday</td>\n",
              "      <td>0</td>\n",
              "      <td>First</td>\n",
              "      <td>해당없음</td>\n",
              "      <td>해당없음</td>\n",
              "      <td>스텐</td>\n",
              "    </tr>\n",
              "    <tr>\n",
              "      <th>2020-06-02 07:50:00</th>\n",
              "      <td>100255</td>\n",
              "      <td>200867</td>\n",
              "      <td>한일 대용량 레드 스텐 분쇄믹서기</td>\n",
              "      <td>주방</td>\n",
              "      <td>119800</td>\n",
              "      <td>NaN</td>\n",
              "      <td>06</td>\n",
              "      <td>02</td>\n",
              "      <td>07</td>\n",
              "      <td>50</td>\n",
              "      <td>Tuesday</td>\n",
              "      <td>0</td>\n",
              "      <td>Later</td>\n",
              "      <td>해당없음</td>\n",
              "      <td>해당없음</td>\n",
              "      <td>스텐</td>\n",
              "    </tr>\n",
              "  </tbody>\n",
              "</table>\n",
              "</div>"
            ],
            "text/plain": [
              "                       마더코드    상품코드                 상품명  ...  결제유형    성별  브랜드\n",
              "방송일시                                                     ...                 \n",
              "2020-06-01 09:20:00  100638  201956          램프쿡 자동회전냄비  ...  해당없음  해당없음  램프쿡\n",
              "2020-06-01 09:40:00  100638  201956          램프쿡 자동회전냄비  ...  해당없음  해당없음  램프쿡\n",
              "2020-06-01 10:00:00  100638  201956          램프쿡 자동회전냄비  ...  해당없음  해당없음  램프쿡\n",
              "2020-06-02 07:20:00  100255  200867  한일 대용량 레드 스텐 분쇄믹서기  ...  해당없음  해당없음   스텐\n",
              "2020-06-02 07:50:00  100255  200867  한일 대용량 레드 스텐 분쇄믹서기  ...  해당없음  해당없음   스텐\n",
              "\n",
              "[5 rows x 16 columns]"
            ]
          },
          "metadata": {
            "tags": []
          },
          "execution_count": 65
        }
      ]
    },
    {
      "cell_type": "code",
      "metadata": {
        "id": "vVBZ0wveMXJ1"
      },
      "source": [
        "model = CatBoostRegressor(iterations = 2000,\n",
        "                          loss_function=\"MAPE\",\n",
        "                          eval_metric=\"MAPE\",\n",
        "                          learning_rate=0.1,\n",
        "                          early_stopping_rounds=500,\n",
        "                          random_seed = 123457,\n",
        "                          )"
      ],
      "execution_count": 66,
      "outputs": []
    },
    {
      "cell_type": "markdown",
      "metadata": {
        "id": "5cGXffE6_-My"
      },
      "source": [
        "## 의류"
      ]
    },
    {
      "cell_type": "code",
      "metadata": {
        "id": "0eKqpOVyAAPQ"
      },
      "source": [
        "data = data_group['의류'].copy()"
      ],
      "execution_count": 67,
      "outputs": []
    },
    {
      "cell_type": "markdown",
      "metadata": {
        "id": "x90TLc-bKLjy"
      },
      "source": [
        "### feature_상품"
      ]
    },
    {
      "cell_type": "code",
      "metadata": {
        "id": "54DevR14nHqf"
      },
      "source": [
        "clothes = ['니트/스웨터','카디건','원피스','티셔츠','블라우스','셔츠','점퍼','재킷','코트','맨투맨',\n",
        "          '데님','스커트','레깅스','바지','트레이닝복','조끼','정장세트','코디세트']\n",
        "\n",
        "data.상품명 = data.상품명.str.replace('팬츠', '바지')\n",
        "data.상품명 = data.상품명.str.replace('데님바지','데님')\n",
        "data.상품명 = data.상품명.str.replace('데님 바지', '데님')\n",
        "\n",
        "data.상품명 = data.상품명.str.replace('자켓', '재킷')\n",
        "\n",
        "data.상품명 = data.상품명.str.replace('패딩코트', '점퍼')\n",
        "data.상품명 = data.상품명.str.replace('패딩', '점퍼')\n",
        "data.상품명 = data.상품명.str.replace('벤치코트', '점퍼')\n",
        "data.상품명 = data.상품명.str.replace('구스다운', '점퍼')\n",
        "data.상품명 = data.상품명.str.replace('하드쉘', '점퍼')\n",
        "\n",
        "data.상품명 = data.상품명.str.replace('점퍼 바지', '바지')\n",
        "data.상품명 = data.상품명.str.replace('점퍼 재킷', '재킷')\n",
        "\n",
        "\n",
        "data.상품명 = data.상품명.str.replace('트레이닝', '트레이닝복')\n",
        "data.상품명 = data.상품명.str.replace('트랙수트', '트레이닝복')\n",
        "data.상품명 = data.상품명.str.replace('액티비티', '트레이닝복')\n",
        "data.상품명 = data.상품명.str.replace('트랙', '트레이닝복')\n",
        "data.상품명 = data.상품명.str.replace('네이처 수트', '트레이닝복')\n",
        "\n",
        "data.상품명 = data.상품명.str.replace('니트', '니트/스웨터')\n",
        "data.상품명 = data.상품명.str.replace('기모티', '니트/스웨터')\n",
        "data.상품명 = data.상품명.str.replace('모크넥', '니트/스웨터')\n",
        "data.상품명 = data.상품명.str.replace('터틀넥', '니트/스웨터')\n",
        "\n",
        "data.상품명 = data.상품명.str.replace('밍크', '코트')\n",
        "data.상품명 = data.상품명.str.replace('무스탕', '코트')\n",
        "\n",
        "data.상품명 = data.상품명.str.replace('시스루앙상블', '점퍼')\n",
        "data.상품명 = data.상품명.str.replace('린넨 베스트 세트', '조끼')\n",
        "data.상품명 = data.상품명.str.replace('하트 라인핏', '레깅스')\n",
        "data.상품명 = data.상품명.str.replace('풀코디', '코디세트')\n",
        "data.상품명 = data.상품명.str.replace('이지웨어', '홈웨어')\n",
        "\n",
        "data = separate(data, clothes)\n",
        "\n",
        "data['상품'] = data.상품명.map(lambda x: goods_name(x, clothes))\n",
        "#data['상품'] = data.상품.map(lambda x: '코디세트' if type(x) != str else x)"
      ],
      "execution_count": 68,
      "outputs": []
    },
    {
      "cell_type": "code",
      "metadata": {
        "id": "TgULldVbtjZJ"
      },
      "source": [
        "def change_group(x, goods_list, group_list):\n",
        "    for i in range(len(goods_list)):\n",
        "        if goods_list[i] in x.상품명:\n",
        "            x.상품군 = group_list[i]\n",
        "            x.상품 = goods_list[i]\n",
        "    return x\n",
        "\n",
        "data = data.apply(lambda x: change_group(x, ['레깅스','홈웨어'],['속옷','속옷']), axis=1)"
      ],
      "execution_count": 69,
      "outputs": []
    },
    {
      "cell_type": "code",
      "metadata": {
        "id": "_GjhM4KfJoGe"
      },
      "source": [
        "df_의류 = data.copy()"
      ],
      "execution_count": 70,
      "outputs": []
    },
    {
      "cell_type": "markdown",
      "metadata": {
        "id": "0ovsmZavQY4i"
      },
      "source": [
        "## 속옷"
      ]
    },
    {
      "cell_type": "code",
      "metadata": {
        "id": "o07FEchYQhb4"
      },
      "source": [
        "data = data_group['속옷'].copy()"
      ],
      "execution_count": 71,
      "outputs": []
    },
    {
      "cell_type": "markdown",
      "metadata": {
        "id": "n93sVUuxRAYi"
      },
      "source": [
        "### feature_상품"
      ]
    },
    {
      "cell_type": "code",
      "metadata": {
        "id": "cyYvGjtZRB2g"
      },
      "source": [
        "goods_속옷 = ['드로즈','트렁크','브라탑','언더셔츠','브라팬티','동내의',\n",
        "              '레깅스','보정속옷','베이스레이어', '홈웨어']\n",
        "\n",
        "\n",
        "data.상품명 = data.상품명.str.replace('란쥬', '보정속옷')\n",
        "data.상품명 = data.상품명.str.replace('보정', '보정속옷')\n",
        "data.상품명 = data.상품명.str.replace('코르셋', '보정속옷')\n",
        "data.상품명 = data.상품명.str.replace('슬리머 패키지', '보정속옷')\n",
        "data.상품명 = data.상품명.str.replace('쉐이퍼 패키지', '보정속옷')\n",
        "data.상품명 = data.상품명.str.replace('매직니퍼팬티', '보정속옷')\n",
        "data.상품명 = data.상품명.str.replace('쉐이핑 거들팬티', '보정속옷')\n",
        "data.상품명 = data.상품명.str.replace('하이웨이스트', '보정속옷')\n",
        "data.상품명 = data.상품명.str.replace('하이웨스트', '보정속옷')\n",
        "data.상품명 = data.상품명.str.replace('코튼 맥시 팬티', '보정속옷') ## 딱히 넣을 데가 없음\n",
        "\n",
        "data.상품명 = data.상품명.str.replace('레이스 패키지', '브라패키지')\n",
        "data.상품명 = data.상품명.str.replace('브라 패키지', '브라패키지')\n",
        "data.상품명 = data.상품명.str.replace('브라패키지', '브라팬티')\n",
        "data.상품명 = data.상품명.str.replace('브라 컬렉션', '브라팬티')\n",
        "data.상품명 = data.상품명.str.replace('브라렛 패키지', '브라팬티')\n",
        "data.상품명 = data.상품명.str.replace('브래팬티', '브라팬티')\n",
        "data.상품명 = data.상품명.str.replace('브라세트', '브라팬티')\n",
        "data.상품명 = data.상품명.str.replace('브라세트', '브라팬티')\n",
        "data.상품명 = data.상품명.str.replace('데오브라', '브라팬티')\n",
        "data.상품명 = data.상품명.str.replace('오모떼 레이스 파운데이션 브라',\n",
        "                                      '오모떼 레이스 파운데이션 브라팬티')\n",
        "data.상품명 = data.상품명.str.replace('리복 스피드윅 에어리라이트 브라 & 숏츠 패키지',\n",
        "                                      '리복 스피드윅 에어리라이트 브라팬티 & 숏츠 패키지')\n",
        "data.상품명 = data.상품명.str.replace('베르사유 노와이어 컬렉션 브라',\n",
        "                                      '베르사유 노와이어 컬렉션 브라팬티')\n",
        "data.상품명 = data.상품명.str.replace('퀸 컬렉션 프리미엄 브라',\n",
        "                                      '퀸 컬렉션 프리미엄 브라팬티')\n",
        "\n",
        "\n",
        "\n",
        "data.상품명 = data.상품명.str.replace('이지웨어', '홈웨어')\n",
        "data.상품명 = data.상품명.str.replace('이지탑', '홈웨어')\n",
        "data.상품명 = data.상품명.str.replace('언더탑', '홈웨어')\n",
        "data.상품명 = data.상품명.str.replace('이너웨어', '홈웨어')\n",
        "data.상품명 = data.상품명.str.replace('원피스', '홈웨어')\n",
        "data.상품명 = data.상품명.str.replace('런닝', '홈웨어')\n",
        "\n",
        "data.상품명 = data.상품명.str.replace('웜웨어', '동내의')\n",
        "\n",
        "data.상품명 = data.상품명.str.replace('쉐이핑 팬티 10+2종 패키지', '보정속옷', regex = False)\n",
        "data.상품명 = data.상품명.str.replace('레이스 브라렛', '브라팬티')\n",
        "data.상품명 = data.상품명.str.replace('브라 14종 패키지', '브라팬티')\n",
        "\n",
        "data = separate(data, goods_속옷)\n",
        "\n",
        "data['상품'] = data.상품명.map(lambda x: goods_name(x, goods_속옷))"
      ],
      "execution_count": 72,
      "outputs": []
    },
    {
      "cell_type": "markdown",
      "metadata": {
        "id": "gk8XTdkvd_DY"
      },
      "source": [
        "### feature_단가"
      ]
    },
    {
      "cell_type": "code",
      "metadata": {
        "id": "hJ8jbTGGYBR-",
        "outputId": "2d0531eb-9694-4365-95fd-70cfc80ceffd",
        "colab": {
          "base_uri": "https://localhost:8080/",
          "height": 486
        }
      },
      "source": [
        "sametime_count = data.groupby(['월','일','시','분','브랜드','성별','결제유형']).count()['상품명'].to_frame()\n",
        "sametime_df_ = data.groupby(['월','일','시','분','브랜드','성별','결제유형','상품명']).mean()['판매단가'].to_frame()\n",
        "\n",
        "sametime_df = sametime_df_[sametime_count.상품명 > 1]\n",
        "sametime_df"
      ],
      "execution_count": 73,
      "outputs": [
        {
          "output_type": "stream",
          "text": [
            "/usr/local/lib/python3.6/dist-packages/ipykernel_launcher.py:4: UserWarning: Boolean Series key will be reindexed to match DataFrame index.\n",
            "  after removing the cwd from sys.path.\n"
          ],
          "name": "stderr"
        },
        {
          "output_type": "execute_result",
          "data": {
            "text/html": [
              "<div>\n",
              "<style scoped>\n",
              "    .dataframe tbody tr th:only-of-type {\n",
              "        vertical-align: middle;\n",
              "    }\n",
              "\n",
              "    .dataframe tbody tr th {\n",
              "        vertical-align: top;\n",
              "    }\n",
              "\n",
              "    .dataframe thead th {\n",
              "        text-align: right;\n",
              "    }\n",
              "</style>\n",
              "<table border=\"1\" class=\"dataframe\">\n",
              "  <thead>\n",
              "    <tr style=\"text-align: right;\">\n",
              "      <th></th>\n",
              "      <th></th>\n",
              "      <th></th>\n",
              "      <th></th>\n",
              "      <th></th>\n",
              "      <th></th>\n",
              "      <th></th>\n",
              "      <th></th>\n",
              "      <th>판매단가</th>\n",
              "    </tr>\n",
              "    <tr>\n",
              "      <th>월</th>\n",
              "      <th>일</th>\n",
              "      <th>시</th>\n",
              "      <th>분</th>\n",
              "      <th>브랜드</th>\n",
              "      <th>성별</th>\n",
              "      <th>결제유형</th>\n",
              "      <th>상품명</th>\n",
              "      <th></th>\n",
              "    </tr>\n",
              "  </thead>\n",
              "  <tbody>\n",
              "    <tr>\n",
              "      <th rowspan=\"11\" valign=\"top\">06</th>\n",
              "      <th rowspan=\"5\" valign=\"top\">04</th>\n",
              "      <th rowspan=\"4\" valign=\"top\">19</th>\n",
              "      <th rowspan=\"2\" valign=\"top\">20</th>\n",
              "      <th rowspan=\"2\" valign=\"top\">Trainset에 존재하지 않습니다</th>\n",
              "      <th rowspan=\"2\" valign=\"top\">남성</th>\n",
              "      <th rowspan=\"2\" valign=\"top\">해당없음</th>\n",
              "      <th>보디가드 남성 드로즈 12종</th>\n",
              "      <td>49900</td>\n",
              "    </tr>\n",
              "    <tr>\n",
              "      <th>보디가드 남성 트렁크 8종</th>\n",
              "      <td>49900</td>\n",
              "    </tr>\n",
              "    <tr>\n",
              "      <th rowspan=\"2\" valign=\"top\">40</th>\n",
              "      <th rowspan=\"2\" valign=\"top\">Trainset에 존재하지 않습니다</th>\n",
              "      <th rowspan=\"2\" valign=\"top\">남성</th>\n",
              "      <th rowspan=\"2\" valign=\"top\">해당없음</th>\n",
              "      <th>보디가드 남성 드로즈 12종</th>\n",
              "      <td>49900</td>\n",
              "    </tr>\n",
              "    <tr>\n",
              "      <th>보디가드 남성 트렁크 8종</th>\n",
              "      <td>49900</td>\n",
              "    </tr>\n",
              "    <tr>\n",
              "      <th>20</th>\n",
              "      <th>00</th>\n",
              "      <th>Trainset에 존재하지 않습니다</th>\n",
              "      <th>남성</th>\n",
              "      <th>해당없음</th>\n",
              "      <th>보디가드 남성 드로즈 12종</th>\n",
              "      <td>49900</td>\n",
              "    </tr>\n",
              "    <tr>\n",
              "      <th>...</th>\n",
              "      <th>...</th>\n",
              "      <th>...</th>\n",
              "      <th>...</th>\n",
              "      <th>...</th>\n",
              "      <th>...</th>\n",
              "      <th>...</th>\n",
              "      <td>...</td>\n",
              "    </tr>\n",
              "    <tr>\n",
              "      <th rowspan=\"5\" valign=\"top\">29</th>\n",
              "      <th rowspan=\"2\" valign=\"top\">22</th>\n",
              "      <th rowspan=\"2\" valign=\"top\">40</th>\n",
              "      <th rowspan=\"2\" valign=\"top\">Trainset에 존재하지 않습니다</th>\n",
              "      <th rowspan=\"2\" valign=\"top\">해당없음</th>\n",
              "      <th rowspan=\"2\" valign=\"top\">해당없음</th>\n",
              "      <th>프로스펙스 2020 퍼포먼스 트렁크 패키지</th>\n",
              "      <td>49900</td>\n",
              "    </tr>\n",
              "    <tr>\n",
              "      <th>프로스펙스 2020 퍼포먼스 홈웨어 패키지</th>\n",
              "      <td>49900</td>\n",
              "    </tr>\n",
              "    <tr>\n",
              "      <th rowspan=\"3\" valign=\"top\">23</th>\n",
              "      <th rowspan=\"3\" valign=\"top\">00</th>\n",
              "      <th rowspan=\"3\" valign=\"top\">Trainset에 존재하지 않습니다</th>\n",
              "      <th rowspan=\"3\" valign=\"top\">해당없음</th>\n",
              "      <th rowspan=\"3\" valign=\"top\">해당없음</th>\n",
              "      <th>프로스펙스 2020 퍼포먼스 드로즈 패키지</th>\n",
              "      <td>49900</td>\n",
              "    </tr>\n",
              "    <tr>\n",
              "      <th>프로스펙스 2020 퍼포먼스 트렁크 패키지</th>\n",
              "      <td>49900</td>\n",
              "    </tr>\n",
              "    <tr>\n",
              "      <th>프로스펙스 2020 퍼포먼스 홈웨어 패키지</th>\n",
              "      <td>49900</td>\n",
              "    </tr>\n",
              "  </tbody>\n",
              "</table>\n",
              "<p>117 rows × 1 columns</p>\n",
              "</div>"
            ],
            "text/plain": [
              "                                                                    판매단가\n",
              "월  일  시  분  브랜드                 성별   결제유형 상품명                           \n",
              "06 04 19 20 Trainset에 존재하지 않습니다 남성   해당없음 보디가드 남성 드로즈 12종          49900\n",
              "                                          보디가드 남성 트렁크 8종           49900\n",
              "         40 Trainset에 존재하지 않습니다 남성   해당없음 보디가드 남성 드로즈 12종          49900\n",
              "                                          보디가드 남성 트렁크 8종           49900\n",
              "      20 00 Trainset에 존재하지 않습니다 남성   해당없음 보디가드 남성 드로즈 12종          49900\n",
              "...                                                                  ...\n",
              "   29 22 40 Trainset에 존재하지 않습니다 해당없음 해당없음 프로스펙스 2020 퍼포먼스 트렁크 패키지  49900\n",
              "                                          프로스펙스 2020 퍼포먼스 홈웨어 패키지  49900\n",
              "      23 00 Trainset에 존재하지 않습니다 해당없음 해당없음 프로스펙스 2020 퍼포먼스 드로즈 패키지  49900\n",
              "                                          프로스펙스 2020 퍼포먼스 트렁크 패키지  49900\n",
              "                                          프로스펙스 2020 퍼포먼스 홈웨어 패키지  49900\n",
              "\n",
              "[117 rows x 1 columns]"
            ]
          },
          "metadata": {
            "tags": []
          },
          "execution_count": 73
        }
      ]
    },
    {
      "cell_type": "code",
      "metadata": {
        "id": "WnqLZ4ZvdwGD"
      },
      "source": [
        "def cheap_expensive(x):\n",
        "    try: \n",
        "        idx_list = sametime_df.loc[(x.월, x.일, x.시, x.분, x.브랜드, x.성별)].values.reshape(-1).tolist()\n",
        "        idx_list.sort()\n",
        "        idx = idx_list.index(x.판매단가)/(len(idx_list)-1)\n",
        "        if idx == 0:\n",
        "            return '하'\n",
        "        if idx == 0.5:\n",
        "            return '중'\n",
        "        if idx == 1:\n",
        "            return '상'\n",
        "    except KeyError:\n",
        "        return '해당없음'\n",
        "\n",
        "data['단가'] = data.apply(lambda x: cheap_expensive(x), axis=1)"
      ],
      "execution_count": 74,
      "outputs": []
    },
    {
      "cell_type": "code",
      "metadata": {
        "id": "XLngXD09eYxF"
      },
      "source": [
        "df_속옷 = data.copy()"
      ],
      "execution_count": 75,
      "outputs": []
    },
    {
      "cell_type": "markdown",
      "metadata": {
        "id": "z3ZuX6cbqBYr"
      },
      "source": [
        "## 잡화"
      ]
    },
    {
      "cell_type": "code",
      "metadata": {
        "id": "dfp5Zz6ZqC5A"
      },
      "source": [
        "data = data_group['잡화'].copy()"
      ],
      "execution_count": 76,
      "outputs": []
    },
    {
      "cell_type": "markdown",
      "metadata": {
        "id": "CnZ5RYXtqQ_n"
      },
      "source": [
        "### Preprocessing & feature_상품"
      ]
    },
    {
      "cell_type": "code",
      "metadata": {
        "id": "EhFnruaxqSlF"
      },
      "source": [
        "goods_잡화 = ['백팩','크로스백','숄더백','토트백','클러치백','여행가방','가방세트',\n",
        "              '샌들','스니커즈','단화','운동화','부츠','힐/펌프스','캐쥬얼슈즈',\n",
        "              '목걸이','팔찌','반지','귀걸이','골드바','목걸이팔찌','팔찌반지','주얼리세트',\n",
        "              '모자','선글라스','워치','지갑','장갑']\n",
        "\n",
        "# data.상품명 = data.상품명.str.replace('[+]\\w+', '')\n",
        "# data.상품명 = data.상품명.str.replace('\\([^)]*\\)', '')\n",
        "\n",
        "data.상품명 = data.상품명.str.replace('크로스바디백', '크로스백')\n",
        "data.상품명 = data.상품명.str.replace('크로스바디 백', '크로스백')\n",
        "data.상품명 = data.상품명.str.replace('크로스 바디백', '크로스백')\n",
        "data.상품명 = data.상품명.str.replace('클래식 스퀘어 크로스', '크로스백')\n",
        "data.상품명 = data.상품명.str.replace('크로스 백', '크로스백')\n",
        "data.상품명 = data.상품명.str.replace('파일백', '크로스백')\n",
        "data.상품명 = data.상품명.str.replace('투웨이백', '크로스백')\n",
        "\n",
        "data.상품명 = data.상품명.str.replace('체인숄더', '숄더백')\n",
        "data.상품명 = data.상품명.str.replace('체인백', '숄더백')\n",
        "data.상품명 = data.상품명.str.replace('체인숄더', '숄더백')\n",
        "data.상품명 = data.상품명.str.replace('체인 숄더', '숄더백')\n",
        "data.상품명 = data.상품명.str.replace('호보백', '숄더백')\n",
        "data.상품명 = data.상품명.str.replace('버킷 드로잉 백', '숄더백')\n",
        "data.상품명 = data.상품명.str.replace('쇼퍼백', '숄더백')\n",
        "data.상품명 = data.상품명.str.replace('버켓백', '숄더백')\n",
        "data.상품명 = data.상품명.str.replace('버켓 백', '숄더백')\n",
        "data.상품명 = data.상품명.str.replace('버킷백', '숄더백')\n",
        "\n",
        "data.상품명 = data.상품명.str.replace('노벨라백', '토트백')\n",
        "data.상품명 = data.상품명.str.replace('미란다백', '토트백')\n",
        "data.상품명 = data.상품명.str.replace('사첼백', '토트백')\n",
        "data.상품명 = data.상품명.str.replace('사첼', '토트백')\n",
        "data.상품명 = data.상품명.str.replace('모터백', '토트백')\n",
        "data.상품명 = data.상품명.str.replace('핸드백', '토트백')\n",
        "data.상품명 = data.상품명.str.replace('스퀘어백', '토트백')\n",
        "data.상품명 = data.상품명.str.replace('캐리올', '토트백')\n",
        "data.상품명 = data.상품명.str.replace('피닉스 보스턴', '토트백')\n",
        "data.상품명 = data.상품명.str.replace('메디오백', '토트백')\n",
        "\n",
        "data.상품명 = data.상품명.str.replace('리스틀릿', '클러치백')\n",
        "data.상품명 = data.상품명.str.replace('웨이스트백', '클러치백')\n",
        "\n",
        "data.상품명 = data.상품명.str.replace('플라이트백', '백팩')\n",
        "\n",
        "data.상품명 = data.상품명.str.replace('백 4종', '가방세트')\n",
        "data.상품명 = data.상품명.str.replace('백 3종세트', '가방세트')\n",
        "data.상품명 = data.상품명.str.replace('남성 화 3종', '가방세트')\n",
        "\n",
        "data.상품명 = data.상품명.str.replace('헤라 컬렉션', '주얼리세트')\n",
        "data.상품명 = data.상품명.str.replace('주얼리', '주얼리세트')\n",
        "\n",
        "data.상품명 = data.상품명.str.replace('러닝화', '운동화')\n",
        "data.상품명 = data.상품명.str.replace('워킹화', '운동화')\n",
        "data.상품명 = data.상품명.str.replace('트레킹화', '운동화')\n",
        "data.상품명 = data.상품명.str.replace('방한화', '운동화')\n",
        "\n",
        "data.상품명 = data.상품명.str.replace('로퍼', '단화')\n",
        "data.상품명 = data.상품명.str.replace('슬립온', '단화')\n",
        "\n",
        "data.상품명 = data.상품명.str.replace('펌프스', '힐/펌프스')\n",
        "\n",
        "#data.상품명 = data.상품명.str.replace('', '힐/펌프스')\n",
        "\n",
        "data = separate(data, goods_잡화)\n",
        "\n",
        "data.상품명 = data.상품명.str.replace('숄더 ', '숄더백')\n",
        "data.상품명 = data.상품명.str.replace('목걸이 팔찌', '목걸이팔찌')\n",
        "data.상품명 = data.상품명.str.replace('팔찌 반지', '팔찌반지')\n",
        "\n",
        "\n",
        "data['상품'] = data.상품명.map(lambda x: goods_name(x, goods_잡화))\n",
        "data['상품'] = data.상품.map(lambda x: '패션소품' if type(x) != str else x)"
      ],
      "execution_count": 77,
      "outputs": []
    },
    {
      "cell_type": "code",
      "metadata": {
        "id": "qFE8LpN-R4f8",
        "outputId": "7266da22-68b5-4ede-ff1c-6f7b8f99e881",
        "colab": {
          "base_uri": "https://localhost:8080/",
          "height": 35
        }
      },
      "source": [
        "set(data[data.상품.isnull()].상품명)"
      ],
      "execution_count": 78,
      "outputs": [
        {
          "output_type": "execute_result",
          "data": {
            "text/plain": [
              "set()"
            ]
          },
          "metadata": {
            "tags": []
          },
          "execution_count": 78
        }
      ]
    },
    {
      "cell_type": "code",
      "metadata": {
        "id": "lwh19sR8SSv6",
        "outputId": "8afd8458-81cc-4883-8db9-ece297ca178c",
        "colab": {
          "base_uri": "https://localhost:8080/",
          "height": 486
        }
      },
      "source": [
        "sametime_count = data.groupby(['월','일','시','분','브랜드','성별','결제유형']).count()['상품명'].to_frame()\n",
        "sametime_df_ = data.groupby(['월','일','시','분','브랜드','성별','결제유형','상품명']).mean()['판매단가'].to_frame()\n",
        "\n",
        "sametime_df = sametime_df_[sametime_count.상품명 > 1]\n",
        "sametime_df"
      ],
      "execution_count": 79,
      "outputs": [
        {
          "output_type": "stream",
          "text": [
            "/usr/local/lib/python3.6/dist-packages/ipykernel_launcher.py:4: UserWarning: Boolean Series key will be reindexed to match DataFrame index.\n",
            "  after removing the cwd from sys.path.\n"
          ],
          "name": "stderr"
        },
        {
          "output_type": "execute_result",
          "data": {
            "text/html": [
              "<div>\n",
              "<style scoped>\n",
              "    .dataframe tbody tr th:only-of-type {\n",
              "        vertical-align: middle;\n",
              "    }\n",
              "\n",
              "    .dataframe tbody tr th {\n",
              "        vertical-align: top;\n",
              "    }\n",
              "\n",
              "    .dataframe thead th {\n",
              "        text-align: right;\n",
              "    }\n",
              "</style>\n",
              "<table border=\"1\" class=\"dataframe\">\n",
              "  <thead>\n",
              "    <tr style=\"text-align: right;\">\n",
              "      <th></th>\n",
              "      <th></th>\n",
              "      <th></th>\n",
              "      <th></th>\n",
              "      <th></th>\n",
              "      <th></th>\n",
              "      <th></th>\n",
              "      <th></th>\n",
              "      <th>판매단가</th>\n",
              "    </tr>\n",
              "    <tr>\n",
              "      <th>월</th>\n",
              "      <th>일</th>\n",
              "      <th>시</th>\n",
              "      <th>분</th>\n",
              "      <th>브랜드</th>\n",
              "      <th>성별</th>\n",
              "      <th>결제유형</th>\n",
              "      <th>상품명</th>\n",
              "      <th></th>\n",
              "    </tr>\n",
              "  </thead>\n",
              "  <tbody>\n",
              "    <tr>\n",
              "      <th rowspan=\"11\" valign=\"top\">06</th>\n",
              "      <th rowspan=\"5\" valign=\"top\">06</th>\n",
              "      <th rowspan=\"5\" valign=\"top\">08</th>\n",
              "      <th rowspan=\"5\" valign=\"top\">20</th>\n",
              "      <th rowspan=\"4\" valign=\"top\">구찌</th>\n",
              "      <th rowspan=\"4\" valign=\"top\">해당없음</th>\n",
              "      <th rowspan=\"4\" valign=\"top\">해당없음</th>\n",
              "      <th>구찌 NEW 럭셔리스타 선글라스 GG0232SK</th>\n",
              "      <td>158000</td>\n",
              "    </tr>\n",
              "    <tr>\n",
              "      <th>구찌 더블G 오버 선글라스</th>\n",
              "      <td>458000</td>\n",
              "    </tr>\n",
              "    <tr>\n",
              "      <th>구찌 마이크로 씨마 GG플랩 2단 장 지갑</th>\n",
              "      <td>750000</td>\n",
              "    </tr>\n",
              "    <tr>\n",
              "      <th>구찌 마이크로씨마 크로스백</th>\n",
              "      <td>1790000</td>\n",
              "    </tr>\n",
              "    <tr>\n",
              "      <th>프라다</th>\n",
              "      <th>해당없음</th>\n",
              "      <th>해당없음</th>\n",
              "      <th>프라다 레터링 카메라백</th>\n",
              "      <td>1090000</td>\n",
              "    </tr>\n",
              "    <tr>\n",
              "      <th>...</th>\n",
              "      <th>...</th>\n",
              "      <th>...</th>\n",
              "      <th>...</th>\n",
              "      <th>...</th>\n",
              "      <th>...</th>\n",
              "      <th>...</th>\n",
              "      <td>...</td>\n",
              "    </tr>\n",
              "    <tr>\n",
              "      <th rowspan=\"5\" valign=\"top\">30</th>\n",
              "      <th rowspan=\"5\" valign=\"top\">13</th>\n",
              "      <th rowspan=\"5\" valign=\"top\">50</th>\n",
              "      <th rowspan=\"5\" valign=\"top\">루이띠에</th>\n",
              "      <th rowspan=\"5\" valign=\"top\">해당없음</th>\n",
              "      <th rowspan=\"5\" valign=\"top\">해당없음</th>\n",
              "      <th>[루이띠에] 24K 999 순금 11.25g 더블 링크 체인 팔찌</th>\n",
              "      <td>1430000</td>\n",
              "    </tr>\n",
              "    <tr>\n",
              "      <th>[루이띠에] 24K 999 순금 11.25g 샤인 볼륨 반지</th>\n",
              "      <td>1430000</td>\n",
              "    </tr>\n",
              "    <tr>\n",
              "      <th>[루이띠에] 24K 999 순금 18.75g 골드바 목걸이</th>\n",
              "      <td>2230000</td>\n",
              "    </tr>\n",
              "    <tr>\n",
              "      <th>[루이띠에] 24K 999 순금 18.75g 스페이스 뱅글 팔찌</th>\n",
              "      <td>2230000</td>\n",
              "    </tr>\n",
              "    <tr>\n",
              "      <th>[루이띠에] 24K 999 순금 37.5g 골드바 목걸이</th>\n",
              "      <td>4320000</td>\n",
              "    </tr>\n",
              "  </tbody>\n",
              "</table>\n",
              "<p>172 rows × 1 columns</p>\n",
              "</div>"
            ],
            "text/plain": [
              "                                                                    판매단가\n",
              "월  일  시  분  브랜드  성별   결제유형 상품명                                          \n",
              "06 06 08 20 구찌   해당없음 해당없음 구찌 NEW 럭셔리스타 선글라스 GG0232SK             158000\n",
              "                           구찌 더블G 오버 선글라스                         458000\n",
              "                           구찌 마이크로 씨마 GG플랩 2단 장 지갑                750000\n",
              "                           구찌 마이크로씨마 크로스백                        1790000\n",
              "            프라다  해당없음 해당없음 프라다 레터링 카메라백                          1090000\n",
              "...                                                                  ...\n",
              "   30 13 50 루이띠에 해당없음 해당없음 [루이띠에] 24K 999 순금 11.25g 더블 링크 체인 팔찌  1430000\n",
              "                           [루이띠에] 24K 999 순금 11.25g 샤인 볼륨 반지     1430000\n",
              "                           [루이띠에] 24K 999 순금 18.75g 골드바 목걸이      2230000\n",
              "                           [루이띠에] 24K 999 순금 18.75g 스페이스 뱅글 팔찌   2230000\n",
              "                           [루이띠에] 24K 999 순금 37.5g 골드바 목걸이       4320000\n",
              "\n",
              "[172 rows x 1 columns]"
            ]
          },
          "metadata": {
            "tags": []
          },
          "execution_count": 79
        }
      ]
    },
    {
      "cell_type": "code",
      "metadata": {
        "id": "hxJGutQWSXTw"
      },
      "source": [
        "def cheap_expensive(x):\n",
        "    try: \n",
        "        idx_list = sametime_df.loc[(x.월, x.일, x.시, x.분, x.브랜드, x.성별)].values.reshape(-1).tolist()\n",
        "        idx_list.sort()\n",
        "        idx = idx_list.index(x.판매단가)/(len(idx_list)-1)\n",
        "        if idx == 0:\n",
        "            return '하'\n",
        "        if idx == 0.5:\n",
        "            return '중'\n",
        "        if idx == 1:\n",
        "            return '상'\n",
        "    except KeyError:\n",
        "        return '해당없음'\n",
        "\n",
        "data['단가'] = data.apply(lambda x: cheap_expensive(x), axis=1)"
      ],
      "execution_count": 80,
      "outputs": []
    },
    {
      "cell_type": "code",
      "metadata": {
        "id": "otdC_OFEjR5M"
      },
      "source": [
        "df_잡화 = data.copy()"
      ],
      "execution_count": 81,
      "outputs": []
    },
    {
      "cell_type": "markdown",
      "metadata": {
        "id": "wj-vow5IRZhk"
      },
      "source": [
        "## 주방"
      ]
    },
    {
      "cell_type": "code",
      "metadata": {
        "id": "jZDSgZqyGH1U"
      },
      "source": [
        "data = data_group['주방'].copy()"
      ],
      "execution_count": 82,
      "outputs": []
    },
    {
      "cell_type": "markdown",
      "metadata": {
        "id": "FGX1zYViDxD_"
      },
      "source": [
        "### feature_상품"
      ]
    },
    {
      "cell_type": "code",
      "metadata": {
        "id": "ZFxC1weTDzC7"
      },
      "source": [
        "clothes = ['전기밥솥','가스레인지','에어프라이어','주방가전',\n",
        "           '믹서기','그릴','식기','잔/컵','냄비/솥',\n",
        "           '프라이팬','주전자/티포트','보관/밀폐용기','조리기구','하이브리드','주방잡화']\n",
        "\n",
        "data.상품명 = data.상품명.str.replace('블랜더', '믹서기')\n",
        "data.상품명 = data.상품명.str.replace('텀블러 믹서기', '믹서기')\n",
        "data.상품명 = data.상품명.str.replace('믹서를 품은 텀블러', '믹서기')\n",
        "data.상품명 = data.상품명.str.replace('다지기', '믹서기')\n",
        "data.상품명 = data.상품명.str.replace('블랜더', '믹서기')\n",
        "data.상품명 = data.상품명.str.replace('블렌더', '믹서기')\n",
        "data.상품명 = data.상품명.str.replace('홈밀맷돌', '믹서기')\n",
        "\n",
        "data.상품명 = data.상품명.str.replace('압력밥솥', '전기밥솥')\n",
        "\n",
        "data.상품명 = data.상품명.str.replace('용기', '보관/밀폐용기')\n",
        "data.상품명 = data.상품명.str.replace('후레쉬', '보관/밀폐용기')\n",
        "data.상품명 = data.상품명.str.replace('유로오븐글라스', '보관/밀폐용기')\n",
        "\n",
        "data.상품명 = data.상품명.str.replace('홈세트', '식기')\n",
        "data.상품명 = data.상품명.str.replace('디너세트', '식기')\n",
        "\n",
        "data.상품명 = data.상품명.str.replace('도마', '조리기구')\n",
        "data.상품명 = data.상품명.str.replace('참소쿠리', '조리기구')\n",
        "data.상품명 = data.상품명.str.replace('칼블럭', '조리기구')\n",
        "\n",
        "data.상품명 = data.상품명.str.replace('텀블러', '잔/컵')\n",
        "data.상품명 = data.상품명.str.replace('보온병', '잔/컵')\n",
        "\n",
        "data.상품명 = data.상품명.str.replace('티포트', '주전자/티포트')\n",
        "data.상품명 = data.상품명.str.replace('티메이커', '주전자/티포트')\n",
        "\n",
        "data.상품명 = data.상품명.str.replace('냄비', '냄비/솥')\n",
        "data.상품명 = data.상품명.str.replace('가마솥', '냄비/솥')\n",
        "\n",
        "data.상품명 = data.상품명.str.replace('후라이팬', '프라이팬')\n",
        "data.상품명 = data.상품명.str.replace('실버팬', '프라이팬')\n",
        "data.상품명 = data.상품명.str.replace('양면팬', '프라이팬')\n",
        "\n",
        "data.상품명 = data.상품명.str.replace('행주', '주방잡화')\n",
        "data.상품명 = data.상품명.str.replace('수세미', '주방잡화')\n",
        "data.상품명 = data.상품명.str.replace('지퍼백', '주방잡화')\n",
        "data.상품명 = data.상품명.str.replace('싱크선반', '주방잡화')\n",
        "\n",
        "\n",
        "data.상품명 = data.상품명.str.replace('압력솥', '전기밥솥')\n",
        "data.상품명 = data.상품명.str.replace('채칼', '조리기구')\n",
        "\n",
        "data = separate(data, clothes)\n",
        "\n",
        "data['상품'] = data.상품명.map(lambda x: goods_name(x, clothes))\n",
        "data['상품'] = data.상품.map(lambda x: '주방가전' if type(x) != str else x)"
      ],
      "execution_count": 83,
      "outputs": []
    },
    {
      "cell_type": "markdown",
      "metadata": {
        "id": "t90KLcyJIZo7"
      },
      "source": [
        "### feature_단가"
      ]
    },
    {
      "cell_type": "code",
      "metadata": {
        "id": "IkhmJoAEL_h_",
        "outputId": "0cf2eddb-033d-416d-e8de-51dd8d89e851",
        "colab": {
          "base_uri": "https://localhost:8080/",
          "height": 486
        }
      },
      "source": [
        "sametime_count = data.groupby(['월','일','시','분','브랜드','상품','결제유형']).count()['상품명'].to_frame()\n",
        "sametime_df_ = data.groupby(['월','일','시','분','브랜드','상품','결제유형','상품명']).mean()['판매단가'].to_frame()\n",
        "\n",
        "sametime_df = sametime_df_[sametime_count.상품명 > 1]\n",
        "sametime_df"
      ],
      "execution_count": 84,
      "outputs": [
        {
          "output_type": "stream",
          "text": [
            "/usr/local/lib/python3.6/dist-packages/ipykernel_launcher.py:4: UserWarning: Boolean Series key will be reindexed to match DataFrame index.\n",
            "  after removing the cwd from sys.path.\n"
          ],
          "name": "stderr"
        },
        {
          "output_type": "execute_result",
          "data": {
            "text/html": [
              "<div>\n",
              "<style scoped>\n",
              "    .dataframe tbody tr th:only-of-type {\n",
              "        vertical-align: middle;\n",
              "    }\n",
              "\n",
              "    .dataframe tbody tr th {\n",
              "        vertical-align: top;\n",
              "    }\n",
              "\n",
              "    .dataframe thead th {\n",
              "        text-align: right;\n",
              "    }\n",
              "</style>\n",
              "<table border=\"1\" class=\"dataframe\">\n",
              "  <thead>\n",
              "    <tr style=\"text-align: right;\">\n",
              "      <th></th>\n",
              "      <th></th>\n",
              "      <th></th>\n",
              "      <th></th>\n",
              "      <th></th>\n",
              "      <th></th>\n",
              "      <th></th>\n",
              "      <th></th>\n",
              "      <th>판매단가</th>\n",
              "    </tr>\n",
              "    <tr>\n",
              "      <th>월</th>\n",
              "      <th>일</th>\n",
              "      <th>시</th>\n",
              "      <th>분</th>\n",
              "      <th>브랜드</th>\n",
              "      <th>상품</th>\n",
              "      <th>결제유형</th>\n",
              "      <th>상품명</th>\n",
              "      <th></th>\n",
              "    </tr>\n",
              "  </thead>\n",
              "  <tbody>\n",
              "    <tr>\n",
              "      <th rowspan=\"11\" valign=\"top\">06</th>\n",
              "      <th rowspan=\"5\" valign=\"top\">02</th>\n",
              "      <th rowspan=\"4\" valign=\"top\">13</th>\n",
              "      <th rowspan=\"2\" valign=\"top\">20</th>\n",
              "      <th rowspan=\"2\" valign=\"top\">쿠쿠</th>\n",
              "      <th rowspan=\"2\" valign=\"top\">전기밥솥</th>\n",
              "      <th rowspan=\"2\" valign=\"top\">해당없음</th>\n",
              "      <th>CRP-P0610FD 쿠쿠 전기밥솥 6인용(QS) 2020</th>\n",
              "      <td>208000</td>\n",
              "    </tr>\n",
              "    <tr>\n",
              "      <th>CRP-QS107FG/FS 쿠쿠 전기밥솥 10인용 2020</th>\n",
              "      <td>218000</td>\n",
              "    </tr>\n",
              "    <tr>\n",
              "      <th rowspan=\"2\" valign=\"top\">40</th>\n",
              "      <th rowspan=\"2\" valign=\"top\">쿠쿠</th>\n",
              "      <th rowspan=\"2\" valign=\"top\">전기밥솥</th>\n",
              "      <th rowspan=\"2\" valign=\"top\">해당없음</th>\n",
              "      <th>CRP-P0610FD 쿠쿠 전기밥솥 6인용(QS) 2020</th>\n",
              "      <td>208000</td>\n",
              "    </tr>\n",
              "    <tr>\n",
              "      <th>CRP-QS107FG/FS 쿠쿠 전기밥솥 10인용 2020</th>\n",
              "      <td>218000</td>\n",
              "    </tr>\n",
              "    <tr>\n",
              "      <th>14</th>\n",
              "      <th>00</th>\n",
              "      <th>쿠쿠</th>\n",
              "      <th>전기밥솥</th>\n",
              "      <th>해당없음</th>\n",
              "      <th>CRP-P0610FD 쿠쿠 전기밥솥 6인용(QS) 2020</th>\n",
              "      <td>208000</td>\n",
              "    </tr>\n",
              "    <tr>\n",
              "      <th>...</th>\n",
              "      <th>...</th>\n",
              "      <th>...</th>\n",
              "      <th>...</th>\n",
              "      <th>...</th>\n",
              "      <th>...</th>\n",
              "      <th>...</th>\n",
              "      <td>...</td>\n",
              "    </tr>\n",
              "    <tr>\n",
              "      <th rowspan=\"5\" valign=\"top\">30</th>\n",
              "      <th rowspan=\"3\" valign=\"top\">21</th>\n",
              "      <th>20</th>\n",
              "      <th>쿠쿠</th>\n",
              "      <th>전기밥솥</th>\n",
              "      <th>해당없음</th>\n",
              "      <th>CRP-QS107FG/FS 쿠쿠 전기밥솥 10인용 2020</th>\n",
              "      <td>218000</td>\n",
              "    </tr>\n",
              "    <tr>\n",
              "      <th rowspan=\"2\" valign=\"top\">40</th>\n",
              "      <th rowspan=\"2\" valign=\"top\">쿠쿠</th>\n",
              "      <th rowspan=\"2\" valign=\"top\">전기밥솥</th>\n",
              "      <th rowspan=\"2\" valign=\"top\">해당없음</th>\n",
              "      <th>CRP-P0610FD 쿠쿠 전기밥솥 6인용(QS) 2020</th>\n",
              "      <td>208000</td>\n",
              "    </tr>\n",
              "    <tr>\n",
              "      <th>CRP-QS107FG/FS 쿠쿠 전기밥솥 10인용 2020</th>\n",
              "      <td>218000</td>\n",
              "    </tr>\n",
              "    <tr>\n",
              "      <th rowspan=\"2\" valign=\"top\">22</th>\n",
              "      <th rowspan=\"2\" valign=\"top\">00</th>\n",
              "      <th rowspan=\"2\" valign=\"top\">쿠쿠</th>\n",
              "      <th rowspan=\"2\" valign=\"top\">전기밥솥</th>\n",
              "      <th rowspan=\"2\" valign=\"top\">해당없음</th>\n",
              "      <th>CRP-P0610FD 쿠쿠 전기밥솥 6인용(QS) 2020</th>\n",
              "      <td>208000</td>\n",
              "    </tr>\n",
              "    <tr>\n",
              "      <th>CRP-QS107FG/FS 쿠쿠 전기밥솥 10인용 2020</th>\n",
              "      <td>218000</td>\n",
              "    </tr>\n",
              "  </tbody>\n",
              "</table>\n",
              "<p>96 rows × 1 columns</p>\n",
              "</div>"
            ],
            "text/plain": [
              "                                                              판매단가\n",
              "월  일  시  분  브랜드 상품   결제유형 상품명                                     \n",
              "06 02 13 20 쿠쿠  전기밥솥 해당없음 CRP-P0610FD 쿠쿠 전기밥솥 6인용(QS) 2020  208000\n",
              "                          CRP-QS107FG/FS 쿠쿠 전기밥솥 10인용 2020  218000\n",
              "         40 쿠쿠  전기밥솥 해당없음 CRP-P0610FD 쿠쿠 전기밥솥 6인용(QS) 2020  208000\n",
              "                          CRP-QS107FG/FS 쿠쿠 전기밥솥 10인용 2020  218000\n",
              "      14 00 쿠쿠  전기밥솥 해당없음 CRP-P0610FD 쿠쿠 전기밥솥 6인용(QS) 2020  208000\n",
              "...                                                            ...\n",
              "   30 21 20 쿠쿠  전기밥솥 해당없음 CRP-QS107FG/FS 쿠쿠 전기밥솥 10인용 2020  218000\n",
              "         40 쿠쿠  전기밥솥 해당없음 CRP-P0610FD 쿠쿠 전기밥솥 6인용(QS) 2020  208000\n",
              "                          CRP-QS107FG/FS 쿠쿠 전기밥솥 10인용 2020  218000\n",
              "      22 00 쿠쿠  전기밥솥 해당없음 CRP-P0610FD 쿠쿠 전기밥솥 6인용(QS) 2020  208000\n",
              "                          CRP-QS107FG/FS 쿠쿠 전기밥솥 10인용 2020  218000\n",
              "\n",
              "[96 rows x 1 columns]"
            ]
          },
          "metadata": {
            "tags": []
          },
          "execution_count": 84
        }
      ]
    },
    {
      "cell_type": "code",
      "metadata": {
        "id": "Hgu_h21Ex_yQ"
      },
      "source": [
        "def cheap_expensive(x):\n",
        "    try: \n",
        "        idx_list = sametime_df.loc[(x.월, x.일, x.시, x.분, x.브랜드, x.결제유형)].values.reshape(-1).tolist()\n",
        "        idx_list.sort()\n",
        "        idx = idx_list.index(x.판매단가)/(len(idx_list)-1)\n",
        "        if idx == 0:\n",
        "            return '하'\n",
        "        if idx == 0.5:\n",
        "            return '중'\n",
        "        if idx == 1:\n",
        "            return '상'\n",
        "    except KeyError:\n",
        "        return '해당없음'\n",
        "\n",
        "data['단가'] = data.apply(lambda x: cheap_expensive(x), axis=1)"
      ],
      "execution_count": 85,
      "outputs": []
    },
    {
      "cell_type": "code",
      "metadata": {
        "id": "74A9xSyJLrGc"
      },
      "source": [
        "data.브랜드 = data.브랜드.str.replace('센스락무선진공포장기','센스락')\n",
        "data.브랜드 = data.브랜드.fillna(' ')\n",
        "brand_list = list(set(data.브랜드.dropna()))\n",
        "data = separate(data, brand_list)\n",
        "#data = replace(data, brand_list)"
      ],
      "execution_count": 86,
      "outputs": []
    },
    {
      "cell_type": "code",
      "metadata": {
        "id": "a6UlmgN6Ujx_"
      },
      "source": [
        "df_주방 = data.copy()"
      ],
      "execution_count": 87,
      "outputs": []
    },
    {
      "cell_type": "markdown",
      "metadata": {
        "id": "1AfYhlk8UbWl"
      },
      "source": [
        "## 가전"
      ]
    },
    {
      "cell_type": "code",
      "metadata": {
        "id": "pmGj-EYvyG6_"
      },
      "source": [
        "data = data_group['가전'].copy()"
      ],
      "execution_count": 88,
      "outputs": []
    },
    {
      "cell_type": "markdown",
      "metadata": {
        "id": "gjLNMWwzVXAb"
      },
      "source": [
        "### Preprocessing"
      ]
    },
    {
      "cell_type": "code",
      "metadata": {
        "id": "l0A-jH8qUvIr"
      },
      "source": [
        "# 삼성 UHD TV\n",
        "data.상품명 = data.상품명.str.replace('UN55NU7010FXKR', '55인치')\n",
        "data.상품명 = data.상품명.str.replace('UN65NU7010FXKR', '65인치')\n",
        "data.상품명 = data.상품명.str.replace('UN75NU7010FXKR', '75인치')\n",
        "data.상품명 = data.상품명.str.replace('UN55NU7050F', '55인치')\n",
        "data.상품명 = data.상품명.str.replace('UN65NU7050F', '65인치')\n",
        "data.상품명 = data.상품명.str.replace('UN75NU7050F', '75인치')\n",
        "data.상품명 = data.상품명.str.replace('UN55RU7150FXKR', '55인치')\n",
        "data.상품명 = data.상품명.str.replace('UN65RU7150FXKR', '65인치')\n",
        "data.상품명 = data.상품명.str.replace('UN75RU7150FXKR', '75인치')\n",
        "\n",
        "# LG 울트라HD TV \n",
        "data.상품명 = data.상품명.str.replace('55UK6800HNC', '55인치')\n",
        "data.상품명 = data.상품명.str.replace('55UM7900BNA', '55인치')\n",
        "data.상품명 = data.상품명.str.replace('65UK6800HNC', '65인치')\n",
        "data.상품명 = data.상품명.str.replace('65UM7900BNA', '65인치')\n",
        "data.상품명 = data.상품명.str.replace('70UK6800HNC', '70인치')\n",
        "data.상품명 = data.상품명.str.replace('70UK7400KNA', '70인치')\n",
        "data.상품명 = data.상품명.str.replace('75UK6200KNB', '75인치')\n",
        "data.상품명 = data.상품명.str.replace('75UK7400KNA', '75인치')\n",
        "data.상품명 = data.상품명.str.replace('75UM7900BNA', '75인치')\n",
        "\n",
        "# def extract_tv(x):\n",
        "#     if 'TV' in x.상품명:\n",
        "#         match = re.findall( r'(\\d+)[인치]', x.상품명)\n",
        "#         return match[0]\n",
        "#     else:\n",
        "#         return '해당없음'\n",
        "\n",
        "# data['TV_인치'] = data.apply(lambda x: extract_tv(x), axis = 1)\n",
        "\n",
        "data.상품명 = data.상품명.str.replace('TV 75인치','TV75인치')\n",
        "data.상품명 = data.상품명.str.replace('TV 70인치','TV70인치')\n",
        "data.상품명 = data.상품명.str.replace('TV 65인치','TV65인치')\n",
        "data.상품명 = data.상품명.str.replace('TV 55인치','TV55인치')"
      ],
      "execution_count": 89,
      "outputs": []
    },
    {
      "cell_type": "code",
      "metadata": {
        "id": "XpF7rmijQh6W"
      },
      "source": [
        "data.상품명 = data.상품명.str.replace('2IN1형', ' 홈멀티 ', regex = False)\n",
        "data.상품명 = data.상품명.str.replace('2in1', ' 홈멀티 ', regex = False)\n",
        "\n",
        "data.상품명 = data.상품명.str.replace('홈멀티','홈멀티에어컨')\n",
        "data.상품명 = data.상품명.str.replace('벽걸이','벽걸이에어컨')\n",
        "data.상품명 = data.상품명.str.replace('스탠드','스탠드에어컨')"
      ],
      "execution_count": 90,
      "outputs": []
    },
    {
      "cell_type": "markdown",
      "metadata": {
        "id": "VkjK4l-1W5L-"
      },
      "source": [
        "### feature_상품"
      ]
    },
    {
      "cell_type": "code",
      "metadata": {
        "id": "37sWgrBLVm53"
      },
      "source": [
        "goods_가전 = ['홈멀티에어컨','벽걸이에어컨','스탠드에어컨','세탁기','노트북',\n",
        "              '김치냉장고','냉장고','TV75인치','TV70인치','TV65인치','TV55인치',\n",
        "              '건조기','공기청정기', '로봇청소기', '청소기','의류관리기']\n",
        "\n",
        "data.상품명 = data.상품명.str.replace('공청기', '공기청정기')\n",
        "data.상품명 = data.상품명.str.replace('로보킹 터보', '로봇청소기')\n",
        "\n",
        "data.상품명 = data.상품명.str.replace('55UN7850KNA', '55인치')\n",
        "data.상품명 = data.상품명.str.replace('65UN7850KNA', '65인치')\n",
        "data.상품명 = data.상품명.str.replace('75UN7850KNA', '75인치')\n",
        "data.상품명 = data.상품명.str.replace('TV 75형','TV75인치')\n",
        "data.상품명 = data.상품명.str.replace('TV 70형','TV70인치')\n",
        "data.상품명 = data.상품명.str.replace('TV 65형','TV65인치')\n",
        "data.상품명 = data.상품명.str.replace('TV 55형','TV55인치')\n",
        "data.상품명 = data.상품명.str.replace('75인치','TV75인치')\n",
        "data.상품명 = data.상품명.str.replace('70인치','TV70인치')\n",
        "data.상품명 = data.상품명.str.replace('65인치','TV65인치')\n",
        "data.상품명 = data.상품명.str.replace('55인치','TV55인치')\n",
        "data.상품명 = data.상품명.str.replace('AMC16VA2SAW','스탠드에어컨')\n",
        "data.상품명 = data.상품명.str.replace('AMC16VA2SAWGH','홈멀티에어컨')\n",
        "data.상품명 = data.상품명.str.replace('에어컨(LRV07CLH)','벽걸이에어컨', regex = False)\n",
        "\n",
        "data = separate(data, goods_가전)\n",
        "data.상품명 = data.상품명.str.replace('김치 냉장고', '김치냉장고')\n",
        "data.상품명 = data.상품명.str.replace('로봇 청소기', '로봇청소기')\n",
        "data['상품'] = data.상품명.map(lambda x: goods_name(x, goods_가전)) "
      ],
      "execution_count": 91,
      "outputs": []
    },
    {
      "cell_type": "code",
      "metadata": {
        "id": "o6AmzOAgTXQ5",
        "outputId": "294d37f2-4b0f-4e5d-f010-4f66c8c35cd3",
        "colab": {
          "base_uri": "https://localhost:8080/",
          "height": 35
        }
      },
      "source": [
        "set(data[data.상품.isnull()].상품명)"
      ],
      "execution_count": 92,
      "outputs": [
        {
          "output_type": "execute_result",
          "data": {
            "text/plain": [
              "set()"
            ]
          },
          "metadata": {
            "tags": []
          },
          "execution_count": 92
        }
      ]
    },
    {
      "cell_type": "markdown",
      "metadata": {
        "id": "Y-GsZw3Tdu1p"
      },
      "source": [
        "### feature_단가"
      ]
    },
    {
      "cell_type": "code",
      "metadata": {
        "id": "sDkv0vAkepi5",
        "outputId": "32487444-664d-456b-bc6e-1afeeaeaf8f5",
        "colab": {
          "base_uri": "https://localhost:8080/",
          "height": 53
        }
      },
      "source": [
        "sametime_count = data.groupby(['월','일','시','분','브랜드','상품','결제유형']).count()['상품명'].to_frame()\n",
        "sametime_df_ = data.groupby(['월','일','시','분','브랜드','상품','결제유형','상품명']).mean()['판매단가'].to_frame()\n",
        "\n",
        "sametime_df = sametime_df_[sametime_count.상품명 > 1]"
      ],
      "execution_count": 93,
      "outputs": [
        {
          "output_type": "stream",
          "text": [
            "/usr/local/lib/python3.6/dist-packages/ipykernel_launcher.py:4: UserWarning: Boolean Series key will be reindexed to match DataFrame index.\n",
            "  after removing the cwd from sys.path.\n"
          ],
          "name": "stderr"
        }
      ]
    },
    {
      "cell_type": "code",
      "metadata": {
        "id": "O934FNcddwsk"
      },
      "source": [
        "def cheap_expensive(x):\n",
        "    try: \n",
        "        idx_list = sametime_df.loc[(x.월, x.일, x.시, x.분, x.브랜드, x.상품, x.결제유형)].values.reshape(-1).tolist()\n",
        "        idx_list.sort()\n",
        "        idx = idx_list.index(x.판매단가)/(len(idx_list)-1)\n",
        "        if idx == 0:\n",
        "            return '하'\n",
        "        if idx == 0.5:\n",
        "            return '중'\n",
        "        if idx == 1:\n",
        "            return '상'\n",
        "    except KeyError:\n",
        "        return '해당없음'\n",
        "\n",
        "data['단가'] = data.apply(lambda x: cheap_expensive(x), axis=1)"
      ],
      "execution_count": 94,
      "outputs": []
    },
    {
      "cell_type": "code",
      "metadata": {
        "id": "dbyxTZIAgnH3"
      },
      "source": [
        "df_가전 = data.copy()"
      ],
      "execution_count": 95,
      "outputs": []
    },
    {
      "cell_type": "markdown",
      "metadata": {
        "id": "cuWgZG0ChkW3"
      },
      "source": [
        "## 이미용"
      ]
    },
    {
      "cell_type": "code",
      "metadata": {
        "id": "LNxJRVAuhnVu"
      },
      "source": [
        "data = data_group['이미용'].copy()"
      ],
      "execution_count": 96,
      "outputs": []
    },
    {
      "cell_type": "markdown",
      "metadata": {
        "id": "_cAi8MkLfPWL"
      },
      "source": [
        "### feature_상품"
      ]
    },
    {
      "cell_type": "code",
      "metadata": {
        "id": "kg03fs66ik4m"
      },
      "source": [
        "goods_이미용 = ['스킨케어','선케어','베이스메이크업','마스크/팩','헤어케어',\n",
        "                '헤어스타일링','클렌징','색조메이크업','바디케어','네일케어','뷰티소품']"
      ],
      "execution_count": 97,
      "outputs": []
    },
    {
      "cell_type": "code",
      "metadata": {
        "id": "g9BkTl_AN5Yk"
      },
      "source": [
        "data.상품명 = data.상품명.str.replace('기초세트', '스킨케어')\n",
        "data.상품명 = data.상품명.str.replace('링클 리프트', '스킨케어')\n",
        "data.상품명 = data.상품명.str.replace('세럼', '스킨케어')\n",
        "data.상품명 = data.상품명.str.replace('에센스', '스킨케어')\n",
        "data.상품명 = data.상품명.str.replace('더오리진 크림세트', '스킨케어')\n",
        "data.상품명 = data.상품명.str.replace('코코넛크림', '스킨케어')\n",
        "\n",
        "\n",
        "data.상품명 = data.상품명.str.replace('헤어', '헤어케어')\n",
        "data.상품명 = data.상품명.str.replace('샴푸', '헤어케어')\n",
        "data.상품명 = data.상품명.str.replace('트리트먼트', '헤어케어')\n",
        "\n",
        "data.상품명 = data.상품명.str.replace('파운데이션', '베이스메이크업')\n",
        "data.상품명 = data.상품명.str.replace('샤이닝 쿠션', '베이스메이크업')\n",
        "\n",
        "\n",
        "data.상품명 = data.상품명.str.replace('썬스틱', '선케어')\n",
        "data.상품명 = data.상품명.str.replace('선스틱', '선케어')\n",
        "data.상품명 = data.상품명.str.replace('선쿠션', '선케어')\n",
        "\n",
        "data.상품명 = data.상품명.str.replace('클린샤워', '바디케어')\n",
        "data.상품명 = data.상품명.str.replace('풋케어', '바디케어')\n",
        "\n",
        "data.상품명 = data.상품명.str.replace('오일 워시', '클렌징')\n",
        "data.상품명 = data.상품명.str.replace('클렌져', '클렌징')\n",
        "data.상품명 = data.상품명.str.replace('클렌저', '클렌징')\n",
        "\n",
        "data.상품명 = data.상품명.str.replace('마스크', '마스크/팩')\n",
        "data.상품명 = data.상품명.str.replace('팩', '마스크/팩')\n",
        "\n",
        "data.상품명 = data.상품명.str.replace('아이스타일러', '색조메이크업')\n",
        "data.상품명 = data.상품명.str.replace('아이라이너', '색조메이크업')\n",
        "data.상품명 = data.상품명.str.replace('틴트', '색조메이크업')\n",
        "data.상품명 = data.상품명.str.replace('아이브로우', '색조메이크업')\n",
        "data.상품명 = data.상품명.str.replace('립스틱', '색조메이크업')\n",
        "\n",
        "data.상품명 = data.상품명.str.replace('네일', '네일케어')\n",
        "\n",
        "data.상품명 = data.상품명.str.replace('펌', '헤어스타일링')\n",
        "data.상품명 = data.상품명.str.replace('퍼머', '헤어스타일링')\n",
        "data.상품명 = data.상품명.str.replace('볼륨스프레이', '헤어스타일링')\n",
        "\n",
        "data.상품명 = data.상품명.str.replace('염색제', '헤어스타일링')\n",
        "\n",
        "\n",
        "data = separate(data, goods_이미용)\n",
        "data['상품'] = data.상품명.map(lambda x: goods_name(x, goods_이미용)) "
      ],
      "execution_count": 98,
      "outputs": []
    },
    {
      "cell_type": "code",
      "metadata": {
        "id": "6i-Y2pGTk7lR",
        "outputId": "15c8c7d8-560b-471b-f43a-a6693d28d6e4",
        "colab": {
          "base_uri": "https://localhost:8080/",
          "height": 89
        }
      },
      "source": [
        "set(data[data.상품.isnull()].상품명)"
      ],
      "execution_count": 99,
      "outputs": [
        {
          "output_type": "execute_result",
          "data": {
            "text/plain": [
              "{'끌레드벨 킬포어 모공기기관리세트(2세트)',\n",
              " '래쉬톡 원터치 속눈썹',\n",
              " '바비리스 퍼펙트 볼륨스타일러',\n",
              " '에이유플러스 아이스크림 필링(최저가)'}"
            ]
          },
          "metadata": {
            "tags": []
          },
          "execution_count": 99
        }
      ]
    },
    {
      "cell_type": "code",
      "metadata": {
        "id": "hFlid04fU6sc"
      },
      "source": [
        "data['상품'] = data.상품.map(lambda x: '뷰티소품' if type(x) != str else x)"
      ],
      "execution_count": 100,
      "outputs": []
    },
    {
      "cell_type": "code",
      "metadata": {
        "id": "ayhIoSFFqP26"
      },
      "source": [
        "df_이미용 = data.copy()"
      ],
      "execution_count": 101,
      "outputs": []
    },
    {
      "cell_type": "markdown",
      "metadata": {
        "id": "zFK3hzu6Jzth"
      },
      "source": [
        "## 농수축"
      ]
    },
    {
      "cell_type": "code",
      "metadata": {
        "id": "pieIfSiPJ4V0"
      },
      "source": [
        "data = data_group['농수축'].copy()"
      ],
      "execution_count": 102,
      "outputs": []
    },
    {
      "cell_type": "code",
      "metadata": {
        "id": "ciDh2-RYT9FV"
      },
      "source": [
        "df_농수축 = data.copy()"
      ],
      "execution_count": 103,
      "outputs": []
    },
    {
      "cell_type": "markdown",
      "metadata": {
        "id": "eqGSEXjryxAo"
      },
      "source": [
        "## 가구"
      ]
    },
    {
      "cell_type": "code",
      "metadata": {
        "id": "OnoU3SJB0I7F"
      },
      "source": [
        "data = data_group['가구'].copy()"
      ],
      "execution_count": 104,
      "outputs": []
    },
    {
      "cell_type": "markdown",
      "metadata": {
        "id": "u35ICa0igcn-"
      },
      "source": [
        "### Preprocessing"
      ]
    },
    {
      "cell_type": "code",
      "metadata": {
        "id": "1R7pSlYCzqUa"
      },
      "source": [
        "data.상품명 = data.상품명.str.replace('싱글사이즈', '싱글')\n",
        "data.상품명 = data.상품명.str.replace('퀸사이즈', '퀸')\n",
        "data.상품명 = data.상품명.str.replace('Q 퀸', '퀸')\n",
        "data.상품명 = data.상품명.str.replace('Q(퀸)', '퀸', regex = False)\n",
        "data.상품명 = data.상품명.str.replace('(퀸)', '퀸', regex = False)\n",
        "\n",
        "data.상품명 = data.상품명.str.replace('킹사이즈', '킹')\n",
        "data.상품명 = data.상품명.str.replace('K 킹', '킹')\n",
        "data.상품명 = data.상품명.str.replace('K(킹)', '킹', regex = False)\n",
        "\n",
        "data.상품명 = data.상품명.str.replace('SK(슈퍼킹)', '슈퍼킹', regex = False)\n",
        "data.상품명 = data.상품명.str.replace('SS 슈퍼싱글', '슈퍼싱글', regex = False)\n",
        "data.상품명 = data.상품명.str.replace('SS(슈퍼싱글)', '슈퍼싱글', regex = False)\n",
        "data.상품명 = data.상품명.str.replace('(싱글)', '싱글', regex = False)\n",
        "\n",
        "\n",
        "data.상품명 = data.상품명.str.replace('K', '킹', regex = False)\n",
        "data.상품명 = data.상품명.str.replace('Q', '퀸', regex = False)\n",
        "data.상품명 = data.상품명.str.replace('SS', '슈퍼싱글', regex = False)\n",
        "data.상품명 = data.상품명.str.replace('S', '싱글', regex = False)\n",
        "\n",
        "# bedsize_list = ['킹','퀸','싱글','슈퍼싱글']\n",
        "# def bedsize(x):\n",
        "#     size = []\n",
        "#     for s in x.split():\n",
        "#         if s in bedsize_list:\n",
        "#             return s\n",
        "#             size.append(s)\n",
        "#     if len(size) == 0:\n",
        "#         return '해당없음'\n",
        "        \n",
        "\n",
        "# data['침대사이즈'] = data.상품명.map(lambda x: bedsize(x))\n",
        "\n",
        "data.상품명 = data.상품명.str.replace('침대 킹', '킹침대', regex = False)\n",
        "data.상품명 = data.상품명.str.replace('침대 퀸', '퀸침대', regex = False)\n",
        "data.상품명 = data.상품명.str.replace('침대 싱글', '싱글침대', regex = False)\n",
        "data.상품명 = data.상품명.str.replace('침대 슈퍼싱글', '슈퍼싱글침대', regex = False)\n",
        "data.상품명 = data.상품명.str.replace('흙침대 퀸', '퀸흙침대', regex = False)\n",
        "data.상품명 = data.상품명.str.replace('흙침대 싱글', '싱글흙침대', regex = False)"
      ],
      "execution_count": 105,
      "outputs": []
    },
    {
      "cell_type": "markdown",
      "metadata": {
        "id": "sEx2OJpN2azy"
      },
      "source": [
        "### feature_상품"
      ]
    },
    {
      "cell_type": "code",
      "metadata": {
        "id": "pCfFu9NlcCul"
      },
      "source": [
        "goods_가구 = ['퀸침대','킹침대','슈퍼싱글침대','퀸흙침대','싱글흙침대',\n",
        "              '리클라이너','소파','수납장','욕실가구','흙카우치','가구세트']\n",
        "\n",
        "data.상품명 = data.상품명.str.replace('리클라이닝', '리클라이너', regex = False)\n",
        "data.상품명 = data.상품명.str.replace('서랍장', '수납장', regex = False)\n",
        "data.상품명 = data.상품명.str.replace('붙박이장', '수납장', regex = False)\n",
        "data.상품명 = data.상품명.str.replace('거실장', '수납장', regex = False)\n",
        "\n",
        "data.상품명 = data.상품명.str.replace('바스', '욕실가구', regex = False)\n",
        "\n",
        "data.상품명 = data.상품명.str.replace('돌침대', '흙침대', regex = False) #제일비슷한상품...\n",
        "data.상품명 = data.상품명.str.replace('퀸 행복흙침대', '퀸흙침대', regex = False) \n",
        "data.상품명 = data.상품명.str.replace('싱글 행복흙침대', '싱글흙침대', regex = False) \n",
        "\n",
        "data.상품명 = data.상품명.str.replace('행복흙침대 로젠 카우치', '흙카우치', regex = False) \n",
        "\n",
        "data = separate(data, goods_가구)\n",
        "data['상품'] = data.상품명.map(lambda x: goods_name(x, goods_가구)) \n",
        "data['상품'] = data.상품.map(lambda x: '가구세트' if type(x) != str else x)"
      ],
      "execution_count": 106,
      "outputs": []
    },
    {
      "cell_type": "markdown",
      "metadata": {
        "id": "xf0ZhDqb-yw2"
      },
      "source": [
        "### feature_단가"
      ]
    },
    {
      "cell_type": "code",
      "metadata": {
        "id": "iecap-Tx-80H",
        "outputId": "3eb96511-9ab7-4d09-9bdd-2341750a7489",
        "colab": {
          "base_uri": "https://localhost:8080/",
          "height": 486
        }
      },
      "source": [
        "sametime_count = data.groupby(['월','일','시','분','브랜드','상품','결제유형']).count()['상품명'].to_frame()\n",
        "sametime_df_ = data.groupby(['월','일','시','분','브랜드','상품','결제유형','상품명']).mean()['판매단가'].to_frame()\n",
        "\n",
        "sametime_df = sametime_df_[sametime_count.상품명 > 1]\n",
        "sametime_df"
      ],
      "execution_count": 107,
      "outputs": [
        {
          "output_type": "stream",
          "text": [
            "/usr/local/lib/python3.6/dist-packages/ipykernel_launcher.py:4: UserWarning: Boolean Series key will be reindexed to match DataFrame index.\n",
            "  after removing the cwd from sys.path.\n"
          ],
          "name": "stderr"
        },
        {
          "output_type": "execute_result",
          "data": {
            "text/html": [
              "<div>\n",
              "<style scoped>\n",
              "    .dataframe tbody tr th:only-of-type {\n",
              "        vertical-align: middle;\n",
              "    }\n",
              "\n",
              "    .dataframe tbody tr th {\n",
              "        vertical-align: top;\n",
              "    }\n",
              "\n",
              "    .dataframe thead th {\n",
              "        text-align: right;\n",
              "    }\n",
              "</style>\n",
              "<table border=\"1\" class=\"dataframe\">\n",
              "  <thead>\n",
              "    <tr style=\"text-align: right;\">\n",
              "      <th></th>\n",
              "      <th></th>\n",
              "      <th></th>\n",
              "      <th></th>\n",
              "      <th></th>\n",
              "      <th></th>\n",
              "      <th></th>\n",
              "      <th></th>\n",
              "      <th>판매단가</th>\n",
              "    </tr>\n",
              "    <tr>\n",
              "      <th>월</th>\n",
              "      <th>일</th>\n",
              "      <th>시</th>\n",
              "      <th>분</th>\n",
              "      <th>브랜드</th>\n",
              "      <th>상품</th>\n",
              "      <th>결제유형</th>\n",
              "      <th>상품명</th>\n",
              "      <th></th>\n",
              "    </tr>\n",
              "  </thead>\n",
              "  <tbody>\n",
              "    <tr>\n",
              "      <th rowspan=\"11\" valign=\"top\">06</th>\n",
              "      <th rowspan=\"5\" valign=\"top\">02</th>\n",
              "      <th rowspan=\"5\" valign=\"top\">19</th>\n",
              "      <th rowspan=\"5\" valign=\"top\">20</th>\n",
              "      <th rowspan=\"5\" valign=\"top\">Trainset에 존재하지 않습니다</th>\n",
              "      <th rowspan=\"2\" valign=\"top\">가구세트</th>\n",
              "      <th rowspan=\"2\" valign=\"top\">해당없음</th>\n",
              "      <th>(단품)우아미리프트업테이블</th>\n",
              "      <td>189000</td>\n",
              "    </tr>\n",
              "    <tr>\n",
              "      <th>(단품)우아미오토만스툴</th>\n",
              "      <td>219000</td>\n",
              "    </tr>\n",
              "    <tr>\n",
              "      <th rowspan=\"3\" valign=\"top\">소파</th>\n",
              "      <th rowspan=\"3\" valign=\"top\">해당없음</th>\n",
              "      <th>3인용 우아미천연가죽 소파</th>\n",
              "      <td>798000</td>\n",
              "    </tr>\n",
              "    <tr>\n",
              "      <th>4인용 우아미천연가죽 소파</th>\n",
              "      <td>998000</td>\n",
              "    </tr>\n",
              "    <tr>\n",
              "      <th>6인용 우아미천연가죽 소파</th>\n",
              "      <td>1298000</td>\n",
              "    </tr>\n",
              "    <tr>\n",
              "      <th>...</th>\n",
              "      <th>...</th>\n",
              "      <th>...</th>\n",
              "      <th>...</th>\n",
              "      <th>...</th>\n",
              "      <th>...</th>\n",
              "      <th>...</th>\n",
              "      <td>...</td>\n",
              "    </tr>\n",
              "    <tr>\n",
              "      <th rowspan=\"5\" valign=\"top\">21</th>\n",
              "      <th rowspan=\"5\" valign=\"top\">21</th>\n",
              "      <th rowspan=\"5\" valign=\"top\">00</th>\n",
              "      <th rowspan=\"5\" valign=\"top\">보루네오</th>\n",
              "      <th rowspan=\"5\" valign=\"top\">소파</th>\n",
              "      <th rowspan=\"2\" valign=\"top\">무이자</th>\n",
              "      <th>[보루네오] 피올레 천연소가죽 소파 4인용</th>\n",
              "      <td>949000</td>\n",
              "    </tr>\n",
              "    <tr>\n",
              "      <th>[보루네오] 피올레 천연소가죽 소파 6인용</th>\n",
              "      <td>1249000</td>\n",
              "    </tr>\n",
              "    <tr>\n",
              "      <th rowspan=\"3\" valign=\"top\">일시불</th>\n",
              "      <th>[보루네오] 피올레 천연소가죽 소파 3인용</th>\n",
              "      <td>699000</td>\n",
              "    </tr>\n",
              "    <tr>\n",
              "      <th>[보루네오] 피올레 천연소가죽 소파 4인용</th>\n",
              "      <td>899000</td>\n",
              "    </tr>\n",
              "    <tr>\n",
              "      <th>[보루네오] 피올레 천연소가죽 소파 6인용</th>\n",
              "      <td>1199000</td>\n",
              "    </tr>\n",
              "  </tbody>\n",
              "</table>\n",
              "<p>87 rows × 1 columns</p>\n",
              "</div>"
            ],
            "text/plain": [
              "                                                                      판매단가\n",
              "월  일  시  분  브랜드                 상품   결제유형 상품명                             \n",
              "06 02 19 20 Trainset에 존재하지 않습니다 가구세트 해당없음 (단품)우아미리프트업테이블            189000\n",
              "                                          (단품)우아미오토만스툴              219000\n",
              "                                소파   해당없음 3인용 우아미천연가죽 소파            798000\n",
              "                                          4인용 우아미천연가죽 소파            998000\n",
              "                                          6인용 우아미천연가죽 소파           1298000\n",
              "...                                                                    ...\n",
              "   21 21 00 보루네오                소파   무이자  [보루네오] 피올레 천연소가죽 소파 4인용   949000\n",
              "                                          [보루네오] 피올레 천연소가죽 소파 6인용  1249000\n",
              "                                     일시불  [보루네오] 피올레 천연소가죽 소파 3인용   699000\n",
              "                                          [보루네오] 피올레 천연소가죽 소파 4인용   899000\n",
              "                                          [보루네오] 피올레 천연소가죽 소파 6인용  1199000\n",
              "\n",
              "[87 rows x 1 columns]"
            ]
          },
          "metadata": {
            "tags": []
          },
          "execution_count": 107
        }
      ]
    },
    {
      "cell_type": "code",
      "metadata": {
        "id": "oRSiNg0c-xw2"
      },
      "source": [
        "def cheap_expensive(x):\n",
        "    try: \n",
        "        idx_list = sametime_df.loc[(x.월, x.일, x.시, x.분, x.브랜드, x.상품, x.결제유형)].values.reshape(-1).tolist()\n",
        "        idx_list.sort()\n",
        "        idx = idx_list.index(x.판매단가)/(len(idx_list)-1)\n",
        "        if idx == 0:\n",
        "            return '하'\n",
        "        if idx == 0.5:\n",
        "            return '중'\n",
        "        if idx == 1:\n",
        "            return '상'\n",
        "    except KeyError:\n",
        "        return '해당없음'\n",
        "\n",
        "data['단가'] = data.apply(lambda x: cheap_expensive(x), axis=1)"
      ],
      "execution_count": 108,
      "outputs": []
    },
    {
      "cell_type": "code",
      "metadata": {
        "id": "Ts-34-I8DS17"
      },
      "source": [
        "df_가구 = data.copy()"
      ],
      "execution_count": 109,
      "outputs": []
    },
    {
      "cell_type": "markdown",
      "metadata": {
        "id": "oEQMLKaRDbZt"
      },
      "source": [
        "## 침구"
      ]
    },
    {
      "cell_type": "code",
      "metadata": {
        "id": "heE1fPhlDV7q"
      },
      "source": [
        "data = data_group['침구'].copy()"
      ],
      "execution_count": 110,
      "outputs": []
    },
    {
      "cell_type": "markdown",
      "metadata": {
        "id": "2UtKzPEIjzI5"
      },
      "source": [
        "### Preprocessing"
      ]
    },
    {
      "cell_type": "code",
      "metadata": {
        "id": "EWAXmA-Dj0dT"
      },
      "source": [
        "data.상품명 = data.상품명.str.replace('싱글사이즈', '싱글')\n",
        "data.상품명 = data.상품명.str.replace('퀸사이즈', '퀸')\n",
        "data.상품명 = data.상품명.str.replace('Q 퀸', '퀸')\n",
        "data.상품명 = data.상품명.str.replace('Q(퀸)', '퀸', regex = False)\n",
        "\n",
        "data.상품명 = data.상품명.str.replace('킹사이즈', '킹')\n",
        "data.상품명 = data.상품명.str.replace('K 킹', '킹')\n",
        "data.상품명 = data.상품명.str.replace('K(킹)', '킹', regex = False)\n",
        "\n",
        "data.상품명 = data.상품명.str.replace('SK(슈퍼킹)', '슈퍼킹', regex = False)\n",
        "data.상품명 = data.상품명.str.replace('SS 슈퍼싱글', '슈퍼싱글', regex = False)\n",
        "data.상품명 = data.상품명.str.replace('SS(슈퍼싱글)', '슈퍼싱글', regex = False)\n",
        "\n",
        "data.상품명 = data.상품명.str.replace('K', '킹', regex = False)\n",
        "data.상품명 = data.상품명.str.replace('Q', '퀸', regex = False)\n",
        "data.상품명 = data.상품명.str.replace('SS', '슈퍼싱글', regex = False)\n",
        "data.상품명 = data.상품명.str.replace('S', '싱글', regex = False)\n",
        "\n",
        "data = separate(data,['킹','퀸','슈퍼싱글','싱글','슈퍼킹'])\n",
        "\n",
        "data.상품명 = data.상품명.str.replace('슈퍼 킹', '슈퍼킹', regex = False)\n",
        "data.상품명 = data.상품명.str.replace('슈퍼 싱글', '슈퍼싱글', regex = False)\n",
        "\n",
        "data.상품명 = data.상품명.str.replace('침구 풀세트', '침구세트', regex = False)\n",
        "\n",
        "data.상품명 = data.상품명.str.replace('침구세트 슈퍼킹', '슈퍼킹침구세트', regex = False)\n",
        "data.상품명 = data.상품명.str.replace('침구세트 킹', '킹침구세트', regex = False)\n",
        "data.상품명 = data.상품명.str.replace('침구세트 퀸', '퀸침구세트', regex = False)\n",
        "data.상품명 = data.상품명.str.replace('침구세트 슈퍼싱글', '슈퍼싱글침구세트', regex = False)\n",
        "data.상품명 = data.상품명.str.replace('침구세트 싱글', '싱글침구세트', regex = False)\n",
        "\n",
        "data.상품명 = data.상품명.str.replace('슈퍼킹 침구세트', '슈퍼킹침구세트', regex = False)\n",
        "data.상품명 = data.상품명.str.replace('킹 침구세트', '킹침구세트', regex = False)\n",
        "data.상품명 = data.상품명.str.replace('퀸 침구세트', '퀸침구세트', regex = False)\n",
        "data.상품명 = data.상품명.str.replace('슈퍼싱글 침구세트', '슈퍼싱글침구세트', regex = False)\n",
        "data.상품명 = data.상품명.str.replace('싱글 침구세트', '싱글침구세트', regex = False)"
      ],
      "execution_count": 111,
      "outputs": []
    },
    {
      "cell_type": "markdown",
      "metadata": {
        "id": "__JMTs_Ilacg"
      },
      "source": [
        "### feature_상품"
      ]
    },
    {
      "cell_type": "code",
      "metadata": {
        "id": "JKqRHiXqj2GT"
      },
      "source": [
        "goods_침구 = ['킹침구세트','퀸침구세트','슈퍼싱글침구세트','싱글침구세트','커튼','카페트']\n",
        "\n",
        "data.상품명 = data.상품명.str.replace('리클라이닝', '리클라이너', regex = False)\n",
        "data.상품명 = data.상품명.str.replace('서랍장', '수납장', regex = False)\n",
        "data.상품명 = data.상품명.str.replace('붙박이장', '수납장', regex = False)\n",
        "data.상품명 = data.상품명.str.replace('거실장', '수납장', regex = False)\n",
        "\n",
        "data.상품명 = data.상품명.str.replace('바스', '욕실가구', regex = False)\n",
        "data.상품명 = data.상품명.str.replace('대자리', '카페트', regex = False)\n",
        "\n",
        "data = separate(data, goods_침구)\n",
        "data['상품'] = data.상품명.map(lambda x: goods_name(x, goods_침구)) \n",
        "#data['상품'] = data.상품.map(lambda x: '가구세트' if type(x) != str else x)"
      ],
      "execution_count": 112,
      "outputs": []
    },
    {
      "cell_type": "markdown",
      "metadata": {
        "id": "HSgQJ2uHldaj"
      },
      "source": [
        "### feature_단가"
      ]
    },
    {
      "cell_type": "code",
      "metadata": {
        "id": "tg9aD6vIDk1f",
        "outputId": "b0f007ec-5b43-4fd6-f376-7ef11ab67a37",
        "colab": {
          "base_uri": "https://localhost:8080/",
          "height": 1000
        }
      },
      "source": [
        "sametime_count = data.groupby(['월','일','시','분','브랜드','상품','결제유형']).count()['상품명'].to_frame()\n",
        "sametime_df_ = data.groupby(['월','일','시','분','브랜드','상품','결제유형','상품명']).mean()['판매단가'].to_frame()\n",
        "\n",
        "sametime_df = sametime_df_[sametime_count.상품명 > 1]\n",
        "sametime_df"
      ],
      "execution_count": 113,
      "outputs": [
        {
          "output_type": "stream",
          "text": [
            "/usr/local/lib/python3.6/dist-packages/ipykernel_launcher.py:4: UserWarning: Boolean Series key will be reindexed to match DataFrame index.\n",
            "  after removing the cwd from sys.path.\n"
          ],
          "name": "stderr"
        },
        {
          "output_type": "execute_result",
          "data": {
            "text/html": [
              "<div>\n",
              "<style scoped>\n",
              "    .dataframe tbody tr th:only-of-type {\n",
              "        vertical-align: middle;\n",
              "    }\n",
              "\n",
              "    .dataframe tbody tr th {\n",
              "        vertical-align: top;\n",
              "    }\n",
              "\n",
              "    .dataframe thead th {\n",
              "        text-align: right;\n",
              "    }\n",
              "</style>\n",
              "<table border=\"1\" class=\"dataframe\">\n",
              "  <thead>\n",
              "    <tr style=\"text-align: right;\">\n",
              "      <th></th>\n",
              "      <th></th>\n",
              "      <th></th>\n",
              "      <th></th>\n",
              "      <th></th>\n",
              "      <th></th>\n",
              "      <th></th>\n",
              "      <th></th>\n",
              "      <th>판매단가</th>\n",
              "    </tr>\n",
              "    <tr>\n",
              "      <th>월</th>\n",
              "      <th>일</th>\n",
              "      <th>시</th>\n",
              "      <th>분</th>\n",
              "      <th>브랜드</th>\n",
              "      <th>상품</th>\n",
              "      <th>결제유형</th>\n",
              "      <th>상품명</th>\n",
              "      <th></th>\n",
              "    </tr>\n",
              "  </thead>\n",
              "  <tbody>\n",
              "    <tr>\n",
              "      <th rowspan=\"60\" valign=\"top\">06</th>\n",
              "      <th rowspan=\"12\" valign=\"top\">04</th>\n",
              "      <th rowspan=\"8\" valign=\"top\">14</th>\n",
              "      <th rowspan=\"4\" valign=\"top\">20</th>\n",
              "      <th rowspan=\"4\" valign=\"top\">Trainset에 존재하지 않습니다</th>\n",
              "      <th rowspan=\"4\" valign=\"top\">커튼</th>\n",
              "      <th rowspan=\"4\" valign=\"top\">해당없음</th>\n",
              "      <th>지나송 로사 웨딩스타일 암막 이중 커튼 (대형)</th>\n",
              "      <td>119000</td>\n",
              "    </tr>\n",
              "    <tr>\n",
              "      <th>지나송 로사 웨딩스타일 암막 이중 커튼 (슈퍼특대형)</th>\n",
              "      <td>169000</td>\n",
              "    </tr>\n",
              "    <tr>\n",
              "      <th>지나송 로사 웨딩스타일 암막 이중 커튼 (중형)</th>\n",
              "      <td>99000</td>\n",
              "    </tr>\n",
              "    <tr>\n",
              "      <th>지나송 로사 웨딩스타일 암막 이중 커튼 (특대형)</th>\n",
              "      <td>139000</td>\n",
              "    </tr>\n",
              "    <tr>\n",
              "      <th rowspan=\"4\" valign=\"top\">40</th>\n",
              "      <th rowspan=\"4\" valign=\"top\">Trainset에 존재하지 않습니다</th>\n",
              "      <th rowspan=\"4\" valign=\"top\">커튼</th>\n",
              "      <th rowspan=\"4\" valign=\"top\">해당없음</th>\n",
              "      <th>지나송 로사 웨딩스타일 암막 이중 커튼 (대형)</th>\n",
              "      <td>119000</td>\n",
              "    </tr>\n",
              "    <tr>\n",
              "      <th>지나송 로사 웨딩스타일 암막 이중 커튼 (슈퍼특대형)</th>\n",
              "      <td>169000</td>\n",
              "    </tr>\n",
              "    <tr>\n",
              "      <th>지나송 로사 웨딩스타일 암막 이중 커튼 (중형)</th>\n",
              "      <td>99000</td>\n",
              "    </tr>\n",
              "    <tr>\n",
              "      <th>지나송 로사 웨딩스타일 암막 이중 커튼 (특대형)</th>\n",
              "      <td>139000</td>\n",
              "    </tr>\n",
              "    <tr>\n",
              "      <th rowspan=\"4\" valign=\"top\">15</th>\n",
              "      <th rowspan=\"4\" valign=\"top\">00</th>\n",
              "      <th rowspan=\"4\" valign=\"top\">Trainset에 존재하지 않습니다</th>\n",
              "      <th rowspan=\"4\" valign=\"top\">커튼</th>\n",
              "      <th rowspan=\"4\" valign=\"top\">해당없음</th>\n",
              "      <th>지나송 로사 웨딩스타일 암막 이중 커튼 (대형)</th>\n",
              "      <td>119000</td>\n",
              "    </tr>\n",
              "    <tr>\n",
              "      <th>지나송 로사 웨딩스타일 암막 이중 커튼 (슈퍼특대형)</th>\n",
              "      <td>169000</td>\n",
              "    </tr>\n",
              "    <tr>\n",
              "      <th>지나송 로사 웨딩스타일 암막 이중 커튼 (중형)</th>\n",
              "      <td>99000</td>\n",
              "    </tr>\n",
              "    <tr>\n",
              "      <th>지나송 로사 웨딩스타일 암막 이중 커튼 (특대형)</th>\n",
              "      <td>139000</td>\n",
              "    </tr>\n",
              "    <tr>\n",
              "      <th rowspan=\"12\" valign=\"top\">09</th>\n",
              "      <th rowspan=\"8\" valign=\"top\">15</th>\n",
              "      <th rowspan=\"2\" valign=\"top\">20</th>\n",
              "      <th rowspan=\"2\" valign=\"top\">보몽드</th>\n",
              "      <th rowspan=\"2\" valign=\"top\">킹침구세트</th>\n",
              "      <th rowspan=\"2\" valign=\"top\">해당없음</th>\n",
              "      <th>보몽드 실루엣 쿨시어서커 슈퍼 킹침구세트 +홑이불</th>\n",
              "      <td>84900</td>\n",
              "    </tr>\n",
              "    <tr>\n",
              "      <th>보몽드 실루엣 쿨시어서커 킹침구세트</th>\n",
              "      <td>74900</td>\n",
              "    </tr>\n",
              "    <tr>\n",
              "      <th rowspan=\"2\" valign=\"top\">30</th>\n",
              "      <th rowspan=\"2\" valign=\"top\">보몽드</th>\n",
              "      <th rowspan=\"2\" valign=\"top\">킹침구세트</th>\n",
              "      <th rowspan=\"2\" valign=\"top\">해당없음</th>\n",
              "      <th>보몽드 실루엣 쿨시어서커 슈퍼 킹침구세트 +홑이불</th>\n",
              "      <td>84900</td>\n",
              "    </tr>\n",
              "    <tr>\n",
              "      <th>보몽드 실루엣 쿨시어서커 킹침구세트</th>\n",
              "      <td>74900</td>\n",
              "    </tr>\n",
              "    <tr>\n",
              "      <th rowspan=\"2\" valign=\"top\">40</th>\n",
              "      <th rowspan=\"2\" valign=\"top\">보몽드</th>\n",
              "      <th rowspan=\"2\" valign=\"top\">킹침구세트</th>\n",
              "      <th rowspan=\"2\" valign=\"top\">해당없음</th>\n",
              "      <th>보몽드 실루엣 쿨시어서커 슈퍼 킹침구세트 +홑이불</th>\n",
              "      <td>84900</td>\n",
              "    </tr>\n",
              "    <tr>\n",
              "      <th>보몽드 실루엣 쿨시어서커 킹침구세트</th>\n",
              "      <td>74900</td>\n",
              "    </tr>\n",
              "    <tr>\n",
              "      <th rowspan=\"2\" valign=\"top\">50</th>\n",
              "      <th rowspan=\"2\" valign=\"top\">보몽드</th>\n",
              "      <th rowspan=\"2\" valign=\"top\">킹침구세트</th>\n",
              "      <th rowspan=\"2\" valign=\"top\">해당없음</th>\n",
              "      <th>보몽드 실루엣 쿨시어서커 슈퍼 킹침구세트 +홑이불</th>\n",
              "      <td>84900</td>\n",
              "    </tr>\n",
              "    <tr>\n",
              "      <th>보몽드 실루엣 쿨시어서커 킹침구세트</th>\n",
              "      <td>74900</td>\n",
              "    </tr>\n",
              "    <tr>\n",
              "      <th rowspan=\"4\" valign=\"top\">16</th>\n",
              "      <th rowspan=\"2\" valign=\"top\">00</th>\n",
              "      <th rowspan=\"2\" valign=\"top\">보몽드</th>\n",
              "      <th rowspan=\"2\" valign=\"top\">킹침구세트</th>\n",
              "      <th rowspan=\"2\" valign=\"top\">해당없음</th>\n",
              "      <th>보몽드 실루엣 쿨시어서커 슈퍼 킹침구세트 +홑이불</th>\n",
              "      <td>84900</td>\n",
              "    </tr>\n",
              "    <tr>\n",
              "      <th>보몽드 실루엣 쿨시어서커 킹침구세트</th>\n",
              "      <td>74900</td>\n",
              "    </tr>\n",
              "    <tr>\n",
              "      <th rowspan=\"2\" valign=\"top\">10</th>\n",
              "      <th rowspan=\"2\" valign=\"top\">보몽드</th>\n",
              "      <th rowspan=\"2\" valign=\"top\">킹침구세트</th>\n",
              "      <th rowspan=\"2\" valign=\"top\">해당없음</th>\n",
              "      <th>보몽드 실루엣 쿨시어서커 슈퍼 킹침구세트 +홑이불</th>\n",
              "      <td>84900</td>\n",
              "    </tr>\n",
              "    <tr>\n",
              "      <th>보몽드 실루엣 쿨시어서커 킹침구세트</th>\n",
              "      <td>74900</td>\n",
              "    </tr>\n",
              "    <tr>\n",
              "      <th rowspan=\"12\" valign=\"top\">10</th>\n",
              "      <th rowspan=\"8\" valign=\"top\">22</th>\n",
              "      <th rowspan=\"4\" valign=\"top\">20</th>\n",
              "      <th rowspan=\"4\" valign=\"top\">Trainset에 존재하지 않습니다</th>\n",
              "      <th rowspan=\"4\" valign=\"top\">커튼</th>\n",
              "      <th rowspan=\"4\" valign=\"top\">해당없음</th>\n",
              "      <th>지나송 로사 웨딩스타일 암막 이중 커튼 (대형)</th>\n",
              "      <td>119000</td>\n",
              "    </tr>\n",
              "    <tr>\n",
              "      <th>지나송 로사 웨딩스타일 암막 이중 커튼 (슈퍼특대형)</th>\n",
              "      <td>169000</td>\n",
              "    </tr>\n",
              "    <tr>\n",
              "      <th>지나송 로사 웨딩스타일 암막 이중 커튼 (중형)</th>\n",
              "      <td>99000</td>\n",
              "    </tr>\n",
              "    <tr>\n",
              "      <th>지나송 로사 웨딩스타일 암막 이중 커튼 (특대형)</th>\n",
              "      <td>139000</td>\n",
              "    </tr>\n",
              "    <tr>\n",
              "      <th rowspan=\"4\" valign=\"top\">40</th>\n",
              "      <th rowspan=\"4\" valign=\"top\">Trainset에 존재하지 않습니다</th>\n",
              "      <th rowspan=\"4\" valign=\"top\">커튼</th>\n",
              "      <th rowspan=\"4\" valign=\"top\">해당없음</th>\n",
              "      <th>지나송 로사 웨딩스타일 암막 이중 커튼 (대형)</th>\n",
              "      <td>119000</td>\n",
              "    </tr>\n",
              "    <tr>\n",
              "      <th>지나송 로사 웨딩스타일 암막 이중 커튼 (슈퍼특대형)</th>\n",
              "      <td>169000</td>\n",
              "    </tr>\n",
              "    <tr>\n",
              "      <th>지나송 로사 웨딩스타일 암막 이중 커튼 (중형)</th>\n",
              "      <td>99000</td>\n",
              "    </tr>\n",
              "    <tr>\n",
              "      <th>지나송 로사 웨딩스타일 암막 이중 커튼 (특대형)</th>\n",
              "      <td>139000</td>\n",
              "    </tr>\n",
              "    <tr>\n",
              "      <th rowspan=\"4\" valign=\"top\">23</th>\n",
              "      <th rowspan=\"4\" valign=\"top\">00</th>\n",
              "      <th rowspan=\"4\" valign=\"top\">Trainset에 존재하지 않습니다</th>\n",
              "      <th rowspan=\"4\" valign=\"top\">커튼</th>\n",
              "      <th rowspan=\"4\" valign=\"top\">해당없음</th>\n",
              "      <th>지나송 로사 웨딩스타일 암막 이중 커튼 (대형)</th>\n",
              "      <td>119000</td>\n",
              "    </tr>\n",
              "    <tr>\n",
              "      <th>지나송 로사 웨딩스타일 암막 이중 커튼 (슈퍼특대형)</th>\n",
              "      <td>169000</td>\n",
              "    </tr>\n",
              "    <tr>\n",
              "      <th>지나송 로사 웨딩스타일 암막 이중 커튼 (중형)</th>\n",
              "      <td>99000</td>\n",
              "    </tr>\n",
              "    <tr>\n",
              "      <th>지나송 로사 웨딩스타일 암막 이중 커튼 (특대형)</th>\n",
              "      <td>139000</td>\n",
              "    </tr>\n",
              "    <tr>\n",
              "      <th rowspan=\"12\" valign=\"top\">12</th>\n",
              "      <th rowspan=\"8\" valign=\"top\">13</th>\n",
              "      <th rowspan=\"4\" valign=\"top\">20</th>\n",
              "      <th rowspan=\"4\" valign=\"top\">Trainset에 존재하지 않습니다</th>\n",
              "      <th rowspan=\"4\" valign=\"top\">커튼</th>\n",
              "      <th rowspan=\"4\" valign=\"top\">해당없음</th>\n",
              "      <th>지나송 보노 화이트에디션 암막 커튼 (대형)</th>\n",
              "      <td>119000</td>\n",
              "    </tr>\n",
              "    <tr>\n",
              "      <th>지나송 보노 화이트에디션 암막 커튼 (슈퍼특대형)</th>\n",
              "      <td>169000</td>\n",
              "    </tr>\n",
              "    <tr>\n",
              "      <th>지나송 보노 화이트에디션 암막 커튼 (중형)</th>\n",
              "      <td>99000</td>\n",
              "    </tr>\n",
              "    <tr>\n",
              "      <th>지나송 보노 화이트에디션 암막 커튼 (특대형)</th>\n",
              "      <td>139000</td>\n",
              "    </tr>\n",
              "    <tr>\n",
              "      <th rowspan=\"4\" valign=\"top\">40</th>\n",
              "      <th rowspan=\"4\" valign=\"top\">Trainset에 존재하지 않습니다</th>\n",
              "      <th rowspan=\"4\" valign=\"top\">커튼</th>\n",
              "      <th rowspan=\"4\" valign=\"top\">해당없음</th>\n",
              "      <th>지나송 보노 화이트에디션 암막 커튼 (대형)</th>\n",
              "      <td>119000</td>\n",
              "    </tr>\n",
              "    <tr>\n",
              "      <th>지나송 보노 화이트에디션 암막 커튼 (슈퍼특대형)</th>\n",
              "      <td>169000</td>\n",
              "    </tr>\n",
              "    <tr>\n",
              "      <th>지나송 보노 화이트에디션 암막 커튼 (중형)</th>\n",
              "      <td>99000</td>\n",
              "    </tr>\n",
              "    <tr>\n",
              "      <th>지나송 보노 화이트에디션 암막 커튼 (특대형)</th>\n",
              "      <td>139000</td>\n",
              "    </tr>\n",
              "    <tr>\n",
              "      <th rowspan=\"4\" valign=\"top\">14</th>\n",
              "      <th rowspan=\"4\" valign=\"top\">00</th>\n",
              "      <th rowspan=\"4\" valign=\"top\">Trainset에 존재하지 않습니다</th>\n",
              "      <th rowspan=\"4\" valign=\"top\">커튼</th>\n",
              "      <th rowspan=\"4\" valign=\"top\">해당없음</th>\n",
              "      <th>지나송 보노 화이트에디션 암막 커튼 (대형)</th>\n",
              "      <td>119000</td>\n",
              "    </tr>\n",
              "    <tr>\n",
              "      <th>지나송 보노 화이트에디션 암막 커튼 (슈퍼특대형)</th>\n",
              "      <td>169000</td>\n",
              "    </tr>\n",
              "    <tr>\n",
              "      <th>지나송 보노 화이트에디션 암막 커튼 (중형)</th>\n",
              "      <td>99000</td>\n",
              "    </tr>\n",
              "    <tr>\n",
              "      <th>지나송 보노 화이트에디션 암막 커튼 (특대형)</th>\n",
              "      <td>139000</td>\n",
              "    </tr>\n",
              "    <tr>\n",
              "      <th rowspan=\"12\" valign=\"top\">17</th>\n",
              "      <th rowspan=\"8\" valign=\"top\">13</th>\n",
              "      <th rowspan=\"4\" valign=\"top\">20</th>\n",
              "      <th rowspan=\"4\" valign=\"top\">Trainset에 존재하지 않습니다</th>\n",
              "      <th rowspan=\"4\" valign=\"top\">커튼</th>\n",
              "      <th rowspan=\"4\" valign=\"top\">해당없음</th>\n",
              "      <th>한스데코 샤를 이중 암막 레이스 커튼 (대형)</th>\n",
              "      <td>99900</td>\n",
              "    </tr>\n",
              "    <tr>\n",
              "      <th>한스데코 샤를 이중 암막 레이스 커튼 (슈퍼특대형)</th>\n",
              "      <td>149900</td>\n",
              "    </tr>\n",
              "    <tr>\n",
              "      <th>한스데코 샤를 이중 암막 레이스 커튼 (중형)</th>\n",
              "      <td>79900</td>\n",
              "    </tr>\n",
              "    <tr>\n",
              "      <th>한스데코 샤를 이중 암막 레이스 커튼 (특대형)</th>\n",
              "      <td>119900</td>\n",
              "    </tr>\n",
              "    <tr>\n",
              "      <th rowspan=\"4\" valign=\"top\">40</th>\n",
              "      <th rowspan=\"4\" valign=\"top\">Trainset에 존재하지 않습니다</th>\n",
              "      <th rowspan=\"4\" valign=\"top\">커튼</th>\n",
              "      <th rowspan=\"4\" valign=\"top\">해당없음</th>\n",
              "      <th>한스데코 샤를 이중 암막 레이스 커튼 (대형)</th>\n",
              "      <td>99900</td>\n",
              "    </tr>\n",
              "    <tr>\n",
              "      <th>한스데코 샤를 이중 암막 레이스 커튼 (슈퍼특대형)</th>\n",
              "      <td>149900</td>\n",
              "    </tr>\n",
              "    <tr>\n",
              "      <th>한스데코 샤를 이중 암막 레이스 커튼 (중형)</th>\n",
              "      <td>79900</td>\n",
              "    </tr>\n",
              "    <tr>\n",
              "      <th>한스데코 샤를 이중 암막 레이스 커튼 (특대형)</th>\n",
              "      <td>119900</td>\n",
              "    </tr>\n",
              "    <tr>\n",
              "      <th rowspan=\"4\" valign=\"top\">14</th>\n",
              "      <th rowspan=\"4\" valign=\"top\">00</th>\n",
              "      <th rowspan=\"4\" valign=\"top\">Trainset에 존재하지 않습니다</th>\n",
              "      <th rowspan=\"4\" valign=\"top\">커튼</th>\n",
              "      <th rowspan=\"4\" valign=\"top\">해당없음</th>\n",
              "      <th>한스데코 샤를 이중 암막 레이스 커튼 (대형)</th>\n",
              "      <td>99900</td>\n",
              "    </tr>\n",
              "    <tr>\n",
              "      <th>한스데코 샤를 이중 암막 레이스 커튼 (슈퍼특대형)</th>\n",
              "      <td>149900</td>\n",
              "    </tr>\n",
              "    <tr>\n",
              "      <th>한스데코 샤를 이중 암막 레이스 커튼 (중형)</th>\n",
              "      <td>79900</td>\n",
              "    </tr>\n",
              "    <tr>\n",
              "      <th>한스데코 샤를 이중 암막 레이스 커튼 (특대형)</th>\n",
              "      <td>119900</td>\n",
              "    </tr>\n",
              "  </tbody>\n",
              "</table>\n",
              "</div>"
            ],
            "text/plain": [
              "                                                                            판매단가\n",
              "월  일  시  분  브랜드                 상품    결제유형 상품명                                  \n",
              "06 04 14 20 Trainset에 존재하지 않습니다 커튼    해당없음 지나송 로사 웨딩스타일 암막 이중 커튼 (대형)     119000\n",
              "                                           지나송 로사 웨딩스타일 암막 이중 커튼 (슈퍼특대형)  169000\n",
              "                                           지나송 로사 웨딩스타일 암막 이중 커튼 (중형)      99000\n",
              "                                           지나송 로사 웨딩스타일 암막 이중 커튼 (특대형)    139000\n",
              "         40 Trainset에 존재하지 않습니다 커튼    해당없음 지나송 로사 웨딩스타일 암막 이중 커튼 (대형)     119000\n",
              "                                           지나송 로사 웨딩스타일 암막 이중 커튼 (슈퍼특대형)  169000\n",
              "                                           지나송 로사 웨딩스타일 암막 이중 커튼 (중형)      99000\n",
              "                                           지나송 로사 웨딩스타일 암막 이중 커튼 (특대형)    139000\n",
              "      15 00 Trainset에 존재하지 않습니다 커튼    해당없음 지나송 로사 웨딩스타일 암막 이중 커튼 (대형)     119000\n",
              "                                           지나송 로사 웨딩스타일 암막 이중 커튼 (슈퍼특대형)  169000\n",
              "                                           지나송 로사 웨딩스타일 암막 이중 커튼 (중형)      99000\n",
              "                                           지나송 로사 웨딩스타일 암막 이중 커튼 (특대형)    139000\n",
              "   09 15 20 보몽드                 킹침구세트 해당없음 보몽드 실루엣 쿨시어서커 슈퍼 킹침구세트 +홑이불     84900\n",
              "                                           보몽드 실루엣 쿨시어서커 킹침구세트             74900\n",
              "         30 보몽드                 킹침구세트 해당없음 보몽드 실루엣 쿨시어서커 슈퍼 킹침구세트 +홑이불     84900\n",
              "                                           보몽드 실루엣 쿨시어서커 킹침구세트             74900\n",
              "         40 보몽드                 킹침구세트 해당없음 보몽드 실루엣 쿨시어서커 슈퍼 킹침구세트 +홑이불     84900\n",
              "                                           보몽드 실루엣 쿨시어서커 킹침구세트             74900\n",
              "         50 보몽드                 킹침구세트 해당없음 보몽드 실루엣 쿨시어서커 슈퍼 킹침구세트 +홑이불     84900\n",
              "                                           보몽드 실루엣 쿨시어서커 킹침구세트             74900\n",
              "      16 00 보몽드                 킹침구세트 해당없음 보몽드 실루엣 쿨시어서커 슈퍼 킹침구세트 +홑이불     84900\n",
              "                                           보몽드 실루엣 쿨시어서커 킹침구세트             74900\n",
              "         10 보몽드                 킹침구세트 해당없음 보몽드 실루엣 쿨시어서커 슈퍼 킹침구세트 +홑이불     84900\n",
              "                                           보몽드 실루엣 쿨시어서커 킹침구세트             74900\n",
              "   10 22 20 Trainset에 존재하지 않습니다 커튼    해당없음 지나송 로사 웨딩스타일 암막 이중 커튼 (대형)     119000\n",
              "                                           지나송 로사 웨딩스타일 암막 이중 커튼 (슈퍼특대형)  169000\n",
              "                                           지나송 로사 웨딩스타일 암막 이중 커튼 (중형)      99000\n",
              "                                           지나송 로사 웨딩스타일 암막 이중 커튼 (특대형)    139000\n",
              "         40 Trainset에 존재하지 않습니다 커튼    해당없음 지나송 로사 웨딩스타일 암막 이중 커튼 (대형)     119000\n",
              "                                           지나송 로사 웨딩스타일 암막 이중 커튼 (슈퍼특대형)  169000\n",
              "                                           지나송 로사 웨딩스타일 암막 이중 커튼 (중형)      99000\n",
              "                                           지나송 로사 웨딩스타일 암막 이중 커튼 (특대형)    139000\n",
              "      23 00 Trainset에 존재하지 않습니다 커튼    해당없음 지나송 로사 웨딩스타일 암막 이중 커튼 (대형)     119000\n",
              "                                           지나송 로사 웨딩스타일 암막 이중 커튼 (슈퍼특대형)  169000\n",
              "                                           지나송 로사 웨딩스타일 암막 이중 커튼 (중형)      99000\n",
              "                                           지나송 로사 웨딩스타일 암막 이중 커튼 (특대형)    139000\n",
              "   12 13 20 Trainset에 존재하지 않습니다 커튼    해당없음 지나송 보노 화이트에디션 암막 커튼 (대형)       119000\n",
              "                                           지나송 보노 화이트에디션 암막 커튼 (슈퍼특대형)    169000\n",
              "                                           지나송 보노 화이트에디션 암막 커튼 (중형)        99000\n",
              "                                           지나송 보노 화이트에디션 암막 커튼 (특대형)      139000\n",
              "         40 Trainset에 존재하지 않습니다 커튼    해당없음 지나송 보노 화이트에디션 암막 커튼 (대형)       119000\n",
              "                                           지나송 보노 화이트에디션 암막 커튼 (슈퍼특대형)    169000\n",
              "                                           지나송 보노 화이트에디션 암막 커튼 (중형)        99000\n",
              "                                           지나송 보노 화이트에디션 암막 커튼 (특대형)      139000\n",
              "      14 00 Trainset에 존재하지 않습니다 커튼    해당없음 지나송 보노 화이트에디션 암막 커튼 (대형)       119000\n",
              "                                           지나송 보노 화이트에디션 암막 커튼 (슈퍼특대형)    169000\n",
              "                                           지나송 보노 화이트에디션 암막 커튼 (중형)        99000\n",
              "                                           지나송 보노 화이트에디션 암막 커튼 (특대형)      139000\n",
              "   17 13 20 Trainset에 존재하지 않습니다 커튼    해당없음 한스데코 샤를 이중 암막 레이스 커튼 (대형)       99900\n",
              "                                           한스데코 샤를 이중 암막 레이스 커튼 (슈퍼특대형)   149900\n",
              "                                           한스데코 샤를 이중 암막 레이스 커튼 (중형)       79900\n",
              "                                           한스데코 샤를 이중 암막 레이스 커튼 (특대형)     119900\n",
              "         40 Trainset에 존재하지 않습니다 커튼    해당없음 한스데코 샤를 이중 암막 레이스 커튼 (대형)       99900\n",
              "                                           한스데코 샤를 이중 암막 레이스 커튼 (슈퍼특대형)   149900\n",
              "                                           한스데코 샤를 이중 암막 레이스 커튼 (중형)       79900\n",
              "                                           한스데코 샤를 이중 암막 레이스 커튼 (특대형)     119900\n",
              "      14 00 Trainset에 존재하지 않습니다 커튼    해당없음 한스데코 샤를 이중 암막 레이스 커튼 (대형)       99900\n",
              "                                           한스데코 샤를 이중 암막 레이스 커튼 (슈퍼특대형)   149900\n",
              "                                           한스데코 샤를 이중 암막 레이스 커튼 (중형)       79900\n",
              "                                           한스데코 샤를 이중 암막 레이스 커튼 (특대형)     119900"
            ]
          },
          "metadata": {
            "tags": []
          },
          "execution_count": 113
        }
      ]
    },
    {
      "cell_type": "code",
      "metadata": {
        "id": "nUc9cpljEAws"
      },
      "source": [
        "def cheap_expensive(x):\n",
        "    try: \n",
        "        idx_list = sametime_df.loc[(x.월, x.일, x.시, x.분, x.브랜드, x.상품, x.결제유형)].values.reshape(-1).tolist()\n",
        "        idx_list.sort()\n",
        "        idx = idx_list.index(x.판매단가)/(len(idx_list)-1)\n",
        "        if idx == 0:\n",
        "            return '하'\n",
        "        if idx == 1:\n",
        "            return '상'\n",
        "        else:\n",
        "            return '중'\n",
        "    except KeyError:\n",
        "        return '해당없음'\n",
        "\n",
        "data['단가'] = data.apply(lambda x: cheap_expensive(x), axis=1)"
      ],
      "execution_count": 114,
      "outputs": []
    },
    {
      "cell_type": "code",
      "metadata": {
        "id": "arx64GXsnI-w"
      },
      "source": [
        "df_침구 = data"
      ],
      "execution_count": 115,
      "outputs": []
    },
    {
      "cell_type": "markdown",
      "metadata": {
        "id": "SIV6fxpejtVa"
      },
      "source": [
        "## 건강기능"
      ]
    },
    {
      "cell_type": "code",
      "metadata": {
        "id": "4Nq-d9Bfj5W_"
      },
      "source": [
        "data = data_group['건강기능'].copy()"
      ],
      "execution_count": 116,
      "outputs": []
    },
    {
      "cell_type": "markdown",
      "metadata": {
        "id": "OKZZ1WforgHI"
      },
      "source": [
        "### feature_상품"
      ]
    },
    {
      "cell_type": "code",
      "metadata": {
        "id": "aykfOz0pkrU7"
      },
      "source": [
        "goods_건강기능 = ['프로바이오틱스','콜라겐','과일즙','건강즙','영양제',\n",
        "                  '다이어트식품','비타민제','두유','차류','오메가3','홍삼','생식']\n",
        "\n",
        "data.상품명 = data.상품명.str.replace('유산균', '프로바이오틱스', regex = False)\n",
        "data.상품명 = data.상품명.str.replace('신바이오틱스', '프로바이오틱스', regex = False)\n",
        "data.상품명 = data.상품명.str.replace('석류', '과일즙', regex = False)\n",
        "\n",
        "data.상품명 = data.상품명.str.replace('모나코사놀', '영양제', regex = False)\n",
        "data.상품명 = data.상품명.str.replace('루테인', '영양제', regex = False)\n",
        "data.상품명 = data.상품명.str.replace('프리바이오틱스', '영양제', regex = False)\n",
        "data.상품명 = data.상품명.str.replace('초록입홍합 환', '영양제', regex = False)\n",
        "data.상품명 = data.상품명.str.replace('전립쎈', '영양제', regex = False)\n",
        "\n",
        "data.상품명 = data.상품명.str.replace('티톡', '다이어트식품', regex = False)\n",
        "data.상품명 = data.상품명.str.replace('다이어트 구미', '다이어트식품', regex = False)\n",
        "\n",
        "data.상품명 = data.상품명.str.replace('레모나', '비타민제', regex = False)\n",
        "data.상품명 = data.상품명.str.replace('레드비트즙', '건강즙', regex = False)\n",
        "data.상품명 = data.상품명.str.replace('레드비트 착즙', '건강즙', regex = False)\n",
        "data.상품명 = data.상품명.str.replace('클렌즈', '건강즙', regex = False)\n",
        "data.상품명 = data.상품명.str.replace('철갑상어', '건강즙', regex = False)\n",
        "data.상품명 = data.상품명.str.replace('양배추진액', '건강즙', regex = False)\n",
        "\n",
        "data.상품명 = data.상품명.str.replace('히비스커스', '차류', regex = False)\n",
        "data.상품명 = data.상품명.str.replace('허브차', '차류', regex = False)\n",
        "data.상품명 = data.상품명.str.replace('해죽순', '차류', regex = False)\n",
        "\n",
        "\n",
        "data = separate(data, goods_건강기능)\n",
        "data['상품'] = data.상품명.map(lambda x: goods_name(x, goods_건강기능)) \n"
      ],
      "execution_count": 117,
      "outputs": []
    },
    {
      "cell_type": "markdown",
      "metadata": {
        "id": "FGtf5cgSrWZD"
      },
      "source": [
        "### feature_단가"
      ]
    },
    {
      "cell_type": "code",
      "metadata": {
        "id": "NuGoXFCVrX7v",
        "outputId": "fc68d7dd-e6e0-4b91-bcae-993fc0dd94bd",
        "colab": {
          "base_uri": "https://localhost:8080/",
          "height": 73
        }
      },
      "source": [
        "sametime_count = data.groupby(['월','일','시','분','브랜드','결제유형']).count()['상품명'].to_frame()\n",
        "sametime_df_ = data.groupby(['월','일','시','분','브랜드','결제유형','상품명']).mean()['판매단가'].to_frame()\n",
        "\n",
        "sametime_df = sametime_df_[sametime_count.상품명 > 1]"
      ],
      "execution_count": 118,
      "outputs": [
        {
          "output_type": "stream",
          "text": [
            "/usr/local/lib/python3.6/dist-packages/ipykernel_launcher.py:4: UserWarning: Boolean Series key will be reindexed to match DataFrame index.\n",
            "  after removing the cwd from sys.path.\n"
          ],
          "name": "stderr"
        }
      ]
    },
    {
      "cell_type": "code",
      "metadata": {
        "id": "o6ye09aDrjA7"
      },
      "source": [
        "def cheap_expensive(x):\n",
        "    try: \n",
        "        idx_list = sametime_df.loc[(x.월, x.일, x.시, x.분, x.브랜드, x.상품, x.결제유형)].values.reshape(-1).tolist()\n",
        "        idx_list.sort()\n",
        "        idx = idx_list.index(x.판매단가)/(len(idx_list)-1)\n",
        "        if idx == 0:\n",
        "            return '하'\n",
        "        if idx == 1:\n",
        "            return '상'\n",
        "        else:\n",
        "            return '중'\n",
        "    except KeyError:\n",
        "        return '해당없음'\n",
        "\n",
        "data['단가'] = data.apply(lambda x: cheap_expensive(x), axis=1)"
      ],
      "execution_count": 119,
      "outputs": []
    },
    {
      "cell_type": "code",
      "metadata": {
        "id": "22snVeCzQRxQ"
      },
      "source": [
        "df_건강기능 = data.copy()"
      ],
      "execution_count": 120,
      "outputs": []
    },
    {
      "cell_type": "markdown",
      "metadata": {
        "id": "kJYKeMvVp0EJ"
      },
      "source": [
        "## 생활용품"
      ]
    },
    {
      "cell_type": "code",
      "metadata": {
        "id": "WJkyH6RxqVTi"
      },
      "source": [
        "data = data_group['생활용품'].copy()"
      ],
      "execution_count": 121,
      "outputs": []
    },
    {
      "cell_type": "markdown",
      "metadata": {
        "id": "k6inWTkbCHjf"
      },
      "source": [
        "### feature_상품"
      ]
    },
    {
      "cell_type": "code",
      "metadata": {
        "id": "K3Umb9-0-x7C"
      },
      "source": [
        "## 생활용품의 경우 상품이 매우 다양하고, 하나의 상품을 하나의 브랜드에서 담당하는 경우가 많음\n",
        "## 따라서 브랜드에서 조금의 전처리를 수행하여 상품을 나누고자 함\n",
        "\n",
        "brand_list = ['세렌셉템버','선일금고']\n",
        "def brand(x):\n",
        "    x.상품명 = x.상품명.replace('가)','')\n",
        "    for s in x.상품명.split():\n",
        "        if s in brand_list:\n",
        "            return s\n",
        "\n",
        "data.브랜드 = data.apply(lambda x: brand(x) if type(x.브랜드) != str else x.브랜드, axis=1)"
      ],
      "execution_count": 122,
      "outputs": []
    },
    {
      "cell_type": "code",
      "metadata": {
        "id": "jRJvG3gc9RZ-"
      },
      "source": [
        "#data.상품명 = data.상품명.replace('[+]\\w+','')\n",
        "data.상품명 = data.상품명.replace('온수 카페트매트','온수카페트매트')\n",
        "\n",
        "mat_type = ['온열매트','온수매트','카페트매트','온수카페트매트']\n",
        "def mat(x):\n",
        "    word = []\n",
        "    for s in x.상품명.split():\n",
        "        if s in mat_type:\n",
        "            if '퀸' in x.상품명:\n",
        "                return x.브랜드 + s + '퀸사이즈'\n",
        "            if '싱글' in x.상품명:\n",
        "                return x.브랜드 + s + '싱글사이즈'\n",
        "            if '킹' in x.상품명:\n",
        "                return x.브랜드 + s + '킹사이즈'\n",
        "            else:\n",
        "                return x.브랜드 + s\n",
        "            word.append(s)\n",
        "    if len(word) == 0:\n",
        "        return x.브랜드\n",
        "\n",
        "data['상품'] = data.apply(lambda x: mat(x), axis=1)"
      ],
      "execution_count": 123,
      "outputs": []
    },
    {
      "cell_type": "markdown",
      "metadata": {
        "id": "t9DnHtV5B-FY"
      },
      "source": [
        "### feature_단가"
      ]
    },
    {
      "cell_type": "code",
      "metadata": {
        "id": "P4DdKOVriGVm",
        "outputId": "cfcc2f21-7e22-4847-ae58-110abd7123c6",
        "colab": {
          "base_uri": "https://localhost:8080/",
          "height": 486
        }
      },
      "source": [
        "sametime_count = data.groupby(['월','일','시','분','브랜드','상품','결제유형']).count()['상품명'].to_frame()\n",
        "sametime_df_ = data.groupby(['월','일','시','분','브랜드','상품','결제유형','상품명']).mean()['판매단가'].to_frame()\n",
        "\n",
        "sametime_df = sametime_df_[sametime_count.상품명 > 1]\n",
        "sametime_df"
      ],
      "execution_count": 124,
      "outputs": [
        {
          "output_type": "stream",
          "text": [
            "/usr/local/lib/python3.6/dist-packages/ipykernel_launcher.py:4: UserWarning: Boolean Series key will be reindexed to match DataFrame index.\n",
            "  after removing the cwd from sys.path.\n"
          ],
          "name": "stderr"
        },
        {
          "output_type": "execute_result",
          "data": {
            "text/html": [
              "<div>\n",
              "<style scoped>\n",
              "    .dataframe tbody tr th:only-of-type {\n",
              "        vertical-align: middle;\n",
              "    }\n",
              "\n",
              "    .dataframe tbody tr th {\n",
              "        vertical-align: top;\n",
              "    }\n",
              "\n",
              "    .dataframe thead th {\n",
              "        text-align: right;\n",
              "    }\n",
              "</style>\n",
              "<table border=\"1\" class=\"dataframe\">\n",
              "  <thead>\n",
              "    <tr style=\"text-align: right;\">\n",
              "      <th></th>\n",
              "      <th></th>\n",
              "      <th></th>\n",
              "      <th></th>\n",
              "      <th></th>\n",
              "      <th></th>\n",
              "      <th></th>\n",
              "      <th></th>\n",
              "      <th>판매단가</th>\n",
              "    </tr>\n",
              "    <tr>\n",
              "      <th>월</th>\n",
              "      <th>일</th>\n",
              "      <th>시</th>\n",
              "      <th>분</th>\n",
              "      <th>브랜드</th>\n",
              "      <th>상품</th>\n",
              "      <th>결제유형</th>\n",
              "      <th>상품명</th>\n",
              "      <th></th>\n",
              "    </tr>\n",
              "  </thead>\n",
              "  <tbody>\n",
              "    <tr>\n",
              "      <th rowspan=\"11\" valign=\"top\">06</th>\n",
              "      <th rowspan=\"4\" valign=\"top\">01</th>\n",
              "      <th rowspan=\"4\" valign=\"top\">23</th>\n",
              "      <th rowspan=\"2\" valign=\"top\">20</th>\n",
              "      <th rowspan=\"2\" valign=\"top\">올바로</th>\n",
              "      <th rowspan=\"2\" valign=\"top\">올바로</th>\n",
              "      <th rowspan=\"2\" valign=\"top\">해당없음</th>\n",
              "      <th>올바로 문어발 샤워기 1+1</th>\n",
              "      <td>54900</td>\n",
              "    </tr>\n",
              "    <tr>\n",
              "      <th>올바로 문어발 샤워기 1세트</th>\n",
              "      <td>28900</td>\n",
              "    </tr>\n",
              "    <tr>\n",
              "      <th rowspan=\"2\" valign=\"top\">40</th>\n",
              "      <th rowspan=\"2\" valign=\"top\">올바로</th>\n",
              "      <th rowspan=\"2\" valign=\"top\">올바로</th>\n",
              "      <th rowspan=\"2\" valign=\"top\">해당없음</th>\n",
              "      <th>올바로 문어발 샤워기 1+1</th>\n",
              "      <td>54900</td>\n",
              "    </tr>\n",
              "    <tr>\n",
              "      <th>올바로 문어발 샤워기 1세트</th>\n",
              "      <td>28900</td>\n",
              "    </tr>\n",
              "    <tr>\n",
              "      <th>02</th>\n",
              "      <th>00</th>\n",
              "      <th>00</th>\n",
              "      <th>올바로</th>\n",
              "      <th>올바로</th>\n",
              "      <th>해당없음</th>\n",
              "      <th>올바로 문어발 샤워기 1+1</th>\n",
              "      <td>54900</td>\n",
              "    </tr>\n",
              "    <tr>\n",
              "      <th>...</th>\n",
              "      <th>...</th>\n",
              "      <th>...</th>\n",
              "      <th>...</th>\n",
              "      <th>...</th>\n",
              "      <th>...</th>\n",
              "      <th>...</th>\n",
              "      <td>...</td>\n",
              "    </tr>\n",
              "    <tr>\n",
              "      <th rowspan=\"5\" valign=\"top\">30</th>\n",
              "      <th rowspan=\"3\" valign=\"top\">15</th>\n",
              "      <th>20</th>\n",
              "      <th>테팔</th>\n",
              "      <th>테팔</th>\n",
              "      <th>해당없음</th>\n",
              "      <th>테팔 청소기 전용 철제 거치대</th>\n",
              "      <td>69000</td>\n",
              "    </tr>\n",
              "    <tr>\n",
              "      <th rowspan=\"2\" valign=\"top\">40</th>\n",
              "      <th rowspan=\"2\" valign=\"top\">테팔</th>\n",
              "      <th rowspan=\"2\" valign=\"top\">테팔</th>\n",
              "      <th rowspan=\"2\" valign=\"top\">해당없음</th>\n",
              "      <th>테팔 청소기 에어포스 360 에센셜</th>\n",
              "      <td>259000</td>\n",
              "    </tr>\n",
              "    <tr>\n",
              "      <th>테팔 청소기 전용 철제 거치대</th>\n",
              "      <td>69000</td>\n",
              "    </tr>\n",
              "    <tr>\n",
              "      <th rowspan=\"2\" valign=\"top\">16</th>\n",
              "      <th rowspan=\"2\" valign=\"top\">00</th>\n",
              "      <th rowspan=\"2\" valign=\"top\">테팔</th>\n",
              "      <th rowspan=\"2\" valign=\"top\">테팔</th>\n",
              "      <th rowspan=\"2\" valign=\"top\">해당없음</th>\n",
              "      <th>테팔 청소기 에어포스 360 에센셜</th>\n",
              "      <td>259000</td>\n",
              "    </tr>\n",
              "    <tr>\n",
              "      <th>테팔 청소기 전용 철제 거치대</th>\n",
              "      <td>69000</td>\n",
              "    </tr>\n",
              "  </tbody>\n",
              "</table>\n",
              "<p>246 rows × 1 columns</p>\n",
              "</div>"
            ],
            "text/plain": [
              "                                                판매단가\n",
              "월  일  시  분  브랜드 상품  결제유형 상품명                        \n",
              "06 01 23 20 올바로 올바로 해당없음 올바로 문어발 샤워기 1+1       54900\n",
              "                         올바로 문어발 샤워기 1세트       28900\n",
              "         40 올바로 올바로 해당없음 올바로 문어발 샤워기 1+1       54900\n",
              "                         올바로 문어발 샤워기 1세트       28900\n",
              "   02 00 00 올바로 올바로 해당없음 올바로 문어발 샤워기 1+1       54900\n",
              "...                                              ...\n",
              "   30 15 20 테팔  테팔  해당없음 테팔 청소기 전용 철제 거치대      69000\n",
              "         40 테팔  테팔  해당없음 테팔 청소기 에어포스 360 에센셜  259000\n",
              "                         테팔 청소기 전용 철제 거치대      69000\n",
              "      16 00 테팔  테팔  해당없음 테팔 청소기 에어포스 360 에센셜  259000\n",
              "                         테팔 청소기 전용 철제 거치대      69000\n",
              "\n",
              "[246 rows x 1 columns]"
            ]
          },
          "metadata": {
            "tags": []
          },
          "execution_count": 124
        }
      ]
    },
    {
      "cell_type": "code",
      "metadata": {
        "id": "r246LK7OAfwA"
      },
      "source": [
        "def cheap_expensive(x):\n",
        "    try: \n",
        "        idx_list = sametime_df.loc[(x.월, x.일, x.시, x.분, x.브랜드, x.상품, x.결제유형)].values.reshape(-1).tolist()\n",
        "        idx_list.sort()\n",
        "        idx = idx_list.index(x.판매단가)/(len(idx_list)-1)\n",
        "        if idx == 0:\n",
        "            return '하'\n",
        "        if idx == 1:\n",
        "            return '상'\n",
        "        else:\n",
        "            return '중'\n",
        "    except KeyError:\n",
        "        return '해당없음'\n",
        "\n",
        "data['단가'] = data.apply(lambda x: cheap_expensive(x), axis=1)"
      ],
      "execution_count": 125,
      "outputs": []
    },
    {
      "cell_type": "code",
      "metadata": {
        "id": "3QwjJtoVXhLb"
      },
      "source": [
        "df_생활용품 = data.copy()"
      ],
      "execution_count": 126,
      "outputs": []
    },
    {
      "cell_type": "markdown",
      "metadata": {
        "id": "qHk_SrSCXjlC"
      },
      "source": [
        "## Concat Data"
      ]
    },
    {
      "cell_type": "code",
      "metadata": {
        "id": "11oboXpbXlpt"
      },
      "source": [
        "test_df = pd.concat([df_가구, df_가전, df_건강기능, df_생활용품, df_농수축, df_속옷, df_의류, df_이미용,df_잡화, df_주방, df_침구])\n",
        "test_df = test_df.fillna('해당없음')"
      ],
      "execution_count": 127,
      "outputs": []
    },
    {
      "cell_type": "code",
      "metadata": {
        "id": "vDXHYA01YfS3",
        "outputId": "8e2ad3e4-37d1-4722-ab1a-21d9f7c99f5e",
        "colab": {
          "base_uri": "https://localhost:8080/",
          "height": 1000
        }
      },
      "source": [
        "test_df"
      ],
      "execution_count": 128,
      "outputs": [
        {
          "output_type": "execute_result",
          "data": {
            "text/html": [
              "<div>\n",
              "<style scoped>\n",
              "    .dataframe tbody tr th:only-of-type {\n",
              "        vertical-align: middle;\n",
              "    }\n",
              "\n",
              "    .dataframe tbody tr th {\n",
              "        vertical-align: top;\n",
              "    }\n",
              "\n",
              "    .dataframe thead th {\n",
              "        text-align: right;\n",
              "    }\n",
              "</style>\n",
              "<table border=\"1\" class=\"dataframe\">\n",
              "  <thead>\n",
              "    <tr style=\"text-align: right;\">\n",
              "      <th></th>\n",
              "      <th>마더코드</th>\n",
              "      <th>상품코드</th>\n",
              "      <th>상품명</th>\n",
              "      <th>상품군</th>\n",
              "      <th>판매단가</th>\n",
              "      <th>취급액</th>\n",
              "      <th>월</th>\n",
              "      <th>일</th>\n",
              "      <th>시</th>\n",
              "      <th>분</th>\n",
              "      <th>요일</th>\n",
              "      <th>휴일</th>\n",
              "      <th>파트</th>\n",
              "      <th>결제유형</th>\n",
              "      <th>성별</th>\n",
              "      <th>브랜드</th>\n",
              "      <th>상품</th>\n",
              "      <th>단가</th>\n",
              "    </tr>\n",
              "    <tr>\n",
              "      <th>방송일시</th>\n",
              "      <th></th>\n",
              "      <th></th>\n",
              "      <th></th>\n",
              "      <th></th>\n",
              "      <th></th>\n",
              "      <th></th>\n",
              "      <th></th>\n",
              "      <th></th>\n",
              "      <th></th>\n",
              "      <th></th>\n",
              "      <th></th>\n",
              "      <th></th>\n",
              "      <th></th>\n",
              "      <th></th>\n",
              "      <th></th>\n",
              "      <th></th>\n",
              "      <th></th>\n",
              "      <th></th>\n",
              "    </tr>\n",
              "  </thead>\n",
              "  <tbody>\n",
              "    <tr>\n",
              "      <th>2020-06-01 22:20:00</th>\n",
              "      <td>100205</td>\n",
              "      <td>200724</td>\n",
              "      <td>보루네오 델루나 유로탑 슬라이딩 LED 슈퍼싱글침대</td>\n",
              "      <td>가구</td>\n",
              "      <td>548000</td>\n",
              "      <td>해당없음</td>\n",
              "      <td>06</td>\n",
              "      <td>01</td>\n",
              "      <td>22</td>\n",
              "      <td>20</td>\n",
              "      <td>Monday</td>\n",
              "      <td>0</td>\n",
              "      <td>First</td>\n",
              "      <td>해당없음</td>\n",
              "      <td>해당없음</td>\n",
              "      <td>보루네오</td>\n",
              "      <td>슈퍼싱글침대</td>\n",
              "      <td>해당없음</td>\n",
              "    </tr>\n",
              "    <tr>\n",
              "      <th>2020-06-01 22:20:00</th>\n",
              "      <td>100205</td>\n",
              "      <td>200727</td>\n",
              "      <td>보루네오 델루나 유로탑 슬라이딩 LED 퀸침대</td>\n",
              "      <td>가구</td>\n",
              "      <td>598000</td>\n",
              "      <td>해당없음</td>\n",
              "      <td>06</td>\n",
              "      <td>01</td>\n",
              "      <td>22</td>\n",
              "      <td>20</td>\n",
              "      <td>Monday</td>\n",
              "      <td>0</td>\n",
              "      <td>First</td>\n",
              "      <td>해당없음</td>\n",
              "      <td>해당없음</td>\n",
              "      <td>보루네오</td>\n",
              "      <td>퀸침대</td>\n",
              "      <td>해당없음</td>\n",
              "    </tr>\n",
              "    <tr>\n",
              "      <th>2020-06-01 22:20:00</th>\n",
              "      <td>100205</td>\n",
              "      <td>200730</td>\n",
              "      <td>보루네오 델루나 유로탑 슬라이딩 LED 킹침대</td>\n",
              "      <td>가구</td>\n",
              "      <td>648000</td>\n",
              "      <td>해당없음</td>\n",
              "      <td>06</td>\n",
              "      <td>01</td>\n",
              "      <td>22</td>\n",
              "      <td>20</td>\n",
              "      <td>Monday</td>\n",
              "      <td>0</td>\n",
              "      <td>First</td>\n",
              "      <td>해당없음</td>\n",
              "      <td>해당없음</td>\n",
              "      <td>보루네오</td>\n",
              "      <td>킹침대</td>\n",
              "      <td>해당없음</td>\n",
              "    </tr>\n",
              "    <tr>\n",
              "      <th>2020-06-01 22:40:00</th>\n",
              "      <td>100205</td>\n",
              "      <td>200724</td>\n",
              "      <td>보루네오 델루나 유로탑 슬라이딩 LED 슈퍼싱글침대</td>\n",
              "      <td>가구</td>\n",
              "      <td>548000</td>\n",
              "      <td>해당없음</td>\n",
              "      <td>06</td>\n",
              "      <td>01</td>\n",
              "      <td>22</td>\n",
              "      <td>40</td>\n",
              "      <td>Monday</td>\n",
              "      <td>0</td>\n",
              "      <td>Middle</td>\n",
              "      <td>해당없음</td>\n",
              "      <td>해당없음</td>\n",
              "      <td>보루네오</td>\n",
              "      <td>슈퍼싱글침대</td>\n",
              "      <td>해당없음</td>\n",
              "    </tr>\n",
              "    <tr>\n",
              "      <th>2020-06-01 22:40:00</th>\n",
              "      <td>100205</td>\n",
              "      <td>200727</td>\n",
              "      <td>보루네오 델루나 유로탑 슬라이딩 LED 퀸침대</td>\n",
              "      <td>가구</td>\n",
              "      <td>598000</td>\n",
              "      <td>해당없음</td>\n",
              "      <td>06</td>\n",
              "      <td>01</td>\n",
              "      <td>22</td>\n",
              "      <td>40</td>\n",
              "      <td>Monday</td>\n",
              "      <td>0</td>\n",
              "      <td>Middle</td>\n",
              "      <td>해당없음</td>\n",
              "      <td>해당없음</td>\n",
              "      <td>보루네오</td>\n",
              "      <td>퀸침대</td>\n",
              "      <td>해당없음</td>\n",
              "    </tr>\n",
              "    <tr>\n",
              "      <th>...</th>\n",
              "      <td>...</td>\n",
              "      <td>...</td>\n",
              "      <td>...</td>\n",
              "      <td>...</td>\n",
              "      <td>...</td>\n",
              "      <td>...</td>\n",
              "      <td>...</td>\n",
              "      <td>...</td>\n",
              "      <td>...</td>\n",
              "      <td>...</td>\n",
              "      <td>...</td>\n",
              "      <td>...</td>\n",
              "      <td>...</td>\n",
              "      <td>...</td>\n",
              "      <td>...</td>\n",
              "      <td>...</td>\n",
              "      <td>...</td>\n",
              "      <td>...</td>\n",
              "    </tr>\n",
              "    <tr>\n",
              "      <th>2020-06-17 13:40:00</th>\n",
              "      <td>100120</td>\n",
              "      <td>200327</td>\n",
              "      <td>한스데코 샤를 이중 암막 레이스 커튼 (중형)</td>\n",
              "      <td>침구</td>\n",
              "      <td>79900</td>\n",
              "      <td>해당없음</td>\n",
              "      <td>06</td>\n",
              "      <td>17</td>\n",
              "      <td>13</td>\n",
              "      <td>40</td>\n",
              "      <td>Wednesday</td>\n",
              "      <td>0</td>\n",
              "      <td>Middle</td>\n",
              "      <td>해당없음</td>\n",
              "      <td>해당없음</td>\n",
              "      <td>Trainset에 존재하지 않습니다</td>\n",
              "      <td>커튼</td>\n",
              "      <td>하</td>\n",
              "    </tr>\n",
              "    <tr>\n",
              "      <th>2020-06-17 14:00:00</th>\n",
              "      <td>100120</td>\n",
              "      <td>200326</td>\n",
              "      <td>한스데코 샤를 이중 암막 레이스 커튼 (슈퍼특대형)</td>\n",
              "      <td>침구</td>\n",
              "      <td>149900</td>\n",
              "      <td>해당없음</td>\n",
              "      <td>06</td>\n",
              "      <td>17</td>\n",
              "      <td>14</td>\n",
              "      <td>00</td>\n",
              "      <td>Wednesday</td>\n",
              "      <td>0</td>\n",
              "      <td>Later</td>\n",
              "      <td>해당없음</td>\n",
              "      <td>해당없음</td>\n",
              "      <td>Trainset에 존재하지 않습니다</td>\n",
              "      <td>커튼</td>\n",
              "      <td>상</td>\n",
              "    </tr>\n",
              "    <tr>\n",
              "      <th>2020-06-17 14:00:00</th>\n",
              "      <td>100120</td>\n",
              "      <td>200328</td>\n",
              "      <td>한스데코 샤를 이중 암막 레이스 커튼 (특대형)</td>\n",
              "      <td>침구</td>\n",
              "      <td>119900</td>\n",
              "      <td>해당없음</td>\n",
              "      <td>06</td>\n",
              "      <td>17</td>\n",
              "      <td>14</td>\n",
              "      <td>00</td>\n",
              "      <td>Wednesday</td>\n",
              "      <td>0</td>\n",
              "      <td>Later</td>\n",
              "      <td>해당없음</td>\n",
              "      <td>해당없음</td>\n",
              "      <td>Trainset에 존재하지 않습니다</td>\n",
              "      <td>커튼</td>\n",
              "      <td>중</td>\n",
              "    </tr>\n",
              "    <tr>\n",
              "      <th>2020-06-17 14:00:00</th>\n",
              "      <td>100120</td>\n",
              "      <td>200325</td>\n",
              "      <td>한스데코 샤를 이중 암막 레이스 커튼 (대형)</td>\n",
              "      <td>침구</td>\n",
              "      <td>99900</td>\n",
              "      <td>해당없음</td>\n",
              "      <td>06</td>\n",
              "      <td>17</td>\n",
              "      <td>14</td>\n",
              "      <td>00</td>\n",
              "      <td>Wednesday</td>\n",
              "      <td>0</td>\n",
              "      <td>Later</td>\n",
              "      <td>해당없음</td>\n",
              "      <td>해당없음</td>\n",
              "      <td>Trainset에 존재하지 않습니다</td>\n",
              "      <td>커튼</td>\n",
              "      <td>중</td>\n",
              "    </tr>\n",
              "    <tr>\n",
              "      <th>2020-06-17 14:00:00</th>\n",
              "      <td>100120</td>\n",
              "      <td>200327</td>\n",
              "      <td>한스데코 샤를 이중 암막 레이스 커튼 (중형)</td>\n",
              "      <td>침구</td>\n",
              "      <td>79900</td>\n",
              "      <td>해당없음</td>\n",
              "      <td>06</td>\n",
              "      <td>17</td>\n",
              "      <td>14</td>\n",
              "      <td>00</td>\n",
              "      <td>Wednesday</td>\n",
              "      <td>0</td>\n",
              "      <td>Later</td>\n",
              "      <td>해당없음</td>\n",
              "      <td>해당없음</td>\n",
              "      <td>Trainset에 존재하지 않습니다</td>\n",
              "      <td>커튼</td>\n",
              "      <td>하</td>\n",
              "    </tr>\n",
              "  </tbody>\n",
              "</table>\n",
              "<p>2716 rows × 18 columns</p>\n",
              "</div>"
            ],
            "text/plain": [
              "                       마더코드    상품코드  ...      상품    단가\n",
              "방송일시                                 ...              \n",
              "2020-06-01 22:20:00  100205  200724  ...  슈퍼싱글침대  해당없음\n",
              "2020-06-01 22:20:00  100205  200727  ...     퀸침대  해당없음\n",
              "2020-06-01 22:20:00  100205  200730  ...     킹침대  해당없음\n",
              "2020-06-01 22:40:00  100205  200724  ...  슈퍼싱글침대  해당없음\n",
              "2020-06-01 22:40:00  100205  200727  ...     퀸침대  해당없음\n",
              "...                     ...     ...  ...     ...   ...\n",
              "2020-06-17 13:40:00  100120  200327  ...      커튼     하\n",
              "2020-06-17 14:00:00  100120  200326  ...      커튼     상\n",
              "2020-06-17 14:00:00  100120  200328  ...      커튼     중\n",
              "2020-06-17 14:00:00  100120  200325  ...      커튼     중\n",
              "2020-06-17 14:00:00  100120  200327  ...      커튼     하\n",
              "\n",
              "[2716 rows x 18 columns]"
            ]
          },
          "metadata": {
            "tags": []
          },
          "execution_count": 128
        }
      ]
    },
    {
      "cell_type": "markdown",
      "metadata": {
        "id": "xnkzb5nKYGxM"
      },
      "source": [
        "## feature_Statistics\n"
      ]
    },
    {
      "cell_type": "code",
      "metadata": {
        "id": "7LCbKUCNmquu",
        "outputId": "44e01ca8-8c51-4dcd-b3e7-1be5db137a11",
        "colab": {
          "base_uri": "https://localhost:8080/",
          "height": 1000
        }
      },
      "source": [
        "mean_df = train_df.groupby(['상품군','요일','시','상품']).mean()['Mean'].to_frame()\n",
        "train_df[train_df.상품명.str.contains('흙침대')]"
      ],
      "execution_count": 129,
      "outputs": [
        {
          "output_type": "execute_result",
          "data": {
            "text/html": [
              "<div>\n",
              "<style scoped>\n",
              "    .dataframe tbody tr th:only-of-type {\n",
              "        vertical-align: middle;\n",
              "    }\n",
              "\n",
              "    .dataframe tbody tr th {\n",
              "        vertical-align: top;\n",
              "    }\n",
              "\n",
              "    .dataframe thead th {\n",
              "        text-align: right;\n",
              "    }\n",
              "</style>\n",
              "<table border=\"1\" class=\"dataframe\">\n",
              "  <thead>\n",
              "    <tr style=\"text-align: right;\">\n",
              "      <th></th>\n",
              "      <th>노출(분)</th>\n",
              "      <th>상품명</th>\n",
              "      <th>상품군</th>\n",
              "      <th>판매단가</th>\n",
              "      <th>월</th>\n",
              "      <th>일</th>\n",
              "      <th>시</th>\n",
              "      <th>요일</th>\n",
              "      <th>휴일</th>\n",
              "      <th>프라임</th>\n",
              "      <th>파트</th>\n",
              "      <th>브랜드</th>\n",
              "      <th>분</th>\n",
              "      <th>취급액_로그</th>\n",
              "      <th>결제유형</th>\n",
              "      <th>성별</th>\n",
              "      <th>상품</th>\n",
              "      <th>단가</th>\n",
              "      <th>Mean</th>\n",
              "    </tr>\n",
              "    <tr>\n",
              "      <th>방송일시</th>\n",
              "      <th></th>\n",
              "      <th></th>\n",
              "      <th></th>\n",
              "      <th></th>\n",
              "      <th></th>\n",
              "      <th></th>\n",
              "      <th></th>\n",
              "      <th></th>\n",
              "      <th></th>\n",
              "      <th></th>\n",
              "      <th></th>\n",
              "      <th></th>\n",
              "      <th></th>\n",
              "      <th></th>\n",
              "      <th></th>\n",
              "      <th></th>\n",
              "      <th></th>\n",
              "      <th></th>\n",
              "      <th></th>\n",
              "    </tr>\n",
              "  </thead>\n",
              "  <tbody>\n",
              "    <tr>\n",
              "      <th>2019-04-21 06:00:00</th>\n",
              "      <td>20.0</td>\n",
              "      <td>장수 싱글흙침대</td>\n",
              "      <td>가구</td>\n",
              "      <td>1120000</td>\n",
              "      <td>4</td>\n",
              "      <td>21</td>\n",
              "      <td>6</td>\n",
              "      <td>Sunday</td>\n",
              "      <td>1</td>\n",
              "      <td>4</td>\n",
              "      <td>First</td>\n",
              "      <td>장수</td>\n",
              "      <td>0</td>\n",
              "      <td>15.480005</td>\n",
              "      <td>일시불</td>\n",
              "      <td>해당없음</td>\n",
              "      <td>싱글흙침대</td>\n",
              "      <td>해당없음</td>\n",
              "      <td>15.024311</td>\n",
              "    </tr>\n",
              "    <tr>\n",
              "      <th>2019-04-21 06:00:00</th>\n",
              "      <td>20.0</td>\n",
              "      <td>장수 퀸흙침대</td>\n",
              "      <td>가구</td>\n",
              "      <td>1320000</td>\n",
              "      <td>4</td>\n",
              "      <td>21</td>\n",
              "      <td>6</td>\n",
              "      <td>Sunday</td>\n",
              "      <td>1</td>\n",
              "      <td>4</td>\n",
              "      <td>First</td>\n",
              "      <td>장수</td>\n",
              "      <td>0</td>\n",
              "      <td>16.047566</td>\n",
              "      <td>일시불</td>\n",
              "      <td>해당없음</td>\n",
              "      <td>퀸흙침대</td>\n",
              "      <td>해당없음</td>\n",
              "      <td>16.040991</td>\n",
              "    </tr>\n",
              "    <tr>\n",
              "      <th>2019-04-21 06:20:00</th>\n",
              "      <td>20.0</td>\n",
              "      <td>장수 싱글흙침대</td>\n",
              "      <td>가구</td>\n",
              "      <td>1120000</td>\n",
              "      <td>4</td>\n",
              "      <td>21</td>\n",
              "      <td>6</td>\n",
              "      <td>Sunday</td>\n",
              "      <td>1</td>\n",
              "      <td>4</td>\n",
              "      <td>Middle</td>\n",
              "      <td>장수</td>\n",
              "      <td>20</td>\n",
              "      <td>14.796465</td>\n",
              "      <td>일시불</td>\n",
              "      <td>해당없음</td>\n",
              "      <td>싱글흙침대</td>\n",
              "      <td>해당없음</td>\n",
              "      <td>15.024311</td>\n",
              "    </tr>\n",
              "    <tr>\n",
              "      <th>2019-04-21 06:20:00</th>\n",
              "      <td>20.0</td>\n",
              "      <td>장수 싱글흙침대</td>\n",
              "      <td>가구</td>\n",
              "      <td>1290000</td>\n",
              "      <td>4</td>\n",
              "      <td>21</td>\n",
              "      <td>6</td>\n",
              "      <td>Sunday</td>\n",
              "      <td>1</td>\n",
              "      <td>4</td>\n",
              "      <td>First</td>\n",
              "      <td>장수</td>\n",
              "      <td>20</td>\n",
              "      <td>14.936862</td>\n",
              "      <td>무이자</td>\n",
              "      <td>해당없음</td>\n",
              "      <td>싱글흙침대</td>\n",
              "      <td>해당없음</td>\n",
              "      <td>14.879069</td>\n",
              "    </tr>\n",
              "    <tr>\n",
              "      <th>2019-04-21 06:20:00</th>\n",
              "      <td>20.0</td>\n",
              "      <td>장수 퀸흙침대</td>\n",
              "      <td>가구</td>\n",
              "      <td>1320000</td>\n",
              "      <td>4</td>\n",
              "      <td>21</td>\n",
              "      <td>6</td>\n",
              "      <td>Sunday</td>\n",
              "      <td>1</td>\n",
              "      <td>4</td>\n",
              "      <td>Middle</td>\n",
              "      <td>장수</td>\n",
              "      <td>20</td>\n",
              "      <td>16.027843</td>\n",
              "      <td>일시불</td>\n",
              "      <td>해당없음</td>\n",
              "      <td>퀸흙침대</td>\n",
              "      <td>해당없음</td>\n",
              "      <td>16.040991</td>\n",
              "    </tr>\n",
              "    <tr>\n",
              "      <th>...</th>\n",
              "      <td>...</td>\n",
              "      <td>...</td>\n",
              "      <td>...</td>\n",
              "      <td>...</td>\n",
              "      <td>...</td>\n",
              "      <td>...</td>\n",
              "      <td>...</td>\n",
              "      <td>...</td>\n",
              "      <td>...</td>\n",
              "      <td>...</td>\n",
              "      <td>...</td>\n",
              "      <td>...</td>\n",
              "      <td>...</td>\n",
              "      <td>...</td>\n",
              "      <td>...</td>\n",
              "      <td>...</td>\n",
              "      <td>...</td>\n",
              "      <td>...</td>\n",
              "      <td>...</td>\n",
              "    </tr>\n",
              "    <tr>\n",
              "      <th>2019-12-23 23:40:00</th>\n",
              "      <td>20.0</td>\n",
              "      <td>장수 퀸흙침대</td>\n",
              "      <td>가구</td>\n",
              "      <td>1320000</td>\n",
              "      <td>12</td>\n",
              "      <td>23</td>\n",
              "      <td>23</td>\n",
              "      <td>Monday</td>\n",
              "      <td>0</td>\n",
              "      <td>4</td>\n",
              "      <td>Later</td>\n",
              "      <td>장수</td>\n",
              "      <td>40</td>\n",
              "      <td>17.038139</td>\n",
              "      <td>일시불</td>\n",
              "      <td>해당없음</td>\n",
              "      <td>퀸흙침대</td>\n",
              "      <td>해당없음</td>\n",
              "      <td>17.035282</td>\n",
              "    </tr>\n",
              "    <tr>\n",
              "      <th>2019-12-23 23:40:00</th>\n",
              "      <td>20.0</td>\n",
              "      <td>장수 퀸흙침대</td>\n",
              "      <td>가구</td>\n",
              "      <td>1490000</td>\n",
              "      <td>12</td>\n",
              "      <td>23</td>\n",
              "      <td>23</td>\n",
              "      <td>Monday</td>\n",
              "      <td>0</td>\n",
              "      <td>4</td>\n",
              "      <td>Later</td>\n",
              "      <td>장수</td>\n",
              "      <td>40</td>\n",
              "      <td>15.668992</td>\n",
              "      <td>무이자</td>\n",
              "      <td>해당없음</td>\n",
              "      <td>퀸흙침대</td>\n",
              "      <td>해당없음</td>\n",
              "      <td>16.328752</td>\n",
              "    </tr>\n",
              "    <tr>\n",
              "      <th>2019-12-24 00:00:00</th>\n",
              "      <td>20.0</td>\n",
              "      <td>장수 싱글흙침대</td>\n",
              "      <td>가구</td>\n",
              "      <td>1120000</td>\n",
              "      <td>12</td>\n",
              "      <td>24</td>\n",
              "      <td>0</td>\n",
              "      <td>Tuesday</td>\n",
              "      <td>0</td>\n",
              "      <td>4</td>\n",
              "      <td>Later</td>\n",
              "      <td>장수</td>\n",
              "      <td>0</td>\n",
              "      <td>15.785137</td>\n",
              "      <td>일시불</td>\n",
              "      <td>해당없음</td>\n",
              "      <td>싱글흙침대</td>\n",
              "      <td>해당없음</td>\n",
              "      <td>15.785137</td>\n",
              "    </tr>\n",
              "    <tr>\n",
              "      <th>2019-12-24 00:00:00</th>\n",
              "      <td>20.0</td>\n",
              "      <td>장수 퀸흙침대</td>\n",
              "      <td>가구</td>\n",
              "      <td>1320000</td>\n",
              "      <td>12</td>\n",
              "      <td>24</td>\n",
              "      <td>0</td>\n",
              "      <td>Tuesday</td>\n",
              "      <td>0</td>\n",
              "      <td>4</td>\n",
              "      <td>Later</td>\n",
              "      <td>장수</td>\n",
              "      <td>0</td>\n",
              "      <td>17.548885</td>\n",
              "      <td>일시불</td>\n",
              "      <td>해당없음</td>\n",
              "      <td>퀸흙침대</td>\n",
              "      <td>해당없음</td>\n",
              "      <td>17.548885</td>\n",
              "    </tr>\n",
              "    <tr>\n",
              "      <th>2019-12-24 00:00:00</th>\n",
              "      <td>20.0</td>\n",
              "      <td>장수 퀸흙침대</td>\n",
              "      <td>가구</td>\n",
              "      <td>1490000</td>\n",
              "      <td>12</td>\n",
              "      <td>24</td>\n",
              "      <td>0</td>\n",
              "      <td>Tuesday</td>\n",
              "      <td>0</td>\n",
              "      <td>4</td>\n",
              "      <td>Later</td>\n",
              "      <td>장수</td>\n",
              "      <td>0</td>\n",
              "      <td>16.763889</td>\n",
              "      <td>무이자</td>\n",
              "      <td>해당없음</td>\n",
              "      <td>퀸흙침대</td>\n",
              "      <td>해당없음</td>\n",
              "      <td>16.763889</td>\n",
              "    </tr>\n",
              "  </tbody>\n",
              "</table>\n",
              "<p>112 rows × 19 columns</p>\n",
              "</div>"
            ],
            "text/plain": [
              "                     노출(분)       상품명 상품군     판매단가  ...    성별     상품    단가       Mean\n",
              "방송일시                                               ...                              \n",
              "2019-04-21 06:00:00   20.0  장수 싱글흙침대  가구  1120000  ...  해당없음  싱글흙침대  해당없음  15.024311\n",
              "2019-04-21 06:00:00   20.0   장수 퀸흙침대  가구  1320000  ...  해당없음   퀸흙침대  해당없음  16.040991\n",
              "2019-04-21 06:20:00   20.0  장수 싱글흙침대  가구  1120000  ...  해당없음  싱글흙침대  해당없음  15.024311\n",
              "2019-04-21 06:20:00   20.0  장수 싱글흙침대  가구  1290000  ...  해당없음  싱글흙침대  해당없음  14.879069\n",
              "2019-04-21 06:20:00   20.0   장수 퀸흙침대  가구  1320000  ...  해당없음   퀸흙침대  해당없음  16.040991\n",
              "...                    ...       ...  ..      ...  ...   ...    ...   ...        ...\n",
              "2019-12-23 23:40:00   20.0   장수 퀸흙침대  가구  1320000  ...  해당없음   퀸흙침대  해당없음  17.035282\n",
              "2019-12-23 23:40:00   20.0   장수 퀸흙침대  가구  1490000  ...  해당없음   퀸흙침대  해당없음  16.328752\n",
              "2019-12-24 00:00:00   20.0  장수 싱글흙침대  가구  1120000  ...  해당없음  싱글흙침대  해당없음  15.785137\n",
              "2019-12-24 00:00:00   20.0   장수 퀸흙침대  가구  1320000  ...  해당없음   퀸흙침대  해당없음  17.548885\n",
              "2019-12-24 00:00:00   20.0   장수 퀸흙침대  가구  1490000  ...  해당없음   퀸흙침대  해당없음  16.763889\n",
              "\n",
              "[112 rows x 19 columns]"
            ]
          },
          "metadata": {
            "tags": []
          },
          "execution_count": 129
        }
      ]
    },
    {
      "cell_type": "code",
      "metadata": {
        "id": "4w9zwcKlYOoM"
      },
      "source": [
        "mean_df = train_df.groupby(['상품군','요일','시','상품']).mean()['Mean'].to_frame()\n",
        "mean_df_요일 = train_df.groupby(['상품군','요일','상품']).mean()['Mean'].to_frame()\n",
        "mean_df_시 = train_df.groupby(['상품군','시','상품']).mean()['Mean'].to_frame()\n",
        "mean_df_상품 = train_df.groupby(['상품','요일','시']).mean()['Mean'].to_frame()\n",
        "mean_df_요일_ = train_df.groupby(['상품군','요일']).mean()['Mean'].to_frame()\n",
        "\n",
        "def stat_1(x):\n",
        "    try:\n",
        "        mean = mean_df_1.loc[(x.상품군,x.요일,x.시,x.상품)]\n",
        "    except:\n",
        "        try:\n",
        "            mean = mean_df_요일.loc[(x.상품군,x.요일,x.상품)]\n",
        "        except:\n",
        "            try:\n",
        "                mean = mean_df_요일.loc[(x.상품군,x.시,x.상품)]\n",
        "            except:\n",
        "                try:  \n",
        "                    mean = mean_df_상품.loc[(x.상품군, x.요일, x.시)]\n",
        "                except:\n",
        "                    mean = mean_df_요일_.loc[(x.상품군, x.요일)]\n",
        "\n",
        "    return mean\n",
        "\n",
        "\n",
        "test_df['Mean'] = test_df.apply(lambda x: stat_1(x) , axis=1)\n",
        "#test_df['Mean_시'] = test_df.apply(lambda x: stat_2(x), axis=1)"
      ],
      "execution_count": 132,
      "outputs": []
    },
    {
      "cell_type": "markdown",
      "metadata": {
        "id": "gaS9gQfICW7_"
      },
      "source": [
        "### Train CATBoost"
      ]
    },
    {
      "cell_type": "code",
      "metadata": {
        "id": "seij2AH7bnk1"
      },
      "source": [
        "train_df = train_df.drop(columns=['상품명','노출(분)','프라임'])\n",
        "train_df = train_df.drop(columns = ['분'])"
      ],
      "execution_count": 133,
      "outputs": []
    },
    {
      "cell_type": "code",
      "metadata": {
        "id": "hgKgLNGieSQd",
        "outputId": "083339b9-0528-4e05-a30a-c93b4599de29",
        "colab": {
          "base_uri": "https://localhost:8080/",
          "height": 413
        }
      },
      "source": [
        "train_df.월 = train_df.월.astype(str)\n",
        "train_df.일 = train_df.일.astype(str)\n",
        "train_df.시 = train_df.시.astype(str)\n",
        "train_df.휴일 = train_df.휴일.astype(str)\n",
        "train_df.info()"
      ],
      "execution_count": 134,
      "outputs": [
        {
          "output_type": "stream",
          "text": [
            "<class 'pandas.core.frame.DataFrame'>\n",
            "Index: 35375 entries, 2019-02-01 22:00:00 to 2019-12-31 16:00:00\n",
            "Data columns (total 15 columns):\n",
            " #   Column  Non-Null Count  Dtype  \n",
            "---  ------  --------------  -----  \n",
            " 0   상품군     35375 non-null  object \n",
            " 1   판매단가    35375 non-null  int64  \n",
            " 2   월       35375 non-null  object \n",
            " 3   일       35375 non-null  object \n",
            " 4   시       35375 non-null  object \n",
            " 5   요일      35375 non-null  object \n",
            " 6   휴일      35375 non-null  object \n",
            " 7   파트      35375 non-null  object \n",
            " 8   브랜드     35375 non-null  object \n",
            " 9   취급액_로그  35375 non-null  float64\n",
            " 10  결제유형    35375 non-null  object \n",
            " 11  성별      35375 non-null  object \n",
            " 12  상품      35375 non-null  object \n",
            " 13  단가      35375 non-null  object \n",
            " 14  Mean    35375 non-null  float64\n",
            "dtypes: float64(2), int64(1), object(12)\n",
            "memory usage: 4.3+ MB\n"
          ],
          "name": "stdout"
        }
      ]
    },
    {
      "cell_type": "code",
      "metadata": {
        "id": "JFOcq4yfcYqT"
      },
      "source": [
        "test_df = test_df.drop(columns = ['취급액','마더코드','상품코드','상품명'])\n",
        "test_df = test_df.drop(columns = ['분'])"
      ],
      "execution_count": 135,
      "outputs": []
    },
    {
      "cell_type": "code",
      "metadata": {
        "id": "h528CO8KdSLi"
      },
      "source": [
        "test_df.columns = ['상품군', '판매단가', '월', '일', '시', '요일', '휴일', '파트', '브랜드',\n",
        "       '결제유형', '성별', '상품', '단가', 'Mean']"
      ],
      "execution_count": 136,
      "outputs": []
    },
    {
      "cell_type": "code",
      "metadata": {
        "id": "SR8X7kiPdFJv",
        "outputId": "e669bc3e-9116-449c-95eb-fc73c98ab466",
        "colab": {
          "base_uri": "https://localhost:8080/",
          "height": 395
        }
      },
      "source": [
        "test_df.휴일 = test_df.휴일.astype(str)\n",
        "test_df.info()"
      ],
      "execution_count": 137,
      "outputs": [
        {
          "output_type": "stream",
          "text": [
            "<class 'pandas.core.frame.DataFrame'>\n",
            "DatetimeIndex: 2716 entries, 2020-06-01 22:20:00 to 2020-06-17 14:00:00\n",
            "Data columns (total 14 columns):\n",
            " #   Column  Non-Null Count  Dtype  \n",
            "---  ------  --------------  -----  \n",
            " 0   상품군     2716 non-null   object \n",
            " 1   판매단가    2716 non-null   int64  \n",
            " 2   월       2716 non-null   object \n",
            " 3   일       2716 non-null   object \n",
            " 4   시       2716 non-null   object \n",
            " 5   요일      2716 non-null   object \n",
            " 6   휴일      2716 non-null   object \n",
            " 7   파트      2716 non-null   object \n",
            " 8   브랜드     2716 non-null   object \n",
            " 9   결제유형    2716 non-null   object \n",
            " 10  성별      2716 non-null   object \n",
            " 11  상품      2716 non-null   object \n",
            " 12  단가      2716 non-null   object \n",
            " 13  Mean    2716 non-null   float64\n",
            "dtypes: float64(1), int64(1), object(12)\n",
            "memory usage: 318.3+ KB\n"
          ],
          "name": "stdout"
        }
      ]
    },
    {
      "cell_type": "code",
      "metadata": {
        "id": "X1z5RvvhvvXP",
        "outputId": "b4bfa545-6116-4574-9946-ae9bac379a05",
        "colab": {
          "base_uri": "https://localhost:8080/",
          "height": 1000
        }
      },
      "source": [
        "test_df."
      ],
      "execution_count": 149,
      "outputs": [
        {
          "output_type": "execute_result",
          "data": {
            "text/html": [
              "<div>\n",
              "<style scoped>\n",
              "    .dataframe tbody tr th:only-of-type {\n",
              "        vertical-align: middle;\n",
              "    }\n",
              "\n",
              "    .dataframe tbody tr th {\n",
              "        vertical-align: top;\n",
              "    }\n",
              "\n",
              "    .dataframe thead th {\n",
              "        text-align: right;\n",
              "    }\n",
              "</style>\n",
              "<table border=\"1\" class=\"dataframe\">\n",
              "  <thead>\n",
              "    <tr style=\"text-align: right;\">\n",
              "      <th></th>\n",
              "      <th>상품군</th>\n",
              "      <th>판매단가</th>\n",
              "      <th>월</th>\n",
              "      <th>일</th>\n",
              "      <th>시</th>\n",
              "      <th>요일</th>\n",
              "      <th>휴일</th>\n",
              "      <th>파트</th>\n",
              "      <th>브랜드</th>\n",
              "      <th>결제유형</th>\n",
              "      <th>성별</th>\n",
              "      <th>상품</th>\n",
              "      <th>단가</th>\n",
              "      <th>Mean</th>\n",
              "    </tr>\n",
              "    <tr>\n",
              "      <th>방송일시</th>\n",
              "      <th></th>\n",
              "      <th></th>\n",
              "      <th></th>\n",
              "      <th></th>\n",
              "      <th></th>\n",
              "      <th></th>\n",
              "      <th></th>\n",
              "      <th></th>\n",
              "      <th></th>\n",
              "      <th></th>\n",
              "      <th></th>\n",
              "      <th></th>\n",
              "      <th></th>\n",
              "      <th></th>\n",
              "    </tr>\n",
              "  </thead>\n",
              "  <tbody>\n",
              "    <tr>\n",
              "      <th>2020-06-01 22:20:00</th>\n",
              "      <td>가구</td>\n",
              "      <td>548000</td>\n",
              "      <td>06</td>\n",
              "      <td>01</td>\n",
              "      <td>22</td>\n",
              "      <td>Monday</td>\n",
              "      <td>0</td>\n",
              "      <td>First</td>\n",
              "      <td>해당없음</td>\n",
              "      <td>해당없음</td>\n",
              "      <td>보루네오</td>\n",
              "      <td>슈퍼싱글침대</td>\n",
              "      <td>해당없음</td>\n",
              "      <td>16.141292</td>\n",
              "    </tr>\n",
              "    <tr>\n",
              "      <th>2020-06-01 22:20:00</th>\n",
              "      <td>가구</td>\n",
              "      <td>598000</td>\n",
              "      <td>06</td>\n",
              "      <td>01</td>\n",
              "      <td>22</td>\n",
              "      <td>Monday</td>\n",
              "      <td>0</td>\n",
              "      <td>First</td>\n",
              "      <td>해당없음</td>\n",
              "      <td>해당없음</td>\n",
              "      <td>보루네오</td>\n",
              "      <td>퀸침대</td>\n",
              "      <td>해당없음</td>\n",
              "      <td>15.867041</td>\n",
              "    </tr>\n",
              "    <tr>\n",
              "      <th>2020-06-01 22:20:00</th>\n",
              "      <td>가구</td>\n",
              "      <td>648000</td>\n",
              "      <td>06</td>\n",
              "      <td>01</td>\n",
              "      <td>22</td>\n",
              "      <td>Monday</td>\n",
              "      <td>0</td>\n",
              "      <td>First</td>\n",
              "      <td>해당없음</td>\n",
              "      <td>해당없음</td>\n",
              "      <td>보루네오</td>\n",
              "      <td>킹침대</td>\n",
              "      <td>해당없음</td>\n",
              "      <td>15.968546</td>\n",
              "    </tr>\n",
              "    <tr>\n",
              "      <th>2020-06-01 22:40:00</th>\n",
              "      <td>가구</td>\n",
              "      <td>548000</td>\n",
              "      <td>06</td>\n",
              "      <td>01</td>\n",
              "      <td>22</td>\n",
              "      <td>Monday</td>\n",
              "      <td>0</td>\n",
              "      <td>Middle</td>\n",
              "      <td>해당없음</td>\n",
              "      <td>해당없음</td>\n",
              "      <td>보루네오</td>\n",
              "      <td>슈퍼싱글침대</td>\n",
              "      <td>해당없음</td>\n",
              "      <td>16.141292</td>\n",
              "    </tr>\n",
              "    <tr>\n",
              "      <th>2020-06-01 22:40:00</th>\n",
              "      <td>가구</td>\n",
              "      <td>598000</td>\n",
              "      <td>06</td>\n",
              "      <td>01</td>\n",
              "      <td>22</td>\n",
              "      <td>Monday</td>\n",
              "      <td>0</td>\n",
              "      <td>Middle</td>\n",
              "      <td>해당없음</td>\n",
              "      <td>해당없음</td>\n",
              "      <td>보루네오</td>\n",
              "      <td>퀸침대</td>\n",
              "      <td>해당없음</td>\n",
              "      <td>15.867041</td>\n",
              "    </tr>\n",
              "    <tr>\n",
              "      <th>...</th>\n",
              "      <td>...</td>\n",
              "      <td>...</td>\n",
              "      <td>...</td>\n",
              "      <td>...</td>\n",
              "      <td>...</td>\n",
              "      <td>...</td>\n",
              "      <td>...</td>\n",
              "      <td>...</td>\n",
              "      <td>...</td>\n",
              "      <td>...</td>\n",
              "      <td>...</td>\n",
              "      <td>...</td>\n",
              "      <td>...</td>\n",
              "      <td>...</td>\n",
              "    </tr>\n",
              "    <tr>\n",
              "      <th>2020-06-17 13:40:00</th>\n",
              "      <td>침구</td>\n",
              "      <td>79900</td>\n",
              "      <td>06</td>\n",
              "      <td>17</td>\n",
              "      <td>13</td>\n",
              "      <td>Wednesday</td>\n",
              "      <td>0</td>\n",
              "      <td>Middle</td>\n",
              "      <td>해당없음</td>\n",
              "      <td>해당없음</td>\n",
              "      <td>Trainset에 존재하지 않습니다</td>\n",
              "      <td>커튼</td>\n",
              "      <td>하</td>\n",
              "      <td>13.974563</td>\n",
              "    </tr>\n",
              "    <tr>\n",
              "      <th>2020-06-17 14:00:00</th>\n",
              "      <td>침구</td>\n",
              "      <td>149900</td>\n",
              "      <td>06</td>\n",
              "      <td>17</td>\n",
              "      <td>14</td>\n",
              "      <td>Wednesday</td>\n",
              "      <td>0</td>\n",
              "      <td>Later</td>\n",
              "      <td>해당없음</td>\n",
              "      <td>해당없음</td>\n",
              "      <td>Trainset에 존재하지 않습니다</td>\n",
              "      <td>커튼</td>\n",
              "      <td>상</td>\n",
              "      <td>13.974563</td>\n",
              "    </tr>\n",
              "    <tr>\n",
              "      <th>2020-06-17 14:00:00</th>\n",
              "      <td>침구</td>\n",
              "      <td>119900</td>\n",
              "      <td>06</td>\n",
              "      <td>17</td>\n",
              "      <td>14</td>\n",
              "      <td>Wednesday</td>\n",
              "      <td>0</td>\n",
              "      <td>Later</td>\n",
              "      <td>해당없음</td>\n",
              "      <td>해당없음</td>\n",
              "      <td>Trainset에 존재하지 않습니다</td>\n",
              "      <td>커튼</td>\n",
              "      <td>중</td>\n",
              "      <td>13.974563</td>\n",
              "    </tr>\n",
              "    <tr>\n",
              "      <th>2020-06-17 14:00:00</th>\n",
              "      <td>침구</td>\n",
              "      <td>99900</td>\n",
              "      <td>06</td>\n",
              "      <td>17</td>\n",
              "      <td>14</td>\n",
              "      <td>Wednesday</td>\n",
              "      <td>0</td>\n",
              "      <td>Later</td>\n",
              "      <td>해당없음</td>\n",
              "      <td>해당없음</td>\n",
              "      <td>Trainset에 존재하지 않습니다</td>\n",
              "      <td>커튼</td>\n",
              "      <td>중</td>\n",
              "      <td>13.974563</td>\n",
              "    </tr>\n",
              "    <tr>\n",
              "      <th>2020-06-17 14:00:00</th>\n",
              "      <td>침구</td>\n",
              "      <td>79900</td>\n",
              "      <td>06</td>\n",
              "      <td>17</td>\n",
              "      <td>14</td>\n",
              "      <td>Wednesday</td>\n",
              "      <td>0</td>\n",
              "      <td>Later</td>\n",
              "      <td>해당없음</td>\n",
              "      <td>해당없음</td>\n",
              "      <td>Trainset에 존재하지 않습니다</td>\n",
              "      <td>커튼</td>\n",
              "      <td>하</td>\n",
              "      <td>13.974563</td>\n",
              "    </tr>\n",
              "  </tbody>\n",
              "</table>\n",
              "<p>2716 rows × 14 columns</p>\n",
              "</div>"
            ],
            "text/plain": [
              "                    상품군    판매단가   월  ...      상품    단가       Mean\n",
              "방송일시                                 ...                         \n",
              "2020-06-01 22:20:00  가구  548000  06  ...  슈퍼싱글침대  해당없음  16.141292\n",
              "2020-06-01 22:20:00  가구  598000  06  ...     퀸침대  해당없음  15.867041\n",
              "2020-06-01 22:20:00  가구  648000  06  ...     킹침대  해당없음  15.968546\n",
              "2020-06-01 22:40:00  가구  548000  06  ...  슈퍼싱글침대  해당없음  16.141292\n",
              "2020-06-01 22:40:00  가구  598000  06  ...     퀸침대  해당없음  15.867041\n",
              "...                  ..     ...  ..  ...     ...   ...        ...\n",
              "2020-06-17 13:40:00  침구   79900  06  ...      커튼     하  13.974563\n",
              "2020-06-17 14:00:00  침구  149900  06  ...      커튼     상  13.974563\n",
              "2020-06-17 14:00:00  침구  119900  06  ...      커튼     중  13.974563\n",
              "2020-06-17 14:00:00  침구   99900  06  ...      커튼     중  13.974563\n",
              "2020-06-17 14:00:00  침구   79900  06  ...      커튼     하  13.974563\n",
              "\n",
              "[2716 rows x 14 columns]"
            ]
          },
          "metadata": {
            "tags": []
          },
          "execution_count": 149
        }
      ]
    },
    {
      "cell_type": "code",
      "metadata": {
        "id": "jkggWnobCxRm",
        "outputId": "24b74812-96b5-4b1b-a3a8-bdfd6cd07d9d",
        "colab": {
          "base_uri": "https://localhost:8080/",
          "height": 1000
        }
      },
      "source": [
        "test_predicts = []\n",
        "\n",
        "cv_val = {}\n",
        "cv_predict = {}\n",
        "cv_scores = {}\n",
        "\n",
        "raw_x = train_df.drop(columns=['취급액_로그'])\n",
        "raw_y = train_df[['취급액_로그','월']]\n",
        "test_x = test_df.drop(columns = ['월'])\n",
        "\n",
        "valid_months = ['5','6','7','8']\n",
        "\n",
        "for m in valid_months:\n",
        "\n",
        "    val_x = raw_x[raw_x.월 == m].drop(columns = ['월'])\n",
        "    val_y = raw_y[raw_y.월 == m].취급액_로그\n",
        "    \n",
        "    train_x = raw_x.drop(index = val_x.index, columns = ['월'])\n",
        "    train_y = raw_y.drop(index = val_x.index).취급액_로그\n",
        "\n",
        "    train_y = train_y.to_numpy().reshape(-1)\n",
        "    val_y = val_y.to_numpy().reshape(-1)\n",
        "\n",
        "    cat_features_train = np.where((train_x.dtypes != np.float)&(train_x.dtypes != np.int))[0]\n",
        "    cat_features_val = np.where((val_x.dtypes != np.float)&(val_x.dtypes != np.int))[0]\n",
        "    cat_features_test = np.where((test_x.dtypes != np.float)&(test_x.dtypes != np.int))[0]\n",
        "    \n",
        "    train_dataset = Pool(train_x, label = train_y, cat_features=cat_features_train)\n",
        "    val_dataset = Pool(val_x, label = val_y, cat_features=cat_features_val)\n",
        "    test_dataset = Pool(test_x, cat_features=cat_features_test)\n",
        "\n",
        "    CBR = model.fit(train_dataset,\n",
        "                    eval_set = val_dataset,\n",
        "                    use_best_model = True,\n",
        "                    verbose = 100)\n",
        "    \n",
        "    predict_val = model.predict(val_x)\n",
        "    predict_val = np.exp(predict_val)\n",
        "\n",
        "    val_y = np.exp(val_y)\n",
        "\n",
        "    cv_val.update({m:val_y})\n",
        "    cv_predict.update({m: predict_val})\n",
        "\n",
        "    mape = mean_absolute_percentage_error(val_y, predict_val)\n",
        "    print(f'{m}월 MAPE:', mape)\n",
        "\n",
        "    cv_scores.update({m:mape})\n",
        "\n",
        "    predict_test = model.predict(test_x)\n",
        "    predict_test = np.exp(predict_test)\n",
        "    \n",
        "    \n",
        "    test_predicts.append(predict_test)"
      ],
      "execution_count": 152,
      "outputs": [
        {
          "output_type": "stream",
          "text": [
            "0:\tlearn: 0.0464256\ttest: 0.0449828\tbest: 0.0449828 (0)\ttotal: 66.4ms\tremaining: 2m 12s\n",
            "100:\tlearn: 0.0214323\ttest: 0.0216739\tbest: 0.0216739 (100)\ttotal: 6.36s\tremaining: 1m 59s\n",
            "200:\tlearn: 0.0199794\ttest: 0.0206780\tbest: 0.0206780 (200)\ttotal: 13.1s\tremaining: 1m 56s\n",
            "300:\tlearn: 0.0193459\ttest: 0.0207439\tbest: 0.0206618 (217)\ttotal: 19.9s\tremaining: 1m 52s\n",
            "400:\tlearn: 0.0189503\ttest: 0.0207316\tbest: 0.0206618 (217)\ttotal: 26.6s\tremaining: 1m 46s\n",
            "500:\tlearn: 0.0186135\ttest: 0.0208865\tbest: 0.0206618 (217)\ttotal: 33.3s\tremaining: 1m 39s\n",
            "600:\tlearn: 0.0183844\ttest: 0.0209074\tbest: 0.0206618 (217)\ttotal: 39.9s\tremaining: 1m 32s\n",
            "700:\tlearn: 0.0182193\ttest: 0.0209250\tbest: 0.0206618 (217)\ttotal: 46.8s\tremaining: 1m 26s\n",
            "Stopped by overfitting detector  (500 iterations wait)\n",
            "\n",
            "bestTest = 0.02066176674\n",
            "bestIteration = 217\n",
            "\n",
            "Shrink model to first 218 iterations.\n",
            "5월 MAPE: 38.849030449241816\n",
            "0:\tlearn: 0.0465212\ttest: 0.0427513\tbest: 0.0427513 (0)\ttotal: 76.1ms\tremaining: 2m 32s\n",
            "100:\tlearn: 0.0216673\ttest: 0.0190287\tbest: 0.0190287 (100)\ttotal: 6.42s\tremaining: 2m\n",
            "200:\tlearn: 0.0202649\ttest: 0.0184364\tbest: 0.0184364 (200)\ttotal: 13.2s\tremaining: 1m 58s\n",
            "300:\tlearn: 0.0196477\ttest: 0.0182145\tbest: 0.0182145 (300)\ttotal: 20.1s\tremaining: 1m 53s\n",
            "400:\tlearn: 0.0192489\ttest: 0.0182363\tbest: 0.0181976 (341)\ttotal: 27.1s\tremaining: 1m 47s\n",
            "500:\tlearn: 0.0189532\ttest: 0.0184961\tbest: 0.0181976 (341)\ttotal: 34s\tremaining: 1m 41s\n",
            "600:\tlearn: 0.0186674\ttest: 0.0186991\tbest: 0.0181976 (341)\ttotal: 41.1s\tremaining: 1m 35s\n",
            "700:\tlearn: 0.0184825\ttest: 0.0187065\tbest: 0.0181976 (341)\ttotal: 48.2s\tremaining: 1m 29s\n",
            "800:\tlearn: 0.0183025\ttest: 0.0187655\tbest: 0.0181976 (341)\ttotal: 55.2s\tremaining: 1m 22s\n",
            "Stopped by overfitting detector  (500 iterations wait)\n",
            "\n",
            "bestTest = 0.01819759144\n",
            "bestIteration = 341\n",
            "\n",
            "Shrink model to first 342 iterations.\n",
            "6월 MAPE: 33.15454650175682\n",
            "0:\tlearn: 0.0462598\ttest: 0.0462225\tbest: 0.0462225 (0)\ttotal: 79.8ms\tremaining: 2m 39s\n",
            "100:\tlearn: 0.0215108\ttest: 0.0204359\tbest: 0.0204354 (99)\ttotal: 6.85s\tremaining: 2m 8s\n",
            "200:\tlearn: 0.0199844\ttest: 0.0201506\tbest: 0.0200374 (194)\ttotal: 14s\tremaining: 2m 5s\n",
            "300:\tlearn: 0.0194006\ttest: 0.0202293\tbest: 0.0200374 (194)\ttotal: 21.1s\tremaining: 1m 59s\n",
            "400:\tlearn: 0.0189872\ttest: 0.0201561\tbest: 0.0200374 (194)\ttotal: 28.2s\tremaining: 1m 52s\n",
            "500:\tlearn: 0.0186567\ttest: 0.0202839\tbest: 0.0200374 (194)\ttotal: 35.4s\tremaining: 1m 45s\n",
            "600:\tlearn: 0.0184160\ttest: 0.0202711\tbest: 0.0200374 (194)\ttotal: 42.6s\tremaining: 1m 39s\n",
            "Stopped by overfitting detector  (500 iterations wait)\n",
            "\n",
            "bestTest = 0.02003743002\n",
            "bestIteration = 194\n",
            "\n",
            "Shrink model to first 195 iterations.\n",
            "7월 MAPE: 38.8465863429007\n",
            "0:\tlearn: 0.0460723\ttest: 0.0471171\tbest: 0.0471171 (0)\ttotal: 78.3ms\tremaining: 2m 36s\n",
            "100:\tlearn: 0.0215494\ttest: 0.0216989\tbest: 0.0216989 (100)\ttotal: 6.67s\tremaining: 2m 5s\n",
            "200:\tlearn: 0.0200171\ttest: 0.0203734\tbest: 0.0203734 (200)\ttotal: 13.7s\tremaining: 2m 2s\n",
            "300:\tlearn: 0.0194542\ttest: 0.0202159\tbest: 0.0201234 (288)\ttotal: 20.6s\tremaining: 1m 56s\n",
            "400:\tlearn: 0.0191027\ttest: 0.0201709\tbest: 0.0201234 (288)\ttotal: 27.5s\tremaining: 1m 49s\n",
            "500:\tlearn: 0.0187768\ttest: 0.0206486\tbest: 0.0201083 (480)\ttotal: 34.4s\tremaining: 1m 43s\n",
            "600:\tlearn: 0.0184924\ttest: 0.0220862\tbest: 0.0201083 (480)\ttotal: 41.4s\tremaining: 1m 36s\n",
            "700:\tlearn: 0.0182873\ttest: 0.0226559\tbest: 0.0201083 (480)\ttotal: 48.1s\tremaining: 1m 29s\n",
            "800:\tlearn: 0.0180543\ttest: 0.0226752\tbest: 0.0201083 (480)\ttotal: 54.9s\tremaining: 1m 22s\n",
            "900:\tlearn: 0.0178848\ttest: 0.0230186\tbest: 0.0201083 (480)\ttotal: 1m 1s\tremaining: 1m 15s\n",
            "Stopped by overfitting detector  (500 iterations wait)\n",
            "\n",
            "bestTest = 0.0201082612\n",
            "bestIteration = 480\n",
            "\n",
            "Shrink model to first 481 iterations.\n",
            "8월 MAPE: 44.02421797976304\n"
          ],
          "name": "stdout"
        }
      ]
    },
    {
      "cell_type": "code",
      "metadata": {
        "id": "nqo0CascxCOr"
      },
      "source": [
        "def plot_result(test_dict, predict_dict, scores_dict):\n",
        "    fig,  ax = plt.subplots(1,4, figsize = (15, 5))\n",
        "    for x in range(4):\n",
        "        \n",
        "        #ax[i].plot(test_dict[str(i+5)], predict_dict[str(i+5)], linestyle = '', marker = 'o')\n",
        "        ax[i].plot(test_dict[str(i+5)], test_dict[str(i+5)], color = 'r')\n",
        "        ax[i].set_title(f'{i+5}: MAPE {round(scores_dict[str(i+5)],2)}')\n",
        "    "
      ],
      "execution_count": 161,
      "outputs": []
    },
    {
      "cell_type": "code",
      "metadata": {
        "id": "SfF7UvN20AeU",
        "outputId": "717fb0d6-00f7-48de-ebb1-f8db045078f8",
        "colab": {
          "base_uri": "https://localhost:8080/",
          "height": 53
        }
      },
      "source": [
        "cv_predict[str(0+5)]"
      ],
      "execution_count": 162,
      "outputs": [
        {
          "output_type": "execute_result",
          "data": {
            "text/plain": [
              "array([ 3538731.31936723,  5766082.92172144,  2666516.73463235, ...,\n",
              "       22984060.69891917, 33895585.6147742 , 39749490.97961267])"
            ]
          },
          "metadata": {
            "tags": []
          },
          "execution_count": 162
        }
      ]
    },
    {
      "cell_type": "code",
      "metadata": {
        "id": "QtF0kyfVCxqR",
        "outputId": "88753d02-397e-4877-ec49-bb2871ad3799",
        "colab": {
          "base_uri": "https://localhost:8080/",
          "height": 551
        }
      },
      "source": [
        "plot_result(cv_val, cv_predict, cv_scores)"
      ],
      "execution_count": 164,
      "outputs": [
        {
          "output_type": "error",
          "ename": "IndexError",
          "evalue": "ignored",
          "traceback": [
            "\u001b[0;31m---------------------------------------------------------------------------\u001b[0m",
            "\u001b[0;31mIndexError\u001b[0m                                Traceback (most recent call last)",
            "\u001b[0;32m<ipython-input-164-3e24a70defaa>\u001b[0m in \u001b[0;36m<module>\u001b[0;34m()\u001b[0m\n\u001b[0;32m----> 1\u001b[0;31m \u001b[0mplot_result\u001b[0m\u001b[0;34m(\u001b[0m\u001b[0mcv_val\u001b[0m\u001b[0;34m,\u001b[0m \u001b[0mcv_predict\u001b[0m\u001b[0;34m,\u001b[0m \u001b[0mcv_scores\u001b[0m\u001b[0;34m)\u001b[0m\u001b[0;34m\u001b[0m\u001b[0;34m\u001b[0m\u001b[0m\n\u001b[0m",
            "\u001b[0;32m<ipython-input-161-7d34416c86be>\u001b[0m in \u001b[0;36mplot_result\u001b[0;34m(test_dict, predict_dict, scores_dict)\u001b[0m\n\u001b[1;32m      3\u001b[0m     \u001b[0;32mfor\u001b[0m \u001b[0mx\u001b[0m \u001b[0;32min\u001b[0m \u001b[0mrange\u001b[0m\u001b[0;34m(\u001b[0m\u001b[0;36m4\u001b[0m\u001b[0;34m)\u001b[0m\u001b[0;34m:\u001b[0m\u001b[0;34m\u001b[0m\u001b[0;34m\u001b[0m\u001b[0m\n\u001b[1;32m      4\u001b[0m         \u001b[0;31m#ax[i].plot(test_dict[str(i+5)], predict_dict[str(i+5)], linestyle = '', marker = 'o')\u001b[0m\u001b[0;34m\u001b[0m\u001b[0;34m\u001b[0m\u001b[0;34m\u001b[0m\u001b[0m\n\u001b[0;32m----> 5\u001b[0;31m         \u001b[0max\u001b[0m\u001b[0;34m[\u001b[0m\u001b[0mi\u001b[0m\u001b[0;34m]\u001b[0m\u001b[0;34m.\u001b[0m\u001b[0mplot\u001b[0m\u001b[0;34m(\u001b[0m\u001b[0mtest_dict\u001b[0m\u001b[0;34m[\u001b[0m\u001b[0mstr\u001b[0m\u001b[0;34m(\u001b[0m\u001b[0mi\u001b[0m\u001b[0;34m+\u001b[0m\u001b[0;36m5\u001b[0m\u001b[0;34m)\u001b[0m\u001b[0;34m]\u001b[0m\u001b[0;34m,\u001b[0m \u001b[0mtest_dict\u001b[0m\u001b[0;34m[\u001b[0m\u001b[0mstr\u001b[0m\u001b[0;34m(\u001b[0m\u001b[0mi\u001b[0m\u001b[0;34m+\u001b[0m\u001b[0;36m5\u001b[0m\u001b[0;34m)\u001b[0m\u001b[0;34m]\u001b[0m\u001b[0;34m,\u001b[0m \u001b[0mcolor\u001b[0m \u001b[0;34m=\u001b[0m \u001b[0;34m'r'\u001b[0m\u001b[0;34m)\u001b[0m\u001b[0;34m\u001b[0m\u001b[0;34m\u001b[0m\u001b[0m\n\u001b[0m\u001b[1;32m      6\u001b[0m         \u001b[0max\u001b[0m\u001b[0;34m[\u001b[0m\u001b[0mi\u001b[0m\u001b[0;34m]\u001b[0m\u001b[0;34m.\u001b[0m\u001b[0mset_title\u001b[0m\u001b[0;34m(\u001b[0m\u001b[0;34mf'{i+5}: MAPE {round(scores_dict[str(i+5)],2)}'\u001b[0m\u001b[0;34m)\u001b[0m\u001b[0;34m\u001b[0m\u001b[0;34m\u001b[0m\u001b[0m\n\u001b[1;32m      7\u001b[0m \u001b[0;34m\u001b[0m\u001b[0m\n",
            "\u001b[0;31mIndexError\u001b[0m: index 2890 is out of bounds for axis 0 with size 4"
          ]
        },
        {
          "output_type": "display_data",
          "data": {
            "image/png": "[encoded data removed]",
            "text/plain": [
              "<Figure size 1080x360 with 4 Axes>"
            ]
          },
          "metadata": {
            "tags": [],
            "needs_background": "light"
          }
        }
      ]
    },
    {
      "cell_type": "markdown",
      "metadata": {
        "id": "sJl1aZzWEuNM"
      },
      "source": [
        "## Submission File"
      ]
    },
    {
      "cell_type": "code",
      "metadata": {
        "id": "yyCzfUOC1jha"
      },
      "source": [
        "for i, a in enumerate(test_predicts[:-1]):\n",
        "    if i ==0:\n",
        "        test = a\n",
        "    else:\n",
        "        test += a"
      ],
      "execution_count": 167,
      "outputs": []
    },
    {
      "cell_type": "code",
      "metadata": {
        "id": "JjHP4Lxr2Hep",
        "outputId": "d32fe3d2-105c-4237-86d5-14f9c2e1f737",
        "colab": {
          "base_uri": "https://localhost:8080/",
          "height": 35
        }
      },
      "source": [
        "test.shape"
      ],
      "execution_count": 168,
      "outputs": [
        {
          "output_type": "execute_result",
          "data": {
            "text/plain": [
              "(2716,)"
            ]
          },
          "metadata": {
            "tags": []
          },
          "execution_count": 168
        }
      ]
    },
    {
      "cell_type": "code",
      "metadata": {
        "id": "HSyslqwO2jxd"
      },
      "source": [
        "submission_무형 = submission[submission.상품군 == '무형']\n",
        "submission_test = submission.drop(submission_무형.index)"
      ],
      "execution_count": 175,
      "outputs": []
    },
    {
      "cell_type": "code",
      "metadata": {
        "id": "sJc-VSdWE1h-",
        "outputId": "3e707937-a95c-4438-8677-3a481f69f202",
        "colab": {
          "base_uri": "https://localhost:8080/",
          "height": 145
        }
      },
      "source": [
        "submission_test['취급액'] = test\n",
        "submission_test.취급액 = submission_test.취급액/3"
      ],
      "execution_count": 176,
      "outputs": [
        {
          "output_type": "stream",
          "text": [
            "/usr/local/lib/python3.6/dist-packages/ipykernel_launcher.py:1: SettingWithCopyWarning: \n",
            "A value is trying to be set on a copy of a slice from a DataFrame.\n",
            "Try using .loc[row_indexer,col_indexer] = value instead\n",
            "\n",
            "See the caveats in the documentation: https://pandas.pydata.org/pandas-docs/stable/user_guide/indexing.html#returning-a-view-versus-a-copy\n",
            "  \"\"\"Entry point for launching an IPython kernel.\n"
          ],
          "name": "stderr"
        }
      ]
    },
    {
      "cell_type": "code",
      "metadata": {
        "id": "M8raHCnN3Jk0"
      },
      "source": [
        "submission = pd.concat([submission_test, submission_무형]).sort_index()"
      ],
      "execution_count": 181,
      "outputs": []
    },
    {
      "cell_type": "code",
      "metadata": {
        "id": "6wm582DfFCrm",
        "outputId": "d7969104-542f-4354-b1ae-02a5f9073c38",
        "colab": {
          "base_uri": "https://localhost:8080/",
          "height": 337
        }
      },
      "source": [
        "submission = submission.fillna(0)\n",
        "submission.head()"
      ],
      "execution_count": 183,
      "outputs": [
        {
          "output_type": "execute_result",
          "data": {
            "text/html": [
              "<div>\n",
              "<style scoped>\n",
              "    .dataframe tbody tr th:only-of-type {\n",
              "        vertical-align: middle;\n",
              "    }\n",
              "\n",
              "    .dataframe tbody tr th {\n",
              "        vertical-align: top;\n",
              "    }\n",
              "\n",
              "    .dataframe thead th {\n",
              "        text-align: right;\n",
              "    }\n",
              "</style>\n",
              "<table border=\"1\" class=\"dataframe\">\n",
              "  <thead>\n",
              "    <tr style=\"text-align: right;\">\n",
              "      <th></th>\n",
              "      <th>마더코드</th>\n",
              "      <th>상품코드</th>\n",
              "      <th>상품명</th>\n",
              "      <th>상품군</th>\n",
              "      <th>판매단가</th>\n",
              "      <th>취급액</th>\n",
              "    </tr>\n",
              "    <tr>\n",
              "      <th>방송일시</th>\n",
              "      <th></th>\n",
              "      <th></th>\n",
              "      <th></th>\n",
              "      <th></th>\n",
              "      <th></th>\n",
              "      <th></th>\n",
              "    </tr>\n",
              "  </thead>\n",
              "  <tbody>\n",
              "    <tr>\n",
              "      <th>2020-06-01 06:20:00</th>\n",
              "      <td>100650</td>\n",
              "      <td>201971</td>\n",
              "      <td>잭필드 남성  반팔셔츠 4종</td>\n",
              "      <td>의류</td>\n",
              "      <td>59800</td>\n",
              "      <td>6.853178e+06</td>\n",
              "    </tr>\n",
              "    <tr>\n",
              "      <th>2020-06-01 06:40:00</th>\n",
              "      <td>100650</td>\n",
              "      <td>201971</td>\n",
              "      <td>잭필드 남성  반팔셔츠 4종</td>\n",
              "      <td>의류</td>\n",
              "      <td>59800</td>\n",
              "      <td>5.464822e+06</td>\n",
              "    </tr>\n",
              "    <tr>\n",
              "      <th>2020-06-01 07:00:00</th>\n",
              "      <td>100650</td>\n",
              "      <td>201971</td>\n",
              "      <td>잭필드 남성  반팔셔츠 4종</td>\n",
              "      <td>의류</td>\n",
              "      <td>59800</td>\n",
              "      <td>6.173502e+06</td>\n",
              "    </tr>\n",
              "    <tr>\n",
              "      <th>2020-06-01 07:20:00</th>\n",
              "      <td>100445</td>\n",
              "      <td>202278</td>\n",
              "      <td>쿠미투니카 쿨 레이시 란쥬쉐이퍼&amp;팬티</td>\n",
              "      <td>속옷</td>\n",
              "      <td>69900</td>\n",
              "      <td>1.401148e+07</td>\n",
              "    </tr>\n",
              "    <tr>\n",
              "      <th>2020-06-01 07:40:00</th>\n",
              "      <td>100445</td>\n",
              "      <td>202278</td>\n",
              "      <td>쿠미투니카 쿨 레이시 란쥬쉐이퍼&amp;팬티</td>\n",
              "      <td>속옷</td>\n",
              "      <td>69900</td>\n",
              "      <td>1.094772e+07</td>\n",
              "    </tr>\n",
              "  </tbody>\n",
              "</table>\n",
              "</div>"
            ],
            "text/plain": [
              "                       마더코드    상품코드  ...   판매단가           취급액\n",
              "방송일시                                 ...                     \n",
              "2020-06-01 06:20:00  100650  201971  ...  59800  6.853178e+06\n",
              "2020-06-01 06:40:00  100650  201971  ...  59800  5.464822e+06\n",
              "2020-06-01 07:00:00  100650  201971  ...  59800  6.173502e+06\n",
              "2020-06-01 07:20:00  100445  202278  ...  69900  1.401148e+07\n",
              "2020-06-01 07:40:00  100445  202278  ...  69900  1.094772e+07\n",
              "\n",
              "[5 rows x 6 columns]"
            ]
          },
          "metadata": {
            "tags": []
          },
          "execution_count": 183
        }
      ]
    },
    {
      "cell_type": "code",
      "metadata": {
        "id": "d6HnVWQPGWuE"
      },
      "source": [
        "submission.to_excel('submission.xlsx')"
      ],
      "execution_count": 187,
      "outputs": []
    },
    {
      "cell_type": "code",
      "metadata": {
        "id": "1gc2QOLh4CY9"
      },
      "source": [
        ""
      ],
      "execution_count": null,
      "outputs": []
    }
  ]
}