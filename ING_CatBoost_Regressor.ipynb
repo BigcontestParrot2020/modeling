{
  "nbformat": 4,
  "nbformat_minor": 0,
  "metadata": {
    "colab": {
      "name": "ING_CatBoost Regressor",
      "provenance": [],
      "collapsed_sections": [],
      "toc_visible": true
    },
    "kernelspec": {
      "name": "python3",
      "display_name": "Python 3"
    }
  },
  "cells": [
    {
      "cell_type": "code",
      "metadata": {
        "id": "9oXZd8IEoJOr",
        "colab_type": "code",
        "colab": {
          "base_uri": "https://localhost:8080/",
          "height": 73
        },
        "outputId": "e238617c-a8dc-464a-8895-d60adad99572"
      },
      "source": [
        "import os\n",
        "import numpy as np\n",
        "import pandas as pd\n",
        "import matplotlib.pyplot as plt\n",
        "import seaborn as sns\n",
        "import datetime as dt\n",
        "\n",
        "plt.style.use('seaborn-whitegrid')"
      ],
      "execution_count": 1,
      "outputs": [
        {
          "output_type": "stream",
          "text": [
            "/usr/local/lib/python3.6/dist-packages/statsmodels/tools/_testing.py:19: FutureWarning: pandas.util.testing is deprecated. Use the functions in the public API at pandas.testing instead.\n",
            "  import pandas.util.testing as tm\n"
          ],
          "name": "stderr"
        }
      ]
    },
    {
      "cell_type": "code",
      "metadata": {
        "id": "fNrzSVMOdykG",
        "colab_type": "code",
        "colab": {}
      },
      "source": [
        "from sklearn.preprocessing import LabelEncoder\n",
        "from sklearn.preprocessing import OneHotEncoder\n",
        "\n",
        "from sklearn.preprocessing import MinMaxScaler\n",
        "from sklearn.feature_extraction.text import CountVectorizer"
      ],
      "execution_count": 2,
      "outputs": []
    },
    {
      "cell_type": "code",
      "metadata": {
        "id": "WBfIQh2tMn7u",
        "colab_type": "code",
        "colab": {
          "base_uri": "https://localhost:8080/",
          "height": 35
        },
        "outputId": "e0bd5d26-74f6-485c-bd49-2e00c9d87432"
      },
      "source": [
        "!git clone https://github.com/BigcontestParrot2020/csv.git"
      ],
      "execution_count": 3,
      "outputs": [
        {
          "output_type": "stream",
          "text": [
            "fatal: destination path 'csv' already exists and is not an empty directory.\n"
          ],
          "name": "stdout"
        }
      ]
    },
    {
      "cell_type": "code",
      "metadata": {
        "id": "9gEDgGKubkDl",
        "colab_type": "code",
        "colab": {}
      },
      "source": [
        "os.chdir('csv/')"
      ],
      "execution_count": 4,
      "outputs": []
    },
    {
      "cell_type": "code",
      "metadata": {
        "id": "9Hzg6GSCpyeU",
        "colab_type": "code",
        "colab": {
          "base_uri": "https://localhost:8080/",
          "height": 35
        },
        "outputId": "9d950c82-9359-4059-913d-07a93bd43cc7"
      },
      "source": [
        "os.getcwd()"
      ],
      "execution_count": 7,
      "outputs": [
        {
          "output_type": "execute_result",
          "data": {
            "application/vnd.google.colaboratory.intrinsic+json": {
              "type": "string"
            },
            "text/plain": [
              "'/content/csv'"
            ]
          },
          "metadata": {
            "tags": []
          },
          "execution_count": 7
        }
      ]
    },
    {
      "cell_type": "code",
      "metadata": {
        "id": "YzpV_ym-bOPK",
        "colab_type": "code",
        "colab": {
          "base_uri": "https://localhost:8080/",
          "height": 107
        },
        "outputId": "d042284e-8acf-41aa-cd6e-f65c22e80faf"
      },
      "source": [
        "!apt install fonts-nanum\n",
        "\n",
        "import matplotlib as mpl\n",
        "import matplotlib.font_manager as fm\n",
        "\n",
        "fontpath = '/usr/share/fonts/truetype/nanum/NanumBarunGothic.ttf'\n",
        "font = fm.FontProperties(fname=fontpath, size=9)\n",
        "plt.rc('font', family='NanumBarunGothic') \n",
        "mpl.font_manager._rebuild()"
      ],
      "execution_count": 5,
      "outputs": [
        {
          "output_type": "stream",
          "text": [
            "Reading package lists... Done\n",
            "Building dependency tree       \n",
            "Reading state information... Done\n",
            "fonts-nanum is already the newest version (20170925-1).\n",
            "0 upgraded, 0 newly installed, 0 to remove and 11 not upgraded.\n"
          ],
          "name": "stdout"
        }
      ]
    },
    {
      "cell_type": "code",
      "metadata": {
        "id": "zxilbntFqYD5",
        "colab_type": "code",
        "colab": {
          "base_uri": "https://localhost:8080/",
          "height": 289
        },
        "outputId": "c71d3fae-01d6-4dd8-b0a1-1f10a99e84d9"
      },
      "source": [
        "!pip install catboost\n",
        "from catboost import CatBoostRegressor, Pool"
      ],
      "execution_count": 34,
      "outputs": [
        {
          "output_type": "stream",
          "text": [
            "Requirement already satisfied: catboost in /usr/local/lib/python3.6/dist-packages (0.24.1)\n",
            "Requirement already satisfied: numpy>=1.16.0 in /usr/local/lib/python3.6/dist-packages (from catboost) (1.18.5)\n",
            "Requirement already satisfied: plotly in /usr/local/lib/python3.6/dist-packages (from catboost) (4.4.1)\n",
            "Requirement already satisfied: six in /usr/local/lib/python3.6/dist-packages (from catboost) (1.15.0)\n",
            "Requirement already satisfied: scipy in /usr/local/lib/python3.6/dist-packages (from catboost) (1.4.1)\n",
            "Requirement already satisfied: matplotlib in /usr/local/lib/python3.6/dist-packages (from catboost) (3.2.2)\n",
            "Requirement already satisfied: graphviz in /usr/local/lib/python3.6/dist-packages (from catboost) (0.10.1)\n",
            "Requirement already satisfied: pandas>=0.24.0 in /usr/local/lib/python3.6/dist-packages (from catboost) (1.0.5)\n",
            "Requirement already satisfied: retrying>=1.3.3 in /usr/local/lib/python3.6/dist-packages (from plotly->catboost) (1.3.3)\n",
            "Requirement already satisfied: kiwisolver>=1.0.1 in /usr/local/lib/python3.6/dist-packages (from matplotlib->catboost) (1.2.0)\n",
            "Requirement already satisfied: pyparsing!=2.0.4,!=2.1.2,!=2.1.6,>=2.0.1 in /usr/local/lib/python3.6/dist-packages (from matplotlib->catboost) (2.4.7)\n",
            "Requirement already satisfied: cycler>=0.10 in /usr/local/lib/python3.6/dist-packages (from matplotlib->catboost) (0.10.0)\n",
            "Requirement already satisfied: python-dateutil>=2.1 in /usr/local/lib/python3.6/dist-packages (from matplotlib->catboost) (2.8.1)\n",
            "Requirement already satisfied: pytz>=2017.2 in /usr/local/lib/python3.6/dist-packages (from pandas>=0.24.0->catboost) (2018.9)\n"
          ],
          "name": "stdout"
        }
      ]
    },
    {
      "cell_type": "code",
      "metadata": {
        "id": "JR0ayQhjqhGJ",
        "colab_type": "code",
        "colab": {
          "base_uri": "https://localhost:8080/",
          "height": 269
        },
        "outputId": "305d3bb5-1151-4371-d675-d8134b7ffaaa"
      },
      "source": [
        "!pip install shap\n",
        "import shap"
      ],
      "execution_count": 31,
      "outputs": [
        {
          "output_type": "stream",
          "text": [
            "Requirement already satisfied: shap in /usr/local/lib/python3.6/dist-packages (0.36.0)\n",
            "Requirement already satisfied: pandas in /usr/local/lib/python3.6/dist-packages (from shap) (1.0.5)\n",
            "Requirement already satisfied: tqdm>4.25.0 in /usr/local/lib/python3.6/dist-packages (from shap) (4.41.1)\n",
            "Requirement already satisfied: numba in /usr/local/lib/python3.6/dist-packages (from shap) (0.48.0)\n",
            "Requirement already satisfied: scikit-learn in /usr/local/lib/python3.6/dist-packages (from shap) (0.22.2.post1)\n",
            "Requirement already satisfied: slicer in /usr/local/lib/python3.6/dist-packages (from shap) (0.0.4)\n",
            "Requirement already satisfied: scipy in /usr/local/lib/python3.6/dist-packages (from shap) (1.4.1)\n",
            "Requirement already satisfied: numpy in /usr/local/lib/python3.6/dist-packages (from shap) (1.18.5)\n",
            "Requirement already satisfied: pytz>=2017.2 in /usr/local/lib/python3.6/dist-packages (from pandas->shap) (2018.9)\n",
            "Requirement already satisfied: python-dateutil>=2.6.1 in /usr/local/lib/python3.6/dist-packages (from pandas->shap) (2.8.1)\n",
            "Requirement already satisfied: setuptools in /usr/local/lib/python3.6/dist-packages (from numba->shap) (50.3.0)\n",
            "Requirement already satisfied: llvmlite<0.32.0,>=0.31.0dev0 in /usr/local/lib/python3.6/dist-packages (from numba->shap) (0.31.0)\n",
            "Requirement already satisfied: joblib>=0.11 in /usr/local/lib/python3.6/dist-packages (from scikit-learn->shap) (0.16.0)\n",
            "Requirement already satisfied: six>=1.5 in /usr/local/lib/python3.6/dist-packages (from python-dateutil>=2.6.1->pandas->shap) (1.15.0)\n"
          ],
          "name": "stdout"
        }
      ]
    },
    {
      "cell_type": "markdown",
      "metadata": {
        "id": "PrTh29fmATKL",
        "colab_type": "text"
      },
      "source": [
        "## Get Data\n"
      ]
    },
    {
      "cell_type": "code",
      "metadata": {
        "id": "zF9-zUYcY5Ff",
        "colab_type": "code",
        "colab": {}
      },
      "source": [
        "data = pd.read_csv('/content/csv/csv/0921_ver.csv', encoding = 'utf-8', index_col = 0).iloc[:,1:]\n",
        "data = data.dropna()\n",
        "\n",
        "#data['구매횟수'] = data.취급액/data.판매단가"
      ],
      "execution_count": 202,
      "outputs": []
    },
    {
      "cell_type": "code",
      "metadata": {
        "id": "3__DFAFQg0Ll",
        "colab_type": "code",
        "colab": {}
      },
      "source": [
        "data['취급액_로그'] = np.log(data.취급액)\n",
        "data = data.drop(columns = ['취급액'])"
      ],
      "execution_count": 203,
      "outputs": []
    },
    {
      "cell_type": "code",
      "metadata": {
        "id": "c06MLZQhwSRk",
        "colab_type": "code",
        "colab": {
          "base_uri": "https://localhost:8080/",
          "height": 235
        },
        "outputId": "0da3cd3e-35fe-4bc2-e5fc-92c107559f65"
      },
      "source": [
        "data.head()"
      ],
      "execution_count": 204,
      "outputs": [
        {
          "output_type": "execute_result",
          "data": {
            "text/html": [
              "<div>\n",
              "<style scoped>\n",
              "    .dataframe tbody tr th:only-of-type {\n",
              "        vertical-align: middle;\n",
              "    }\n",
              "\n",
              "    .dataframe tbody tr th {\n",
              "        vertical-align: top;\n",
              "    }\n",
              "\n",
              "    .dataframe thead th {\n",
              "        text-align: right;\n",
              "    }\n",
              "</style>\n",
              "<table border=\"1\" class=\"dataframe\">\n",
              "  <thead>\n",
              "    <tr style=\"text-align: right;\">\n",
              "      <th></th>\n",
              "      <th>상품명</th>\n",
              "      <th>상품군</th>\n",
              "      <th>판매단가</th>\n",
              "      <th>월</th>\n",
              "      <th>일</th>\n",
              "      <th>시</th>\n",
              "      <th>소비층</th>\n",
              "      <th>요일</th>\n",
              "      <th>휴일</th>\n",
              "      <th>프라임</th>\n",
              "      <th>파트</th>\n",
              "      <th>취급액_로그</th>\n",
              "    </tr>\n",
              "    <tr>\n",
              "      <th>방송일시</th>\n",
              "      <th></th>\n",
              "      <th></th>\n",
              "      <th></th>\n",
              "      <th></th>\n",
              "      <th></th>\n",
              "      <th></th>\n",
              "      <th></th>\n",
              "      <th></th>\n",
              "      <th></th>\n",
              "      <th></th>\n",
              "      <th></th>\n",
              "      <th></th>\n",
              "    </tr>\n",
              "  </thead>\n",
              "  <tbody>\n",
              "    <tr>\n",
              "      <th>2019-01-01 06:00:00</th>\n",
              "      <td>테이트 남성 셀린니트3종</td>\n",
              "      <td>의류</td>\n",
              "      <td>39900</td>\n",
              "      <td>1</td>\n",
              "      <td>1</td>\n",
              "      <td>6</td>\n",
              "      <td>1</td>\n",
              "      <td>Tuesday</td>\n",
              "      <td>2</td>\n",
              "      <td>4</td>\n",
              "      <td>First</td>\n",
              "      <td>14.556972</td>\n",
              "    </tr>\n",
              "    <tr>\n",
              "      <th>2019-01-01 06:00:00</th>\n",
              "      <td>테이트 여성 셀린니트3종</td>\n",
              "      <td>의류</td>\n",
              "      <td>39900</td>\n",
              "      <td>1</td>\n",
              "      <td>1</td>\n",
              "      <td>6</td>\n",
              "      <td>1</td>\n",
              "      <td>Tuesday</td>\n",
              "      <td>2</td>\n",
              "      <td>4</td>\n",
              "      <td>First</td>\n",
              "      <td>15.290502</td>\n",
              "    </tr>\n",
              "    <tr>\n",
              "      <th>2019-01-01 06:20:00</th>\n",
              "      <td>테이트 남성 셀린니트3종</td>\n",
              "      <td>의류</td>\n",
              "      <td>39900</td>\n",
              "      <td>1</td>\n",
              "      <td>1</td>\n",
              "      <td>6</td>\n",
              "      <td>1</td>\n",
              "      <td>Tuesday</td>\n",
              "      <td>2</td>\n",
              "      <td>4</td>\n",
              "      <td>Middle</td>\n",
              "      <td>14.997851</td>\n",
              "    </tr>\n",
              "    <tr>\n",
              "      <th>2019-01-01 06:20:00</th>\n",
              "      <td>테이트 여성 셀린니트3종</td>\n",
              "      <td>의류</td>\n",
              "      <td>39900</td>\n",
              "      <td>1</td>\n",
              "      <td>1</td>\n",
              "      <td>6</td>\n",
              "      <td>1</td>\n",
              "      <td>Tuesday</td>\n",
              "      <td>2</td>\n",
              "      <td>4</td>\n",
              "      <td>Middle</td>\n",
              "      <td>15.754971</td>\n",
              "    </tr>\n",
              "    <tr>\n",
              "      <th>2019-01-01 06:40:00</th>\n",
              "      <td>테이트 남성 셀린니트3종</td>\n",
              "      <td>의류</td>\n",
              "      <td>39900</td>\n",
              "      <td>1</td>\n",
              "      <td>1</td>\n",
              "      <td>6</td>\n",
              "      <td>1</td>\n",
              "      <td>Tuesday</td>\n",
              "      <td>2</td>\n",
              "      <td>4</td>\n",
              "      <td>Later</td>\n",
              "      <td>15.713430</td>\n",
              "    </tr>\n",
              "  </tbody>\n",
              "</table>\n",
              "</div>"
            ],
            "text/plain": [
              "                               상품명 상품군   판매단가  월  ...  휴일  프라임      파트     취급액_로그\n",
              "방송일시                                              ...                            \n",
              "2019-01-01 06:00:00  테이트 남성 셀린니트3종  의류  39900  1  ...   2    4   First  14.556972\n",
              "2019-01-01 06:00:00  테이트 여성 셀린니트3종  의류  39900  1  ...   2    4   First  15.290502\n",
              "2019-01-01 06:20:00  테이트 남성 셀린니트3종  의류  39900  1  ...   2    4  Middle  14.997851\n",
              "2019-01-01 06:20:00  테이트 여성 셀린니트3종  의류  39900  1  ...   2    4  Middle  15.754971\n",
              "2019-01-01 06:40:00  테이트 남성 셀린니트3종  의류  39900  1  ...   2    4   Later  15.713430\n",
              "\n",
              "[5 rows x 12 columns]"
            ]
          },
          "metadata": {
            "tags": []
          },
          "execution_count": 204
        }
      ]
    },
    {
      "cell_type": "markdown",
      "metadata": {
        "id": "IYp6YY0LRSh6",
        "colab_type": "text"
      },
      "source": [
        "## Define Functions"
      ]
    },
    {
      "cell_type": "code",
      "metadata": {
        "id": "RZ-mDRixQ_FO",
        "colab_type": "code",
        "colab": {}
      },
      "source": [
        "import re\n",
        "\n",
        "def max_words(goods_kind):\n",
        "    words = ' '.join(list(data[data.상품군 == goods_kind].상품명.values))\n",
        "\n",
        "    words = re.split(r'[+ ]', words)\n",
        "    words = list(filter(lambda x: x != '', words))\n",
        "    word_count = {}\n",
        "    for word in set(words):\n",
        "        count = words.count(word)\n",
        "        word_count.update({word:count})\n",
        "        \n",
        "    return word_count"
      ],
      "execution_count": 205,
      "outputs": []
    },
    {
      "cell_type": "code",
      "metadata": {
        "id": "BCbDLVX5chHW",
        "colab_type": "code",
        "colab": {}
      },
      "source": [
        "def mean_absolute_percentage_error(y_true, y_pred): \n",
        "    y_true, y_pred = np.array(y_true), np.array(y_pred)\n",
        "    return np.mean(np.abs((y_true - y_pred) / y_true)) * 100"
      ],
      "execution_count": 206,
      "outputs": []
    },
    {
      "cell_type": "code",
      "metadata": {
        "id": "iYwn6wTkTz3Z",
        "colab_type": "code",
        "colab": {}
      },
      "source": [
        "def train_df(group_name, max_features):\n",
        "    group_df = data[data.상품군 == group_name]\n",
        "\n",
        "    # Apply CountVectorizer with preprocessed 상품명\n",
        "    words = ' '.join(list(group_df.상품명.dropna().values))\n",
        "    words = re.split(r'[()+ ]', words)\n",
        "    words = list(filter(lambda x: x != '', words))\n",
        "\n",
        "    vect = CountVectorizer(max_features = max_features)\n",
        "    vect.fit(words)\n",
        "\n",
        "    # merge base dataframe with word-embedding dataframe\n",
        "    df = pd.DataFrame(np.stack(group_df.상품명.map(lambda x: vect.transform(x.split()).toarray().sum(axis=0)).values),\n",
        "                      columns=vect.get_feature_names(),\n",
        "                      index = group_df.index)\n",
        "    df = pd.concat([group_df, df], axis=1)\n",
        "    df = df.drop(columns = ['상품명','상품군'])\n",
        "\n",
        "    return df"
      ],
      "execution_count": 207,
      "outputs": []
    },
    {
      "cell_type": "code",
      "metadata": {
        "id": "v4FpdA-VQ48z",
        "colab_type": "code",
        "colab": {}
      },
      "source": [
        "def plot_result(test_dict, predict_dict, scores_dict):\n",
        "    fig,  ax = plt.subplots(2,6, figsize = (15, 5))\n",
        "    for i in range(12):\n",
        "        x = i//6\n",
        "        y = i%6\n",
        "        ax[x, y].plot(test_dict[i+1], predict_dict[i+1], linestyle = '', marker = 'o')\n",
        "        ax[x, y].plot(test_dict[i+1], test_dict[i+1], color = 'r')\n",
        "        ax[x, y].set_title(f'{i+1}: MAPE {round(scores_dict[i+1],2)}')"
      ],
      "execution_count": 208,
      "outputs": []
    },
    {
      "cell_type": "markdown",
      "metadata": {
        "id": "wj-vow5IRZhk",
        "colab_type": "text"
      },
      "source": [
        "## Preprocessing"
      ]
    },
    {
      "cell_type": "code",
      "metadata": {
        "id": "sNc6ASiRV6JI",
        "colab_type": "code",
        "colab": {}
      },
      "source": [
        "data.상품명 = data.상품명.str.replace('(무)', '무이자', regex = False)\n",
        "data.상품명 = data.상품명.str.replace('무)', '무이자', regex = False)\n",
        "data.상품명 = data.상품명.str.replace('무이자', ' 무이자 ', regex = False)\n",
        "data.상품명 = data.상품명.str.replace('(일)', '일시불', regex = False)\n",
        "data.상품명 = data.상품명.str.replace('일)', '일시불', regex = False)\n",
        "data.상품명 = data.상품명.str.replace('일시불', ' 일시불 ', regex = False)\n",
        "\n",
        "def payment(x):\n",
        "    if '일시불' in x:\n",
        "        return '일시불'\n",
        "    if '무이자' in x:\n",
        "        return '무이자'\n",
        "    else:\n",
        "        return '해당없음'\n",
        "\n",
        "data['결제유형'] = data.상품명.map(lambda x: payment(x))\n",
        "\n",
        "data.상품명 = data.상품명.str.replace('무이자', '', regex = False)\n",
        "data.상품명 = data.상품명.str.replace('일시불', '', regex = False)"
      ],
      "execution_count": 209,
      "outputs": []
    },
    {
      "cell_type": "code",
      "metadata": {
        "id": "a9QIVmqWauLJ",
        "colab_type": "code",
        "colab": {}
      },
      "source": [
        "# 괄호\n",
        "data.상품명 = data.상품명.str.replace('[', ' ', regex = False)\n",
        "data.상품명 = data.상품명.str.replace(']', ' ', regex = False)\n",
        "data.상품명 = data.상품명.str.replace('(', ' ', regex = False)\n",
        "data.상품명 = data.상품명.str.replace(')', ' ', regex = False)"
      ],
      "execution_count": 210,
      "outputs": []
    },
    {
      "cell_type": "code",
      "metadata": {
        "id": "azXonoP-XNjZ",
        "colab_type": "code",
        "colab": {}
      },
      "source": [
        "## 남성 : 1\n",
        "## 여성 : 2\n",
        "\n",
        "data.상품명 = data.상품명.str.replace('남성용', '남성', regex = False)\n",
        "data.상품명 = data.상품명.str.replace('남성', ' 남성 ', regex = False)\n",
        "data.상품명 = data.상품명.str.replace('여성용', '여성', regex = False)\n",
        "data.상품명 = data.상품명.str.replace('여성', ' 여성 ', regex = False)\n",
        "\n",
        "def sex(x):\n",
        "    if '남성' in x:\n",
        "        return 1\n",
        "    if '여성' in x:\n",
        "        return 2\n",
        "    else:\n",
        "        return 0\n",
        "\n",
        "data['성별'] = data.상품명.map(lambda x: sex(x))\n",
        "\n",
        "data.상품명 = data.상품명.str.replace('남성', '', regex = False)\n",
        "data.상품명 = data.상품명.str.replace('여성', '', regex = False)"
      ],
      "execution_count": 65,
      "outputs": []
    },
    {
      "cell_type": "code",
      "metadata": {
        "id": "eyB8cERFD067",
        "colab_type": "code",
        "colab": {}
      },
      "source": [
        "# 연도\n",
        "data.상품명 = data.상품명.str.replace('2018년', '')\n",
        "data.상품명 = data.상품명.str.replace('2018', '')\n",
        "data.상품명 = data.상품명.str.replace('2019년', '')\n",
        "data.상품명 = data.상품명.str.replace('2019', '')\n",
        "data.상품명 = data.상품명.str.replace('19년', '')\n",
        "data.상품명 = data.상품명.str.replace('19', '')"
      ],
      "execution_count": 186,
      "outputs": []
    },
    {
      "cell_type": "code",
      "metadata": {
        "id": "-k8ZsqJ6Inj3",
        "colab_type": "code",
        "colab": {}
      },
      "source": [
        "data.상품명 = data.상품명.str.replace(r'\\d+[월]', '',)\n",
        "data.상품명 = data.상품명.str.replace(r'\\d+[차]', '',)\n",
        "data.상품명 = data.상품명.str.replace(r'[시][즌]\\d+', '',)\n",
        "data.상품명 = data.상품명.str.replace(r'[시][즌] \\d+', '',)\n",
        "\n",
        "data.상품명 = data.상품명.str.replace(r'\\d+[.]\\d+[k][g]', '',)\n",
        "data.상품명 = data.상품명.str.replace(r'\\d+[k][g]', '',)\n",
        "data.상품명 = data.상품명.str.replace(r'\\d+[.]\\d+[g]', '',)\n",
        "data.상품명 = data.상품명.str.replace(r'\\d+[g]', '',)\n",
        "data.상품명 = data.상품명.str.replace(r'\\d+[.]\\d+[L]', '',)\n",
        "data.상품명 = data.상품명.str.replace(r'\\d+[L]', '',)\n",
        "data.상품명 = data.상품명.str.replace(r'\\d+[.]\\d+[리][터]', '',)\n",
        "data.상품명 = data.상품명.str.replace(r'\\d+[리][터]', '',)\n",
        "data.상품명 = data.상품명.str.replace(r'\\d+[.]\\d+[m]', '',)\n",
        "data.상품명 = data.상품명.str.replace(r'\\d+[m]', '',)\n",
        "\n",
        "data.상품명 = data.상품명.str.replace(r'\\d+[팩]', '',)\n",
        "data.상품명 = data.상품명.str.replace(r'\\d+[박][스]', '',)\n",
        "data.상품명 = data.상품명.str.replace(r'\\d+[미]', '')\n",
        "data.상품명 = data.상품명.str.replace(r'\\d+[개]', '')\n",
        "data.상품명 = data.상품명.str.replace(r'\\d+[포]', '')\n",
        "data.상품명 = data.상품명.str.replace(r'\\d+[마][리]', '')"
      ],
      "execution_count": 211,
      "outputs": []
    },
    {
      "cell_type": "code",
      "metadata": {
        "id": "NpZ7rad4gwqk",
        "colab_type": "code",
        "colab": {}
      },
      "source": [
        "data.상품명 = data.상품명.str.replace(r'\\d+[인][용]', '',)\n",
        "data.상품명 = data.상품명.str.replace(r'\\d+[종]', '',)"
      ],
      "execution_count": 212,
      "outputs": []
    },
    {
      "cell_type": "code",
      "metadata": {
        "id": "1666Uhppu5Y0",
        "colab_type": "code",
        "colab": {}
      },
      "source": [
        "data['원플원'] = data.상품명.str.contains('1+1', regex = False)\n",
        "data['원플원'] = data.원플원.map(lambda x: 1 if x == True else 0)\n",
        "data.상품명 = data.상품명.str.replace('1+1', '', regex = False)"
      ],
      "execution_count": null,
      "outputs": []
    },
    {
      "cell_type": "code",
      "metadata": {
        "id": "INz4wfL5i0dI",
        "colab_type": "code",
        "colab": {}
      },
      "source": [
        "#data['종'] = data.상품명.str.extract(r'(\\d+)[종]').fillna(0)\n",
        "# data['종'] = data.종.map(lambda x: int(x) if x != 0 else 0)\n",
        "\n",
        "\n",
        "# data['세트'] = data.상품명.str.extract(r'(\\d+)[세트]').fillna(0)\n",
        "# data['세트'] = data.세트.map(lambda x: int(x) if x != 0 else 0)\n",
        "\n",
        "# data.상품명 = data.상품명.str.replace(r'\\d+[세][트]', '',)\n",
        "\n",
        "# data['n종세트'] = data.종 +data.세트"
      ],
      "execution_count": null,
      "outputs": []
    },
    {
      "cell_type": "code",
      "metadata": {
        "id": "MbwkrAjmg_CY",
        "colab_type": "code",
        "colab": {}
      },
      "source": [
        "## 에디션\n",
        "data.상품명 = data.상품명.str.replace('블랙 에디션', '')\n",
        "data.상품명 = data.상품명.str.replace('에디션', '')\n",
        "\n",
        "## 초특가\n",
        "data.상품명 = data.상품명.str.replace('초특가', '') #?"
      ],
      "execution_count": null,
      "outputs": []
    },
    {
      "cell_type": "code",
      "metadata": {
        "id": "Xh1lXP2ttDKv",
        "colab_type": "code",
        "colab": {}
      },
      "source": [
        "group_df = {}\n",
        "for g in set(data.상품군):\n",
        "    df = data[data.상품군 == g]\n",
        "    group_df.update({g:df})"
      ],
      "execution_count": 68,
      "outputs": []
    },
    {
      "cell_type": "code",
      "metadata": {
        "id": "3pkNCKGBv9U0",
        "colab_type": "code",
        "colab": {}
      },
      "source": [
        "def replace(df, *args):\n",
        "    for a in args:\n",
        "        df.상품명 = df.상품명.str.replace(a, '', regex = False)\n",
        "    return df\n",
        "\n",
        "def separate(df, *args):\n",
        "    for a in args:\n",
        "        df.상품명 = df.상품명.str.replace(a, f' {a} ', regex = False)\n",
        "    return df\n",
        "\n",
        "def brand(x, brand_list):\n",
        "    words = list(x.split())\n",
        "    for w in words:\n",
        "        if w in brand_list:\n",
        "            return w\n",
        "\n",
        "def goods_names(x, name_list):\n",
        "    words = list(x.split(' '))\n",
        "    for w in words:\n",
        "        if w in name_list:\n",
        "            return w"
      ],
      "execution_count": 86,
      "outputs": []
    },
    {
      "cell_type": "markdown",
      "metadata": {
        "id": "mfNccRZ-_6mA",
        "colab_type": "text"
      },
      "source": [
        "## 주방"
      ]
    },
    {
      "cell_type": "code",
      "metadata": {
        "id": "iAL4LMQNyT3n",
        "colab_type": "code",
        "colab": {
          "base_uri": "https://localhost:8080/",
          "height": 371
        },
        "outputId": "79c58b96-0cb3-42f9-b1bd-ed8133f569e0"
      },
      "source": [
        "group_df['주방'].head()"
      ],
      "execution_count": 74,
      "outputs": [
        {
          "output_type": "execute_result",
          "data": {
            "text/html": [
              "<div>\n",
              "<style scoped>\n",
              "    .dataframe tbody tr th:only-of-type {\n",
              "        vertical-align: middle;\n",
              "    }\n",
              "\n",
              "    .dataframe tbody tr th {\n",
              "        vertical-align: top;\n",
              "    }\n",
              "\n",
              "    .dataframe thead th {\n",
              "        text-align: right;\n",
              "    }\n",
              "</style>\n",
              "<table border=\"1\" class=\"dataframe\">\n",
              "  <thead>\n",
              "    <tr style=\"text-align: right;\">\n",
              "      <th></th>\n",
              "      <th>상품명</th>\n",
              "      <th>상품군</th>\n",
              "      <th>판매단가</th>\n",
              "      <th>월</th>\n",
              "      <th>일</th>\n",
              "      <th>시</th>\n",
              "      <th>소비층</th>\n",
              "      <th>요일</th>\n",
              "      <th>휴일</th>\n",
              "      <th>프라임</th>\n",
              "      <th>파트</th>\n",
              "      <th>취급액_로그</th>\n",
              "      <th>세일</th>\n",
              "      <th>결제유형</th>\n",
              "      <th>성별</th>\n",
              "    </tr>\n",
              "    <tr>\n",
              "      <th>방송일시</th>\n",
              "      <th></th>\n",
              "      <th></th>\n",
              "      <th></th>\n",
              "      <th></th>\n",
              "      <th></th>\n",
              "      <th></th>\n",
              "      <th></th>\n",
              "      <th></th>\n",
              "      <th></th>\n",
              "      <th></th>\n",
              "      <th></th>\n",
              "      <th></th>\n",
              "      <th></th>\n",
              "      <th></th>\n",
              "      <th></th>\n",
              "    </tr>\n",
              "  </thead>\n",
              "  <tbody>\n",
              "    <tr>\n",
              "      <th>2019-01-01 12:00:00</th>\n",
              "      <td>에코라믹 통주물 스톤 냄비세트</td>\n",
              "      <td>주방</td>\n",
              "      <td>60900</td>\n",
              "      <td>1</td>\n",
              "      <td>1</td>\n",
              "      <td>12</td>\n",
              "      <td>2</td>\n",
              "      <td>Tuesday</td>\n",
              "      <td>2</td>\n",
              "      <td>3</td>\n",
              "      <td>First</td>\n",
              "      <td>17.336652</td>\n",
              "      <td>0</td>\n",
              "      <td>0</td>\n",
              "      <td>0</td>\n",
              "    </tr>\n",
              "    <tr>\n",
              "      <th>2019-01-01 12:20:00</th>\n",
              "      <td>에코라믹 통주물 스톤 냄비세트</td>\n",
              "      <td>주방</td>\n",
              "      <td>60900</td>\n",
              "      <td>1</td>\n",
              "      <td>1</td>\n",
              "      <td>12</td>\n",
              "      <td>2</td>\n",
              "      <td>Tuesday</td>\n",
              "      <td>2</td>\n",
              "      <td>3</td>\n",
              "      <td>Middle</td>\n",
              "      <td>17.894454</td>\n",
              "      <td>0</td>\n",
              "      <td>0</td>\n",
              "      <td>0</td>\n",
              "    </tr>\n",
              "    <tr>\n",
              "      <th>2019-01-01 12:40:00</th>\n",
              "      <td>에코라믹 통주물 스톤 냄비세트</td>\n",
              "      <td>주방</td>\n",
              "      <td>60900</td>\n",
              "      <td>1</td>\n",
              "      <td>1</td>\n",
              "      <td>12</td>\n",
              "      <td>2</td>\n",
              "      <td>Tuesday</td>\n",
              "      <td>2</td>\n",
              "      <td>3</td>\n",
              "      <td>Later</td>\n",
              "      <td>18.413001</td>\n",
              "      <td>0</td>\n",
              "      <td>0</td>\n",
              "      <td>0</td>\n",
              "    </tr>\n",
              "    <tr>\n",
              "      <th>2019-01-02 10:00:00</th>\n",
              "      <td>쿠첸 풀스텐 압력밥솥 10인용  A1</td>\n",
              "      <td>주방</td>\n",
              "      <td>158000</td>\n",
              "      <td>1</td>\n",
              "      <td>2</td>\n",
              "      <td>10</td>\n",
              "      <td>2</td>\n",
              "      <td>Wednesday</td>\n",
              "      <td>0</td>\n",
              "      <td>2</td>\n",
              "      <td>First</td>\n",
              "      <td>15.794994</td>\n",
              "      <td>0</td>\n",
              "      <td>0</td>\n",
              "      <td>0</td>\n",
              "    </tr>\n",
              "    <tr>\n",
              "      <th>2019-01-02 10:00:00</th>\n",
              "      <td>쿠첸 풀스텐 압력밥솥 10인용 A1</td>\n",
              "      <td>주방</td>\n",
              "      <td>168000</td>\n",
              "      <td>1</td>\n",
              "      <td>2</td>\n",
              "      <td>10</td>\n",
              "      <td>2</td>\n",
              "      <td>Wednesday</td>\n",
              "      <td>0</td>\n",
              "      <td>2</td>\n",
              "      <td>First</td>\n",
              "      <td>16.007276</td>\n",
              "      <td>0</td>\n",
              "      <td>1</td>\n",
              "      <td>0</td>\n",
              "    </tr>\n",
              "  </tbody>\n",
              "</table>\n",
              "</div>"
            ],
            "text/plain": [
              "                                          상품명 상품군    판매단가  ...  세일  결제유형  성별\n",
              "방송일시                                                       ...              \n",
              "2019-01-01 12:00:00          에코라믹 통주물 스톤 냄비세트  주방   60900  ...   0     0   0\n",
              "2019-01-01 12:20:00          에코라믹 통주물 스톤 냄비세트  주방   60900  ...   0     0   0\n",
              "2019-01-01 12:40:00          에코라믹 통주물 스톤 냄비세트  주방   60900  ...   0     0   0\n",
              "2019-01-02 10:00:00     쿠첸 풀스텐 압력밥솥 10인용  A1   주방  158000  ...   0     0   0\n",
              "2019-01-02 10:00:00      쿠첸 풀스텐 압력밥솥 10인용 A1   주방  168000  ...   0     1   0\n",
              "\n",
              "[5 rows x 15 columns]"
            ]
          },
          "metadata": {
            "tags": []
          },
          "execution_count": 74
        }
      ]
    },
    {
      "cell_type": "code",
      "metadata": {
        "id": "dqFSQaFQv7js",
        "colab_type": "code",
        "colab": {
          "base_uri": "https://localhost:8080/",
          "height": 430
        },
        "outputId": "3ee34492-cf5b-4be7-8582-e7702fd7afea"
      },
      "source": [
        "brand_주방 = ['쿠쿠','쿠첸','린나이','에코라믹',]\n",
        "name_주방 = ['전기밥솥','압력밥솥','가스레인지','에어프라이어','프라이팬','분쇄믹서기']\n",
        "\n",
        "group_df['주방']['브랜드'] = group_df['주방'].상품명.map(lambda x: brand(x, brand_주방)) \n",
        "group_df['주방']['상품'] = group_df['주방'].상품명.map(lambda x: goods_names(x, name_주방)) \n",
        "\n",
        "group_df['주방'] = replace(group_df['주방'], brand_주방)\n",
        "group_df['주방'] = replace(group_df['주방'], name_주방)"
      ],
      "execution_count": 53,
      "outputs": [
        {
          "output_type": "error",
          "ename": "AttributeError",
          "evalue": "ignored",
          "traceback": [
            "\u001b[0;31m---------------------------------------------------------------------------\u001b[0m",
            "\u001b[0;31mAttributeError\u001b[0m                            Traceback (most recent call last)",
            "\u001b[0;32m<ipython-input-53-0788e23f6120>\u001b[0m in \u001b[0;36m<module>\u001b[0;34m()\u001b[0m\n\u001b[1;32m      2\u001b[0m \u001b[0mname_주방\u001b[0m \u001b[0;34m=\u001b[0m \u001b[0;34m[\u001b[0m\u001b[0;34m'전기밥솥'\u001b[0m\u001b[0;34m,\u001b[0m\u001b[0;34m'압력법솥'\u001b[0m\u001b[0;34m,\u001b[0m\u001b[0;34m'가스레인지'\u001b[0m\u001b[0;34m,\u001b[0m\u001b[0;34m'에어프라이어'\u001b[0m\u001b[0;34m,\u001b[0m\u001b[0;34m'프라이팬'\u001b[0m\u001b[0;34m,\u001b[0m\u001b[0;34m'분쇄믹서기'\u001b[0m\u001b[0;34m]\u001b[0m\u001b[0;34m\u001b[0m\u001b[0;34m\u001b[0m\u001b[0m\n\u001b[1;32m      3\u001b[0m \u001b[0;34m\u001b[0m\u001b[0m\n\u001b[0;32m----> 4\u001b[0;31m \u001b[0mgroup_df\u001b[0m\u001b[0;34m[\u001b[0m\u001b[0;34m'주방'\u001b[0m\u001b[0;34m]\u001b[0m\u001b[0;34m[\u001b[0m\u001b[0;34m'브랜드'\u001b[0m\u001b[0;34m]\u001b[0m \u001b[0;34m=\u001b[0m \u001b[0mgroup_df\u001b[0m\u001b[0;34m[\u001b[0m\u001b[0;34m'주방'\u001b[0m\u001b[0;34m]\u001b[0m\u001b[0;34m.\u001b[0m\u001b[0m상품명\u001b[0m\u001b[0;34m.\u001b[0m\u001b[0mmap\u001b[0m\u001b[0;34m(\u001b[0m\u001b[0;32mlambda\u001b[0m \u001b[0mx\u001b[0m\u001b[0;34m:\u001b[0m \u001b[0mbrand\u001b[0m\u001b[0;34m(\u001b[0m\u001b[0mx\u001b[0m\u001b[0;34m,\u001b[0m \u001b[0mbrand_주방\u001b[0m\u001b[0;34m)\u001b[0m\u001b[0;34m)\u001b[0m\u001b[0;34m\u001b[0m\u001b[0;34m\u001b[0m\u001b[0m\n\u001b[0m\u001b[1;32m      5\u001b[0m \u001b[0mgroup_df\u001b[0m\u001b[0;34m[\u001b[0m\u001b[0;34m'주방'\u001b[0m\u001b[0;34m]\u001b[0m\u001b[0;34m[\u001b[0m\u001b[0;34m'상품'\u001b[0m\u001b[0;34m]\u001b[0m \u001b[0;34m=\u001b[0m \u001b[0mgroup_df\u001b[0m\u001b[0;34m[\u001b[0m\u001b[0;34m'주방'\u001b[0m\u001b[0;34m]\u001b[0m\u001b[0;34m.\u001b[0m\u001b[0m상품명\u001b[0m\u001b[0;34m.\u001b[0m\u001b[0mmap\u001b[0m\u001b[0;34m(\u001b[0m\u001b[0;32mlambda\u001b[0m \u001b[0mx\u001b[0m\u001b[0;34m:\u001b[0m \u001b[0mgoods_names\u001b[0m\u001b[0;34m(\u001b[0m\u001b[0mx\u001b[0m\u001b[0;34m,\u001b[0m \u001b[0mname_주방\u001b[0m\u001b[0;34m)\u001b[0m\u001b[0;34m)\u001b[0m\u001b[0;34m\u001b[0m\u001b[0;34m\u001b[0m\u001b[0m\n\u001b[1;32m      6\u001b[0m \u001b[0;34m\u001b[0m\u001b[0m\n",
            "\u001b[0;32m/usr/local/lib/python3.6/dist-packages/pandas/core/series.py\u001b[0m in \u001b[0;36mmap\u001b[0;34m(self, arg, na_action)\u001b[0m\n\u001b[1;32m   3628\u001b[0m         \u001b[0mdtype\u001b[0m\u001b[0;34m:\u001b[0m \u001b[0mobject\u001b[0m\u001b[0;34m\u001b[0m\u001b[0;34m\u001b[0m\u001b[0m\n\u001b[1;32m   3629\u001b[0m         \"\"\"\n\u001b[0;32m-> 3630\u001b[0;31m         \u001b[0mnew_values\u001b[0m \u001b[0;34m=\u001b[0m \u001b[0msuper\u001b[0m\u001b[0;34m(\u001b[0m\u001b[0;34m)\u001b[0m\u001b[0;34m.\u001b[0m\u001b[0m_map_values\u001b[0m\u001b[0;34m(\u001b[0m\u001b[0marg\u001b[0m\u001b[0;34m,\u001b[0m \u001b[0mna_action\u001b[0m\u001b[0;34m=\u001b[0m\u001b[0mna_action\u001b[0m\u001b[0;34m)\u001b[0m\u001b[0;34m\u001b[0m\u001b[0;34m\u001b[0m\u001b[0m\n\u001b[0m\u001b[1;32m   3631\u001b[0m         \u001b[0;32mreturn\u001b[0m \u001b[0mself\u001b[0m\u001b[0;34m.\u001b[0m\u001b[0m_constructor\u001b[0m\u001b[0;34m(\u001b[0m\u001b[0mnew_values\u001b[0m\u001b[0;34m,\u001b[0m \u001b[0mindex\u001b[0m\u001b[0;34m=\u001b[0m\u001b[0mself\u001b[0m\u001b[0;34m.\u001b[0m\u001b[0mindex\u001b[0m\u001b[0;34m)\u001b[0m\u001b[0;34m.\u001b[0m\u001b[0m__finalize__\u001b[0m\u001b[0;34m(\u001b[0m\u001b[0mself\u001b[0m\u001b[0;34m)\u001b[0m\u001b[0;34m\u001b[0m\u001b[0;34m\u001b[0m\u001b[0m\n\u001b[1;32m   3632\u001b[0m \u001b[0;34m\u001b[0m\u001b[0m\n",
            "\u001b[0;32m/usr/local/lib/python3.6/dist-packages/pandas/core/base.py\u001b[0m in \u001b[0;36m_map_values\u001b[0;34m(self, mapper, na_action)\u001b[0m\n\u001b[1;32m   1143\u001b[0m \u001b[0;34m\u001b[0m\u001b[0m\n\u001b[1;32m   1144\u001b[0m         \u001b[0;31m# mapper is a function\u001b[0m\u001b[0;34m\u001b[0m\u001b[0;34m\u001b[0m\u001b[0;34m\u001b[0m\u001b[0m\n\u001b[0;32m-> 1145\u001b[0;31m         \u001b[0mnew_values\u001b[0m \u001b[0;34m=\u001b[0m \u001b[0mmap_f\u001b[0m\u001b[0;34m(\u001b[0m\u001b[0mvalues\u001b[0m\u001b[0;34m,\u001b[0m \u001b[0mmapper\u001b[0m\u001b[0;34m)\u001b[0m\u001b[0;34m\u001b[0m\u001b[0;34m\u001b[0m\u001b[0m\n\u001b[0m\u001b[1;32m   1146\u001b[0m \u001b[0;34m\u001b[0m\u001b[0m\n\u001b[1;32m   1147\u001b[0m         \u001b[0;32mreturn\u001b[0m \u001b[0mnew_values\u001b[0m\u001b[0;34m\u001b[0m\u001b[0;34m\u001b[0m\u001b[0m\n",
            "\u001b[0;32mpandas/_libs/lib.pyx\u001b[0m in \u001b[0;36mpandas._libs.lib.map_infer\u001b[0;34m()\u001b[0m\n",
            "\u001b[0;32m<ipython-input-53-0788e23f6120>\u001b[0m in \u001b[0;36m<lambda>\u001b[0;34m(x)\u001b[0m\n\u001b[1;32m      2\u001b[0m \u001b[0mname_주방\u001b[0m \u001b[0;34m=\u001b[0m \u001b[0;34m[\u001b[0m\u001b[0;34m'전기밥솥'\u001b[0m\u001b[0;34m,\u001b[0m\u001b[0;34m'압력법솥'\u001b[0m\u001b[0;34m,\u001b[0m\u001b[0;34m'가스레인지'\u001b[0m\u001b[0;34m,\u001b[0m\u001b[0;34m'에어프라이어'\u001b[0m\u001b[0;34m,\u001b[0m\u001b[0;34m'프라이팬'\u001b[0m\u001b[0;34m,\u001b[0m\u001b[0;34m'분쇄믹서기'\u001b[0m\u001b[0;34m]\u001b[0m\u001b[0;34m\u001b[0m\u001b[0;34m\u001b[0m\u001b[0m\n\u001b[1;32m      3\u001b[0m \u001b[0;34m\u001b[0m\u001b[0m\n\u001b[0;32m----> 4\u001b[0;31m \u001b[0mgroup_df\u001b[0m\u001b[0;34m[\u001b[0m\u001b[0;34m'주방'\u001b[0m\u001b[0;34m]\u001b[0m\u001b[0;34m[\u001b[0m\u001b[0;34m'브랜드'\u001b[0m\u001b[0;34m]\u001b[0m \u001b[0;34m=\u001b[0m \u001b[0mgroup_df\u001b[0m\u001b[0;34m[\u001b[0m\u001b[0;34m'주방'\u001b[0m\u001b[0;34m]\u001b[0m\u001b[0;34m.\u001b[0m\u001b[0m상품명\u001b[0m\u001b[0;34m.\u001b[0m\u001b[0mmap\u001b[0m\u001b[0;34m(\u001b[0m\u001b[0;32mlambda\u001b[0m \u001b[0mx\u001b[0m\u001b[0;34m:\u001b[0m \u001b[0mbrand\u001b[0m\u001b[0;34m(\u001b[0m\u001b[0mx\u001b[0m\u001b[0;34m,\u001b[0m \u001b[0mbrand_주방\u001b[0m\u001b[0;34m)\u001b[0m\u001b[0;34m)\u001b[0m\u001b[0;34m\u001b[0m\u001b[0;34m\u001b[0m\u001b[0m\n\u001b[0m\u001b[1;32m      5\u001b[0m \u001b[0mgroup_df\u001b[0m\u001b[0;34m[\u001b[0m\u001b[0;34m'주방'\u001b[0m\u001b[0;34m]\u001b[0m\u001b[0;34m[\u001b[0m\u001b[0;34m'상품'\u001b[0m\u001b[0;34m]\u001b[0m \u001b[0;34m=\u001b[0m \u001b[0mgroup_df\u001b[0m\u001b[0;34m[\u001b[0m\u001b[0;34m'주방'\u001b[0m\u001b[0;34m]\u001b[0m\u001b[0;34m.\u001b[0m\u001b[0m상품명\u001b[0m\u001b[0;34m.\u001b[0m\u001b[0mmap\u001b[0m\u001b[0;34m(\u001b[0m\u001b[0;32mlambda\u001b[0m \u001b[0mx\u001b[0m\u001b[0;34m:\u001b[0m \u001b[0mgoods_names\u001b[0m\u001b[0;34m(\u001b[0m\u001b[0mx\u001b[0m\u001b[0;34m,\u001b[0m \u001b[0mname_주방\u001b[0m\u001b[0;34m)\u001b[0m\u001b[0;34m)\u001b[0m\u001b[0;34m\u001b[0m\u001b[0;34m\u001b[0m\u001b[0m\n\u001b[1;32m      6\u001b[0m \u001b[0;34m\u001b[0m\u001b[0m\n",
            "\u001b[0;32m<ipython-input-52-67a80719021d>\u001b[0m in \u001b[0;36mbrand\u001b[0;34m(x, brand_list)\u001b[0m\n\u001b[1;32m      5\u001b[0m \u001b[0;34m\u001b[0m\u001b[0m\n\u001b[1;32m      6\u001b[0m \u001b[0;32mdef\u001b[0m \u001b[0mbrand\u001b[0m\u001b[0;34m(\u001b[0m\u001b[0mx\u001b[0m\u001b[0;34m,\u001b[0m \u001b[0mbrand_list\u001b[0m\u001b[0;34m)\u001b[0m\u001b[0;34m:\u001b[0m\u001b[0;34m\u001b[0m\u001b[0;34m\u001b[0m\u001b[0m\n\u001b[0;32m----> 7\u001b[0;31m     \u001b[0mwords\u001b[0m \u001b[0;34m=\u001b[0m \u001b[0mlist\u001b[0m\u001b[0;34m(\u001b[0m\u001b[0mx\u001b[0m\u001b[0;34m.\u001b[0m\u001b[0msplit\u001b[0m\u001b[0;34m(\u001b[0m\u001b[0;34m)\u001b[0m\u001b[0;34m)\u001b[0m\u001b[0;34m\u001b[0m\u001b[0;34m\u001b[0m\u001b[0m\n\u001b[0m\u001b[1;32m      8\u001b[0m     \u001b[0;32mfor\u001b[0m \u001b[0mw\u001b[0m \u001b[0;32min\u001b[0m \u001b[0mwords\u001b[0m\u001b[0;34m:\u001b[0m\u001b[0;34m\u001b[0m\u001b[0;34m\u001b[0m\u001b[0m\n\u001b[1;32m      9\u001b[0m         \u001b[0;32mif\u001b[0m \u001b[0mw\u001b[0m \u001b[0;32min\u001b[0m \u001b[0mbrand_list\u001b[0m\u001b[0;34m:\u001b[0m\u001b[0;34m\u001b[0m\u001b[0;34m\u001b[0m\u001b[0m\n",
            "\u001b[0;31mAttributeError\u001b[0m: 'float' object has no attribute 'split'"
          ]
        }
      ]
    },
    {
      "cell_type": "code",
      "metadata": {
        "id": "wHIVBKPexsMO",
        "colab_type": "code",
        "colab": {}
      },
      "source": [
        ""
      ],
      "execution_count": null,
      "outputs": []
    },
    {
      "cell_type": "code",
      "metadata": {
        "id": "mgJyvONSvpJR",
        "colab_type": "code",
        "colab": {}
      },
      "source": [
        "brand_name = ['삼성','LG','캐리어','대우전자','딤채']\n",
        "\n",
        "\n",
        "data['브랜드'] = data.상품명.map(lambda x: brand(x, brand_names)) \n",
        "\n",
        "data.상품명 = data.상품명.str.replace('삼성', '')\n",
        "data.상품명 = data.상품명.str.replace('LG', '')\n",
        "data.상품명 = data.상품명.str.replace('캐리어', '')\n",
        "data.상품명 = data.상품명.str.replace('대우전자', '')\n",
        "data.상품명 = data.상품명.str.replace('딤채', '')"
      ],
      "execution_count": null,
      "outputs": []
    },
    {
      "cell_type": "code",
      "metadata": {
        "id": "9Dta8Su9AFK5",
        "colab_type": "code",
        "colab": {}
      },
      "source": [
        "\n",
        "\n",
        "data.상품명 = data.상품명.str.replace('쿠첸', ' 쿠첸 ')\n",
        "data.상품명 = data.상품명.str.replace('쿠쿠', ' 쿠쿠 ')\n",
        "\n",
        "# 쿠쿠전기밥솥\n",
        "data.상품명 = data.상품명.str.replace('도냄', '', regex = False)\n",
        "data.상품명 = data.상품명.str.replace('CRP-QS107FG/FS', '', regex = False)\n",
        "data.상품명 = data.상품명.str.replace('CRP-107FG/FS', '', regex = False)\n",
        "data.상품명 = data.상품명.str.replace('QS', '', regex = False) \n",
        "data.상품명 = data.상품명.str.replace('블랙스톤', '', regex = False) \n",
        "\n",
        "# 쿠첸 압력밥솥\n",
        "data.상품명 = data.상품명.str.replace('풀스텐', '', regex = False)\n",
        "data.상품명 = data.상품명.str.replace('A1', '', regex = False)\n",
        "data.상품명 = data.상품명.str.replace(' 쿠 ', '', regex = False)\n",
        "data.상품명 = data.상품명.str.replace('신제품', '', regex = False)\n",
        "\n",
        "# 린나이 가스레인지\n",
        "data.상품명 = data.상품명.str.replace('자동불꽃조절', '')\n",
        "data.상품명 = data.상품명.str.replace('간편쿡', '')\n",
        "data.상품명 = data.상품명.str.replace('2구', '')\n",
        "data.상품명 = data.상품명.str.replace('3구', '')\n",
        "\n",
        "# 에코라믹\n",
        "data.상품명 = data.상품명.str.replace('냄비세트', ' 냄비 세트')\n",
        "data.상품명 = data.상품명.str.replace('프라이팬세트', ' 프라이팬 세트')\n",
        "data.상품명 = data.상품명.str.replace('통주물', ' ')\n",
        "data.상품명 = data.상품명.str.replace('스톤', ' ')\n",
        "\n",
        "# 후라이팬\n",
        "data.상품명 = data.상품명.str.replace('후라이팬', ' 프라이팬 ')\n",
        "\n",
        "# 에어프라이어\n",
        "data.상품명 = data.상품명.str.replace('대용량', '')\n",
        "data.상품명 = data.상품명.str.replace('디지털', '')\n",
        "data.상품명 = data.상품명.str.replace('듀얼쿡', '')\n",
        "\n",
        "\n",
        "data.상품명 = data.상품명.str.replace('가스와이드그릴레인지', '가스와이드그릴')\n",
        "data.상품명 = data.상품명.str.replace('스텐큐브', '')\n",
        "data.상품명 = data.상품명.str.replace('멀티쿡', '멀티쿠커')\n",
        "data.상품명 = data.상품명.str.replace('팬지', '')\n",
        "\n",
        "# 도마\n",
        "data.상품명 = data.상품명.str.replace('도마', ' 도마 ')\n",
        "\n",
        "data.상품명 = data.상품명.str.replace('대용량', '')\n",
        "\n",
        "# 재질\n",
        "data.상품명 = data.상품명.str.replace('스텐', ' 스텐 ')\n",
        "data.상품명 = data.상품명.str.replace('유리', ' 유리 ')\n",
        "\n",
        "data.상품명 = data.상품명.str.replace('밀폐용기', ' 밀폐용기')\n",
        "data.상품명 = data.상품명.str.replace('플랫타입', '')\n",
        "\n",
        "data.상품명 = data.상품명.str.replace('멀티', '')\n",
        "\n",
        "data.상품명 = data.상품명.str.replace('만능', '')\n",
        "\n",
        "def kitchen(x):\n",
        "    if x.상품군 == '주방':\n",
        "        x.상품명 = x.상품명.replace('옛', '')\n",
        "        x.상품명 = x.상품명.replace('멀티', '')\n",
        "        x.상품명 = x.상품명.replace('크로커다일', '')\n",
        "    else:\n",
        "        x.상품명 = x.상품명\n",
        "    return x\n",
        "\n",
        "data = data.apply(lambda x: kitchen(x), axis = 1)\n",
        "\n",
        "data.상품명 = data.상품명.str.replace(' +', ' ')\n",
        "data.상품명 = data.상품명.str.lstrip()\n",
        "data.상품명 = data.상품명.str.rstrip()"
      ],
      "execution_count": null,
      "outputs": []
    },
    {
      "cell_type": "code",
      "metadata": {
        "id": "N-csemPsvNyx",
        "colab_type": "code",
        "colab": {
          "base_uri": "https://localhost:8080/",
          "height": 35
        },
        "outputId": "79aa0831-e759-471a-fa53-899c05a308f5"
      },
      "source": [
        "set(data[data.상품명.str.contains('플랫')].상품명)"
      ],
      "execution_count": null,
      "outputs": [
        {
          "output_type": "execute_result",
          "data": {
            "text/plain": [
              "{'아가타 골든 마스터 펌프스+플랫슈즈', '아가타 올인원 앵클부츠+플랫슈즈', '아가타 컬러풀 앵클부츠+플랫슈즈'}"
            ]
          },
          "metadata": {
            "tags": []
          },
          "execution_count": 30
        }
      ]
    },
    {
      "cell_type": "code",
      "metadata": {
        "id": "Gvb9rV68tTAK",
        "colab_type": "code",
        "colab": {
          "base_uri": "https://localhost:8080/",
          "height": 737
        },
        "outputId": "a98f51a0-f168-4893-95a2-dc0fbbfff17a"
      },
      "source": [
        "word_count = max_words('주방')\n",
        "max_words_count = sorted(word_count.items(), key = lambda x: x[1], reverse = True)\n",
        "max_words_count[:40]"
      ],
      "execution_count": null,
      "outputs": [
        {
          "output_type": "execute_result",
          "data": {
            "text/plain": [
              "[('쿠쿠', 1630),\n",
              " ('전기밥솥', 1620),\n",
              " ('쿠첸', 1318),\n",
              " ('압력밥솥', 1300),\n",
              " ('세트', 800),\n",
              " ('스텐', 618),\n",
              " ('린나이', 441),\n",
              " ('가스레인지', 441),\n",
              " ('분쇄믹서기', 401),\n",
              " ('한일', 401),\n",
              " ('가스와이드그릴', 390),\n",
              " ('올리고', 390),\n",
              " ('프라이팬', 389),\n",
              " ('프리미엄형', 385),\n",
              " ('냄비', 364),\n",
              " ('에어프라이어', 302),\n",
              " ('에코라믹', 288),\n",
              " ('파뷔에', 235),\n",
              " ('매직쉐프', 222),\n",
              " ('IH', 206),\n",
              " ('에지리', 168),\n",
              " ('키친플라워', 141),\n",
              " ('도마', 135),\n",
              " ('쿠커', 128),\n",
              " ('클란츠', 122),\n",
              " ('대형', 120),\n",
              " ('락앤락', 120),\n",
              " ('전자레인지', 120),\n",
              " ('항균', 115),\n",
              " ('해피콜', 114),\n",
              " ('아이넥스', 80),\n",
              " ('유로오븐글라스', 78),\n",
              " ('모즈', 69),\n",
              " ('밀폐용기', 67),\n",
              " ('진공', 63),\n",
              " ('키친아트', 60),\n",
              " ('행주티슈', 60),\n",
              " ('가마솥', 57),\n",
              " ('싱크선반', 56),\n",
              " ('올', 56)]"
            ]
          },
          "metadata": {
            "tags": []
          },
          "execution_count": 31
        }
      ]
    },
    {
      "cell_type": "code",
      "metadata": {
        "id": "v0YM2nADvVxL",
        "colab_type": "code",
        "colab": {
          "base_uri": "https://localhost:8080/",
          "height": 233
        },
        "outputId": "b3126f95-45cc-4d77-d097-c17add614c64"
      },
      "source": [
        "group_df['주방'].상품명.value_counts()"
      ],
      "execution_count": 48,
      "outputs": [
        {
          "output_type": "execute_result",
          "data": {
            "text/plain": [
              "한일 대용량 스텐 분쇄믹서기              401\n",
              "쿠쿠전기밥솥 6인용 QS                378\n",
              "쿠 신제품 쿠첸 풀스텐 압력밥솥 10인용 A1    354\n",
              "쿠 쿠첸 압력밥솥 6인용 A1             353\n",
              "쿠쿠전기밥솥 10인용                  293\n",
              "                            ... \n",
              "파뷔에 양면 항균도마 스페셜                3\n",
              "에델코첸 컬러스텐냄비 3종세트 곰솥구성          3\n",
              "셰프웨이 멀티핸즈 IH 프라이팬              3\n",
              "뉴욕맘 목화솜행주&항균수세미                2\n",
              "해피콜IH양면팬                       2\n",
              "Name: 상품명, Length: 153, dtype: int64"
            ]
          },
          "metadata": {
            "tags": []
          },
          "execution_count": 48
        }
      ]
    },
    {
      "cell_type": "code",
      "metadata": {
        "id": "xKQ2aAWnqJ2H",
        "colab_type": "code",
        "colab": {}
      },
      "source": [
        "df = train_df('주방', 39)"
      ],
      "execution_count": null,
      "outputs": []
    },
    {
      "cell_type": "code",
      "metadata": {
        "id": "DEr48H9rqOK8",
        "colab_type": "code",
        "colab": {
          "base_uri": "https://localhost:8080/",
          "height": 233
        },
        "outputId": "5eb5ed43-3726-4612-9b33-3315d3f68cae"
      },
      "source": [
        "cv_scores, cv_models, cv_test, cv_predict = LGBM_train(df)"
      ],
      "execution_count": null,
      "outputs": [
        {
          "output_type": "stream",
          "text": [
            "1월 MAPE: 93.95795677208801\n",
            "2월 MAPE: 86.43400464602703\n",
            "3월 MAPE: 98.71168052852074\n",
            "4월 MAPE: 65.03387165226377\n",
            "5월 MAPE: 94.64766927356578\n",
            "6월 MAPE: 52.99487531890611\n",
            "7월 MAPE: 71.44408502613119\n",
            "8월 MAPE: 71.75132208047205\n",
            "9월 MAPE: 67.86403919026598\n",
            "10월 MAPE: 67.73588646940945\n",
            "11월 MAPE: 67.24605762444311\n",
            "12월 MAPE: 62.32248750953975\n"
          ],
          "name": "stdout"
        }
      ]
    },
    {
      "cell_type": "code",
      "metadata": {
        "id": "uY4GR28sqZzA",
        "colab_type": "code",
        "colab": {
          "base_uri": "https://localhost:8080/",
          "height": 381
        },
        "outputId": "aa1e6a50-9cf0-40b9-c24b-9b6b09f91e7b"
      },
      "source": [
        "plot_result(cv_test, cv_predict, cv_scores)"
      ],
      "execution_count": null,
      "outputs": [
        {
          "output_type": "stream",
          "text": [
            "findfont: Font family ['NanumBarunGothic'] not found. Falling back to DejaVu Sans.\n",
            "findfont: Font family ['NanumBarunGothic'] not found. Falling back to DejaVu Sans.\n"
          ],
          "name": "stderr"
        },
        {
          "output_type": "display_data",
          "data": {
            "image/png": "[encoded data removed]",
            "text/plain": [
              "<Figure size 1080x360 with 12 Axes>"
            ]
          },
          "metadata": {
            "tags": [],
            "needs_background": "light"
          }
        }
      ]
    },
    {
      "cell_type": "code",
      "metadata": {
        "id": "ZbJbXjnysPd1",
        "colab_type": "code",
        "colab": {
          "base_uri": "https://localhost:8080/",
          "height": 364
        },
        "outputId": "d46591c0-764b-4280-ebe4-ced7a559e812"
      },
      "source": [
        "f, ax = plt.subplots(figsize = (12,5))\n",
        "\n",
        "from lightgbm import plot_importance\n",
        "plot_importance(cv_models[12], ax, max_num_features=10)"
      ],
      "execution_count": null,
      "outputs": [
        {
          "output_type": "execute_result",
          "data": {
            "text/plain": [
              "<matplotlib.axes._subplots.AxesSubplot at 0x7f580d77f080>"
            ]
          },
          "metadata": {
            "tags": []
          },
          "execution_count": 37
        },
        {
          "output_type": "display_data",
          "data": {
            "image/png": "[encoded data removed]",
            "text/plain": [
              "<Figure size 864x360 with 1 Axes>"
            ]
          },
          "metadata": {
            "tags": [],
            "needs_background": "light"
          }
        }
      ]
    },
    {
      "cell_type": "markdown",
      "metadata": {
        "id": "MfSkSJMr8bzk",
        "colab_type": "text"
      },
      "source": [
        "## 가전"
      ]
    },
    {
      "cell_type": "code",
      "metadata": {
        "id": "zhaDoixn8fh_",
        "colab_type": "code",
        "colab": {}
      },
      "source": [
        "## 가전\n",
        "data.상품명 = data.상품명.str.replace('LG전자', 'LG')\n",
        "data.상품명 = data.상품명.str.replace('LG', ' LG ')\n",
        "data.상품명 = data.상품명.str.replace('삼성', ' 삼성 ')\n",
        "\n",
        "# LG 휘센 에어컨\n",
        "data.상품명 = data.상품명.str.replace('휘센', '')\n",
        "data.상품명 = data.상품명.str.replace('싱큐', '')\n",
        "data.상품명 = data.상품명.str.replace('씽큐', '')\n",
        "data.상품명 = data.상품명.str.replace('위너', '')\n",
        "data.상품명 = data.상품명.str.replace('FQ17V9WWA1', '')\n",
        "data.상품명 = data.상품명.str.replace('FQ19V9KWA2', '')\n",
        "data.상품명 = data.상품명.str.replace('FQ17V9KWA2', '')\n",
        "data.상품명 = data.상품명.str.replace('FQ17V8WWJ2', '')\n",
        "data.상품명 = data.상품명.str.replace('FQ17V9KWA1', '')\n",
        "data.상품명 = data.상품명.str.replace('FQ19V9KWA1', '')\n",
        "data.상품명 = data.상품명.str.replace('FQ17V8WWJ1', '')\n",
        "\n",
        "# 삼성 UHD TV\n",
        "data.상품명 = data.상품명.str.replace('UHD', '')\n",
        "data.상품명 = data.상품명.str.replace('국민TV', 'TV')\n",
        "\n",
        "data.상품명 = data.상품명.str.replace('UN55NU7010FXKR', '55인치')\n",
        "data.상품명 = data.상품명.str.replace('UN65NU7010FXKR', '65인치')\n",
        "data.상품명 = data.상품명.str.replace('UN75NU7010FXKR', '75인치')\n",
        "data.상품명 = data.상품명.str.replace('UN55NU7050F', '55인치')\n",
        "data.상품명 = data.상품명.str.replace('UN65NU7050F', '65인치')\n",
        "data.상품명 = data.상품명.str.replace('UN75NU7050F', '75인치')\n",
        "data.상품명 = data.상품명.str.replace('UN55RU7150FXKR', '55인치')\n",
        "data.상품명 = data.상품명.str.replace('UN65RU7150FXKR', '65인치')\n",
        "data.상품명 = data.상품명.str.replace('UN75RU7150FXKR', '75인치')\n",
        "\n",
        "# LG 울트라HD TV \n",
        "data.상품명 = data.상품명.str.replace('울트라HD', '')\n",
        "data.상품명 = data.상품명.str.replace('55UK6800HNC', '55인치')\n",
        "data.상품명 = data.상품명.str.replace('55UM7900BNA', '55인치')\n",
        "data.상품명 = data.상품명.str.replace('65UK6800HNC', '65인치')\n",
        "data.상품명 = data.상품명.str.replace('65UM7900BNA', '65인치')\n",
        "data.상품명 = data.상품명.str.replace('70UK6800HNC', '70인치')\n",
        "data.상품명 = data.상품명.str.replace('70UK7400KNA', '70인치')\n",
        "data.상품명 = data.상품명.str.replace('75UK6200KNB', '75인치')\n",
        "data.상품명 = data.상품명.str.replace('75UK7400KNA', '75인치')\n",
        "data.상품명 = data.상품명.str.replace('75UM7900BNA', '75인치')\n",
        "\n",
        "data.상품명 = data.상품명.str.replace('55인치', ' 55인치 ')\n",
        "data.상품명 = data.상품명.str.replace('65인치', ' 65인치 ')\n",
        "data.상품명 = data.상품명.str.replace('75인치', ' 75인치 ')\n",
        "data.상품명 = data.상품명.str.replace('70인치', ' 70인치 ')\n",
        "\n",
        "\n",
        "# 삼성 엑티브워시 세탁기\n",
        "data.상품명 = data.상품명.str.replace('엑티브워시', '')\n",
        "data.상품명 = data.상품명.str.replace('WA14N6781TG', '')\n",
        "\n",
        "# 삼성 노트북 9 메탈\n",
        "data.상품명 = data.상품명.str.replace('9 메탈', '')\n",
        "data.상품명 = data.상품명.str.replace('NT900X5J-K28', '')\n",
        "data.상품명 = data.상품명.str.replace('NT900X5J-K14', '')\n",
        "\n",
        "# LG 통돌이 세탁기\n",
        "data.상품명 = data.상품명.str.replace('통돌이', '')\n",
        "data.상품명 = data.상품명.str.replace('TR14WK1(화이트)', '', regex = False)\n",
        "\n",
        "# LG 냉장고\n",
        "data.상품명 = data.상품명.str.replace('노크온 매직스페이스', '') \n",
        "data.상품명 = data.상품명.str.replace('매직스페이스', '') \n",
        "data.상품명 = data.상품명.str.replace('S831SN75', '', regex = False)\n",
        "\n",
        "## 에어컨\n",
        "data.상품명 = data.상품명.str.replace('에어컨', ' 에어컨 ', regex = False)\n",
        "data.상품명 = data.상품명.str.replace('2IN1형', ' 홈멀티 ', regex = False)\n",
        "data.상품명 = data.상품명.str.replace('2in1', ' 홈멀티 ', regex = False)\n",
        "data.상품명 = data.상품명.str.replace('스탠드형', ' 스탠드 ', regex = False)\n",
        "data.상품명 = data.상품명.str.replace('FQ17V9KW', '', regex = False)\n",
        "data.상품명 = data.상품명.str.replace('무풍슬림', '', regex = False)\n",
        "data.상품명 = data.상품명.str.replace('AF16R5773WSR', '', regex = False)\n",
        "\n",
        "## 냉장고\n",
        "data.상품명 = data.상품명.str.replace('딤채', ' 딤채 ', regex = False)\n",
        "data.상품명 = data.상품명.str.replace('_', '', regex = False)\n",
        "data.상품명 = data.상품명.str.replace('1등급', '', regex = False)\n",
        "\n",
        "data.상품명 = data.상품명.str.replace('냉장고', ' 냉장고 ', regex = False)\n",
        "data.상품명 = data.상품명.str.replace('김치냉장고', ' 김치냉장고 ', regex = False)\n",
        "data.상품명 = data.상품명.str.replace('김치 냉장고', ' 김치냉장고 ', regex = False)\n",
        "\n",
        "## 세탁기\n",
        "data.상품명 = data.상품명.str.replace('세탁기', ' 세탁기 ', regex = False)\n",
        "data.상품명 = data.상품명.str.replace('TR14WK1', '', regex = False)\n",
        "\n",
        "## 캐리어 벽걸이에어컨\n",
        "data.상품명 = data.상품명.str.replace('ARC06NQT', '')\n",
        "data.상품명 = data.상품명.str.replace('ARC07VBC', '')\n",
        "data.상품명 = data.상품명.str.replace('6형', '기본형') #?\n",
        "data.상품명 = data.상품명.str.replace('7형', '고급형') #?\n",
        "\n",
        "# 대우 벽걸이에어컨\n",
        "data.상품명 = data.상품명.str.replace('DOZ-S06JK', '기본형') #?\n",
        "data.상품명 = data.상품명.str.replace('TDOZ-S10JK', '고급형') #?\n",
        "\n",
        "# 건조기\n",
        "data.상품명 = data.상품명.str.replace('RH14WN', '14kg') #?\n",
        "data.상품명 = data.상품명.str.replace('RH16WN', '16kg')\n",
        "\n",
        "data.상품명 = data.상품명.str.replace('건조기', ' 건조기 ')\n",
        "\n",
        "data.상품명 = data.상품명.str.replace('DWR-03IDDC', '블랙')\n",
        "data.상품명 = data.상품명.str.replace('DWR-03IDWH', '화이트')\n",
        "\n",
        "data.상품명 = data.상품명.str.replace('DV90M53B0QV', '블랙')\n",
        "data.상품명 = data.상품명.str.replace('DV90M53B0QW', '화이트')\n",
        "data.상품명 = data.상품명.str.replace('DV90M53B0QP', '실버')\n",
        "\n",
        "data.상품명 = data.상품명.str.replace('공청기', '공기청정기')\n",
        "\n",
        "data.상품명 = data.상품명.str.replace('로보킹 터보', '로봇청소기')\n",
        "\n",
        "def electronic(x):\n",
        "    if x.상품군 == '가전':\n",
        "        x.상품명 = x.상품명.replace('청소기', ' 청소기 ')  \n",
        "    else:\n",
        "        x.상품명 = x.상품명\n",
        "    return x\n",
        "\n",
        "data = data.apply(lambda x: electronic(x), axis = 1)\n",
        "\n",
        "data.상품명 = data.상품명.str.replace(' +', ' ')\n",
        "data.상품명 = data.상품명.str.lstrip()\n",
        "data.상품명 = data.상품명.str.rstrip()"
      ],
      "execution_count": 213,
      "outputs": []
    },
    {
      "cell_type": "code",
      "metadata": {
        "id": "mEX8WvzL--jd",
        "colab_type": "code",
        "colab": {
          "base_uri": "https://localhost:8080/",
          "height": 179
        },
        "outputId": "84b428f9-60a2-4836-f5ec-ead7932b9566"
      },
      "source": [
        "set(data[data.상품명.str.contains('김치')].상품명)"
      ],
      "execution_count": 214,
      "outputs": [
        {
          "output_type": "execute_result",
          "data": {
            "text/plain": [
              "{'깐깐송도순 포기김치',\n",
              " '깐깐송도순 포기김치 + 백김치',\n",
              " '딤채 김치냉장고',\n",
              " '딤채 김치냉장고 LDL22DHWJJ',\n",
              " '신세대 포기김치',\n",
              " '유귀열의 The 귀한 갓김치+열무김치, 총',\n",
              " '유귀열의 The 귀한 갓김치+오이소박이, 총',\n",
              " '유귀열의 귀한 갓김치+총각김치 총',\n",
              " '이정섭의 비가린 배추김치'}"
            ]
          },
          "metadata": {
            "tags": []
          },
          "execution_count": 214
        }
      ]
    },
    {
      "cell_type": "code",
      "metadata": {
        "id": "kZAuWpfty5jl",
        "colab_type": "code",
        "colab": {}
      },
      "source": [
        "brand_가전 = ['삼성','LG','캐리어','대우전자','딤채']\n",
        "data['브랜드'] = data.상품명.map(lambda x: brand(x, brand_가전)) \n",
        "\n",
        "data.상품명 = data.상품명.str.replace('삼성', '')\n",
        "data.상품명 = data.상품명.str.replace('LG', '')\n",
        "data.상품명 = data.상품명.str.replace('캐리어', '')\n",
        "data.상품명 = data.상품명.str.replace('대우전자', '')\n",
        "data.상품명 = data.상품명.str.replace('딤채', '')"
      ],
      "execution_count": 215,
      "outputs": []
    },
    {
      "cell_type": "code",
      "metadata": {
        "id": "uQ1NLqdC1EYM",
        "colab_type": "code",
        "colab": {}
      },
      "source": [
        "goods_가전 = ['에어컨','세탁기','냉장고','노트북','김치냉장고',\n",
        "              'TV', '건조기','공기청정기', '로봇청소기', '청소기',\n",
        "              '의류관리기']\n",
        "\n",
        "data['상품'] = data.상품명.map(lambda x: goods_names(x, goods_가전)) \n",
        "\n",
        "data.상품명 = data.상품명.str.replace('에어컨', '')\n",
        "data.상품명 = data.상품명.str.replace('세탁기', '')\n",
        "data.상품명 = data.상품명.str.replace('노트북', '')\n",
        "data.상품명 = data.상품명.str.replace('김치냉장고', '')\n",
        "data.상품명 = data.상품명.str.replace('냉장고', '')\n",
        "data.상품명 = data.상품명.str.replace('TV', '')\n",
        "data.상품명 = data.상품명.str.replace('공기청정기', '')\n",
        "data.상품명 = data.상품명.str.replace('청소기', '')\n",
        "data.상품명 = data.상품명.str.replace('의류관리기', '')\n",
        "data.상품명 = data.상품명.str.replace('건조기', '')"
      ],
      "execution_count": 216,
      "outputs": []
    },
    {
      "cell_type": "code",
      "metadata": {
        "id": "iQwmy1eTBard",
        "colab_type": "code",
        "colab": {}
      },
      "source": [
        "data['TV_인치'] = data.상품명.str.extract(r'(\\d+)[인][치]')\n",
        "data.상품명 = data.상품명.str.replace('75인치', '')\n",
        "data.상품명 = data.상품명.str.replace('65인치', '')\n",
        "data.상품명 = data.상품명.str.replace('55인치', '')\n",
        "data.상품명 = data.상품명.str.replace('70인치', '')\n",
        "\n",
        "data.TV_인치 = data.TV_인치.map(lambda x: int(x) if type(x) == str else np.NaN)"
      ],
      "execution_count": 217,
      "outputs": []
    },
    {
      "cell_type": "code",
      "metadata": {
        "id": "o2jxp6UByRgH",
        "colab_type": "code",
        "colab": {
          "base_uri": "https://localhost:8080/",
          "height": 35
        },
        "outputId": "1349108d-ad7e-4395-95d4-66c652225cf4"
      },
      "source": [
        "word_count = max_words('가전')\n",
        "max_words_count = sorted(word_count.items(), key = lambda x: x[1], reverse = True)\n",
        "max_words_count[:5]"
      ],
      "execution_count": 218,
      "outputs": [
        {
          "output_type": "execute_result",
          "data": {
            "text/plain": [
              "[('벽걸이', 483), ('고급형', 419), ('기본형', 397), ('홈멀티', 271), ('스탠드', 192)]"
            ]
          },
          "metadata": {
            "tags": []
          },
          "execution_count": 218
        }
      ]
    },
    {
      "cell_type": "code",
      "metadata": {
        "id": "HTQeguMFb65i",
        "colab_type": "code",
        "colab": {}
      },
      "source": [
        "df = train_df('가전', 5)"
      ],
      "execution_count": 219,
      "outputs": []
    },
    {
      "cell_type": "code",
      "metadata": {
        "id": "8GWr5AofoN2E",
        "colab_type": "code",
        "colab": {
          "base_uri": "https://localhost:8080/",
          "height": 439
        },
        "outputId": "dd32d59e-8757-48db-ff33-faced35decd6"
      },
      "source": [
        "df.head()"
      ],
      "execution_count": 220,
      "outputs": [
        {
          "output_type": "execute_result",
          "data": {
            "text/html": [
              "<div>\n",
              "<style scoped>\n",
              "    .dataframe tbody tr th:only-of-type {\n",
              "        vertical-align: middle;\n",
              "    }\n",
              "\n",
              "    .dataframe tbody tr th {\n",
              "        vertical-align: top;\n",
              "    }\n",
              "\n",
              "    .dataframe thead th {\n",
              "        text-align: right;\n",
              "    }\n",
              "</style>\n",
              "<table border=\"1\" class=\"dataframe\">\n",
              "  <thead>\n",
              "    <tr style=\"text-align: right;\">\n",
              "      <th></th>\n",
              "      <th>판매단가</th>\n",
              "      <th>월</th>\n",
              "      <th>일</th>\n",
              "      <th>시</th>\n",
              "      <th>소비층</th>\n",
              "      <th>요일</th>\n",
              "      <th>휴일</th>\n",
              "      <th>프라임</th>\n",
              "      <th>파트</th>\n",
              "      <th>취급액_로그</th>\n",
              "      <th>결제유형</th>\n",
              "      <th>브랜드</th>\n",
              "      <th>상품</th>\n",
              "      <th>TV_인치</th>\n",
              "      <th>고급형</th>\n",
              "      <th>기본형</th>\n",
              "      <th>벽걸이</th>\n",
              "      <th>스탠드</th>\n",
              "      <th>홈멀티</th>\n",
              "    </tr>\n",
              "    <tr>\n",
              "      <th>방송일시</th>\n",
              "      <th></th>\n",
              "      <th></th>\n",
              "      <th></th>\n",
              "      <th></th>\n",
              "      <th></th>\n",
              "      <th></th>\n",
              "      <th></th>\n",
              "      <th></th>\n",
              "      <th></th>\n",
              "      <th></th>\n",
              "      <th></th>\n",
              "      <th></th>\n",
              "      <th></th>\n",
              "      <th></th>\n",
              "      <th></th>\n",
              "      <th></th>\n",
              "      <th></th>\n",
              "      <th></th>\n",
              "      <th></th>\n",
              "    </tr>\n",
              "  </thead>\n",
              "  <tbody>\n",
              "    <tr>\n",
              "      <th>2019-01-01 20:00:00</th>\n",
              "      <td>439000</td>\n",
              "      <td>1</td>\n",
              "      <td>1</td>\n",
              "      <td>20</td>\n",
              "      <td>3</td>\n",
              "      <td>Tuesday</td>\n",
              "      <td>2</td>\n",
              "      <td>3</td>\n",
              "      <td>First</td>\n",
              "      <td>17.385578</td>\n",
              "      <td>일시불</td>\n",
              "      <td>LG</td>\n",
              "      <td>세탁기</td>\n",
              "      <td>NaN</td>\n",
              "      <td>0</td>\n",
              "      <td>0</td>\n",
              "      <td>0</td>\n",
              "      <td>0</td>\n",
              "      <td>0</td>\n",
              "    </tr>\n",
              "    <tr>\n",
              "      <th>2019-01-01 20:00:00</th>\n",
              "      <td>489000</td>\n",
              "      <td>1</td>\n",
              "      <td>1</td>\n",
              "      <td>20</td>\n",
              "      <td>3</td>\n",
              "      <td>Tuesday</td>\n",
              "      <td>2</td>\n",
              "      <td>3</td>\n",
              "      <td>First</td>\n",
              "      <td>16.766402</td>\n",
              "      <td>무이자</td>\n",
              "      <td>LG</td>\n",
              "      <td>세탁기</td>\n",
              "      <td>NaN</td>\n",
              "      <td>0</td>\n",
              "      <td>0</td>\n",
              "      <td>0</td>\n",
              "      <td>0</td>\n",
              "      <td>0</td>\n",
              "    </tr>\n",
              "    <tr>\n",
              "      <th>2019-01-01 20:20:00</th>\n",
              "      <td>439000</td>\n",
              "      <td>1</td>\n",
              "      <td>1</td>\n",
              "      <td>20</td>\n",
              "      <td>3</td>\n",
              "      <td>Tuesday</td>\n",
              "      <td>2</td>\n",
              "      <td>3</td>\n",
              "      <td>Middle</td>\n",
              "      <td>17.856085</td>\n",
              "      <td>일시불</td>\n",
              "      <td>LG</td>\n",
              "      <td>세탁기</td>\n",
              "      <td>NaN</td>\n",
              "      <td>0</td>\n",
              "      <td>0</td>\n",
              "      <td>0</td>\n",
              "      <td>0</td>\n",
              "      <td>0</td>\n",
              "    </tr>\n",
              "    <tr>\n",
              "      <th>2019-01-01 20:20:00</th>\n",
              "      <td>489000</td>\n",
              "      <td>1</td>\n",
              "      <td>1</td>\n",
              "      <td>20</td>\n",
              "      <td>3</td>\n",
              "      <td>Tuesday</td>\n",
              "      <td>2</td>\n",
              "      <td>3</td>\n",
              "      <td>Middle</td>\n",
              "      <td>17.887695</td>\n",
              "      <td>무이자</td>\n",
              "      <td>LG</td>\n",
              "      <td>세탁기</td>\n",
              "      <td>NaN</td>\n",
              "      <td>0</td>\n",
              "      <td>0</td>\n",
              "      <td>0</td>\n",
              "      <td>0</td>\n",
              "      <td>0</td>\n",
              "    </tr>\n",
              "    <tr>\n",
              "      <th>2019-01-01 20:40:00</th>\n",
              "      <td>439000</td>\n",
              "      <td>1</td>\n",
              "      <td>1</td>\n",
              "      <td>20</td>\n",
              "      <td>3</td>\n",
              "      <td>Tuesday</td>\n",
              "      <td>2</td>\n",
              "      <td>3</td>\n",
              "      <td>Later</td>\n",
              "      <td>18.039713</td>\n",
              "      <td>일시불</td>\n",
              "      <td>LG</td>\n",
              "      <td>세탁기</td>\n",
              "      <td>NaN</td>\n",
              "      <td>0</td>\n",
              "      <td>0</td>\n",
              "      <td>0</td>\n",
              "      <td>0</td>\n",
              "      <td>0</td>\n",
              "    </tr>\n",
              "  </tbody>\n",
              "</table>\n",
              "</div>"
            ],
            "text/plain": [
              "                       판매단가  월  일   시  소비층  ... 고급형  기본형  벽걸이 스탠드  홈멀티\n",
              "방송일시                                        ...                       \n",
              "2019-01-01 20:00:00  439000  1  1  20    3  ...   0    0    0   0    0\n",
              "2019-01-01 20:00:00  489000  1  1  20    3  ...   0    0    0   0    0\n",
              "2019-01-01 20:20:00  439000  1  1  20    3  ...   0    0    0   0    0\n",
              "2019-01-01 20:20:00  489000  1  1  20    3  ...   0    0    0   0    0\n",
              "2019-01-01 20:40:00  439000  1  1  20    3  ...   0    0    0   0    0\n",
              "\n",
              "[5 rows x 19 columns]"
            ]
          },
          "metadata": {
            "tags": []
          },
          "execution_count": 220
        }
      ]
    },
    {
      "cell_type": "code",
      "metadata": {
        "id": "9ZHq3QHnCqjo",
        "colab_type": "code",
        "colab": {}
      },
      "source": [
        "model = CatBoostRegressor(iterations = 2000,\n",
        "                          loss_function=\"RMSE\",\n",
        "                          eval_metric=\"MAPE\",\n",
        "                          #  task_type=\"GPU\",\n",
        "                          learning_rate=0.1,\n",
        "                          early_stopping_rounds=500,\n",
        "                          random_seed = 123457,\n",
        "                          )"
      ],
      "execution_count": 221,
      "outputs": []
    },
    {
      "cell_type": "code",
      "metadata": {
        "id": "wP2dPgQZC_vd",
        "colab_type": "code",
        "colab": {
          "base_uri": "https://localhost:8080/",
          "height": 1000
        },
        "outputId": "60cfadb9-2e43-4e48-96b1-08573e939fdc"
      },
      "source": [
        "month = list(set(df.월))\n",
        "\n",
        "raw_x = df.drop(columns=['취급액_로그'])\n",
        "raw_y = df[['취급액_로그','월']]\n",
        "\n",
        "cv_test = {}\n",
        "cv_predict = {}\n",
        "cv_scores = {}\n",
        "cv_models = {}\n",
        "cv_test_dataset = {}\n",
        "\n",
        "for m in month:\n",
        "\n",
        "    # try:\n",
        "\n",
        "    test_x = raw_x[raw_x.월 == m].drop(columns = ['월'])\n",
        "    test_y = raw_y[raw_y.월 == m].취급액_로그\n",
        "    train_x = raw_x.drop(index = test_x.index, columns = ['월'])\n",
        "    train_y = raw_y.drop(index = test_y.index).취급액_로그\n",
        "\n",
        "    # test_x = mmscaler.fit_transform(test_x)\n",
        "    # train_x = mmscaler.fit_transform(train_x)\n",
        "\n",
        "    train_y = train_y.to_numpy().reshape(-1)\n",
        "    test_y = test_y.to_numpy().reshape(-1)\n",
        "\n",
        "    cat_features_train = np.where((train_x.dtypes != np.float)&(train_x.dtypes != np.int))[0]\n",
        "    cat_features_test = np.where((test_x.dtypes != np.float)&(test_x.dtypes != np.int))[0]\n",
        "    \n",
        "    train_dataset = Pool(train_x, label = train_y, cat_features=cat_features_train)\n",
        "    test_dataset = Pool(test_x, label = test_y, cat_features=cat_features_test)\n",
        "    CBR = model.fit(train_dataset,  \n",
        "                    eval_set = test_dataset,\n",
        "                    use_best_model = True,      \n",
        "                    verbose_eval = 500,\n",
        "                    plot = False)\n",
        "    predict_test = model.predict(test_x)\n",
        "\n",
        "    test_y = np.exp(test_y)\n",
        "    predict_test = np.exp(predict_test)\n",
        "\n",
        "    cv_test.update({m:test_y})\n",
        "    cv_predict.update({m: predict_test})\n",
        "\n",
        "    mape = mean_absolute_percentage_error(test_y, predict_test)\n",
        "    print(f'{m}월 MAPE:', mape)\n",
        "\n",
        "    cv_scores.update({m:mape})\n",
        "    cv_models.update({m:model})\n",
        "    cv_test_dataset.update({m:test_dataset})\n",
        "\n",
        "    print(' ')"
      ],
      "execution_count": 223,
      "outputs": [
        {
          "output_type": "stream",
          "text": [
            "0:\tlearn: 0.0417695\ttest: 0.0435160\tbest: 0.0435160 (0)\ttotal: 7.85ms\tremaining: 15.7s\n",
            "500:\tlearn: 0.0233794\ttest: 0.0311155\tbest: 0.0310481 (432)\ttotal: 3.16s\tremaining: 9.45s\n",
            "1000:\tlearn: 0.0206931\ttest: 0.0310500\tbest: 0.0309775 (962)\ttotal: 6.32s\tremaining: 6.31s\n",
            "1500:\tlearn: 0.0185859\ttest: 0.0310580\tbest: 0.0309418 (1395)\ttotal: 9.46s\tremaining: 3.15s\n",
            "Stopped by overfitting detector  (500 iterations wait)\n",
            "\n",
            "bestTest = 0.03094175922\n",
            "bestIteration = 1395\n",
            "\n",
            "Shrink model to first 1396 iterations.\n",
            "1월 MAPE: 66.77183915392837\n",
            " \n",
            "0:\tlearn: 0.0419302\ttest: 0.0415155\tbest: 0.0415155 (0)\ttotal: 5.2ms\tremaining: 10.4s\n",
            "500:\tlearn: 0.0229413\ttest: 0.0290026\tbest: 0.0290026 (500)\ttotal: 3.24s\tremaining: 9.7s\n",
            "1000:\tlearn: 0.0199451\ttest: 0.0290475\tbest: 0.0289700 (577)\ttotal: 6.59s\tremaining: 6.57s\n",
            "Stopped by overfitting detector  (500 iterations wait)\n",
            "\n",
            "bestTest = 0.02896997519\n",
            "bestIteration = 577\n",
            "\n",
            "Shrink model to first 578 iterations.\n",
            "2월 MAPE: 51.753247633398935\n",
            " \n",
            "0:\tlearn: 0.0418960\ttest: 0.0411983\tbest: 0.0411983 (0)\ttotal: 8.45ms\tremaining: 16.9s\n",
            "500:\tlearn: 0.0227950\ttest: 0.0301508\tbest: 0.0299341 (223)\ttotal: 3.17s\tremaining: 9.47s\n",
            "Stopped by overfitting detector  (500 iterations wait)\n",
            "\n",
            "bestTest = 0.02993406098\n",
            "bestIteration = 223\n",
            "\n",
            "Shrink model to first 224 iterations.\n",
            "3월 MAPE: 49.38073043994153\n",
            " \n",
            "0:\tlearn: 0.0428259\ttest: 0.0351266\tbest: 0.0351266 (0)\ttotal: 7.16ms\tremaining: 14.3s\n",
            "500:\tlearn: 0.0231201\ttest: 0.0282835\tbest: 0.0282835 (500)\ttotal: 3.08s\tremaining: 9.23s\n",
            "1000:\tlearn: 0.0200769\ttest: 0.0284170\tbest: 0.0282530 (512)\ttotal: 6.26s\tremaining: 6.25s\n",
            "Stopped by overfitting detector  (500 iterations wait)\n",
            "\n",
            "bestTest = 0.02825296519\n",
            "bestIteration = 512\n",
            "\n",
            "Shrink model to first 513 iterations.\n",
            "4월 MAPE: 49.998588271087286\n",
            " \n",
            "0:\tlearn: 0.0420352\ttest: 0.0406660\tbest: 0.0406660 (0)\ttotal: 8.04ms\tremaining: 16.1s\n",
            "500:\tlearn: 0.0228587\ttest: 0.0331160\tbest: 0.0324684 (112)\ttotal: 3.02s\tremaining: 9.04s\n",
            "Stopped by overfitting detector  (500 iterations wait)\n",
            "\n",
            "bestTest = 0.03246838937\n",
            "bestIteration = 112\n",
            "\n",
            "Shrink model to first 113 iterations.\n",
            "5월 MAPE: 52.443992725109666\n",
            " \n",
            "0:\tlearn: 0.0417853\ttest: 0.0457306\tbest: 0.0457306 (0)\ttotal: 3.54ms\tremaining: 7.07s\n",
            "500:\tlearn: 0.0229373\ttest: 0.0322891\tbest: 0.0319773 (390)\ttotal: 3.06s\tremaining: 9.16s\n",
            "Stopped by overfitting detector  (500 iterations wait)\n",
            "\n",
            "bestTest = 0.03197727687\n",
            "bestIteration = 390\n",
            "\n",
            "Shrink model to first 391 iterations.\n",
            "6월 MAPE: 68.39675670968587\n",
            " \n",
            "0:\tlearn: 0.0420235\ttest: 0.0416552\tbest: 0.0416552 (0)\ttotal: 6.88ms\tremaining: 13.8s\n",
            "500:\tlearn: 0.0232482\ttest: 0.0277602\tbest: 0.0272796 (146)\ttotal: 3.08s\tremaining: 9.23s\n",
            "Stopped by overfitting detector  (500 iterations wait)\n",
            "\n",
            "bestTest = 0.0272795741\n",
            "bestIteration = 146\n",
            "\n",
            "Shrink model to first 147 iterations.\n",
            "7월 MAPE: 56.228149647365285\n",
            " \n",
            "0:\tlearn: 0.0420488\ttest: 0.0386442\tbest: 0.0386442 (0)\ttotal: 7.55ms\tremaining: 15.1s\n",
            "500:\tlearn: 0.0233825\ttest: 0.0280935\tbest: 0.0274717 (44)\ttotal: 3.06s\tremaining: 9.17s\n",
            "Stopped by overfitting detector  (500 iterations wait)\n",
            "\n",
            "bestTest = 0.02747174298\n",
            "bestIteration = 44\n",
            "\n",
            "Shrink model to first 45 iterations.\n",
            "8월 MAPE: 52.29046732595772\n",
            " \n",
            "0:\tlearn: 0.0419438\ttest: 0.0413270\tbest: 0.0413270 (0)\ttotal: 6.8ms\tremaining: 13.6s\n",
            "500:\tlearn: 0.0233902\ttest: 0.0272924\tbest: 0.0271912 (357)\ttotal: 3.15s\tremaining: 9.43s\n",
            "Stopped by overfitting detector  (500 iterations wait)\n",
            "\n",
            "bestTest = 0.02719121172\n",
            "bestIteration = 357\n",
            "\n",
            "Shrink model to first 358 iterations.\n",
            "9월 MAPE: 55.16639536998892\n",
            " \n",
            "0:\tlearn: 0.0418250\ttest: 0.0439103\tbest: 0.0439103 (0)\ttotal: 7.49ms\tremaining: 15s\n",
            "500:\tlearn: 0.0231212\ttest: 0.0235177\tbest: 0.0234262 (444)\ttotal: 3.25s\tremaining: 9.72s\n",
            "Stopped by overfitting detector  (500 iterations wait)\n",
            "\n",
            "bestTest = 0.02342624865\n",
            "bestIteration = 444\n",
            "\n",
            "Shrink model to first 445 iterations.\n",
            "10월 MAPE: 43.88956095534293\n",
            " \n",
            "0:\tlearn: 0.0413866\ttest: 0.0517995\tbest: 0.0517995 (0)\ttotal: 6.33ms\tremaining: 12.6s\n",
            "500:\tlearn: 0.0232131\ttest: 0.0325881\tbest: 0.0325787 (496)\ttotal: 3.17s\tremaining: 9.47s\n",
            "1000:\tlearn: 0.0202913\ttest: 0.0323715\tbest: 0.0322933 (962)\ttotal: 6.37s\tremaining: 6.36s\n",
            "Stopped by overfitting detector  (500 iterations wait)\n",
            "\n",
            "bestTest = 0.03229332063\n",
            "bestIteration = 962\n",
            "\n",
            "Shrink model to first 963 iterations.\n",
            "11월 MAPE: 63.954523581505974\n",
            " \n",
            "0:\tlearn: 0.0414405\ttest: 0.0547312\tbest: 0.0547312 (0)\ttotal: 6.59ms\tremaining: 13.2s\n",
            "500:\tlearn: 0.0235591\ttest: 0.0261018\tbest: 0.0255006 (296)\ttotal: 3.17s\tremaining: 9.47s\n",
            "Stopped by overfitting detector  (500 iterations wait)\n",
            "\n",
            "bestTest = 0.02550061504\n",
            "bestIteration = 296\n",
            "\n",
            "Shrink model to first 297 iterations.\n",
            "12월 MAPE: 45.738568322514965\n",
            " \n"
          ],
          "name": "stdout"
        }
      ]
    },
    {
      "cell_type": "code",
      "metadata": {
        "id": "l2mrAQSethF2",
        "colab_type": "code",
        "colab": {
          "base_uri": "https://localhost:8080/",
          "height": 344
        },
        "outputId": "19972447-00ec-4f74-873d-d4ee2a88a1bf"
      },
      "source": [
        "plot_result(cv_test, cv_predict, cv_scores)"
      ],
      "execution_count": 224,
      "outputs": [
        {
          "output_type": "display_data",
          "data": {
            "image/png": "[encoded data removed]",
            "text/plain": [
              "<Figure size 1080x360 with 12 Axes>"
            ]
          },
          "metadata": {
            "tags": [],
            "needs_background": "light"
          }
        }
      ]
    },
    {
      "cell_type": "code",
      "metadata": {
        "id": "KRzLfNwSgPua",
        "colab_type": "code",
        "colab": {}
      },
      "source": [
        "explainer = shap.TreeExplainer(cv_models[12])"
      ],
      "execution_count": 225,
      "outputs": []
    },
    {
      "cell_type": "code",
      "metadata": {
        "id": "qstaB6iLrDS6",
        "colab_type": "code",
        "colab": {}
      },
      "source": [
        "shap_values = explainer.shap_values(cv_test_dataset[12])"
      ],
      "execution_count": 226,
      "outputs": []
    },
    {
      "cell_type": "code",
      "metadata": {
        "id": "du3xWzGVrNAe",
        "colab_type": "code",
        "colab": {
          "base_uri": "https://localhost:8080/",
          "height": 516
        },
        "outputId": "56d0dc17-fd5b-48e9-a5c0-21b06d21991b"
      },
      "source": [
        "shap.summary_plot(shap_values, train_x, plot_type=\"bar\")"
      ],
      "execution_count": 227,
      "outputs": [
        {
          "output_type": "display_data",
          "data": {
            "image/png": "[encoded data removed]",
            "text/plain": [
              "<Figure size 576x597.6 with 1 Axes>"
            ]
          },
          "metadata": {
            "tags": [],
            "needs_background": "light"
          }
        }
      ]
    },
    {
      "cell_type": "markdown",
      "metadata": {
        "id": "Tt3nMrmG_4P1",
        "colab_type": "text"
      },
      "source": [
        "## 의류"
      ]
    },
    {
      "cell_type": "code",
      "metadata": {
        "id": "mhk9d3wNDBM0",
        "colab_type": "code",
        "colab": {}
      },
      "source": [
        "def clothes(x):\n",
        "    if x.상품군 == '의류':\n",
        "        x.상품명 = x.상품명.replace('SS', 'S/S')\n",
        "        x.상품명 = x.상품명.replace('K-SWIS/S', 'K-SWISS')\n",
        "        x.상품명 = x.상품명.replace('FW', 'F/W')\n",
        "        x.상품명 = x.상품명.replace('S/S', ' S/S ')\n",
        "        x.상품명 = x.상품명.replace('F/W', ' F/W ')\n",
        "\n",
        "        x.상품명 = x.상품명.replace('기모', ' 기모 ')\n",
        "        x.상품명 = x.상품명.replace('니트', ' 니트 ')\n",
        "        x.상품명 = x.상품명.replace('팬츠', ' 팬츠 ')        \n",
        "        x.상품명 = x.상품명.replace('데님 팬츠', ' 데님 ')\n",
        "        x.상품명 = x.상품명.replace('티셔츠', ' 티셔츠 ')\n",
        "        x.상품명 = x.상품명.replace('밴딩', ' 밴딩 ')\n",
        "\n",
        "        x.상품명 = x.상품명.replace('코트', ' 코트 ')\n",
        "        x.상품명 = x.상품명.replace('밍크', ' 밍크 ')\n",
        "        x.상품명 = x.상품명.replace('그레이스', ' 그레이스 ')\n",
        "    else:\n",
        "        x.상품명 = x.상품명\n",
        "    return x\n",
        "\n",
        "data = data.apply(lambda x: clothes(x), axis = 1)\n",
        "\n",
        "data.상품명 = data.상품명.str.replace('CERINI by PAT', 'CERINI_by_PAT') \n",
        "data.상품명 = data.상품명.str.replace('USPA', 'USPA ')\n",
        "\n",
        "## 마르엘라로사티\n",
        "data.상품명 = data.상품명.str.replace('풀스킨', '')\n",
        "data.상품명 = data.상품명.str.replace('휘메일', '') #?\n",
        "\n",
        "data.상품명 = data.상품명.str.replace('트랙수트', ' 트랙수트 ')\n",
        "\n",
        "data.상품명 = data.상품명.str.replace(' +', ' ')\n",
        "data.상품명 = data.상품명.str.lstrip()\n",
        "data.상품명 = data.상품명.str.rstrip()"
      ],
      "execution_count": null,
      "outputs": []
    },
    {
      "cell_type": "code",
      "metadata": {
        "id": "MHfMWrq4Q-bc",
        "colab_type": "code",
        "colab": {
          "base_uri": "https://localhost:8080/",
          "height": 161
        },
        "outputId": "a3b2f2ea-ecb7-4b66-ca88-70f986077808"
      },
      "source": [
        "set(data[data.상품명.str.contains('그레이스')].상품명)"
      ],
      "execution_count": null,
      "outputs": [
        {
          "output_type": "execute_result",
          "data": {
            "text/plain": [
              "{'루이띠에 18k 그레이스 골드 귀걸이',\n",
              " '루이띠에 18k 그레이스 골드 목걸이',\n",
              " '루이띠에 18k 그레이스 골드 목걸이팔찌 세트',\n",
              " '루이띠에 18k 그레이스 골드 반지',\n",
              " '루이띠에 18k 그레이스 골드 주얼리 세트',\n",
              " '루이띠에 18k 그레이스 골드 팔찌',\n",
              " '루이띠에 18k 그레이스 골드 팔찌반지 세트',\n",
              " '헤스티지 그레이스 양가죽 코트'}"
            ]
          },
          "metadata": {
            "tags": []
          },
          "execution_count": 224
        }
      ]
    },
    {
      "cell_type": "code",
      "metadata": {
        "id": "oSt5LkVM0DTk",
        "colab_type": "code",
        "colab": {
          "base_uri": "https://localhost:8080/",
          "height": 917
        },
        "outputId": "14148007-1399-4ff1-8a87-d8d33356c3b1"
      },
      "source": [
        "word_count = max_words('의류')\n",
        "max_words_count = sorted(word_count.items(), key = lambda x: x[1], reverse = True)\n",
        "max_words_count[:50]"
      ],
      "execution_count": null,
      "outputs": [
        {
          "output_type": "execute_result",
          "data": {
            "text/plain": [
              "[('코트', 668),\n",
              " ('팬츠', 577),\n",
              " ('티셔츠', 566),\n",
              " ('데님', 451),\n",
              " ('K-SWISS', 440),\n",
              " ('S/S', 420),\n",
              " ('썸머', 416),\n",
              " ('뱅뱅', 413),\n",
              " ('세트', 342),\n",
              " ('밍크', 309),\n",
              " ('F/W', 304),\n",
              " ('트랙수트', 298),\n",
              " ('헤스티지', 280),\n",
              " ('마르엘라로사티', 269),\n",
              " ('기모', 267),\n",
              " ('NNF', 246),\n",
              " ('CERINI_by_PAT', 242),\n",
              " ('USPA', 232),\n",
              " ('패딩', 231),\n",
              " ('니트', 220),\n",
              " ('롱', 208),\n",
              " ('임페리얼', 207),\n",
              " ('보코', 200),\n",
              " ('컬렉션', 192),\n",
              " ('그렉노먼', 175),\n",
              " ('폴로셔츠', 171),\n",
              " ('크리스티나앤코', 167),\n",
              " ('봄', 162),\n",
              " ('양가죽', 159),\n",
              " ('베스트', 153),\n",
              " ('헤비추얼', 150),\n",
              " ('후드', 149),\n",
              " ('스트레치', 141),\n",
              " ('코몽트', 130),\n",
              " ('릴렉스', 128),\n",
              " ('에어핏', 126),\n",
              " ('테이트', 121),\n",
              " ('화이트라벨', 118),\n",
              " ('PK', 114),\n",
              " ('트레이닝', 111),\n",
              " ('대동모피', 102),\n",
              " ('본딩', 99),\n",
              " ('마리노블', 98),\n",
              " ('밴딩', 96),\n",
              " ('아웃도어', 94),\n",
              " ('자켓', 93),\n",
              " ('그레이스', 87),\n",
              " ('카라', 84),\n",
              " ('엘레나', 76),\n",
              " ('콤비', 76)]"
            ]
          },
          "metadata": {
            "tags": []
          },
          "execution_count": 225
        }
      ]
    },
    {
      "cell_type": "markdown",
      "metadata": {
        "id": "7xsbGt2uE-Z3",
        "colab_type": "text"
      },
      "source": [
        "## 속옷"
      ]
    },
    {
      "cell_type": "code",
      "metadata": {
        "id": "idTTY-wLNw9R",
        "colab_type": "code",
        "colab": {}
      },
      "source": [
        "## 에버라스트 드로즈\n",
        "data.상품명 = data.상품명.str.replace('10+', '', regex = False)\n",
        "\n",
        "# 헤드\n",
        "data.상품명 = data.상품명.str.replace('파이로라이트', '', regex = False)\n",
        "\n",
        "# 로베르타 디 까메리노\n",
        "data.상품명 = data.상품명.str.replace('로베르타 디 까메리노', '로베르타_디_까메리노')\n",
        "\n",
        "data.상품명 = data.상품명.str.replace('브라탑', ' 브라탑 ')\n",
        "data.상품명 = data.상품명.str.replace('브라팬티', '브라 팬티')\n",
        "data.상품명 = data.상품명.str.replace('브라', ' 브라')\n",
        "data.상품명 = data.상품명.str.replace('팬티', '팬티 ')\n",
        "data.상품명 = data.상품명.str.replace('패키지', ' 패키지 ')\n",
        "data.상품명 = data.상품명.str.replace('드로즈', '드로즈 ')\n",
        "data.상품명 = data.상품명.str.replace('DRY-CELL', '드라이셀')\n",
        "data.상품명 = data.상품명.str.replace('DRY-DELL', '드라이셀')\n",
        "data.상품명 = data.상품명.str.replace('라이크라', ' 라이크라 ')\n",
        "data.상품명 = data.상품명.str.replace('쉐이핑', ' 쉐이핑 ')\n",
        "\n",
        "data.상품명 = data.상품명.str.replace('프레쉬', '')\n",
        "data.상품명 = data.상품명.str.replace('데오', '')\n",
        "data.상품명 = data.상품명.str.replace('델타', '')\n",
        "data.상품명 = data.상품명.str.replace('피트니스', '')\n",
        "data.상품명 = data.상품명.str.replace('INNO', '')\n",
        "data.상품명 = data.상품명.str.replace('프런트후크', '')\n",
        "data.상품명 = data.상품명.str.replace('옴니위크', '')\n",
        "data.상품명 = data.상품명.str.replace('옴니히트', '')\n",
        "\n",
        "data.상품명 = data.상품명.str.replace('퍼융기모', '')\n",
        "data.상품명 = data.상품명.str.replace('융기모', '')\n",
        "\n",
        "def underwear(x):\n",
        "    if x.상품군 == '속옷':\n",
        "        x.상품명 = x.상품명.replace('블랙', '')\n",
        "    else:\n",
        "        x.상품명 = x.상품명   \n",
        "    return x\n",
        "\n",
        "data = data.apply(lambda x: clothes(x), axis = 1)\n",
        "\n",
        "\n",
        "data.상품명 = data.상품명.str.replace(' +', ' ')\n",
        "data.상품명 = data.상품명.str.lstrip()\n",
        "data.상품명 = data.상품명.str.rstrip()"
      ],
      "execution_count": null,
      "outputs": []
    },
    {
      "cell_type": "code",
      "metadata": {
        "id": "uusp8xOQVP51",
        "colab_type": "code",
        "colab": {
          "base_uri": "https://localhost:8080/",
          "height": 269
        },
        "outputId": "52c48bc2-97d6-4d97-88e8-52e339c1e8d5"
      },
      "source": [
        "set(data[data.상품명.str.contains('쉐이핑')].상품명)"
      ],
      "execution_count": null,
      "outputs": [
        {
          "output_type": "execute_result",
          "data": {
            "text/plain": [
              "{'댄스킨 매쉬 풀커버 쉐이핑 브라 패키지',\n",
              " '레이프릴 네추럴 쿨 쉐이핑 브라 패키지',\n",
              " '레이프릴 풍기인견 복부 쉐이핑 거들팬티',\n",
              " '로베르타_디_까메리노 360커브드 지퍼 쉐이핑 란쥬',\n",
              " '로베르타_디_까메리노 Y밸런스업 지퍼 쉐이핑 란쥬',\n",
              " '로베르타_디_까메리노 밸런스업 지퍼 쉐이핑 란쥬 패키지',\n",
              " '로베르타_디_까메리노 트리플커버 지퍼 쉐이핑 란쥬',\n",
              " '오가닉뷰티 황후의 코르셋 리얼 쉐이핑 팬티 패키지',\n",
              " '오모떼 리얼스킨 쉐이핑 브라 팬티',\n",
              " '오모떼 미라클 쉐이핑 브라 팬티',\n",
              " '오모떼 쉐이핑 브라 팬티',\n",
              " '오모떼 쉐이핑 차 브라 팬티',\n",
              " '오모떼 오리지널 쉐이핑 브라 팬티',\n",
              " '푸마 드라이셀 쉐이핑 레깅스'}"
            ]
          },
          "metadata": {
            "tags": []
          },
          "execution_count": 227
        }
      ]
    },
    {
      "cell_type": "code",
      "metadata": {
        "id": "SapibNI_0ibg",
        "colab_type": "code",
        "colab": {
          "base_uri": "https://localhost:8080/",
          "height": 917
        },
        "outputId": "6b463243-14fc-4f4f-8cb3-7fb080ee0954"
      },
      "source": [
        "word_count = max_words('속옷')\n",
        "max_words_count = sorted(word_count.items(), key = lambda x: x[1], reverse = True)\n",
        "max_words_count[:50]"
      ],
      "execution_count": null,
      "outputs": [
        {
          "output_type": "execute_result",
          "data": {
            "text/plain": [
              "[('패키지', 1547),\n",
              " ('푸마', 1013),\n",
              " ('드로즈', 814),\n",
              " ('브라', 737),\n",
              " ('팬티', 533),\n",
              " ('드라이셀', 413),\n",
              " ('트렁크', 296),\n",
              " ('심리스', 286),\n",
              " ('레이스', 278),\n",
              " ('오모떼', 272),\n",
              " ('쉐이핑', 268),\n",
              " ('에버라스트', 263),\n",
              " ('컬럼비아', 230),\n",
              " ('풍기인견', 225),\n",
              " ('코튼', 221),\n",
              " ('헤드', 212),\n",
              " ('라이크라', 208),\n",
              " ('레이프릴', 206),\n",
              " ('란쥬', 200),\n",
              " ('리복', 191),\n",
              " ('아키', 181),\n",
              " ('쿠미투니카', 180),\n",
              " ('카파', 170),\n",
              " ('풀커버', 159),\n",
              " ('동내의', 142),\n",
              " ('세트', 141),\n",
              " ('브라탑', 138),\n",
              " ('쿨', 134),\n",
              " ('롱드로즈', 133),\n",
              " ('로베르타_디_까메리노', 129),\n",
              " ('언더셔츠', 126),\n",
              " ('런닝', 126),\n",
              " ('블랙', 126),\n",
              " ('레깅스', 115),\n",
              " ('라쉬반', 110),\n",
              " ('지퍼', 105),\n",
              " ('치마레깅스', 104),\n",
              " ('베이스레이어', 102),\n",
              " ('원피스', 102),\n",
              " ('극세사', 90),\n",
              " ('7세트', 90),\n",
              " ('히트융', 90),\n",
              " ('브라세트', 89),\n",
              " ('스피드윅', 79),\n",
              " ('컬렉션', 79),\n",
              " ('크로커다일', 77),\n",
              " ('데일리', 75),\n",
              " ('캐리어', 74),\n",
              " ('풀컵', 72),\n",
              " ('와이드', 72)]"
            ]
          },
          "metadata": {
            "tags": []
          },
          "execution_count": 228
        }
      ]
    },
    {
      "cell_type": "markdown",
      "metadata": {
        "id": "dFr4h6e7FJwc",
        "colab_type": "text"
      },
      "source": [
        "## 농수축 & 건강기능\n"
      ]
    },
    {
      "cell_type": "code",
      "metadata": {
        "id": "Uo5KcHz8Nuhs",
        "colab_type": "code",
        "colab": {}
      },
      "source": [
        "# 멋진밥상 흥양농협 쌀 20kg\n",
        "data.상품명 = data.상품명.str.replace('햅쌀', '쌀')\n",
        "data.상품명 = data.상품명.str.replace('멋진밥상 흥양농협', '')\n",
        "\n",
        "## 안동간고등어 & 우리바다 손질왕꼬막\n",
        "data.상품명 = data.상품명.str.replace('안동간고등어', '고등어')\n",
        "\n",
        "# 생선\n",
        "data.상품명 = data.상품명.str.replace('고등어', ' 고등어 ')\n",
        "data.상품명 = data.상품명.str.replace('갈치', ' 갈치 ')\n",
        "data.상품명 = data.상품명.str.replace('광어', ' 광어 ')\n",
        "data.상품명 = data.상품명.str.replace('갑오징어', ' 오징어 ')\n",
        "data.상품명 = data.상품명.str.replace('통오징어', ' 오징어 ')\n",
        "data.상품명 = data.상품명.str.replace('전복', ' 전복 ')\n",
        "data.상품명 = data.상품명.str.replace('왈도활', '')\n",
        "\n",
        "\n",
        "# 영광 生 모시떡\n",
        "data.상품명 = data.상품명.str.replace('영광 生', '')\n",
        "data.상품명 = data.상품명.str.replace('동부기피+검정깨', '', regex=False)\n",
        "\n",
        "# 옛날쥐포 110장\n",
        "data.상품명 = data.상품명.str.replace('옛날', '', regex=False)\n",
        "data.상품명 = data.상품명.str.replace('110장', '', regex=False)\n",
        "\n",
        "\n",
        "data.상품명 = data.상품명.str.replace(' 그 ', ' ', regex=False)\n",
        "data.상품명 = data.상품명.str.replace('x', '', regex=False)\n",
        "data.상품명 = data.상품명.str.replace('손질', ' 손질 ', regex=False)\n",
        "data.상품명 = data.상품명.str.replace('햇', '', regex=False)\n",
        "data.상품명 = data.상품명.str.replace('총', '', regex=False)\n",
        "\n",
        "# 셰프\n",
        "data.상품명 = data.상품명.str.replace('AAB의', '', regex=False)\n",
        "data.상품명 = data.상품명.str.replace('유귀열의', '', regex=False)\n",
        "data.상품명 = data.상품명.str.replace('임성근의', '', regex=False)\n",
        "\n",
        "data.상품명 = data.상품명.str.replace('청정수산', '', regex=False)\n",
        "data.상품명 = data.상품명.str.replace('깐깐송도순', '', regex=False)\n",
        "data.상품명 = data.상품명.str.replace('현대어찬', '', regex=False)\n",
        "data.상품명 = data.상품명.str.replace('하늘내린', '', regex=False)\n",
        "data.상품명 = data.상품명.str.replace('소들녘', '', regex=False)\n",
        "data.상품명 = data.상품명.str.replace('피시원', '', regex=False)\n",
        "data.상품명 = data.상품명.str.replace('우리바다', '', regex=False)\n",
        "\n",
        "\n",
        "# 두유\n",
        "data.상품명 = data.상품명.str.replace('검은콩', '', regex=False)\n",
        "data.상품명 = data.상품명.str.replace('고칼슘', '', regex=False)\n",
        "data.상품명 = data.상품명.str.replace('호두아몬드', '', regex=False)\n",
        "\n",
        "# The 귀한\n",
        "data.상품명 = data.상품명.str.replace('The 귀한', '', regex=False)\n",
        "data.상품명 = data.상품명.str.replace('The귀한', '', regex=False)\n",
        "data.상품명 = data.상품명.str.replace('귀한', '', regex=False)\n",
        "data.상품명 = data.상품명.str.replace('무료체험', '', regex=False) #?\n",
        "\n",
        "# 김치\n",
        "data.상품명 = data.상품명.str.replace('갓김치', '김치', regex=False)\n",
        "data.상품명 = data.상품명.str.replace('포기김치', '김치', regex=False)\n",
        "data.상품명 = data.상품명.str.replace('각김치', '김치', regex=False)\n",
        "data.상품명 = data.상품명.str.replace('백김치', '김치', regex=False)\n",
        "\n",
        "\n",
        "data.상품명 = data.상품명.str.replace(' +', ' ')\n",
        "data.상품명 = data.상품명.str.lstrip()\n",
        "data.상품명 = data.상품명.str.rstrip()"
      ],
      "execution_count": null,
      "outputs": []
    },
    {
      "cell_type": "code",
      "metadata": {
        "id": "54ThjR1Nttfz",
        "colab_type": "code",
        "colab": {
          "base_uri": "https://localhost:8080/",
          "height": 35
        },
        "outputId": "c57dc2eb-0880-4fa0-9968-c20c888c8cfe"
      },
      "source": [
        "set(data[data.상품명.str.contains('하림')].상품명)"
      ],
      "execution_count": null,
      "outputs": [
        {
          "output_type": "execute_result",
          "data": {
            "text/plain": [
              "{'하림 치킨스테이크 4봉', '하림뼈없는양념닭발세트'}"
            ]
          },
          "metadata": {
            "tags": []
          },
          "execution_count": 230
        }
      ]
    },
    {
      "cell_type": "code",
      "metadata": {
        "id": "AVg0pIkJ0r6I",
        "colab_type": "code",
        "colab": {
          "base_uri": "https://localhost:8080/",
          "height": 557
        },
        "outputId": "06203129-3abe-45bb-97b4-d237f61c7ead"
      },
      "source": [
        "word_count = max_words('농수축')\n",
        "max_words_count = sorted(word_count.items(), key = lambda x: x[1], reverse = True)\n",
        "max_words_count[:30]"
      ],
      "execution_count": null,
      "outputs": [
        {
          "output_type": "execute_result",
          "data": {
            "text/plain": [
              "[('손질', 979),\n",
              " ('국내산', 639),\n",
              " ('김치', 442),\n",
              " ('오징어', 410),\n",
              " ('고등어', 326),\n",
              " ('쌀', 264),\n",
              " ('소곱창전골', 252),\n",
              " ('두유', 244),\n",
              " ('모시떡', 182),\n",
              " ('전복', 157),\n",
              " ('풀세트', 147),\n",
              " ('녹용도가니탕', 147),\n",
              " ('문어', 146),\n",
              " ('완도활', 136),\n",
              " ('자연산', 135),\n",
              " ('갈치', 118),\n",
              " ('쥐포', 116),\n",
              " ('꽃게', 99),\n",
              " ('갈비탕', 91),\n",
              " ('용대리황태', 83),\n",
              " ('궁중', 81),\n",
              " ('소', 80),\n",
              " ('동태포', 78),\n",
              " ('새우', 78),\n",
              " ('!!', 76),\n",
              " ('찰보리식혜', 70),\n",
              " ('하림뼈없는양념닭발세트', 69),\n",
              " ('홍어', 68),\n",
              " ('영산포숙성', 68),\n",
              " ('왕꼬막', 66)]"
            ]
          },
          "metadata": {
            "tags": []
          },
          "execution_count": 231
        }
      ]
    },
    {
      "cell_type": "code",
      "metadata": {
        "id": "vRhK6vJX02cr",
        "colab_type": "code",
        "colab": {
          "base_uri": "https://localhost:8080/",
          "height": 557
        },
        "outputId": "a902b56e-08f5-4be0-8124-78c587c7b711"
      },
      "source": [
        "word_count = max_words('건강기능')\n",
        "max_words_count = sorted(word_count.items(), key = lambda x: x[1], reverse = True)\n",
        "max_words_count[:30]"
      ],
      "execution_count": null,
      "outputs": [
        {
          "output_type": "execute_result",
          "data": {
            "text/plain": [
              "[('종근당건강', 253),\n",
              " ('생유산균골드', 199),\n",
              " ('락토핏', 199),\n",
              " ('단하루', 178),\n",
              " ('석류', 115),\n",
              " ('루테인', 93),\n",
              " ('정직한', 84),\n",
              " ('농부의', 84),\n",
              " ('닥터', 81),\n",
              " ('뉴트리원', 75),\n",
              " ('다이어트', 74),\n",
              " ('구미', 72),\n",
              " ('슈퍼', 57),\n",
              " ('아이클리어', 36),\n",
              " ('직매입', 36),\n",
              " ('프리바이오틱스', 33),\n",
              " ('석류즙', 32),\n",
              " ('무농약레드비트즙', 30),\n",
              " ('90봉', 30),\n",
              " ('통째로', 26),\n",
              " ('착즙한', 26),\n",
              " ('루비', 26),\n",
              " ('한삼인순홍삼진', 24),\n",
              " ('100%리얼착즙석류', 24),\n",
              " ('플러스', 24),\n",
              " ('백', 24),\n",
              " ('오메가3', 24),\n",
              " ('양배추진액', 20),\n",
              " ('제주농장', 20),\n",
              " ('유기', 20)]"
            ]
          },
          "metadata": {
            "tags": []
          },
          "execution_count": 232
        }
      ]
    },
    {
      "cell_type": "code",
      "metadata": {
        "id": "a4nFHAAXgdrx",
        "colab_type": "code",
        "colab": {
          "base_uri": "https://localhost:8080/",
          "height": 737
        },
        "outputId": "cd875358-c02b-4ed4-d818-957b2c4376df"
      },
      "source": [
        "data[data.상품군=='건강기능'].상품명.value_counts()[:50]"
      ],
      "execution_count": null,
      "outputs": [
        {
          "output_type": "execute_result",
          "data": {
            "text/plain": [
              "종근당건강 락토핏 생유산균골드 단하루                175\n",
              "정직한 농부의 석류                           84\n",
              "뉴트리원 다이어트 구미                         66\n",
              "닥터 슈퍼 루테인                            57\n",
              "직매입 종근당건강 아이클리어 루테인                  36\n",
              "무농약레드비트즙 90봉                         30\n",
              "통째로 착즙한 루비 석류즙                       26\n",
              "한삼인순홍삼진 백                            24\n",
              "100%리얼착즙석류                           24\n",
              "닥터 프리바이오틱스 플러스                       24\n",
              "종근당건강 락토핏 생유산균골드                     24\n",
              "제주농장 유기 양배추진액                        20\n",
              "광동제약 석류 100,                         19\n",
              "뉴질랜드 초록입홍합 환 100%                    15\n",
              "안국루테인 미니100                          12\n",
              "콜라겐3.2 아임파인 월                        12\n",
              "블랙모어스 알티지 오메가3 3병 53주분               12\n",
              "리얼니파팜 해죽순                            12\n",
              "\" 100%리얼 착즙 석류 \",                    12\n",
              "베지밀 두유                                9\n",
              "경남제약 레모나 S산                           9\n",
              "종근당건강 프로메가 오메가3 파워                    9\n",
              "한국인 모유유래 다이어트 유산균 BNR17 비에날씬 12주      8\n",
              "특집 이롬 황성주1일1생식 스페셜                    8\n",
              "프리바이오틱스 3300 월분                       6\n",
              "종근당건강 전립쎈 프라임                         6\n",
              "네페르티티 유기농 퀸 석류즙                       6\n",
              "여자를 위한 빨강 팥물, 레드빈 티톡                  6\n",
              "모나코사놀                                 6\n",
              "뉴트리원 비비랩 FOS 프리바이오틱스                  3\n",
              "단하루 종근당건강 프로메가 오메가3 파워+비타민D           3\n",
              "광동 장건강엔 생유산균                          3\n",
              "이경제의 황제진액 철갑상어                        3\n",
              "서울대 더 리얼 신바이오틱스 월분                    3\n",
              "밀싹 클렌즈 , 8주분! + 전용보틀                  3\n",
              "뉴트리원 전지현 베리솔 콜라겐 구미 12주분+3일분          3\n",
              "티젠 히비스커스 분말                           3\n",
              "뉴트리원 전지현 베리솔 콜라겐 구미 더블24주분+6일분        3\n",
              "이경제의 레드비트 착즙 100%,                    2\n",
              "Name: 상품명, dtype: int64"
            ]
          },
          "metadata": {
            "tags": []
          },
          "execution_count": 233
        }
      ]
    },
    {
      "cell_type": "markdown",
      "metadata": {
        "id": "jv646kcJFR7w",
        "colab_type": "text"
      },
      "source": [
        "## 잡화"
      ]
    },
    {
      "cell_type": "code",
      "metadata": {
        "id": "nh5d-rg9NOJF",
        "colab_type": "code",
        "colab": {}
      },
      "source": [
        "# 잡화\n",
        "data.상품명 = data.상품명.str.replace('18k', '18K')\n",
        "data.상품명 = data.상품명.str.replace('목걸이', ' 목걸이 ')\n",
        "data.상품명 = data.상품명.str.replace('팔찌', ' 팔찌 ')\n",
        "data.상품명 = data.상품명.str.replace('반지', ' 반지 ')\n",
        "data.상품명 = data.상품명.str.replace('주얼리', ' 주얼리 ')\n",
        "data.상품명 = data.상품명.str.replace('골드바', ' 골드바 ')\n",
        "data.상품명 = data.상품명.str.replace('골드 ', '')\n",
        "data.상품명 = data.상품명.str.replace('크로스바디백', '크로스백', regex = False)\n",
        "\n",
        "\n",
        "## 가이거 워치\n",
        "data.상품명 = data.상품명.str.replace('다이아몬드', '', regex = False)\n",
        "data.상품명 = data.상품명.str.replace('콘체르토', '', regex = False)\n",
        "\n",
        "data.상품명 = data.상품명.str.replace('카이만', ' 카이만 ', regex = False)\n",
        "data.상품명 = data.상품명.str.replace('악어', '', regex = False)\n",
        "data.상품명 = data.상품명.str.replace('리얼', '', regex = False)\n",
        "data.상품명 = data.상품명.str.replace('엠보', ' 엠보 ', regex = False)\n",
        "data.상품명 = data.상품명.str.replace('테스토', '', regex = False)\n",
        "\n",
        "# 루이띠에 (? 이름있는 브랜드인지?)\n",
        "data.상품명 = data.상품명.str.replace('그레이스', '', regex = False)\n",
        "data.상품명 = data.상품명.str.replace('베르니아', '', regex = False)\n",
        "\n",
        "\n",
        "data.상품명 = data.상품명.str.replace('알비에로 마르티니', '알비에로_마르티니', regex = False)\n",
        "data.상품명 = data.상품명.str.replace('1A', '', regex = False)\n",
        "data.상품명 = data.상품명.str.replace('클라쎄', '', regex = False)\n",
        "data.상품명 = data.상품명.str.replace('시그니처', '', regex = False)\n",
        "data.상품명 = data.상품명.str.replace('RYN 린', 'RYN', regex = False)\n",
        "data.상품명 = data.상품명.str.replace('켈시', '', regex = False)\n",
        "\n",
        "def stuff(x):\n",
        "    if x.상품군 == '잡화':\n",
        "        x.상품명 = x.상품명.replace('에어', '')\n",
        "        x.상품명 = x.상품명.replace('주얼리', '')\n",
        "        x.상품명 = x.상품명.replace('SS', 'S/S')\n",
        "    else:\n",
        "        x.상품명 = x.상품명\n",
        "    return x\n",
        "\n",
        "data = data.apply(lambda x: stuff(x), axis = 1)\n",
        "\n",
        "data.상품명 = data.상품명.str.replace(' +', ' ')\n",
        "data.상품명 = data.상품명.str.lstrip()\n",
        "data.상품명 = data.상품명.str.rstrip()"
      ],
      "execution_count": null,
      "outputs": []
    },
    {
      "cell_type": "code",
      "metadata": {
        "id": "5XNp9Nin06qs",
        "colab_type": "code",
        "colab": {
          "base_uri": "https://localhost:8080/",
          "height": 917
        },
        "outputId": "d3f5a40f-4a40-4d3c-a0e2-63b8a9cd7778"
      },
      "source": [
        "word_count = max_words('잡화')\n",
        "max_words_count = sorted(word_count.items(), key = lambda x: x[1], reverse = True)\n",
        "max_words_count[:50]"
      ],
      "execution_count": null,
      "outputs": [
        {
          "output_type": "execute_result",
          "data": {
            "text/plain": [
              "[('루이띠에', 406),\n",
              " ('소가죽', 365),\n",
              " ('세트', 364),\n",
              " ('코치', 357),\n",
              " ('프라다', 342),\n",
              " ('18K', 331),\n",
              " ('카이만', 331),\n",
              " ('크로스백', 280),\n",
              " ('삭루츠', 279),\n",
              " ('월드컵', 272),\n",
              " ('가이거', 246),\n",
              " ('러닝화', 228),\n",
              " ('토트백', 219),\n",
              " ('엠보', 219),\n",
              " ('백', 212),\n",
              " ('숄더백', 200),\n",
              " ('워치', 198),\n",
              " ('도스문도스', 195),\n",
              " ('선글라스', 184),\n",
              " ('팔찌', 174),\n",
              " ('트레킹화', 158),\n",
              " ('목걸이', 152),\n",
              " ('아가타', 141),\n",
              " ('S/S', 138),\n",
              " ('워킹화', 126),\n",
              " ('샌들', 126),\n",
              " ('백팩', 124),\n",
              " ('칼리베이직', 123),\n",
              " ('사첼백', 121),\n",
              " ('핸드백', 96),\n",
              " ('여행가방', 93),\n",
              " ('슬립온', 91),\n",
              " ('AAD', 89),\n",
              " ('순금', 89),\n",
              " ('체인', 86),\n",
              " ('안드레아바나', 86),\n",
              " ('알비에로_마르티니', 84),\n",
              " ('트레스패스', 84),\n",
              " ('F/W', 83),\n",
              " ('에펨', 82),\n",
              " ('반지', 80),\n",
              " ('플랫슈즈', 76),\n",
              " ('RYN', 72),\n",
              " ('펌프스', 69),\n",
              " ('구찌', 69),\n",
              " ('레코바', 66),\n",
              " ('슬리퍼', 66),\n",
              " ('스니커즈', 66),\n",
              " ('로베르타_디_까메리노', 65),\n",
              " ('골드바', 64)]"
            ]
          },
          "metadata": {
            "tags": []
          },
          "execution_count": 235
        }
      ]
    },
    {
      "cell_type": "code",
      "metadata": {
        "id": "ZUXeqL9wFVxj",
        "colab_type": "code",
        "colab": {
          "base_uri": "https://localhost:8080/",
          "height": 935
        },
        "outputId": "a8b25929-0387-4bae-fa3b-7b6d6e20a581"
      },
      "source": [
        "data[data.상품군=='잡화'].상품명.value_counts()[:50]"
      ],
      "execution_count": null,
      "outputs": [
        {
          "output_type": "execute_result",
          "data": {
            "text/plain": [
              "가이거 워치                      174\n",
              "트레스패스 워킹화 + 러닝화              66\n",
              "칼리베이직 백 세트                   63\n",
              "도스문도스 카이만 엠보 소가죽 토트백         57\n",
              "칼리베이직 패브릭 백                  57\n",
              "코치 사첼백                       54\n",
              "레코바 다이얼워킹화세트                 54\n",
              "S/S 엘리자베스아덴 선글라스             54\n",
              "도스문도스 카이만 엠보 소가죽 핸드백         54\n",
              "삭루츠 투 웨이 백팩 TQ55             51\n",
              "가이거 제니스시계 세트                 48\n",
              "월드컵 러닝화+트레킹화                 48\n",
              "프라다 크로스백                     48\n",
              "RYN 다이얼락 히트 웜 퍼 방한화          48\n",
              "월드컵 러닝화+슬리퍼                  48\n",
              "루이띠에 18K 세트                  47\n",
              "루이띠에 18K 귀걸이                 46\n",
              "도스문도스 카이만 엠보 소가죽 체인 숄더백      45\n",
              "루이띠에 18K 목걸이                 44\n",
              "AAA F/W 트레킹화                 44\n",
              "루이띠에 18K 팔찌                  43\n",
              "S/S 로베르타_디_까메리노 선글라스         42\n",
              "썸덱스 트로이카 여행가방 세트             42\n",
              "코치 베네트 사첼백                   42\n",
              "월드컵 워킹화+슬립온                  42\n",
              "월드컵 러닝화+아쿠아트레킹화              42\n",
              "오델로 겨울모자                     40\n",
              "루이띠에 18K 목걸이 팔찌 세트           36\n",
              "아가타 골든 마스터 펌프스+플랫슈즈          36\n",
              "AAD 소가죽 올데이슬립온               35\n",
              "루이띠에 18K 반지                  34\n",
              "삭루츠 크로스백 TQ11                33\n",
              "삭루츠 호보백 TQ48                 33\n",
              "삭루츠 더플백 여행가방 TQ49            33\n",
              "코치 플라이트백                     33\n",
              "프라다 비텔로 피닉스 토트백              33\n",
              "안드레아바나 카이만 토트백               31\n",
              "루이띠에 18K 팔찌 반지 세트            31\n",
              "에펨 소가죽 체인지 샌들                30\n",
              "프라다 탑핸들 토트 숄더백               30\n",
              "에펨 글로스 샌들                    30\n",
              "도스문도스 카이만 엠보 소가죽 핸드백 역시즌     30\n",
              "프라다 더블지퍼 크로스백                28\n",
              "안드레아바나 카이만 바디 숄더백            28\n",
              "삭루츠 토트백 TQ35                 27\n",
              "안드레아바나 카이만 테일 숄더백            27\n",
              "삭루츠 크로스백 TQ12                27\n",
              "구찌 더블G 오버 선글라스               26\n",
              "프라다 레터링 버킷백                  24\n",
              "AAD 소가죽 투웨이 샌들               24\n",
              "Name: 상품명, dtype: int64"
            ]
          },
          "metadata": {
            "tags": []
          },
          "execution_count": 236
        }
      ]
    },
    {
      "cell_type": "markdown",
      "metadata": {
        "id": "1YD8liawFtMk",
        "colab_type": "text"
      },
      "source": [
        "## 이미용"
      ]
    },
    {
      "cell_type": "code",
      "metadata": {
        "id": "KJh_Kos1Kn1a",
        "colab_type": "code",
        "colab": {}
      },
      "source": [
        "# 비버리힐스폴로클럽\n",
        "data.상품명 = data.상품명.str.replace('골드+콜라겐', '', regex=False) \n",
        "data.상품명 = data.상품명.str.replace('FW골드', '', regex=False) \n",
        "data.상품명 = data.상품명.str.replace('골드+플라', '', regex=False) \n",
        "data.상품명 = data.상품명.str.replace('플라센타아이크림+선크림', '', regex=False) \n",
        "\n",
        "data.상품명 = data.상품명.str.replace('탑뉴스 지이링클', '') \n",
        "data.상품명 = data.상품명.str.replace('보닌', '') \n",
        "data.상품명 = data.상품명.str.replace('에스까르고에센스', '') \n",
        "data.상품명 = data.상품명.str.replace('오리지널', '') \n",
        "data.상품명 = data.상품명.str.replace('에이지큐어 원미닛', '') \n",
        "data.상품명 = data.상품명.str.replace('파리컬렉션 리얼 하이드로', '') \n",
        "\n",
        "data.상품명 = data.상품명.str.replace('비노테라', '') \n",
        "\n",
        "\n",
        "\n",
        "data.상품명 = data.상품명.str.replace(' +', ' ')\n",
        "data.상품명 = data.상품명.str.lstrip()\n",
        "data.상품명 = data.상품명.str.rstrip()"
      ],
      "execution_count": null,
      "outputs": []
    },
    {
      "cell_type": "code",
      "metadata": {
        "id": "Im1_d8iEm9Nf",
        "colab_type": "code",
        "colab": {
          "base_uri": "https://localhost:8080/",
          "height": 917
        },
        "outputId": "7ec7a417-2cb2-4db9-e648-455260ef7f9e"
      },
      "source": [
        "word_count = max_words('이미용')\n",
        "max_words_count = sorted(word_count.items(), key = lambda x: x[1], reverse = True)\n",
        "max_words_count[:50]"
      ],
      "execution_count": null,
      "outputs": [
        {
          "output_type": "execute_result",
          "data": {
            "text/plain": [
              "[('기초세트', 711),\n",
              " ('비버리힐스폴로클럽', 488),\n",
              " ('참존', 141),\n",
              " ('엘렌실라', 108),\n",
              " ('VONIN', 82),\n",
              " ('커버쿠션', 60),\n",
              " ('패키지', 59),\n",
              " ('실크테라피', 53),\n",
              " ('에센스', 53),\n",
              " ('링클', 52),\n",
              " ('리프트', 52),\n",
              " ('네오젠', 52),\n",
              " ('스포메틱스', 50),\n",
              " ('립스틱', 45),\n",
              " ('마리끌레르', 42),\n",
              " ('아미니', 39),\n",
              " ('워시', 36),\n",
              " ('비노테라', 36),\n",
              " ('오일', 36),\n",
              " ('라라츄', 33),\n",
              " ('샤이닝', 32),\n",
              " ('SET', 30),\n",
              " ('틴트', 30),\n",
              " ('바', 30),\n",
              " ('젤네일스트립', 30),\n",
              " ('바바코코', 30),\n",
              " ('아이브로우', 30),\n",
              " ('트리플', 30),\n",
              " ('달팽이크림', 27),\n",
              " ('팩트3', 27),\n",
              " ('그린', 27),\n",
              " ('콜라겐5', 27),\n",
              " ('쿠션시즌1', 24),\n",
              " ('아이앤아이', 21),\n",
              " ('퀵래쉬', 21),\n",
              " ('속눈썹세트', 21),\n",
              " ('썬스틱7', 21),\n",
              " ('마스카라', 21),\n",
              " ('리뉴얼', 21),\n",
              " ('에너지', 21),\n",
              " ('구성1', 18),\n",
              " ('쑥클렌져', 18),\n",
              " ('구성2', 18),\n",
              " ('엘렌실라&코즈미', 18),\n",
              " ('NEW프리미엄', 16),\n",
              " ('추가', 16),\n",
              " ('더블쿠션', 15),\n",
              " ('미바', 15),\n",
              " ('RX', 15),\n",
              " ('이온칼슘', 15)]"
            ]
          },
          "metadata": {
            "tags": []
          },
          "execution_count": 110
        }
      ]
    },
    {
      "cell_type": "code",
      "metadata": {
        "id": "Hrpz8fogvQSH",
        "colab_type": "code",
        "colab": {
          "base_uri": "https://localhost:8080/",
          "height": 971
        },
        "outputId": "b49a8175-bce3-431c-c4da-780c786c8a74"
      },
      "source": [
        "data[data.상품군 == '이미용'].상품명.value_counts()"
      ],
      "execution_count": 44,
      "outputs": [
        {
          "output_type": "execute_result",
          "data": {
            "text/plain": [
              "비버리힐스폴로클럽 기초세트 골드+콜라겐           152\n",
              "비버리힐스폴로클럽 기초세트 FW골드             149\n",
              "참존 탑뉴스 지이링클 기초세트                141\n",
              "비버리힐스폴로클럽 기초세트 골드+플라            112\n",
              "VONIN 보닌 기초세트                    82\n",
              "비버리힐스폴로클럽 기초세트 플라센타아이크림+선크림      75\n",
              "엘렌실라 에스까르고에센스 커버쿠션               60\n",
              "실크테라피 오리지널 에센스 패키지               53\n",
              "네오젠 에이지큐어 원미닛 링클 리프트             52\n",
              "라라츄 틴트 아이브로우 바                   30\n",
              "바바코코 젤네일스트립 SET                  30\n",
              "엘렌실라 달팽이크림 콜라겐5+팩트3              27\n",
              "스포메틱스 트리플 샤이닝 쿠션                 24\n",
              "마리끌레르 파리컬렉션 리얼 하이드로 립스틱 리뉴얼      21\n",
              "마리끌레르 파리컬렉션 리얼 하이드로 립스틱 마스카라     21\n",
              "엘렌실라 그린 에너지 썬스틱7                 21\n",
              "아이앤아이 퀵래쉬 속눈썹세트                  21\n",
              "아미니 비노테라 오일 워시 구성1               18\n",
              "아미니 비노테라 오일 워시 구성2               18\n",
              "더블모 어성초 샴푸                       15\n",
              "미바 이온칼슘 파운데이션 더블쿠션 RX            15\n",
              "엘렌실라&코즈미 쑥클렌져 단하루                12\n",
              "자올 닥터스오더 탈모 부스터&샴푸               11\n",
              "프리미엄 클린샤워                         9\n",
              "파시노 이지앤퀵 빗살 뿌리펌                   9\n",
              "NEW프리미엄 TS샴푸/트리트먼트 추가             8\n",
              "에이유플러스 슈퍼선스틱 1001 쇼퍼백             8\n",
              "NEW프리미엄 TS샴푸세트 추가                 8\n",
              "스포메틱스 네츄럴 선스틱                     8\n",
              "스포메틱스 트리플 샤이닝 쿠션 이데베논앰플           6\n",
              "달바 화이트 트러플 퍼스트 인텐시브 세럼            6\n",
              "스칼프솔루션 트리트먼트 패키지                  6\n",
              "스포메틱스 리얼핏 모이스춰라이징 코코넛크림           6\n",
              "뉴웨이 볼륨브러쉬                         6\n",
              "스포메틱스 그린 네츄럴 선쿠션                  6\n",
              "엘로엘 아쿠아클린 마스크                     6\n",
              "엘렌실라&코즈미 쑥클렌져                     6\n",
              "블링썸 아이스타일러SET                     6\n",
              "아미니 릴렉싱 풋케어 풀패키지                  3\n",
              "AHC 스킨케어링 톤커버크림                   3\n",
              "메디앤서 생콜라겐 마스크팩                    3\n",
              "고데롤 플러스                           3\n",
              "코튼플러스 클렌징패드 더블                    3\n",
              "코튼플러스 클렌징패드 싱글                    3\n",
              "시크릿뮤즈 커버팩트                        3\n",
              "피부약방 더오리진 크림세트                    3\n",
              "시크릿 라메종 볼륨 스프레이 고데기               3\n",
              "에이온에이 10분 셀프뿌리퍼머                  3\n",
              "라라츄 헤어볼륨쿠션                        3\n",
              "컨시크 컬러마크 글로우 립스틱                  3\n",
              "블링썸 데스트니 아이라이너                    3\n",
              "살롱클리닉 샤이닝 트리트먼트 헤어컬러크림세트          2\n",
              "Name: 상품명, dtype: int64"
            ]
          },
          "metadata": {
            "tags": []
          },
          "execution_count": 44
        }
      ]
    },
    {
      "cell_type": "code",
      "metadata": {
        "id": "PcYw32NNFsJ9",
        "colab_type": "code",
        "colab": {
          "base_uri": "https://localhost:8080/",
          "height": 71
        },
        "outputId": "236fbbba-7de2-43b9-a426-45ac7ab821e1"
      },
      "source": [
        "set(data[(data.상품명.str.contains('리얼'))&(data.상품군=='이미용')].상품명)"
      ],
      "execution_count": null,
      "outputs": [
        {
          "output_type": "execute_result",
          "data": {
            "text/plain": [
              "{'마리끌레르 파리컬렉션 리얼 하이드로 립스틱 리뉴얼',\n",
              " '마리끌레르 파리컬렉션 리얼 하이드로 립스틱 마스카라',\n",
              " '스포메틱스 리얼핏 모이스춰라이징 코코넛크림'}"
            ]
          },
          "metadata": {
            "tags": []
          },
          "execution_count": 98
        }
      ]
    },
    {
      "cell_type": "code",
      "metadata": {
        "id": "wWe9HSXKv9h6",
        "colab_type": "code",
        "colab": {
          "base_uri": "https://localhost:8080/",
          "height": 899
        },
        "outputId": "8090ec28-6dc4-42a5-9fac-a3fad1afc2a1"
      },
      "source": [
        "data[(data.상품명.str.contains('오일'))&(data.상품군=='이미용')&(data.Last == 1)]"
      ],
      "execution_count": null,
      "outputs": [
        {
          "output_type": "execute_result",
          "data": {
            "text/html": [
              "<div>\n",
              "<style scoped>\n",
              "    .dataframe tbody tr th:only-of-type {\n",
              "        vertical-align: middle;\n",
              "    }\n",
              "\n",
              "    .dataframe tbody tr th {\n",
              "        vertical-align: top;\n",
              "    }\n",
              "\n",
              "    .dataframe thead th {\n",
              "        text-align: right;\n",
              "    }\n",
              "</style>\n",
              "<table border=\"1\" class=\"dataframe\">\n",
              "  <thead>\n",
              "    <tr style=\"text-align: right;\">\n",
              "      <th></th>\n",
              "      <th>상품명</th>\n",
              "      <th>상품군</th>\n",
              "      <th>판매단가</th>\n",
              "      <th>취급액</th>\n",
              "      <th>월</th>\n",
              "      <th>일</th>\n",
              "      <th>시</th>\n",
              "      <th>요일</th>\n",
              "      <th>휴일</th>\n",
              "      <th>프라임</th>\n",
              "      <th>First</th>\n",
              "      <th>Middle</th>\n",
              "      <th>Last</th>\n",
              "      <th>구매횟수</th>\n",
              "      <th>결제유형</th>\n",
              "      <th>성별</th>\n",
              "    </tr>\n",
              "    <tr>\n",
              "      <th>방송일시</th>\n",
              "      <th></th>\n",
              "      <th></th>\n",
              "      <th></th>\n",
              "      <th></th>\n",
              "      <th></th>\n",
              "      <th></th>\n",
              "      <th></th>\n",
              "      <th></th>\n",
              "      <th></th>\n",
              "      <th></th>\n",
              "      <th></th>\n",
              "      <th></th>\n",
              "      <th></th>\n",
              "      <th></th>\n",
              "      <th></th>\n",
              "      <th></th>\n",
              "    </tr>\n",
              "  </thead>\n",
              "  <tbody>\n",
              "    <tr>\n",
              "      <th>2019-09-05 01:40:00</th>\n",
              "      <td>아미니 오일 워시 구성1</td>\n",
              "      <td>이미용</td>\n",
              "      <td>79000</td>\n",
              "      <td>14541000.0</td>\n",
              "      <td>9</td>\n",
              "      <td>5</td>\n",
              "      <td>1</td>\n",
              "      <td>Thursday</td>\n",
              "      <td>0</td>\n",
              "      <td>4</td>\n",
              "      <td>0.0</td>\n",
              "      <td>0.0</td>\n",
              "      <td>1.0</td>\n",
              "      <td>184.063291</td>\n",
              "      <td>0</td>\n",
              "      <td>0</td>\n",
              "    </tr>\n",
              "    <tr>\n",
              "      <th>2019-09-05 01:40:00</th>\n",
              "      <td>아미니 오일 워시 구성2</td>\n",
              "      <td>이미용</td>\n",
              "      <td>59900</td>\n",
              "      <td>5222000.0</td>\n",
              "      <td>9</td>\n",
              "      <td>5</td>\n",
              "      <td>1</td>\n",
              "      <td>Thursday</td>\n",
              "      <td>0</td>\n",
              "      <td>4</td>\n",
              "      <td>0.0</td>\n",
              "      <td>0.0</td>\n",
              "      <td>1.0</td>\n",
              "      <td>87.178631</td>\n",
              "      <td>0</td>\n",
              "      <td>0</td>\n",
              "    </tr>\n",
              "    <tr>\n",
              "      <th>2019-09-11 15:40:00</th>\n",
              "      <td>아미니 오일 워시 구성1</td>\n",
              "      <td>이미용</td>\n",
              "      <td>79000</td>\n",
              "      <td>33857000.0</td>\n",
              "      <td>9</td>\n",
              "      <td>11</td>\n",
              "      <td>15</td>\n",
              "      <td>Wednesday</td>\n",
              "      <td>0</td>\n",
              "      <td>1</td>\n",
              "      <td>0.0</td>\n",
              "      <td>0.0</td>\n",
              "      <td>1.0</td>\n",
              "      <td>428.569620</td>\n",
              "      <td>0</td>\n",
              "      <td>0</td>\n",
              "    </tr>\n",
              "    <tr>\n",
              "      <th>2019-09-11 15:40:00</th>\n",
              "      <td>아미니 오일 워시 구성2</td>\n",
              "      <td>이미용</td>\n",
              "      <td>59900</td>\n",
              "      <td>7894000.0</td>\n",
              "      <td>9</td>\n",
              "      <td>11</td>\n",
              "      <td>15</td>\n",
              "      <td>Wednesday</td>\n",
              "      <td>0</td>\n",
              "      <td>1</td>\n",
              "      <td>0.0</td>\n",
              "      <td>0.0</td>\n",
              "      <td>1.0</td>\n",
              "      <td>131.786311</td>\n",
              "      <td>0</td>\n",
              "      <td>0</td>\n",
              "    </tr>\n",
              "    <tr>\n",
              "      <th>2019-09-14 23:40:00</th>\n",
              "      <td>아미니 오일 워시 구성1</td>\n",
              "      <td>이미용</td>\n",
              "      <td>79000</td>\n",
              "      <td>25601000.0</td>\n",
              "      <td>9</td>\n",
              "      <td>14</td>\n",
              "      <td>23</td>\n",
              "      <td>Saturday</td>\n",
              "      <td>2</td>\n",
              "      <td>4</td>\n",
              "      <td>0.0</td>\n",
              "      <td>0.0</td>\n",
              "      <td>1.0</td>\n",
              "      <td>324.063291</td>\n",
              "      <td>0</td>\n",
              "      <td>0</td>\n",
              "    </tr>\n",
              "    <tr>\n",
              "      <th>2019-09-14 23:40:00</th>\n",
              "      <td>아미니 오일 워시 구성2</td>\n",
              "      <td>이미용</td>\n",
              "      <td>59900</td>\n",
              "      <td>2287000.0</td>\n",
              "      <td>9</td>\n",
              "      <td>14</td>\n",
              "      <td>23</td>\n",
              "      <td>Saturday</td>\n",
              "      <td>2</td>\n",
              "      <td>4</td>\n",
              "      <td>0.0</td>\n",
              "      <td>0.0</td>\n",
              "      <td>1.0</td>\n",
              "      <td>38.180301</td>\n",
              "      <td>0</td>\n",
              "      <td>0</td>\n",
              "    </tr>\n",
              "    <tr>\n",
              "      <th>2019-09-15 00:00:00</th>\n",
              "      <td>아미니 오일 워시 구성1</td>\n",
              "      <td>이미용</td>\n",
              "      <td>79000</td>\n",
              "      <td>28439000.0</td>\n",
              "      <td>9</td>\n",
              "      <td>15</td>\n",
              "      <td>0</td>\n",
              "      <td>Sunday</td>\n",
              "      <td>1</td>\n",
              "      <td>4</td>\n",
              "      <td>0.0</td>\n",
              "      <td>0.0</td>\n",
              "      <td>1.0</td>\n",
              "      <td>359.987342</td>\n",
              "      <td>0</td>\n",
              "      <td>0</td>\n",
              "    </tr>\n",
              "    <tr>\n",
              "      <th>2019-09-15 00:00:00</th>\n",
              "      <td>아미니 오일 워시 구성2</td>\n",
              "      <td>이미용</td>\n",
              "      <td>59900</td>\n",
              "      <td>4323000.0</td>\n",
              "      <td>9</td>\n",
              "      <td>15</td>\n",
              "      <td>0</td>\n",
              "      <td>Sunday</td>\n",
              "      <td>1</td>\n",
              "      <td>4</td>\n",
              "      <td>0.0</td>\n",
              "      <td>0.0</td>\n",
              "      <td>1.0</td>\n",
              "      <td>72.170284</td>\n",
              "      <td>0</td>\n",
              "      <td>0</td>\n",
              "    </tr>\n",
              "    <tr>\n",
              "      <th>2019-09-26 08:40:00</th>\n",
              "      <td>아미니 오일 워시 구성1</td>\n",
              "      <td>이미용</td>\n",
              "      <td>79000</td>\n",
              "      <td>32928000.0</td>\n",
              "      <td>9</td>\n",
              "      <td>26</td>\n",
              "      <td>8</td>\n",
              "      <td>Thursday</td>\n",
              "      <td>0</td>\n",
              "      <td>3</td>\n",
              "      <td>0.0</td>\n",
              "      <td>0.0</td>\n",
              "      <td>1.0</td>\n",
              "      <td>416.810127</td>\n",
              "      <td>0</td>\n",
              "      <td>0</td>\n",
              "    </tr>\n",
              "    <tr>\n",
              "      <th>2019-09-26 08:40:00</th>\n",
              "      <td>아미니 오일 워시 구성2</td>\n",
              "      <td>이미용</td>\n",
              "      <td>59900</td>\n",
              "      <td>3603000.0</td>\n",
              "      <td>9</td>\n",
              "      <td>26</td>\n",
              "      <td>8</td>\n",
              "      <td>Thursday</td>\n",
              "      <td>0</td>\n",
              "      <td>3</td>\n",
              "      <td>0.0</td>\n",
              "      <td>0.0</td>\n",
              "      <td>1.0</td>\n",
              "      <td>60.150250</td>\n",
              "      <td>0</td>\n",
              "      <td>0</td>\n",
              "    </tr>\n",
              "    <tr>\n",
              "      <th>2019-10-02 23:40:00</th>\n",
              "      <td>아미니 오일 워시 구성1</td>\n",
              "      <td>이미용</td>\n",
              "      <td>79000</td>\n",
              "      <td>17626000.0</td>\n",
              "      <td>10</td>\n",
              "      <td>2</td>\n",
              "      <td>23</td>\n",
              "      <td>Wednesday</td>\n",
              "      <td>0</td>\n",
              "      <td>4</td>\n",
              "      <td>0.0</td>\n",
              "      <td>0.0</td>\n",
              "      <td>1.0</td>\n",
              "      <td>223.113924</td>\n",
              "      <td>0</td>\n",
              "      <td>0</td>\n",
              "    </tr>\n",
              "    <tr>\n",
              "      <th>2019-10-02 23:40:00</th>\n",
              "      <td>아미니 오일 워시 구성2</td>\n",
              "      <td>이미용</td>\n",
              "      <td>59900</td>\n",
              "      <td>2303000.0</td>\n",
              "      <td>10</td>\n",
              "      <td>2</td>\n",
              "      <td>23</td>\n",
              "      <td>Wednesday</td>\n",
              "      <td>0</td>\n",
              "      <td>4</td>\n",
              "      <td>0.0</td>\n",
              "      <td>0.0</td>\n",
              "      <td>1.0</td>\n",
              "      <td>38.447412</td>\n",
              "      <td>0</td>\n",
              "      <td>0</td>\n",
              "    </tr>\n",
              "    <tr>\n",
              "      <th>2019-10-13 01:40:00</th>\n",
              "      <td>아미니 오일 워시 구성1</td>\n",
              "      <td>이미용</td>\n",
              "      <td>79000</td>\n",
              "      <td>22955000.0</td>\n",
              "      <td>10</td>\n",
              "      <td>13</td>\n",
              "      <td>1</td>\n",
              "      <td>Sunday</td>\n",
              "      <td>1</td>\n",
              "      <td>4</td>\n",
              "      <td>0.0</td>\n",
              "      <td>0.0</td>\n",
              "      <td>1.0</td>\n",
              "      <td>290.569620</td>\n",
              "      <td>0</td>\n",
              "      <td>0</td>\n",
              "    </tr>\n",
              "    <tr>\n",
              "      <th>2019-10-13 01:40:00</th>\n",
              "      <td>아미니 오일 워시 구성2</td>\n",
              "      <td>이미용</td>\n",
              "      <td>59900</td>\n",
              "      <td>2753000.0</td>\n",
              "      <td>10</td>\n",
              "      <td>13</td>\n",
              "      <td>1</td>\n",
              "      <td>Sunday</td>\n",
              "      <td>1</td>\n",
              "      <td>4</td>\n",
              "      <td>0.0</td>\n",
              "      <td>0.0</td>\n",
              "      <td>1.0</td>\n",
              "      <td>45.959933</td>\n",
              "      <td>0</td>\n",
              "      <td>0</td>\n",
              "    </tr>\n",
              "    <tr>\n",
              "      <th>2019-12-09 01:40:00</th>\n",
              "      <td>아미니 오일 워시 구성1</td>\n",
              "      <td>이미용</td>\n",
              "      <td>79000</td>\n",
              "      <td>5918000.0</td>\n",
              "      <td>12</td>\n",
              "      <td>9</td>\n",
              "      <td>1</td>\n",
              "      <td>Monday</td>\n",
              "      <td>0</td>\n",
              "      <td>4</td>\n",
              "      <td>0.0</td>\n",
              "      <td>0.0</td>\n",
              "      <td>1.0</td>\n",
              "      <td>74.911392</td>\n",
              "      <td>0</td>\n",
              "      <td>0</td>\n",
              "    </tr>\n",
              "    <tr>\n",
              "      <th>2019-12-09 01:40:00</th>\n",
              "      <td>아미니 오일 워시 구성2</td>\n",
              "      <td>이미용</td>\n",
              "      <td>59900</td>\n",
              "      <td>944000.0</td>\n",
              "      <td>12</td>\n",
              "      <td>9</td>\n",
              "      <td>1</td>\n",
              "      <td>Monday</td>\n",
              "      <td>0</td>\n",
              "      <td>4</td>\n",
              "      <td>0.0</td>\n",
              "      <td>0.0</td>\n",
              "      <td>1.0</td>\n",
              "      <td>15.759599</td>\n",
              "      <td>0</td>\n",
              "      <td>0</td>\n",
              "    </tr>\n",
              "  </tbody>\n",
              "</table>\n",
              "</div>"
            ],
            "text/plain": [
              "                               상품명  상품군   판매단가  ...        구매횟수  결제유형  성별\n",
              "방송일시                                            ...                      \n",
              "2019-09-05 01:40:00  아미니 오일 워시 구성1  이미용  79000  ...  184.063291     0   0\n",
              "2019-09-05 01:40:00  아미니 오일 워시 구성2  이미용  59900  ...   87.178631     0   0\n",
              "2019-09-11 15:40:00  아미니 오일 워시 구성1  이미용  79000  ...  428.569620     0   0\n",
              "2019-09-11 15:40:00  아미니 오일 워시 구성2  이미용  59900  ...  131.786311     0   0\n",
              "2019-09-14 23:40:00  아미니 오일 워시 구성1  이미용  79000  ...  324.063291     0   0\n",
              "2019-09-14 23:40:00  아미니 오일 워시 구성2  이미용  59900  ...   38.180301     0   0\n",
              "2019-09-15 00:00:00  아미니 오일 워시 구성1  이미용  79000  ...  359.987342     0   0\n",
              "2019-09-15 00:00:00  아미니 오일 워시 구성2  이미용  59900  ...   72.170284     0   0\n",
              "2019-09-26 08:40:00  아미니 오일 워시 구성1  이미용  79000  ...  416.810127     0   0\n",
              "2019-09-26 08:40:00  아미니 오일 워시 구성2  이미용  59900  ...   60.150250     0   0\n",
              "2019-10-02 23:40:00  아미니 오일 워시 구성1  이미용  79000  ...  223.113924     0   0\n",
              "2019-10-02 23:40:00  아미니 오일 워시 구성2  이미용  59900  ...   38.447412     0   0\n",
              "2019-10-13 01:40:00  아미니 오일 워시 구성1  이미용  79000  ...  290.569620     0   0\n",
              "2019-10-13 01:40:00  아미니 오일 워시 구성2  이미용  59900  ...   45.959933     0   0\n",
              "2019-12-09 01:40:00  아미니 오일 워시 구성1  이미용  79000  ...   74.911392     0   0\n",
              "2019-12-09 01:40:00  아미니 오일 워시 구성2  이미용  59900  ...   15.759599     0   0\n",
              "\n",
              "[16 rows x 16 columns]"
            ]
          },
          "metadata": {
            "tags": []
          },
          "execution_count": 114
        }
      ]
    },
    {
      "cell_type": "code",
      "metadata": {
        "id": "vpTTWv-fYjG1",
        "colab_type": "code",
        "colab": {
          "base_uri": "https://localhost:8080/",
          "height": 233
        },
        "outputId": "c17a9dc5-09b4-478f-9c88-e122bbe4701f"
      },
      "source": [
        "df = train_df('이미용', 30)\n",
        "cv_scores, cv_models, cv_test, cv_predict = LGBM_train(df)"
      ],
      "execution_count": null,
      "outputs": [
        {
          "output_type": "stream",
          "text": [
            "1월 MAPE: 29.18838018993208\n",
            "2월 MAPE: 25.86055177853407\n",
            "3월 MAPE: 34.54485093331282\n",
            "4월 MAPE: 34.603680593626386\n",
            "5월 MAPE: 92.30585175385299\n",
            "6월 MAPE: 30.026512378350994\n",
            "7월 MAPE: 35.903178409135464\n",
            "8월 MAPE: 61.579774005446\n",
            "9월 MAPE: 82.89920820667537\n",
            "10월 MAPE: 23.893265577240776\n",
            "11월 MAPE: 32.01689223336926\n",
            "12월 MAPE: 77.70843764736102\n"
          ],
          "name": "stdout"
        }
      ]
    },
    {
      "cell_type": "code",
      "metadata": {
        "id": "Wfgr2QL3nIOj",
        "colab_type": "code",
        "colab": {
          "base_uri": "https://localhost:8080/",
          "height": 345
        },
        "outputId": "f7e2205b-6ba5-4231-bda1-acf28f13075e"
      },
      "source": [
        "plot_result(cv_test, cv_predict, cv_scores)"
      ],
      "execution_count": null,
      "outputs": [
        {
          "output_type": "display_data",
          "data": {
            "image/png": "[encoded data removed]",
            "text/plain": [
              "<Figure size 1080x360 with 12 Axes>"
            ]
          },
          "metadata": {
            "tags": [],
            "needs_background": "light"
          }
        }
      ]
    },
    {
      "cell_type": "code",
      "metadata": {
        "id": "_uI9vziBpf63",
        "colab_type": "code",
        "colab": {}
      },
      "source": [
        ""
      ],
      "execution_count": null,
      "outputs": []
    },
    {
      "cell_type": "code",
      "metadata": {
        "id": "fK9-cAxanUL2",
        "colab_type": "code",
        "colab": {
          "base_uri": "https://localhost:8080/",
          "height": 364
        },
        "outputId": "6aa83e99-02f2-4466-eeab-4d0eb8094bcb"
      },
      "source": [
        "f, ax = plt.subplots(figsize = (12,5))\n",
        "plot_importance(cv_models[12], ax, max_num_features=10)"
      ],
      "execution_count": null,
      "outputs": [
        {
          "output_type": "execute_result",
          "data": {
            "text/plain": [
              "<matplotlib.axes._subplots.AxesSubplot at 0x7f580e7cffd0>"
            ]
          },
          "metadata": {
            "tags": []
          },
          "execution_count": 73
        },
        {
          "output_type": "display_data",
          "data": {
            "image/png": "[encoded data removed]",
            "text/plain": [
              "<Figure size 864x360 with 1 Axes>"
            ]
          },
          "metadata": {
            "tags": [],
            "needs_background": "light"
          }
        }
      ]
    },
    {
      "cell_type": "code",
      "metadata": {
        "id": "LGcu2PVvngq_",
        "colab_type": "code",
        "colab": {
          "base_uri": "https://localhost:8080/",
          "height": 197
        },
        "outputId": "f3e30109-7931-474c-dc22-ffe44c7fecb3"
      },
      "source": [
        "print_importance(2,0,1,3,7,6,4,14,15,5)"
      ],
      "execution_count": null,
      "outputs": [
        {
          "output_type": "stream",
          "text": [
            "시\n",
            "판매단가\n",
            "일\n",
            "요일\n",
            "Middle\n",
            "First\n",
            "휴일\n",
            "vonin\n",
            "기초세트\n",
            "프라임\n"
          ],
          "name": "stdout"
        }
      ]
    },
    {
      "cell_type": "code",
      "metadata": {
        "id": "IzIuBeplp-xg",
        "colab_type": "code",
        "colab": {
          "base_uri": "https://localhost:8080/",
          "height": 809
        },
        "outputId": "e163290b-c53f-414c-ca2f-96cac8152bd2"
      },
      "source": [
        "set(data[(data.월 != 9)&(data.상품군=='이미용')].상품명)"
      ],
      "execution_count": null,
      "outputs": [
        {
          "output_type": "execute_result",
          "data": {
            "text/plain": [
              "{'AHC 스킨케어링 톤커버크림',\n",
              " 'NEW프리미엄 TS샴푸/트리트먼트 추가',\n",
              " 'NEW프리미엄 TS샴푸세트 추가',\n",
              " 'VONIN 기초세트',\n",
              " '고데롤 플러스',\n",
              " '네오젠 에이지큐어 원미닛 링클 리프트',\n",
              " '뉴웨이 볼륨브러쉬',\n",
              " '달바 화이트 트러플 퍼스트 인텐시브 세럼',\n",
              " '더블모 어성초 샴푸',\n",
              " '라라츄 틴트 아이브로우 바',\n",
              " '라라츄 헤어볼륨쿠션',\n",
              " '마리끌레르 파리컬렉션 리얼 하이드로 립스틱 리뉴얼',\n",
              " '마리끌레르 파리컬렉션 리얼 하이드로 립스틱 마스카라',\n",
              " '메디앤서 생콜라겐 마스크팩',\n",
              " '미바 이온칼슘 파운데이션 더블쿠션 RX',\n",
              " '바바코코 젤네일스트립 SET',\n",
              " '비버리힐스폴로클럽 기초세트',\n",
              " '살롱클리닉 샤이닝 트리트먼트 헤어컬러크림세트',\n",
              " '스칼프솔루션 트리트먼트 패키지',\n",
              " '스포메틱스 그린 네츄럴 선쿠션',\n",
              " '스포메틱스 네츄럴 선스틱',\n",
              " '스포메틱스 리얼핏 모이스춰라이징 코코넛크림',\n",
              " '스포메틱스 트리플 샤이닝 쿠션',\n",
              " '스포메틱스 트리플 샤이닝 쿠션 이데베논앰플',\n",
              " '시크릿 라메종 볼륨 스프레이 고데기',\n",
              " '실크테라피 오리지널 에센스 패키지',\n",
              " '아미니 릴렉싱 풋케어 풀패키지',\n",
              " '아미니 비노테라 오일 워시 구성1',\n",
              " '아미니 비노테라 오일 워시 구성2',\n",
              " '아이앤아이 퀵래쉬 속눈썹세트',\n",
              " '에이온에이 10분 셀프뿌리퍼머',\n",
              " '에이유플러스 슈퍼선스틱 1001 쇼퍼백',\n",
              " '엘렌실라 그린 에너지 썬스틱7',\n",
              " '엘렌실라 달팽이크림 콜라겐5+팩트3',\n",
              " '엘렌실라 에스까르고에센스 커버쿠션',\n",
              " '엘렌실라&코즈미 쑥클렌져',\n",
              " '엘렌실라&코즈미 쑥클렌져 단하루',\n",
              " '엘로엘 아쿠아클린 마스크',\n",
              " '자올 닥터스오더 탈모 부스터&샴푸',\n",
              " '참존 기초세트',\n",
              " '컨시크 컬러마크 글로우 립스틱',\n",
              " '파시노 이지앤퀵 빗살 뿌리펌',\n",
              " '프리미엄 클린샤워',\n",
              " '피부약방 더오리진 크림세트'}"
            ]
          },
          "metadata": {
            "tags": []
          },
          "execution_count": 76
        }
      ]
    },
    {
      "cell_type": "markdown",
      "metadata": {
        "id": "eGMG-JFOGE-r",
        "colab_type": "text"
      },
      "source": [
        "## 가구 & 침구 & 생활용품"
      ]
    },
    {
      "cell_type": "code",
      "metadata": {
        "id": "qP9krCU0GgpS",
        "colab_type": "code",
        "colab": {}
      },
      "source": [
        "data.상품명 = data.상품명.str.replace('싱글사이즈', ' 싱글 ')\n",
        "\n",
        "data.상품명 = data.상품명.str.replace('퀸사이즈', ' 퀸 ')\n",
        "data.상품명 = data.상품명.str.replace('Q 퀸', ' 퀸 ')\n",
        "data.상품명 = data.상품명.str.replace('Q(퀸)', ' 퀸 ', regex = False)\n",
        "\n",
        "data.상품명 = data.상품명.str.replace('킹사이즈', ' 킹 ')\n",
        "data.상품명 = data.상품명.str.replace('K 킹', ' 킹 ')\n",
        "data.상품명 = data.상품명.str.replace('K(킹)', ' 킹 ', regex = False)\n",
        "\n",
        "data.상품명 = data.상품명.str.replace('SK(슈퍼킹)', ' 슈퍼킹 ', regex = False)\n",
        "data.상품명 = data.상품명.str.replace('SS 슈퍼싱글', ' 슈퍼싱글 ', regex = False)\n",
        "data.상품명 = data.상품명.str.replace('SS(슈퍼싱글)', ' 슈퍼싱글 ', regex = False)\n",
        "\n",
        "\n",
        "def bedsize(x):\n",
        "    if x.상품군 == '가구' or x.상품군 == '침구' or x.상품군 == '생활용품':\n",
        "        x.상품명 = x.상품명.replace('K', ' 킹 ')\n",
        "        x.상품명 = x.상품명.replace('Q', ' 퀸 ')\n",
        "        x.상품명 = x.상품명.replace('SS', '슈퍼싱글')\n",
        "        x.상품명 = x.상품명.replace('S', '싱글')\n",
        "    else:\n",
        "        x.상품명 = x.상품명   \n",
        "    return x\n",
        "\n",
        "data = data.apply(lambda x: bedsize(x), axis = 1)\n",
        "\n",
        "# 보루네오\n",
        "data.상품명 = data.상품명.str.replace('피올레', '', regex = False)\n",
        "data.상품명 = data.상품명.str.replace('천연소가죽', '', regex = False)\n",
        "data.상품명 = data.상품명.str.replace('유로탑', '', regex = False)\n",
        "data.상품명 = data.상품명.str.replace('루나', '', regex = False)\n",
        "data.상품명 = data.상품명.str.replace('시즌2', '', regex = False)\n",
        "\n",
        "# 보루네오 침대\n",
        "data.상품명 = data.상품명.str.replace('멀티수납형', '', regex = False)\n",
        "data.상품명 = data.상품명.str.replace('멀티 수납형', '', regex = False)\n",
        "data.상품명 = data.상품명.str.replace('서랍형', '', regex = False)\n",
        "data.상품명 = data.상품명.str.replace('가죽 침대', '가죽침대', regex = False)\n",
        "data.상품명 = data.상품명.str.replace('LED', '', regex = False) # LED가 들어간 제품 대부분이 침대\n",
        "\n",
        "# 한샘\n",
        "data.상품명 = data.상품명.str.replace('한샘', ' 한샘 ')\n",
        "\n",
        "# 삼익가구 \n",
        "data.상품명 = data.상품명.str.replace('제니비', '') ## 서랍형 침대\n",
        "data.상품명 = data.상품명.str.replace('어블러', '') ## 멀티수납형 침대\n",
        "\n",
        "# 장수흙침대\n",
        "data.상품명 = data.상품명.str.replace('장수흙침대', '장수 흙침대', regex = False)\n",
        "\n",
        "# 소파\n",
        "data.상품명 = data.상품명.str.replace('소파', ' 소파 ', regex = False)\n",
        "data.상품명 = data.상품명.str.replace('침구세트', ' 침구세트 ')\n",
        "\n",
        "data.상품명 = data.상품명.str.replace(' +', ' ')\n",
        "data.상품명 = data.상품명.str.lstrip()\n",
        "data.상품명 = data.상품명.str.rstrip()"
      ],
      "execution_count": null,
      "outputs": []
    },
    {
      "cell_type": "code",
      "metadata": {
        "id": "Ckskr9IBGGDK",
        "colab_type": "code",
        "colab": {
          "base_uri": "https://localhost:8080/",
          "height": 845
        },
        "outputId": "b97ffb07-5f41-467a-ea0c-237f509fe5de"
      },
      "source": [
        "data[data.상품군=='가구'].상품명.value_counts()[:50]"
      ],
      "execution_count": null,
      "outputs": [
        {
          "output_type": "execute_result",
          "data": {
            "text/plain": [
              "보루네오 소파                               539\n",
              "보루네오 수납형 침대 슈퍼싱글                      252\n",
              "보루네오 수납형 침대 킹                         252\n",
              "보루네오 수납형 침대 퀸                         251\n",
              "삼익가구 침대 슈퍼싱글                          145\n",
              "삼익가구 침대 퀸                             143\n",
              "삼익가구 침대 킹                             134\n",
              "삼익가구 수납형 침대 슈퍼싱글                       75\n",
              "삼익가구 수납형 침대 퀸                          72\n",
              "삼익가구 수납형 침대 킹                          65\n",
              "장수 흙침대 퀸                               50\n",
              "장수 흙침대 싱글                              49\n",
              "한샘 HG 화이트 실버슬림 붙박이장                    47\n",
              "장수 클래식 흙카우치                            33\n",
              "한샘 모데나 프리미엄 슬라이딩 붙박이장                  22\n",
              "이누스바스 시공 패키지                           13\n",
              "한샘 하이바스 내추럴 기본형                        11\n",
              "보루네오 가죽침대 킹                            11\n",
              "보루네오 가죽침대 퀸                            10\n",
              "보루네오 심플 광폭 서랍장 800 3단                   9\n",
              "보루네오 심플 광폭 서랍장 800 5단                   9\n",
              "레스토닉 블루투스 서랍 침대 퀸                       9\n",
              "레스토닉 블루투스 서랍 침대 슈퍼싱글                    9\n",
              "레스토닉 블루투스 서랍 침대 킹                       9\n",
              "보루네오 심플 광폭 서랍장 1000 5단                  9\n",
              "한샘 뉴퍼스티지R 리클라이너                         7\n",
              "한샘 페이지 리클라이너 소파                         7\n",
              "보루네오 가죽침대 슈퍼싱글                          7\n",
              "이조농방 보령황토 흙침대 퀸 T 퀸 100                 6\n",
              "이조농방 보령황토 흙카우치 소파 TC100                 6\n",
              "뉴 벨라홈 리클라이닝 소파                          6\n",
              "이조농방 보령황토 흙침대 싱글 T싱글100                 5\n",
              "한샘 하이바스 내추럴 기본형 + 키큰장                   5\n",
              "보루네오 델라 원목 베드룸 세트1 프레임+매트리스+화장대+협탁      4\n",
              "한샘 하이바스 내추럴 하부장형                        4\n",
              "보루네오 델라 원목 베드룸 세트2 프레임+화장대+협탁           3\n",
              "유캐슬 마리노 침실가구 실속세트 매트리스X                 2\n",
              "유캐슬 마리노 침실가구 풀세트 매트리스포함                 2\n",
              "보루네오 델라 원목 거실장                          2\n",
              "보루네오 델라 원목 베드룸 세트3 프레임+매트리스             2\n",
              "싱글ET 이조농방 보령황토 흙침대 퀸 +카우치 소파            2\n",
              "유캐슬 마리노 협탁                              1\n",
              "유캐슬 마리노 5단 서랍장                          1\n",
              "한샘 하이바스 내추럴 하부장 + 키큰장                   1\n",
              "유캐슬 마리노 화장대세트 화장대+거울                    1\n",
              "Name: 상품명, dtype: int64"
            ]
          },
          "metadata": {
            "tags": []
          },
          "execution_count": 241
        }
      ]
    },
    {
      "cell_type": "code",
      "metadata": {
        "id": "r1iDaQUJ8LHn",
        "colab_type": "code",
        "colab": {}
      },
      "source": [
        "# 선일금고 \n",
        "data.상품명 = data.상품명.str.replace('선일금고 이볼브 시리즈', ' 금고 ')\n",
        "data.상품명 = data.상품명.str.replace('EV-020', '')\n",
        "data.상품명 = data.상품명.str.replace('EV-040', '')\n",
        "\n",
        "## 일월 매트\n",
        "data.상품명 = data.상품명.str.replace('품안애', ' ')\n",
        "\n",
        "## 노비타 비데\n",
        "data.상품명 = data.상품명.str.replace('노비타', ' ')\n",
        "data.상품명 = data.상품명.str.replace('무료설치', ' ')\n",
        "\n",
        "data.상품명 = data.상품명.str.replace('무선', ' 무선 ')\n",
        "\n",
        "# 타이거 충전식 예초기\n",
        "data.상품명 = data.상품명.str.replace('타이거 충전식', '')\n",
        "\n",
        "data.상품명 = data.상품명.str.replace('국내제조', '')\n",
        "data.상품명 = data.상품명.str.replace('엘사', '')\n",
        "\n",
        "\n",
        "def household(x):\n",
        "    if x.상품군 == '생활용품':\n",
        "        x.상품명 = x.상품명.replace('스마트', '')\n",
        "        x.상품명 = x.상품명.replace('온열', '')\n",
        "        x.상품명 = x.상품명.replace('온수', '')\n",
        "        x.상품명 = x.상품명.replace('에너지세이브', '')\n",
        "    else:\n",
        "        x.상품명 = x.상품명\n",
        "    return x\n",
        "\n",
        "data = data.apply(lambda x: household(x), axis = 1)\n",
        "\n",
        "data.상품명 = data.상품명.str.replace(' +', ' ')\n",
        "data.상품명 = data.상품명.str.lstrip()\n",
        "data.상품명 = data.상품명.str.rstrip()"
      ],
      "execution_count": null,
      "outputs": []
    },
    {
      "cell_type": "code",
      "metadata": {
        "id": "viRLKkiM8apX",
        "colab_type": "code",
        "colab": {
          "base_uri": "https://localhost:8080/",
          "height": 35
        },
        "outputId": "00fdff4c-128f-43b4-d2c8-d56f58d15f8d"
      },
      "source": [
        "set(data[(data.상품명.str.contains('엘사'))].상품명)"
      ],
      "execution_count": null,
      "outputs": [
        {
          "output_type": "execute_result",
          "data": {
            "text/plain": [
              "set()"
            ]
          },
          "metadata": {
            "tags": []
          },
          "execution_count": 243
        }
      ]
    },
    {
      "cell_type": "code",
      "metadata": {
        "id": "GP9S8KqG8LoH",
        "colab_type": "code",
        "colab": {
          "base_uri": "https://localhost:8080/",
          "height": 557
        },
        "outputId": "9127b6e8-7a3e-46c8-84b2-1c2259e46ac7"
      },
      "source": [
        "word_count = max_words('생활용품')\n",
        "max_words_count = sorted(word_count.items(), key = lambda x: x[1], reverse = True)\n",
        "max_words_count[:30]"
      ],
      "execution_count": null,
      "outputs": [
        {
          "output_type": "execute_result",
          "data": {
            "text/plain": [
              "[('일월', 638),\n",
              " ('매트', 497),\n",
              " ('무선', 391),\n",
              " ('싱글', 333),\n",
              " ('비데', 277),\n",
              " ('퀸', 267),\n",
              " ('금고', 255),\n",
              " ('킹', 194),\n",
              " ('예초기', 184),\n",
              " ('청소기', 177),\n",
              " ('카페트매트', 162),\n",
              " ('세트', 147),\n",
              " ('바로바로', 135),\n",
              " ('리빙박스', 127),\n",
              " ('순면', 116),\n",
              " ('뉴스파', 109),\n",
              " ('더블', 102),\n",
              " ('파격가', 99),\n",
              " ('배터리', 92),\n",
              " ('코이모', 73),\n",
              " ('노송가구', 72),\n",
              " ('제이드', 72),\n",
              " ('비취', 72),\n",
              " ('교자상', 72),\n",
              " ('물걸레', 69),\n",
              " ('MD-970', 66),\n",
              " ('롤링마사지기', 66),\n",
              " ('메디컬드림', 66),\n",
              " ('니봇', 54),\n",
              " ('진공', 54)]"
            ]
          },
          "metadata": {
            "tags": []
          },
          "execution_count": 244
        }
      ]
    },
    {
      "cell_type": "code",
      "metadata": {
        "id": "NN0YRzuepg9h",
        "colab_type": "code",
        "colab": {}
      },
      "source": [
        "# 미사여구\n",
        "data.상품명 = data.상품명.str.replace('국내제조', '', regex = False)\n",
        "data.상품명 = data.상품명.str.replace('단하루', '', regex = False)"
      ],
      "execution_count": null,
      "outputs": []
    },
    {
      "cell_type": "code",
      "metadata": {
        "id": "QepTihqalBUM",
        "colab_type": "code",
        "colab": {}
      },
      "source": [
        "data.상품명 = data.상품명.str.replace('기본형', '')\n",
        "data.상품명 = data.상품명.str.replace('고급형', '')\n",
        "data.상품명 = data.상품명.str.replace('프리미엄형', '')\n",
        "\n",
        "data.상품명 = data.상품명.str.replace('중형', '')\n",
        "data.상품명 = data.상품명.str.replace('대형', '')\n",
        "data.상품명 = data.상품명.str.replace('특대형', '')\n",
        "data.상품명 = data.상품명.str.replace('점보특대형', '')\n",
        "data.상품명 = data.상품명.str.replace('슈퍼특대형', '')"
      ],
      "execution_count": null,
      "outputs": []
    },
    {
      "cell_type": "markdown",
      "metadata": {
        "id": "O5QpUNjbq7Y8",
        "colab_type": "text"
      },
      "source": [
        "# max_word_count\n"
      ]
    },
    {
      "cell_type": "code",
      "metadata": {
        "id": "33i6ILDrs866",
        "colab_type": "code",
        "colab": {}
      },
      "source": [
        "words = ' '.join(list(data.상품명.dropna().values))\n",
        "\n",
        "import re\n",
        "words = re.split(r'[()+ ]', words)\n",
        "words = list(filter(lambda x: x != '', words))\n",
        "\n",
        "def max_words(text):\n",
        "    word_count = {}\n",
        "    for word in set(words):\n",
        "        count = words.count(word)\n",
        "        word_count.update({word:count})\n",
        "    return word_count\n",
        "\n",
        "word_count = max_words(words)\n",
        "max_words_count = sorted(word_count.items(), key = lambda x: x[1], reverse = True)"
      ],
      "execution_count": null,
      "outputs": []
    },
    {
      "cell_type": "code",
      "metadata": {
        "id": "Kp5R68uhiKlw",
        "colab_type": "code",
        "colab": {
          "base_uri": "https://localhost:8080/",
          "height": 377
        },
        "outputId": "fa07717c-b460-49a6-f2e5-18d3579aeecb"
      },
      "source": [
        "set(data[data.상품명.str.contains('형')].상품명)"
      ],
      "execution_count": null,
      "outputs": [
        {
          "output_type": "execute_result",
          "data": {
            "text/plain": [
              "{'김병지 거미손 풀확장 일체형 코일카매트',\n",
              " '보루네오 수납형 침대 슈퍼싱글',\n",
              " '보루네오 수납형 침대 퀸',\n",
              " '보루네오 수납형 침대 킹',\n",
              " '삼익가구 수납형 침대 슈퍼싱글',\n",
              " '삼익가구 수납형 침대 퀸',\n",
              " '삼익가구 수납형 침대 킹',\n",
              " '아키 조끼형 더블보정 란쥬 쉐이퍼',\n",
              " '점보형 일월 카페트매트',\n",
              " '코지마 손목형 자동전자 혈압계 CBP-160',\n",
              " '크린조이 황사 방역마스크 소형 105매',\n",
              " '푸마 드라이셀 기능성 티셔츠형 브라탑 패키지',\n",
              " '푸마 드라이셀 브라탑 세트 끈형',\n",
              " '푸마 드라이셀 브라탑 세트 런닝형',\n",
              " '푸마 드라이셀 컴포트 탑 레이어 브라탑 세트 긴팔형',\n",
              " '푸마 웜셀 런닝형 브라탑 세트',\n",
              " '푸마 웜셀 티셔츠형 브라탑 세트',\n",
              " '한샘 하이바스 내추럴 하부장형',\n",
              " '형 글라스락 퍼플 클래식 유리 밀폐용기세트 8조',\n",
              " '형 글라스락 퍼플클래식 유리 밀폐용기 세트 16조+4조'}"
            ]
          },
          "metadata": {
            "tags": []
          },
          "execution_count": 248
        }
      ]
    },
    {
      "cell_type": "code",
      "metadata": {
        "id": "54vH1pdffCbZ",
        "colab_type": "code",
        "colab": {
          "base_uri": "https://localhost:8080/",
          "height": 1000
        },
        "outputId": "9cc86a47-dc50-4bf3-f81f-81366d22ef08"
      },
      "source": [
        "max_words_count[:250]"
      ],
      "execution_count": null,
      "outputs": [
        {
          "output_type": "execute_result",
          "data": {
            "text/plain": [
              "[('LG', 3589),\n",
              " ('TV', 2266),\n",
              " ('세트', 1866),\n",
              " ('패키지', 1673),\n",
              " ('쿠쿠', 1630),\n",
              " ('전기밥솥', 1620),\n",
              " ('침대', 1416),\n",
              " ('보루네오', 1360),\n",
              " ('쿠첸', 1318),\n",
              " ('압력밥솥', 1300),\n",
              " ('삼성', 1048),\n",
              " ('푸마', 1013),\n",
              " ('퀸', 1010),\n",
              " ('손질', 979),\n",
              " ('수납형', 967),\n",
              " ('에어컨', 946),\n",
              " ('킹', 909),\n",
              " ('드로즈', 814),\n",
              " ('브라', 737),\n",
              " ('기초세트', 711),\n",
              " ('냉장고', 701),\n",
              " ('코트', 688),\n",
              " ('슈퍼싱글', 669),\n",
              " ('국내산', 648),\n",
              " ('세탁기', 646),\n",
              " ('일월', 638),\n",
              " ('삼익가구', 634),\n",
              " ('스텐', 618),\n",
              " ('침구세트', 600),\n",
              " ('팬츠', 577),\n",
              " ('티셔츠', 566),\n",
              " ('소파', 560),\n",
              " ('S/S', 558),\n",
              " ('보몽드', 543),\n",
              " ('팬티', 533),\n",
              " ('매트', 497),\n",
              " ('비버리힐스폴로클럽', 488),\n",
              " ('벽걸이', 483),\n",
              " ('썸머', 464),\n",
              " ('싱글', 456),\n",
              " ('데님', 451),\n",
              " ('김치', 442),\n",
              " ('가스레인지', 441),\n",
              " ('린나이', 441),\n",
              " ('K-SWISS', 440),\n",
              " ('무선', 428),\n",
              " ('한일', 415),\n",
              " ('드라이셀', 413),\n",
              " ('뱅뱅', 413),\n",
              " ('오징어', 410),\n",
              " ('루이띠에', 406),\n",
              " ('분쇄믹서기', 401),\n",
              " ('올리고', 390),\n",
              " ('가스와이드그릴', 390),\n",
              " ('프라이팬', 389),\n",
              " ('F/W', 387),\n",
              " ('시어서커', 372),\n",
              " ('소가죽', 365),\n",
              " ('냄비', 364),\n",
              " ('노트북', 358),\n",
              " ('코치', 357),\n",
              " ('캐리어', 355),\n",
              " ('프라다', 342),\n",
              " ('18K', 331),\n",
              " ('카이만', 331),\n",
              " ('고등어', 326),\n",
              " ('컬렉션', 313),\n",
              " ('밍크', 309),\n",
              " ('레이스', 308),\n",
              " ('에어프라이어', 302),\n",
              " ('트랙수트', 298),\n",
              " ('트렁크', 296),\n",
              " ('에코라믹', 288),\n",
              " ('심리스', 286),\n",
              " ('기모', 285),\n",
              " ('쿨', 281),\n",
              " ('헤스티지', 280),\n",
              " ('크로스백', 280),\n",
              " ('삭루츠', 279),\n",
              " ('비데', 277),\n",
              " ('에버라스트', 275),\n",
              " ('오모떼', 272),\n",
              " ('월드컵', 272),\n",
              " ('마르엘라로사티', 269),\n",
              " ('쉐이핑', 268),\n",
              " ('쌀', 264),\n",
              " ('풍기인견', 263),\n",
              " ('금고', 255),\n",
              " ('종근당건강', 253),\n",
              " ('두유', 253),\n",
              " ('소곱창전골', 252),\n",
              " ('샐비어', 252),\n",
              " ('리플', 252),\n",
              " ('가이거', 246),\n",
              " ('NNF', 246),\n",
              " ('CERINI_by_PAT', 242),\n",
              " ('백', 236),\n",
              " ('롱', 235),\n",
              " ('파뷔에', 235),\n",
              " ('청소기', 233),\n",
              " ('니트', 232),\n",
              " ('USPA', 232),\n",
              " ('패딩', 231),\n",
              " ('대우전자', 230),\n",
              " ('선글라스', 230),\n",
              " ('컬럼비아', 230),\n",
              " ('러닝화', 228),\n",
              " ('홈멀티', 228),\n",
              " ('코튼', 224),\n",
              " ('매직쉐프', 222),\n",
              " ('엠보', 219),\n",
              " ('토트백', 219),\n",
              " ('헤드', 212),\n",
              " ('라이크라', 208),\n",
              " ('임페', 207),\n",
              " ('레이프릴', 206),\n",
              " ('IH', 206),\n",
              " ('란쥬', 200),\n",
              " ('보코', 200),\n",
              " ('숄더백', 200),\n",
              " ('락토핏', 199),\n",
              " ('워치', 198),\n",
              " ('도스문도스', 195),\n",
              " ('로베르타_디_까메리노', 194),\n",
              " ('스탠드', 192),\n",
              " ('리복', 191),\n",
              " ('스트레치', 189),\n",
              " ('예초기', 184),\n",
              " ('모시떡', 182),\n",
              " ('아키', 181),\n",
              " ('쿠미투니카', 180),\n",
              " ('생유산균', 178),\n",
              " ('풀세트', 177),\n",
              " ('자수', 177),\n",
              " ('그렉노먼', 175),\n",
              " ('팔찌', 174),\n",
              " ('폴로셔츠', 171),\n",
              " ('카파', 170),\n",
              " ('에지리', 168),\n",
              " ('크리스티나앤코', 167),\n",
              " ('양가죽', 165),\n",
              " ('카페트매트', 162),\n",
              " ('봄', 162),\n",
              " ('풀커버', 159),\n",
              " ('베스트', 159),\n",
              " ('트레킹화', 158),\n",
              " ('전복', 157),\n",
              " ('목걸이', 152),\n",
              " ('헤비추얼', 150),\n",
              " ('후드', 149),\n",
              " ('녹용도가니탕', 147),\n",
              " ('문어', 146),\n",
              " ('에어핏', 144),\n",
              " ('동내의', 142),\n",
              " ('참존', 141),\n",
              " ('키친플라워', 141),\n",
              " ('아가타', 141),\n",
              " ('브라탑', 138),\n",
              " ('릴렉스', 137),\n",
              " ('에어', 137),\n",
              " ('완도활', 136),\n",
              " ('코몽트', 136),\n",
              " ('자연산', 135),\n",
              " ('도마', 135),\n",
              " ('바로바로', 135),\n",
              " ('롱드로즈', 133),\n",
              " ('와이드', 133),\n",
              " ('장수', 132),\n",
              " ('원피스', 129),\n",
              " ('쿠커', 128),\n",
              " ('한샘', 127),\n",
              " ('리빙박스', 127),\n",
              " ('런닝', 126),\n",
              " ('극세사', 126),\n",
              " ('언더셔츠', 126),\n",
              " ('샌들', 126),\n",
              " ('워킹화', 126),\n",
              " ('블랙', 126),\n",
              " ('순면', 125),\n",
              " ('백팩', 124),\n",
              " ('지퍼', 123),\n",
              " ('칼리베이직', 123),\n",
              " ('클란츠', 122),\n",
              " ('테이트', 121),\n",
              " ('사첼백', 121),\n",
              " ('화이트라벨', 121),\n",
              " ('전자레인지', 120),\n",
              " ('락앤락', 120),\n",
              " ('갈치', 118),\n",
              " ('진공', 117),\n",
              " ('더블', 117),\n",
              " ('쥐포', 116),\n",
              " ('항균', 115),\n",
              " ('레깅스', 115),\n",
              " ('석류', 115),\n",
              " ('PK', 114),\n",
              " ('해피콜', 114),\n",
              " ('흙침대', 112),\n",
              " ('트레이닝', 111),\n",
              " ('라쉬반', 110),\n",
              " ('웜', 110),\n",
              " ('뉴스파', 109),\n",
              " ('오가닉', 108),\n",
              " ('엘렌실라', 108),\n",
              " ('치마레깅스', 104),\n",
              " ('프리미엄', 103),\n",
              " ('대동모피', 102),\n",
              " ('베이스레이어', 102),\n",
              " ('기능성', 102),\n",
              " ('꽃게', 99),\n",
              " ('본딩', 99),\n",
              " ('데일리', 99),\n",
              " ('파격가', 99),\n",
              " ('마리노블', 98),\n",
              " ('밴딩', 96),\n",
              " ('핸드백', 96),\n",
              " ('정직한', 95),\n",
              " ('1세트', 94),\n",
              " ('아웃도어', 94),\n",
              " ('여행가방', 93),\n",
              " ('자켓', 93),\n",
              " ('루테인', 93),\n",
              " ('배터리', 92),\n",
              " ('슬립온', 91),\n",
              " ('갈비탕', 91),\n",
              " ('히트융', 90),\n",
              " ('7세트', 90),\n",
              " ('순금', 89),\n",
              " ('AAD', 89),\n",
              " ('브라세트', 89),\n",
              " ('퍼', 86),\n",
              " ('체인', 86),\n",
              " ('안드레아바나', 86),\n",
              " ('벨라홈', 84),\n",
              " ('카라', 84),\n",
              " ('농부의', 84),\n",
              " ('트레스패스', 84),\n",
              " ('알비에로_마르티니', 84),\n",
              " ('울', 84),\n",
              " ('용대리황태', 83),\n",
              " ('VONIN', 82),\n",
              " ('에펨', 82),\n",
              " ('보닌', 82),\n",
              " ('닥터', 81),\n",
              " ('궁중', 81),\n",
              " ('아이넥스', 80),\n",
              " ('반지', 80),\n",
              " ('뉴', 80),\n",
              " ('소', 80),\n",
              " ('스피드윅', 79)]"
            ]
          },
          "metadata": {
            "tags": []
          },
          "execution_count": 251
        }
      ]
    },
    {
      "cell_type": "code",
      "metadata": {
        "id": "WlZFykKbmY4K",
        "colab_type": "code",
        "colab": {
          "base_uri": "https://localhost:8080/",
          "height": 497
        },
        "outputId": "6aa867bf-8573-4bfc-dee5-f2f61bbc9fe4"
      },
      "source": [
        "from wordcloud import WordCloud\n",
        "\n",
        "wordcloud = WordCloud(max_font_size=200, font_path= fontpath,\n",
        "                     width=1200,height=800).generate_from_frequencies(word_count)\n",
        "plt.figure(figsize=(10,8))\n",
        "plt.imshow(wordcloud)\n",
        "plt.tight_layout(pad=0)\n",
        "plt.axis('off')\n",
        "plt.show()"
      ],
      "execution_count": null,
      "outputs": [
        {
          "output_type": "display_data",
          "data": {
            "image/png": "[encoded data removed]",
            "text/plain": [
              "<Figure size 720x576 with 1 Axes>"
            ]
          },
          "metadata": {
            "tags": []
          }
        }
      ]
    },
    {
      "cell_type": "code",
      "metadata": {
        "id": "h1Gk2L1fjB8k",
        "colab_type": "code",
        "colab": {
          "base_uri": "https://localhost:8080/",
          "height": 125
        },
        "outputId": "c570b8c4-0e7f-438d-d84b-8362cd8cd999"
      },
      "source": [
        "from sklearn.feature_extraction.text import CountVectorizer\n",
        "vect = CountVectorizer(max_features = 200)\n",
        "vect.fit(words)"
      ],
      "execution_count": null,
      "outputs": [
        {
          "output_type": "execute_result",
          "data": {
            "text/plain": [
              "CountVectorizer(analyzer='word', binary=False, decode_error='strict',\n",
              "                dtype=<class 'numpy.int64'>, encoding='utf-8', input='content',\n",
              "                lowercase=True, max_df=1.0, max_features=200, min_df=1,\n",
              "                ngram_range=(1, 1), preprocessor=None, stop_words=None,\n",
              "                strip_accents=None, token_pattern='(?u)\\\\b\\\\w\\\\w+\\\\b',\n",
              "                tokenizer=None, vocabulary=None)"
            ]
          },
          "metadata": {
            "tags": []
          },
          "execution_count": 287
        }
      ]
    },
    {
      "cell_type": "code",
      "metadata": {
        "id": "mxWrSRo2ojZm",
        "colab_type": "code",
        "colab": {}
      },
      "source": [
        "df = pd.DataFrame(np.stack(data.상품명.map(lambda x: vect.transform(x.split()).toarray().sum(axis=0)).values),\n",
        "                  columns=vect.get_feature_names(),\n",
        "                  index = data.index)\n",
        "df = pd.concat([data, df], axis=1)"
      ],
      "execution_count": null,
      "outputs": []
    },
    {
      "cell_type": "code",
      "metadata": {
        "id": "BblTNAvSoxij",
        "colab_type": "code",
        "colab": {
          "base_uri": "https://localhost:8080/",
          "height": 573
        },
        "outputId": "1ed9607e-be56-47cb-d955-1f764bb24d3f"
      },
      "source": [
        "#df = df.drop(columns = ['CV'])\n",
        "df = df.drop(columns = ['세일','원플원','상품명'])\n",
        "df.head()"
      ],
      "execution_count": null,
      "outputs": [
        {
          "output_type": "execute_result",
          "data": {
            "text/html": [
              "<div>\n",
              "<style scoped>\n",
              "    .dataframe tbody tr th:only-of-type {\n",
              "        vertical-align: middle;\n",
              "    }\n",
              "\n",
              "    .dataframe tbody tr th {\n",
              "        vertical-align: top;\n",
              "    }\n",
              "\n",
              "    .dataframe thead th {\n",
              "        text-align: right;\n",
              "    }\n",
              "</style>\n",
              "<table border=\"1\" class=\"dataframe\">\n",
              "  <thead>\n",
              "    <tr style=\"text-align: right;\">\n",
              "      <th></th>\n",
              "      <th>노출(분)</th>\n",
              "      <th>상품군</th>\n",
              "      <th>판매단가</th>\n",
              "      <th>취급액</th>\n",
              "      <th>판매수량</th>\n",
              "      <th>결제유형</th>\n",
              "      <th>성별</th>\n",
              "      <th>18k</th>\n",
              "      <th>cerini_by_pat</th>\n",
              "      <th>ih</th>\n",
              "      <th>lg</th>\n",
              "      <th>nnf</th>\n",
              "      <th>pk</th>\n",
              "      <th>set</th>\n",
              "      <th>swiss</th>\n",
              "      <th>tv</th>\n",
              "      <th>uspa</th>\n",
              "      <th>가스레인지</th>\n",
              "      <th>가스와이드그릴</th>\n",
              "      <th>가이거</th>\n",
              "      <th>갈치</th>\n",
              "      <th>고등어</th>\n",
              "      <th>국내산</th>\n",
              "      <th>그렉노먼</th>\n",
              "      <th>극세사</th>\n",
              "      <th>금고</th>\n",
              "      <th>기능성</th>\n",
              "      <th>기모</th>\n",
              "      <th>기초세트</th>\n",
              "      <th>김치</th>\n",
              "      <th>냄비</th>\n",
              "      <th>냉장고</th>\n",
              "      <th>노트북</th>\n",
              "      <th>녹용도가니탕</th>\n",
              "      <th>뉴스파</th>\n",
              "      <th>니트</th>\n",
              "      <th>대동모피</th>\n",
              "      <th>대우전자</th>\n",
              "      <th>더블</th>\n",
              "      <th>데님</th>\n",
              "      <th>...</th>\n",
              "      <th>쿠미투니카</th>\n",
              "      <th>쿠첸</th>\n",
              "      <th>쿠커</th>\n",
              "      <th>쿠쿠</th>\n",
              "      <th>크로스백</th>\n",
              "      <th>크리스티나앤코</th>\n",
              "      <th>클란츠</th>\n",
              "      <th>키친플라워</th>\n",
              "      <th>테이트</th>\n",
              "      <th>토트백</th>\n",
              "      <th>트랙수트</th>\n",
              "      <th>트렁크</th>\n",
              "      <th>트레이닝</th>\n",
              "      <th>트레킹화</th>\n",
              "      <th>티셔츠</th>\n",
              "      <th>파뷔에</th>\n",
              "      <th>팔찌</th>\n",
              "      <th>패딩</th>\n",
              "      <th>패키지</th>\n",
              "      <th>팬츠</th>\n",
              "      <th>팬티</th>\n",
              "      <th>폴로셔츠</th>\n",
              "      <th>푸마</th>\n",
              "      <th>풀세트</th>\n",
              "      <th>풀커버</th>\n",
              "      <th>풍기인견</th>\n",
              "      <th>프라다</th>\n",
              "      <th>프라이팬</th>\n",
              "      <th>프리미엄</th>\n",
              "      <th>한샘</th>\n",
              "      <th>한일</th>\n",
              "      <th>항균</th>\n",
              "      <th>해피콜</th>\n",
              "      <th>헤드</th>\n",
              "      <th>헤비추얼</th>\n",
              "      <th>헤스티지</th>\n",
              "      <th>홈멀티</th>\n",
              "      <th>화이트라벨</th>\n",
              "      <th>후드</th>\n",
              "      <th>흙침대</th>\n",
              "    </tr>\n",
              "    <tr>\n",
              "      <th>방송일시</th>\n",
              "      <th></th>\n",
              "      <th></th>\n",
              "      <th></th>\n",
              "      <th></th>\n",
              "      <th></th>\n",
              "      <th></th>\n",
              "      <th></th>\n",
              "      <th></th>\n",
              "      <th></th>\n",
              "      <th></th>\n",
              "      <th></th>\n",
              "      <th></th>\n",
              "      <th></th>\n",
              "      <th></th>\n",
              "      <th></th>\n",
              "      <th></th>\n",
              "      <th></th>\n",
              "      <th></th>\n",
              "      <th></th>\n",
              "      <th></th>\n",
              "      <th></th>\n",
              "      <th></th>\n",
              "      <th></th>\n",
              "      <th></th>\n",
              "      <th></th>\n",
              "      <th></th>\n",
              "      <th></th>\n",
              "      <th></th>\n",
              "      <th></th>\n",
              "      <th></th>\n",
              "      <th></th>\n",
              "      <th></th>\n",
              "      <th></th>\n",
              "      <th></th>\n",
              "      <th></th>\n",
              "      <th></th>\n",
              "      <th></th>\n",
              "      <th></th>\n",
              "      <th></th>\n",
              "      <th></th>\n",
              "      <th></th>\n",
              "      <th></th>\n",
              "      <th></th>\n",
              "      <th></th>\n",
              "      <th></th>\n",
              "      <th></th>\n",
              "      <th></th>\n",
              "      <th></th>\n",
              "      <th></th>\n",
              "      <th></th>\n",
              "      <th></th>\n",
              "      <th></th>\n",
              "      <th></th>\n",
              "      <th></th>\n",
              "      <th></th>\n",
              "      <th></th>\n",
              "      <th></th>\n",
              "      <th></th>\n",
              "      <th></th>\n",
              "      <th></th>\n",
              "      <th></th>\n",
              "      <th></th>\n",
              "      <th></th>\n",
              "      <th></th>\n",
              "      <th></th>\n",
              "      <th></th>\n",
              "      <th></th>\n",
              "      <th></th>\n",
              "      <th></th>\n",
              "      <th></th>\n",
              "      <th></th>\n",
              "      <th></th>\n",
              "      <th></th>\n",
              "      <th></th>\n",
              "      <th></th>\n",
              "      <th></th>\n",
              "      <th></th>\n",
              "      <th></th>\n",
              "      <th></th>\n",
              "      <th></th>\n",
              "      <th></th>\n",
              "    </tr>\n",
              "  </thead>\n",
              "  <tbody>\n",
              "    <tr>\n",
              "      <th>2019-01-01 06:00:00</th>\n",
              "      <td>20.0</td>\n",
              "      <td>의류</td>\n",
              "      <td>39900</td>\n",
              "      <td>2099000.0</td>\n",
              "      <td>52.606516</td>\n",
              "      <td>0</td>\n",
              "      <td>1</td>\n",
              "      <td>0</td>\n",
              "      <td>0</td>\n",
              "      <td>0</td>\n",
              "      <td>0</td>\n",
              "      <td>0</td>\n",
              "      <td>0</td>\n",
              "      <td>0</td>\n",
              "      <td>0</td>\n",
              "      <td>0</td>\n",
              "      <td>0</td>\n",
              "      <td>0</td>\n",
              "      <td>0</td>\n",
              "      <td>0</td>\n",
              "      <td>0</td>\n",
              "      <td>0</td>\n",
              "      <td>0</td>\n",
              "      <td>0</td>\n",
              "      <td>0</td>\n",
              "      <td>0</td>\n",
              "      <td>0</td>\n",
              "      <td>0</td>\n",
              "      <td>0</td>\n",
              "      <td>0</td>\n",
              "      <td>0</td>\n",
              "      <td>0</td>\n",
              "      <td>0</td>\n",
              "      <td>0</td>\n",
              "      <td>0</td>\n",
              "      <td>1</td>\n",
              "      <td>0</td>\n",
              "      <td>0</td>\n",
              "      <td>0</td>\n",
              "      <td>0</td>\n",
              "      <td>...</td>\n",
              "      <td>0</td>\n",
              "      <td>0</td>\n",
              "      <td>0</td>\n",
              "      <td>0</td>\n",
              "      <td>0</td>\n",
              "      <td>0</td>\n",
              "      <td>0</td>\n",
              "      <td>0</td>\n",
              "      <td>1</td>\n",
              "      <td>0</td>\n",
              "      <td>0</td>\n",
              "      <td>0</td>\n",
              "      <td>0</td>\n",
              "      <td>0</td>\n",
              "      <td>0</td>\n",
              "      <td>0</td>\n",
              "      <td>0</td>\n",
              "      <td>0</td>\n",
              "      <td>0</td>\n",
              "      <td>0</td>\n",
              "      <td>0</td>\n",
              "      <td>0</td>\n",
              "      <td>0</td>\n",
              "      <td>0</td>\n",
              "      <td>0</td>\n",
              "      <td>0</td>\n",
              "      <td>0</td>\n",
              "      <td>0</td>\n",
              "      <td>0</td>\n",
              "      <td>0</td>\n",
              "      <td>0</td>\n",
              "      <td>0</td>\n",
              "      <td>0</td>\n",
              "      <td>0</td>\n",
              "      <td>0</td>\n",
              "      <td>0</td>\n",
              "      <td>0</td>\n",
              "      <td>0</td>\n",
              "      <td>0</td>\n",
              "      <td>0</td>\n",
              "    </tr>\n",
              "    <tr>\n",
              "      <th>2019-01-01 06:00:00</th>\n",
              "      <td>20.0</td>\n",
              "      <td>의류</td>\n",
              "      <td>39900</td>\n",
              "      <td>4371000.0</td>\n",
              "      <td>109.548872</td>\n",
              "      <td>0</td>\n",
              "      <td>2</td>\n",
              "      <td>0</td>\n",
              "      <td>0</td>\n",
              "      <td>0</td>\n",
              "      <td>0</td>\n",
              "      <td>0</td>\n",
              "      <td>0</td>\n",
              "      <td>0</td>\n",
              "      <td>0</td>\n",
              "      <td>0</td>\n",
              "      <td>0</td>\n",
              "      <td>0</td>\n",
              "      <td>0</td>\n",
              "      <td>0</td>\n",
              "      <td>0</td>\n",
              "      <td>0</td>\n",
              "      <td>0</td>\n",
              "      <td>0</td>\n",
              "      <td>0</td>\n",
              "      <td>0</td>\n",
              "      <td>0</td>\n",
              "      <td>0</td>\n",
              "      <td>0</td>\n",
              "      <td>0</td>\n",
              "      <td>0</td>\n",
              "      <td>0</td>\n",
              "      <td>0</td>\n",
              "      <td>0</td>\n",
              "      <td>0</td>\n",
              "      <td>1</td>\n",
              "      <td>0</td>\n",
              "      <td>0</td>\n",
              "      <td>0</td>\n",
              "      <td>0</td>\n",
              "      <td>...</td>\n",
              "      <td>0</td>\n",
              "      <td>0</td>\n",
              "      <td>0</td>\n",
              "      <td>0</td>\n",
              "      <td>0</td>\n",
              "      <td>0</td>\n",
              "      <td>0</td>\n",
              "      <td>0</td>\n",
              "      <td>1</td>\n",
              "      <td>0</td>\n",
              "      <td>0</td>\n",
              "      <td>0</td>\n",
              "      <td>0</td>\n",
              "      <td>0</td>\n",
              "      <td>0</td>\n",
              "      <td>0</td>\n",
              "      <td>0</td>\n",
              "      <td>0</td>\n",
              "      <td>0</td>\n",
              "      <td>0</td>\n",
              "      <td>0</td>\n",
              "      <td>0</td>\n",
              "      <td>0</td>\n",
              "      <td>0</td>\n",
              "      <td>0</td>\n",
              "      <td>0</td>\n",
              "      <td>0</td>\n",
              "      <td>0</td>\n",
              "      <td>0</td>\n",
              "      <td>0</td>\n",
              "      <td>0</td>\n",
              "      <td>0</td>\n",
              "      <td>0</td>\n",
              "      <td>0</td>\n",
              "      <td>0</td>\n",
              "      <td>0</td>\n",
              "      <td>0</td>\n",
              "      <td>0</td>\n",
              "      <td>0</td>\n",
              "      <td>0</td>\n",
              "    </tr>\n",
              "    <tr>\n",
              "      <th>2019-01-01 06:20:00</th>\n",
              "      <td>20.0</td>\n",
              "      <td>의류</td>\n",
              "      <td>39900</td>\n",
              "      <td>3262000.0</td>\n",
              "      <td>81.754386</td>\n",
              "      <td>0</td>\n",
              "      <td>1</td>\n",
              "      <td>0</td>\n",
              "      <td>0</td>\n",
              "      <td>0</td>\n",
              "      <td>0</td>\n",
              "      <td>0</td>\n",
              "      <td>0</td>\n",
              "      <td>0</td>\n",
              "      <td>0</td>\n",
              "      <td>0</td>\n",
              "      <td>0</td>\n",
              "      <td>0</td>\n",
              "      <td>0</td>\n",
              "      <td>0</td>\n",
              "      <td>0</td>\n",
              "      <td>0</td>\n",
              "      <td>0</td>\n",
              "      <td>0</td>\n",
              "      <td>0</td>\n",
              "      <td>0</td>\n",
              "      <td>0</td>\n",
              "      <td>0</td>\n",
              "      <td>0</td>\n",
              "      <td>0</td>\n",
              "      <td>0</td>\n",
              "      <td>0</td>\n",
              "      <td>0</td>\n",
              "      <td>0</td>\n",
              "      <td>0</td>\n",
              "      <td>1</td>\n",
              "      <td>0</td>\n",
              "      <td>0</td>\n",
              "      <td>0</td>\n",
              "      <td>0</td>\n",
              "      <td>...</td>\n",
              "      <td>0</td>\n",
              "      <td>0</td>\n",
              "      <td>0</td>\n",
              "      <td>0</td>\n",
              "      <td>0</td>\n",
              "      <td>0</td>\n",
              "      <td>0</td>\n",
              "      <td>0</td>\n",
              "      <td>1</td>\n",
              "      <td>0</td>\n",
              "      <td>0</td>\n",
              "      <td>0</td>\n",
              "      <td>0</td>\n",
              "      <td>0</td>\n",
              "      <td>0</td>\n",
              "      <td>0</td>\n",
              "      <td>0</td>\n",
              "      <td>0</td>\n",
              "      <td>0</td>\n",
              "      <td>0</td>\n",
              "      <td>0</td>\n",
              "      <td>0</td>\n",
              "      <td>0</td>\n",
              "      <td>0</td>\n",
              "      <td>0</td>\n",
              "      <td>0</td>\n",
              "      <td>0</td>\n",
              "      <td>0</td>\n",
              "      <td>0</td>\n",
              "      <td>0</td>\n",
              "      <td>0</td>\n",
              "      <td>0</td>\n",
              "      <td>0</td>\n",
              "      <td>0</td>\n",
              "      <td>0</td>\n",
              "      <td>0</td>\n",
              "      <td>0</td>\n",
              "      <td>0</td>\n",
              "      <td>0</td>\n",
              "      <td>0</td>\n",
              "    </tr>\n",
              "    <tr>\n",
              "      <th>2019-01-01 06:20:00</th>\n",
              "      <td>20.0</td>\n",
              "      <td>의류</td>\n",
              "      <td>39900</td>\n",
              "      <td>6955000.0</td>\n",
              "      <td>174.310777</td>\n",
              "      <td>0</td>\n",
              "      <td>2</td>\n",
              "      <td>0</td>\n",
              "      <td>0</td>\n",
              "      <td>0</td>\n",
              "      <td>0</td>\n",
              "      <td>0</td>\n",
              "      <td>0</td>\n",
              "      <td>0</td>\n",
              "      <td>0</td>\n",
              "      <td>0</td>\n",
              "      <td>0</td>\n",
              "      <td>0</td>\n",
              "      <td>0</td>\n",
              "      <td>0</td>\n",
              "      <td>0</td>\n",
              "      <td>0</td>\n",
              "      <td>0</td>\n",
              "      <td>0</td>\n",
              "      <td>0</td>\n",
              "      <td>0</td>\n",
              "      <td>0</td>\n",
              "      <td>0</td>\n",
              "      <td>0</td>\n",
              "      <td>0</td>\n",
              "      <td>0</td>\n",
              "      <td>0</td>\n",
              "      <td>0</td>\n",
              "      <td>0</td>\n",
              "      <td>0</td>\n",
              "      <td>1</td>\n",
              "      <td>0</td>\n",
              "      <td>0</td>\n",
              "      <td>0</td>\n",
              "      <td>0</td>\n",
              "      <td>...</td>\n",
              "      <td>0</td>\n",
              "      <td>0</td>\n",
              "      <td>0</td>\n",
              "      <td>0</td>\n",
              "      <td>0</td>\n",
              "      <td>0</td>\n",
              "      <td>0</td>\n",
              "      <td>0</td>\n",
              "      <td>1</td>\n",
              "      <td>0</td>\n",
              "      <td>0</td>\n",
              "      <td>0</td>\n",
              "      <td>0</td>\n",
              "      <td>0</td>\n",
              "      <td>0</td>\n",
              "      <td>0</td>\n",
              "      <td>0</td>\n",
              "      <td>0</td>\n",
              "      <td>0</td>\n",
              "      <td>0</td>\n",
              "      <td>0</td>\n",
              "      <td>0</td>\n",
              "      <td>0</td>\n",
              "      <td>0</td>\n",
              "      <td>0</td>\n",
              "      <td>0</td>\n",
              "      <td>0</td>\n",
              "      <td>0</td>\n",
              "      <td>0</td>\n",
              "      <td>0</td>\n",
              "      <td>0</td>\n",
              "      <td>0</td>\n",
              "      <td>0</td>\n",
              "      <td>0</td>\n",
              "      <td>0</td>\n",
              "      <td>0</td>\n",
              "      <td>0</td>\n",
              "      <td>0</td>\n",
              "      <td>0</td>\n",
              "      <td>0</td>\n",
              "    </tr>\n",
              "    <tr>\n",
              "      <th>2019-01-01 06:40:00</th>\n",
              "      <td>20.0</td>\n",
              "      <td>의류</td>\n",
              "      <td>39900</td>\n",
              "      <td>6672000.0</td>\n",
              "      <td>167.218045</td>\n",
              "      <td>0</td>\n",
              "      <td>1</td>\n",
              "      <td>0</td>\n",
              "      <td>0</td>\n",
              "      <td>0</td>\n",
              "      <td>0</td>\n",
              "      <td>0</td>\n",
              "      <td>0</td>\n",
              "      <td>0</td>\n",
              "      <td>0</td>\n",
              "      <td>0</td>\n",
              "      <td>0</td>\n",
              "      <td>0</td>\n",
              "      <td>0</td>\n",
              "      <td>0</td>\n",
              "      <td>0</td>\n",
              "      <td>0</td>\n",
              "      <td>0</td>\n",
              "      <td>0</td>\n",
              "      <td>0</td>\n",
              "      <td>0</td>\n",
              "      <td>0</td>\n",
              "      <td>0</td>\n",
              "      <td>0</td>\n",
              "      <td>0</td>\n",
              "      <td>0</td>\n",
              "      <td>0</td>\n",
              "      <td>0</td>\n",
              "      <td>0</td>\n",
              "      <td>0</td>\n",
              "      <td>1</td>\n",
              "      <td>0</td>\n",
              "      <td>0</td>\n",
              "      <td>0</td>\n",
              "      <td>0</td>\n",
              "      <td>...</td>\n",
              "      <td>0</td>\n",
              "      <td>0</td>\n",
              "      <td>0</td>\n",
              "      <td>0</td>\n",
              "      <td>0</td>\n",
              "      <td>0</td>\n",
              "      <td>0</td>\n",
              "      <td>0</td>\n",
              "      <td>1</td>\n",
              "      <td>0</td>\n",
              "      <td>0</td>\n",
              "      <td>0</td>\n",
              "      <td>0</td>\n",
              "      <td>0</td>\n",
              "      <td>0</td>\n",
              "      <td>0</td>\n",
              "      <td>0</td>\n",
              "      <td>0</td>\n",
              "      <td>0</td>\n",
              "      <td>0</td>\n",
              "      <td>0</td>\n",
              "      <td>0</td>\n",
              "      <td>0</td>\n",
              "      <td>0</td>\n",
              "      <td>0</td>\n",
              "      <td>0</td>\n",
              "      <td>0</td>\n",
              "      <td>0</td>\n",
              "      <td>0</td>\n",
              "      <td>0</td>\n",
              "      <td>0</td>\n",
              "      <td>0</td>\n",
              "      <td>0</td>\n",
              "      <td>0</td>\n",
              "      <td>0</td>\n",
              "      <td>0</td>\n",
              "      <td>0</td>\n",
              "      <td>0</td>\n",
              "      <td>0</td>\n",
              "      <td>0</td>\n",
              "    </tr>\n",
              "  </tbody>\n",
              "</table>\n",
              "<p>5 rows × 207 columns</p>\n",
              "</div>"
            ],
            "text/plain": [
              "                     노출(분) 상품군   판매단가        취급액  ...  홈멀티  화이트라벨  후드  흙침대\n",
              "방송일시                                              ...                     \n",
              "2019-01-01 06:00:00   20.0  의류  39900  2099000.0  ...    0      0   0    0\n",
              "2019-01-01 06:00:00   20.0  의류  39900  4371000.0  ...    0      0   0    0\n",
              "2019-01-01 06:20:00   20.0  의류  39900  3262000.0  ...    0      0   0    0\n",
              "2019-01-01 06:20:00   20.0  의류  39900  6955000.0  ...    0      0   0    0\n",
              "2019-01-01 06:40:00   20.0  의류  39900  6672000.0  ...    0      0   0    0\n",
              "\n",
              "[5 rows x 207 columns]"
            ]
          },
          "metadata": {
            "tags": []
          },
          "execution_count": 360
        }
      ]
    },
    {
      "cell_type": "code",
      "metadata": {
        "id": "Wg1BJBOQ4rjw",
        "colab_type": "code",
        "colab": {}
      },
      "source": [
        ""
      ],
      "execution_count": null,
      "outputs": []
    }
  ]
}