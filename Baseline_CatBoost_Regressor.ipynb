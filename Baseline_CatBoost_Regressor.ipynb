{
  "nbformat": 4,
  "nbformat_minor": 0,
  "metadata": {
    "colab": {
      "name": "Baseline_CatBoost Regressor",
      "provenance": [],
      "collapsed_sections": []
    },
    "kernelspec": {
      "name": "python3",
      "display_name": "Python 3"
    }
  },
  "cells": [
    {
      "cell_type": "code",
      "metadata": {
        "id": "9oXZd8IEoJOr",
        "colab_type": "code",
        "colab": {
          "base_uri": "https://localhost:8080/",
          "height": 73
        },
        "outputId": "cd83ce9f-4d5a-49aa-8457-8a34a06b974d"
      },
      "source": [
        "import os\n",
        "import numpy as np\n",
        "import pandas as pd\n",
        "import matplotlib.pyplot as plt\n",
        "import seaborn as sns\n",
        "import datetime as dt\n",
        "\n",
        "plt.style.use('seaborn-whitegrid')"
      ],
      "execution_count": 1,
      "outputs": [
        {
          "output_type": "stream",
          "text": [
            "/usr/local/lib/python3.6/dist-packages/statsmodels/tools/_testing.py:19: FutureWarning: pandas.util.testing is deprecated. Use the functions in the public API at pandas.testing instead.\n",
            "  import pandas.util.testing as tm\n"
          ],
          "name": "stderr"
        }
      ]
    },
    {
      "cell_type": "code",
      "metadata": {
        "id": "WBfIQh2tMn7u",
        "colab_type": "code",
        "colab": {
          "base_uri": "https://localhost:8080/",
          "height": 125
        },
        "outputId": "1f2fedfb-624a-4cda-c114-5f858ad8908e"
      },
      "source": [
        "!git clone https://github.com/BigcontestParrot2020/csv.git"
      ],
      "execution_count": 2,
      "outputs": [
        {
          "output_type": "stream",
          "text": [
            "Cloning into 'csv'...\n",
            "remote: Enumerating objects: 19, done.\u001b[K\n",
            "remote: Counting objects: 100% (19/19), done.\u001b[K\n",
            "remote: Compressing objects: 100% (17/17), done.\u001b[K\n",
            "remote: Total 19 (delta 8), reused 0 (delta 0), pack-reused 0\u001b[K\n",
            "Unpacking objects: 100% (19/19), done.\n"
          ],
          "name": "stdout"
        }
      ]
    },
    {
      "cell_type": "code",
      "metadata": {
        "id": "zxilbntFqYD5",
        "colab_type": "code",
        "colab": {
          "base_uri": "https://localhost:8080/",
          "height": 341
        },
        "outputId": "9bb2d1d8-be0c-450a-e000-e0decd695c69"
      },
      "source": [
        "!pip install catboost\n",
        "from catboost import CatBoostRegressor, Pool"
      ],
      "execution_count": 3,
      "outputs": [
        {
          "output_type": "stream",
          "text": [
            "Collecting catboost\n",
            "\u001b[?25l  Downloading https://files.pythonhosted.org/packages/90/86/c3dcb600b4f9e7584ed90ea9d30a717fb5c0111574675f442c3e7bc19535/catboost-0.24.1-cp36-none-manylinux1_x86_64.whl (66.1MB)\n",
            "\u001b[K     |████████████████████████████████| 66.1MB 65kB/s \n",
            "\u001b[?25hRequirement already satisfied: matplotlib in /usr/local/lib/python3.6/dist-packages (from catboost) (3.2.2)\n",
            "Requirement already satisfied: six in /usr/local/lib/python3.6/dist-packages (from catboost) (1.15.0)\n",
            "Requirement already satisfied: pandas>=0.24.0 in /usr/local/lib/python3.6/dist-packages (from catboost) (1.0.5)\n",
            "Requirement already satisfied: scipy in /usr/local/lib/python3.6/dist-packages (from catboost) (1.4.1)\n",
            "Requirement already satisfied: plotly in /usr/local/lib/python3.6/dist-packages (from catboost) (4.4.1)\n",
            "Requirement already satisfied: numpy>=1.16.0 in /usr/local/lib/python3.6/dist-packages (from catboost) (1.18.5)\n",
            "Requirement already satisfied: graphviz in /usr/local/lib/python3.6/dist-packages (from catboost) (0.10.1)\n",
            "Requirement already satisfied: pyparsing!=2.0.4,!=2.1.2,!=2.1.6,>=2.0.1 in /usr/local/lib/python3.6/dist-packages (from matplotlib->catboost) (2.4.7)\n",
            "Requirement already satisfied: cycler>=0.10 in /usr/local/lib/python3.6/dist-packages (from matplotlib->catboost) (0.10.0)\n",
            "Requirement already satisfied: kiwisolver>=1.0.1 in /usr/local/lib/python3.6/dist-packages (from matplotlib->catboost) (1.2.0)\n",
            "Requirement already satisfied: python-dateutil>=2.1 in /usr/local/lib/python3.6/dist-packages (from matplotlib->catboost) (2.8.1)\n",
            "Requirement already satisfied: pytz>=2017.2 in /usr/local/lib/python3.6/dist-packages (from pandas>=0.24.0->catboost) (2018.9)\n",
            "Requirement already satisfied: retrying>=1.3.3 in /usr/local/lib/python3.6/dist-packages (from plotly->catboost) (1.3.3)\n",
            "Installing collected packages: catboost\n",
            "Successfully installed catboost-0.24.1\n"
          ],
          "name": "stdout"
        }
      ]
    },
    {
      "cell_type": "code",
      "metadata": {
        "id": "zF9-zUYcY5Ff",
        "colab_type": "code",
        "colab": {}
      },
      "source": [
        "data = pd.read_csv('/content/csv/0921_ver.csv', encoding = 'utf-8', index_col = 0).iloc[:,1:]\n",
        "data = data.dropna()\n",
        "\n",
        "#data['구매횟수'] = data.취급액/data.판매단가"
      ],
      "execution_count": 4,
      "outputs": []
    },
    {
      "cell_type": "code",
      "metadata": {
        "id": "CgbZB3zZOmbP",
        "colab_type": "code",
        "colab": {}
      },
      "source": [
        "data['분'] = pd.to_datetime(data.index).strftime('%M')\n",
        "\n",
        "# [CATBOOST] cateogorical features should be str\n",
        "data['시'] = data['시'].astype(str)\n",
        "data['프라임'] = data['프라임'].astype(str)\n",
        "data['일'] = data['일'].astype(str)\n",
        "data['휴일'] = data['휴일'].astype(str)"
      ],
      "execution_count": 5,
      "outputs": []
    },
    {
      "cell_type": "code",
      "metadata": {
        "id": "3__DFAFQg0Ll",
        "colab_type": "code",
        "colab": {}
      },
      "source": [
        "data['취급액_로그'] = np.log(data.취급액)\n",
        "data = data.drop(columns = ['취급액'])"
      ],
      "execution_count": 6,
      "outputs": []
    },
    {
      "cell_type": "code",
      "metadata": {
        "id": "c06MLZQhwSRk",
        "colab_type": "code",
        "colab": {
          "base_uri": "https://localhost:8080/",
          "height": 235
        },
        "outputId": "fa406f77-dff8-4afe-ac64-8ba7134d26c1"
      },
      "source": [
        "data.head()"
      ],
      "execution_count": 7,
      "outputs": [
        {
          "output_type": "execute_result",
          "data": {
            "text/html": [
              "<div>\n",
              "<style scoped>\n",
              "    .dataframe tbody tr th:only-of-type {\n",
              "        vertical-align: middle;\n",
              "    }\n",
              "\n",
              "    .dataframe tbody tr th {\n",
              "        vertical-align: top;\n",
              "    }\n",
              "\n",
              "    .dataframe thead th {\n",
              "        text-align: right;\n",
              "    }\n",
              "</style>\n",
              "<table border=\"1\" class=\"dataframe\">\n",
              "  <thead>\n",
              "    <tr style=\"text-align: right;\">\n",
              "      <th></th>\n",
              "      <th>상품명</th>\n",
              "      <th>상품군</th>\n",
              "      <th>판매단가</th>\n",
              "      <th>월</th>\n",
              "      <th>일</th>\n",
              "      <th>시</th>\n",
              "      <th>소비층</th>\n",
              "      <th>요일</th>\n",
              "      <th>휴일</th>\n",
              "      <th>프라임</th>\n",
              "      <th>파트</th>\n",
              "      <th>분</th>\n",
              "      <th>취급액_로그</th>\n",
              "    </tr>\n",
              "    <tr>\n",
              "      <th>방송일시</th>\n",
              "      <th></th>\n",
              "      <th></th>\n",
              "      <th></th>\n",
              "      <th></th>\n",
              "      <th></th>\n",
              "      <th></th>\n",
              "      <th></th>\n",
              "      <th></th>\n",
              "      <th></th>\n",
              "      <th></th>\n",
              "      <th></th>\n",
              "      <th></th>\n",
              "      <th></th>\n",
              "    </tr>\n",
              "  </thead>\n",
              "  <tbody>\n",
              "    <tr>\n",
              "      <th>2019-01-01 06:00:00</th>\n",
              "      <td>테이트 남성 셀린니트3종</td>\n",
              "      <td>의류</td>\n",
              "      <td>39900</td>\n",
              "      <td>1</td>\n",
              "      <td>1</td>\n",
              "      <td>6</td>\n",
              "      <td>1</td>\n",
              "      <td>Tuesday</td>\n",
              "      <td>2</td>\n",
              "      <td>4</td>\n",
              "      <td>First</td>\n",
              "      <td>00</td>\n",
              "      <td>14.556972</td>\n",
              "    </tr>\n",
              "    <tr>\n",
              "      <th>2019-01-01 06:00:00</th>\n",
              "      <td>테이트 여성 셀린니트3종</td>\n",
              "      <td>의류</td>\n",
              "      <td>39900</td>\n",
              "      <td>1</td>\n",
              "      <td>1</td>\n",
              "      <td>6</td>\n",
              "      <td>1</td>\n",
              "      <td>Tuesday</td>\n",
              "      <td>2</td>\n",
              "      <td>4</td>\n",
              "      <td>First</td>\n",
              "      <td>00</td>\n",
              "      <td>15.290502</td>\n",
              "    </tr>\n",
              "    <tr>\n",
              "      <th>2019-01-01 06:20:00</th>\n",
              "      <td>테이트 남성 셀린니트3종</td>\n",
              "      <td>의류</td>\n",
              "      <td>39900</td>\n",
              "      <td>1</td>\n",
              "      <td>1</td>\n",
              "      <td>6</td>\n",
              "      <td>1</td>\n",
              "      <td>Tuesday</td>\n",
              "      <td>2</td>\n",
              "      <td>4</td>\n",
              "      <td>Middle</td>\n",
              "      <td>20</td>\n",
              "      <td>14.997851</td>\n",
              "    </tr>\n",
              "    <tr>\n",
              "      <th>2019-01-01 06:20:00</th>\n",
              "      <td>테이트 여성 셀린니트3종</td>\n",
              "      <td>의류</td>\n",
              "      <td>39900</td>\n",
              "      <td>1</td>\n",
              "      <td>1</td>\n",
              "      <td>6</td>\n",
              "      <td>1</td>\n",
              "      <td>Tuesday</td>\n",
              "      <td>2</td>\n",
              "      <td>4</td>\n",
              "      <td>Middle</td>\n",
              "      <td>20</td>\n",
              "      <td>15.754971</td>\n",
              "    </tr>\n",
              "    <tr>\n",
              "      <th>2019-01-01 06:40:00</th>\n",
              "      <td>테이트 남성 셀린니트3종</td>\n",
              "      <td>의류</td>\n",
              "      <td>39900</td>\n",
              "      <td>1</td>\n",
              "      <td>1</td>\n",
              "      <td>6</td>\n",
              "      <td>1</td>\n",
              "      <td>Tuesday</td>\n",
              "      <td>2</td>\n",
              "      <td>4</td>\n",
              "      <td>Later</td>\n",
              "      <td>40</td>\n",
              "      <td>15.713430</td>\n",
              "    </tr>\n",
              "  </tbody>\n",
              "</table>\n",
              "</div>"
            ],
            "text/plain": [
              "                               상품명 상품군   판매단가  월  ... 프라임      파트   분     취급액_로그\n",
              "방송일시                                              ...                           \n",
              "2019-01-01 06:00:00  테이트 남성 셀린니트3종  의류  39900  1  ...   4   First  00  14.556972\n",
              "2019-01-01 06:00:00  테이트 여성 셀린니트3종  의류  39900  1  ...   4   First  00  15.290502\n",
              "2019-01-01 06:20:00  테이트 남성 셀린니트3종  의류  39900  1  ...   4  Middle  20  14.997851\n",
              "2019-01-01 06:20:00  테이트 여성 셀린니트3종  의류  39900  1  ...   4  Middle  20  15.754971\n",
              "2019-01-01 06:40:00  테이트 남성 셀린니트3종  의류  39900  1  ...   4   Later  40  15.713430\n",
              "\n",
              "[5 rows x 13 columns]"
            ]
          },
          "metadata": {
            "tags": []
          },
          "execution_count": 7
        }
      ]
    },
    {
      "cell_type": "markdown",
      "metadata": {
        "id": "IYp6YY0LRSh6",
        "colab_type": "text"
      },
      "source": [
        "## Define Functions"
      ]
    },
    {
      "cell_type": "code",
      "metadata": {
        "id": "BCbDLVX5chHW",
        "colab_type": "code",
        "colab": {}
      },
      "source": [
        "def mean_absolute_percentage_error(y_true, y_pred): \n",
        "    y_true, y_pred = np.array(y_true), np.array(y_pred)\n",
        "    return np.mean(np.abs((y_true - y_pred) / y_true)) * 100"
      ],
      "execution_count": 8,
      "outputs": []
    },
    {
      "cell_type": "code",
      "metadata": {
        "id": "9ZHq3QHnCqjo",
        "colab_type": "code",
        "colab": {}
      },
      "source": [
        "model = CatBoostRegressor(iterations = 2000,\n",
        "                          loss_function=\"RMSE\",\n",
        "                          eval_metric='RMSE',\n",
        "                          learning_rate=0.1,\n",
        "                          early_stopping_rounds=500,\n",
        "                          random_seed = 123457,\n",
        "                          )"
      ],
      "execution_count": 9,
      "outputs": []
    },
    {
      "cell_type": "code",
      "metadata": {
        "id": "wP2dPgQZC_vd",
        "colab_type": "code",
        "colab": {
          "base_uri": "https://localhost:8080/",
          "height": 1000
        },
        "outputId": "c1018cfa-6bf9-4621-aaf6-d43253518f40"
      },
      "source": [
        "clss = list(set(data.상품군))\n",
        "month = list(set(data.월))\n",
        "\n",
        "model_dict = {}\n",
        "mape_dict = {}\n",
        "for c in clss:\n",
        "    print(f'===== start training {c} =====')\n",
        "    train_df = data[data.상품군 == c]\n",
        "    raw_x = train_df.drop(columns=['취급액_로그', '상품군'])\n",
        "    raw_y = train_df[['취급액_로그','월']]\n",
        "\n",
        "    cv_scores = {}\n",
        "    cv_models = {}\n",
        "\n",
        "    for m in month:\n",
        "\n",
        "        try:\n",
        "            test_x = raw_x[raw_x.월 == m].drop(columns = ['월'])\n",
        "            test_y = raw_y[raw_y.월 == m].취급액_로그\n",
        "            train_x = raw_x.drop(index = test_x.index, columns = ['월'])\n",
        "            train_y = raw_y.drop(index = test_y.index).취급액_로그\n",
        "        \n",
        "            train_y = train_y.to_numpy().reshape(-1)\n",
        "            test_y = test_y.to_numpy().reshape(-1)\n",
        "            \n",
        "            cat_features_train = np.where((train_x.dtypes != np.float)&(train_x.dtypes != np.int))[0]\n",
        "            cat_features_test = np.where((test_x.dtypes != np.float)&(test_x.dtypes != np.int))[0]\n",
        "    \n",
        "            train_dataset = Pool(train_x, label = train_y, cat_features=cat_features_train)\n",
        "            test_dataset = Pool(test_x, label = test_y, cat_features=cat_features_test)\n",
        "            CBR = model.fit(train_dataset,  \n",
        "                            eval_set = test_dataset,\n",
        "                            use_best_model = True,      \n",
        "                            verbose = False,\n",
        "                            plot = False)\n",
        "            predict_test = model.predict(test_x)\n",
        "\n",
        "            test_y = np.exp(test_y)\n",
        "            predict_test = np.exp(predict_test)\n",
        "\n",
        "            mape = mean_absolute_percentage_error(test_y, predict_test)\n",
        "            print(f'{m}월 MAPE:', mape)\n",
        "            cv_scores.update({m:mape})\n",
        "            cv_models.update({m:CBR})\n",
        "      \n",
        "        except :\n",
        "            print(f'{m}월 MAPE: No Value')\n",
        "            cv_scores.update({m:'no value'})\n",
        "            cv_models.update({m:'no value'})\n",
        "\n",
        "        mape_dict.update({c:cv_scores}) \n",
        "        model_dict.update({c:cv_models})"
      ],
      "execution_count": 22,
      "outputs": [
        {
          "output_type": "stream",
          "text": [
            "===== start training 건강기능 =====\n",
            "1월 MAPE: 26.229875852721417\n",
            "2월 MAPE: 38.6086695569613\n",
            "3월 MAPE: 109.77440935842458\n",
            "4월 MAPE: 41.46183534872427\n",
            "5월 MAPE: 49.771708918077536\n",
            "6월 MAPE: 28.55727087829742\n",
            "7월 MAPE: 19.311686933885404\n",
            "8월 MAPE: 63.92389762236921\n",
            "9월 MAPE: 29.117430405672064\n",
            "10월 MAPE: 34.36722477546941\n",
            "11월 MAPE: 72.73699019694516\n",
            "12월 MAPE: 24.04765440431769\n",
            "===== start training 잡화 =====\n",
            "1월 MAPE: 33.41168976170586\n",
            "2월 MAPE: 33.28268807740537\n",
            "3월 MAPE: 40.92530204474768\n",
            "4월 MAPE: 34.758072832757186\n",
            "5월 MAPE: 45.172552981164756\n",
            "6월 MAPE: 39.19001898282245\n",
            "7월 MAPE: 55.146240418132756\n",
            "8월 MAPE: 80.2745819622941\n",
            "9월 MAPE: 46.51585683460387\n",
            "10월 MAPE: 63.080801717658666\n",
            "11월 MAPE: 54.13392512153358\n",
            "12월 MAPE: 73.86410396620273\n",
            "===== start training 의류 =====\n",
            "1월 MAPE: 55.45910451243897\n",
            "2월 MAPE: 36.41806049836812\n",
            "3월 MAPE: 44.18479102545897\n",
            "4월 MAPE: 54.09854881323412\n",
            "5월 MAPE: 48.43154402821225\n",
            "6월 MAPE: 45.523565931919364\n",
            "7월 MAPE: 38.03726521276672\n",
            "8월 MAPE: 45.89266064533303\n",
            "9월 MAPE: 85.5430237673413\n",
            "10월 MAPE: 60.90207129218679\n",
            "11월 MAPE: 43.35000157479785\n",
            "12월 MAPE: 75.24179723883489\n",
            "===== start training 이미용 =====\n",
            "1월 MAPE: 28.00713543509715\n",
            "2월 MAPE: 19.644399593743497\n",
            "3월 MAPE: 25.51613998361638\n",
            "4월 MAPE: 23.529034503937503\n",
            "5월 MAPE: 31.706705520944805\n",
            "6월 MAPE: 25.82446786960702\n",
            "7월 MAPE: 22.233199948482966\n",
            "8월 MAPE: 48.7522862050537\n",
            "9월 MAPE: 63.74591006877495\n",
            "10월 MAPE: 32.40437656961133\n",
            "11월 MAPE: 23.724016151608847\n",
            "12월 MAPE: 62.94173402860712\n",
            "===== start training 속옷 =====\n",
            "1월 MAPE: 96.47001050612883\n",
            "2월 MAPE: 72.63086101734983\n",
            "3월 MAPE: 68.52438968152804\n",
            "4월 MAPE: 32.76163670191338\n",
            "5월 MAPE: 49.23880557222805\n",
            "6월 MAPE: 31.452837135804323\n",
            "7월 MAPE: 64.87864837813765\n",
            "8월 MAPE: 56.35479223976515\n",
            "9월 MAPE: 63.33076219578575\n",
            "10월 MAPE: 35.68931134031549\n",
            "11월 MAPE: 37.46163777721949\n",
            "12월 MAPE: 81.47764243841496\n",
            "===== start training 생활용품 =====\n",
            "1월 MAPE: 37.698306331875\n",
            "2월 MAPE: 60.37723982049893\n",
            "3월 MAPE: 50.29082102523351\n",
            "4월 MAPE: 60.71229061086611\n",
            "5월 MAPE: 61.16796802119314\n",
            "6월 MAPE: 44.40264474522938\n",
            "7월 MAPE: 94.82105734127799\n",
            "8월 MAPE: 116.47542204085912\n",
            "9월 MAPE: 61.53508168605715\n",
            "10월 MAPE: 64.86687001083614\n",
            "11월 MAPE: 81.5229896547036\n",
            "12월 MAPE: 68.92183660078808\n",
            "===== start training 가구 =====\n",
            "1월 MAPE: No Value\n",
            "2월 MAPE: 44.42730958986738\n",
            "3월 MAPE: 45.299543841021006\n",
            "4월 MAPE: 54.487458176870895\n",
            "5월 MAPE: 53.200293491819664\n",
            "6월 MAPE: 57.53922307228267\n",
            "7월 MAPE: 43.334731212434576\n",
            "8월 MAPE: 42.618333272453505\n",
            "9월 MAPE: 45.33410718285397\n",
            "10월 MAPE: 39.05100790900773\n",
            "11월 MAPE: 69.77598374643085\n",
            "12월 MAPE: 59.64871206236817\n",
            "===== start training 침구 =====\n",
            "1월 MAPE: No Value\n",
            "2월 MAPE: No Value\n",
            "3월 MAPE: No Value\n",
            "4월 MAPE: 97.08113515381773\n",
            "5월 MAPE: 27.086242773115636\n",
            "6월 MAPE: 24.904846934091797\n",
            "7월 MAPE: 47.6048857752288\n",
            "8월 MAPE: 159.5308470525423\n",
            "9월 MAPE: 105.1108937846871\n",
            "10월 MAPE: 61.59114823488403\n",
            "11월 MAPE: 32.85408887735143\n",
            "12월 MAPE: No Value\n",
            "===== start training 농수축 =====\n",
            "1월 MAPE: 36.27348935134666\n",
            "2월 MAPE: 24.03727011456561\n",
            "3월 MAPE: 37.54767681858125\n",
            "4월 MAPE: 19.84464239831236\n",
            "5월 MAPE: 24.208179322533102\n",
            "6월 MAPE: 17.430502362525427\n",
            "7월 MAPE: 18.816211378198982\n",
            "8월 MAPE: 23.057249479014313\n",
            "9월 MAPE: 32.514350113090046\n",
            "10월 MAPE: 21.453109330810484\n",
            "11월 MAPE: 22.340147638166226\n",
            "12월 MAPE: 45.607193166127715\n",
            "===== start training 가전 =====\n",
            "1월 MAPE: 62.65258431603608\n",
            "2월 MAPE: 51.94910079075626\n",
            "3월 MAPE: 49.13436474233977\n",
            "4월 MAPE: 50.766474494721734\n",
            "5월 MAPE: 59.270633712732376\n",
            "6월 MAPE: 63.084003575931426\n",
            "7월 MAPE: 47.72672545285168\n",
            "8월 MAPE: 51.30619385211575\n",
            "9월 MAPE: 48.050343887519126\n",
            "10월 MAPE: 44.68039342210359\n",
            "11월 MAPE: 55.546211763653865\n",
            "12월 MAPE: 51.38700652232113\n",
            "===== start training 주방 =====\n",
            "1월 MAPE: 76.5009894086292\n",
            "2월 MAPE: 47.944783160786955\n",
            "3월 MAPE: 51.53132189386403\n",
            "4월 MAPE: 50.92007217229484\n",
            "5월 MAPE: 55.053926354041614\n",
            "6월 MAPE: 31.36667649309138\n",
            "7월 MAPE: 40.86293721168504\n",
            "8월 MAPE: 37.041680683450586\n",
            "9월 MAPE: 32.79971095047875\n",
            "10월 MAPE: 48.017026768782145\n",
            "11월 MAPE: 40.09244426681477\n",
            "12월 MAPE: 44.04180901935563\n"
          ],
          "name": "stdout"
        }
      ]
    }
  ]
}