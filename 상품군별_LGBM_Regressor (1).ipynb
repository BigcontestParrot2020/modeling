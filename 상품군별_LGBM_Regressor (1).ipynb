{
  "nbformat": 4,
  "nbformat_minor": 0,
  "metadata": {
    "colab": {
      "name": "상품군별 LGBM Regressor",
      "provenance": [],
      "collapsed_sections": [],
      "toc_visible": true
    },
    "kernelspec": {
      "name": "python3",
      "display_name": "Python 3"
    }
  },
  "cells": [
    {
      "cell_type": "code",
      "metadata": {
        "id": "9oXZd8IEoJOr",
        "colab_type": "code",
        "colab": {
          "base_uri": "https://localhost:8080/",
          "height": 73
        },
        "outputId": "7a310328-ca4d-4c57-e44c-ff392276089a"
      },
      "source": [
        "import os\n",
        "import numpy as np\n",
        "import pandas as pd\n",
        "import matplotlib.pyplot as plt\n",
        "import seaborn as sns\n",
        "import datetime as dt\n",
        "\n",
        "plt.style.use('seaborn-whitegrid')"
      ],
      "execution_count": 1,
      "outputs": [
        {
          "output_type": "stream",
          "text": [
            "/usr/local/lib/python3.6/dist-packages/statsmodels/tools/_testing.py:19: FutureWarning: pandas.util.testing is deprecated. Use the functions in the public API at pandas.testing instead.\n",
            "  import pandas.util.testing as tm\n"
          ],
          "name": "stderr"
        }
      ]
    },
    {
      "cell_type": "code",
      "metadata": {
        "id": "nz6KEt61cKuV",
        "colab_type": "code",
        "colab": {}
      },
      "source": [
        "from lightgbm import LGBMRegressor"
      ],
      "execution_count": 34,
      "outputs": []
    },
    {
      "cell_type": "code",
      "metadata": {
        "id": "fNrzSVMOdykG",
        "colab_type": "code",
        "colab": {}
      },
      "source": [
        "from sklearn.preprocessing import LabelEncoder\n",
        "from sklearn.preprocessing import OneHotEncoder\n",
        "\n",
        "from sklearn.preprocessing import MinMaxScaler\n",
        "from sklearn.feature_extraction.text import CountVectorizer"
      ],
      "execution_count": 2,
      "outputs": []
    },
    {
      "cell_type": "code",
      "metadata": {
        "id": "WBfIQh2tMn7u",
        "colab_type": "code",
        "colab": {
          "base_uri": "https://localhost:8080/",
          "height": 125
        },
        "outputId": "b3f54d03-b5f4-4f1b-88d7-c435b7471b96"
      },
      "source": [
        "!git clone https://github.com/BigcontestParrot2020/csv.git"
      ],
      "execution_count": 3,
      "outputs": [
        {
          "output_type": "stream",
          "text": [
            "Cloning into 'csv'...\n",
            "remote: Enumerating objects: 9, done.\u001b[K\n",
            "remote: Counting objects: 100% (9/9), done.\u001b[K\n",
            "remote: Compressing objects: 100% (7/7), done.\u001b[K\n",
            "remote: Total 9 (delta 2), reused 0 (delta 0), pack-reused 0\u001b[K\n",
            "Unpacking objects: 100% (9/9), done.\n"
          ],
          "name": "stdout"
        }
      ]
    },
    {
      "cell_type": "code",
      "metadata": {
        "id": "9gEDgGKubkDl",
        "colab_type": "code",
        "colab": {}
      },
      "source": [
        "os.chdir('csv/')"
      ],
      "execution_count": 16,
      "outputs": []
    },
    {
      "cell_type": "code",
      "metadata": {
        "id": "YzpV_ym-bOPK",
        "colab_type": "code",
        "colab": {
          "base_uri": "https://localhost:8080/",
          "height": 305
        },
        "outputId": "cb702208-dade-48a6-b507-2afdc5a8ca81"
      },
      "source": [
        "!apt install fonts-nanum\n",
        "\n",
        "import matplotlib as mpl\n",
        "import matplotlib.font_manager as fm\n",
        "\n",
        "fontpath = '/usr/share/fonts/truetype/nanum/NanumBarunGothic.ttf'\n",
        "font = fm.FontProperties(fname=fontpath, size=9)\n",
        "plt.rc('font', family='NanumBarunGothic') \n",
        "mpl.font_manager._rebuild()"
      ],
      "execution_count": 4,
      "outputs": [
        {
          "output_type": "stream",
          "text": [
            "Reading package lists... Done\n",
            "Building dependency tree       \n",
            "Reading state information... Done\n",
            "The following NEW packages will be installed:\n",
            "  fonts-nanum\n",
            "0 upgraded, 1 newly installed, 0 to remove and 11 not upgraded.\n",
            "Need to get 9,604 kB of archives.\n",
            "After this operation, 29.5 MB of additional disk space will be used.\n",
            "Get:1 http://archive.ubuntu.com/ubuntu bionic/universe amd64 fonts-nanum all 20170925-1 [9,604 kB]\n",
            "Fetched 9,604 kB in 1s (8,745 kB/s)\n",
            "Selecting previously unselected package fonts-nanum.\n",
            "(Reading database ... 144676 files and directories currently installed.)\n",
            "Preparing to unpack .../fonts-nanum_20170925-1_all.deb ...\n",
            "Unpacking fonts-nanum (20170925-1) ...\n",
            "Setting up fonts-nanum (20170925-1) ...\n",
            "Processing triggers for fontconfig (2.12.6-0ubuntu2) ...\n"
          ],
          "name": "stdout"
        }
      ]
    },
    {
      "cell_type": "code",
      "metadata": {
        "id": "zF9-zUYcY5Ff",
        "colab_type": "code",
        "colab": {}
      },
      "source": [
        "data = pd.read_csv('0918_ver.csv', encoding = 'utf-8', index_col = 0).iloc[:,1:]\n",
        "data = data.dropna()\n",
        "\n",
        "del data['마더코드']\n",
        "del data['상품코드']\n",
        "del data['평균단가']\n",
        "del data['년']\n",
        "del data['분']\n",
        "del data['소비층']"
      ],
      "execution_count": 17,
      "outputs": []
    },
    {
      "cell_type": "code",
      "metadata": {
        "id": "3__DFAFQg0Ll",
        "colab_type": "code",
        "colab": {}
      },
      "source": [
        "data['취급액_로그'] = np.log(data.취급액)\n",
        "data = data.drop(columns = ['취급액'])"
      ],
      "execution_count": 18,
      "outputs": []
    },
    {
      "cell_type": "code",
      "metadata": {
        "id": "c06MLZQhwSRk",
        "colab_type": "code",
        "colab": {
          "base_uri": "https://localhost:8080/",
          "height": 354
        },
        "outputId": "fc78f6fa-68be-402b-f546-071a6e6cb1a3"
      },
      "source": [
        "data.head()"
      ],
      "execution_count": 38,
      "outputs": [
        {
          "output_type": "execute_result",
          "data": {
            "text/html": [
              "<div>\n",
              "<style scoped>\n",
              "    .dataframe tbody tr th:only-of-type {\n",
              "        vertical-align: middle;\n",
              "    }\n",
              "\n",
              "    .dataframe tbody tr th {\n",
              "        vertical-align: top;\n",
              "    }\n",
              "\n",
              "    .dataframe thead th {\n",
              "        text-align: right;\n",
              "    }\n",
              "</style>\n",
              "<table border=\"1\" class=\"dataframe\">\n",
              "  <thead>\n",
              "    <tr style=\"text-align: right;\">\n",
              "      <th></th>\n",
              "      <th>상품명</th>\n",
              "      <th>상품군</th>\n",
              "      <th>판매단가</th>\n",
              "      <th>월</th>\n",
              "      <th>일</th>\n",
              "      <th>시</th>\n",
              "      <th>요일</th>\n",
              "      <th>휴일</th>\n",
              "      <th>프라임</th>\n",
              "      <th>First</th>\n",
              "      <th>Middle</th>\n",
              "      <th>Last</th>\n",
              "      <th>취급액_로그</th>\n",
              "      <th>세일</th>\n",
              "      <th>결제유형</th>\n",
              "      <th>성별</th>\n",
              "      <th>원플원</th>\n",
              "    </tr>\n",
              "    <tr>\n",
              "      <th>방송일시</th>\n",
              "      <th></th>\n",
              "      <th></th>\n",
              "      <th></th>\n",
              "      <th></th>\n",
              "      <th></th>\n",
              "      <th></th>\n",
              "      <th></th>\n",
              "      <th></th>\n",
              "      <th></th>\n",
              "      <th></th>\n",
              "      <th></th>\n",
              "      <th></th>\n",
              "      <th></th>\n",
              "      <th></th>\n",
              "      <th></th>\n",
              "      <th></th>\n",
              "      <th></th>\n",
              "    </tr>\n",
              "  </thead>\n",
              "  <tbody>\n",
              "    <tr>\n",
              "      <th>2019-01-01 06:00:00</th>\n",
              "      <td>테이트 셀린니트</td>\n",
              "      <td>의류</td>\n",
              "      <td>39900</td>\n",
              "      <td>1</td>\n",
              "      <td>1</td>\n",
              "      <td>6</td>\n",
              "      <td>Tuesday</td>\n",
              "      <td>2</td>\n",
              "      <td>4</td>\n",
              "      <td>1.0</td>\n",
              "      <td>0.0</td>\n",
              "      <td>0.0</td>\n",
              "      <td>14.556972</td>\n",
              "      <td>0</td>\n",
              "      <td>0</td>\n",
              "      <td>1</td>\n",
              "      <td>0</td>\n",
              "    </tr>\n",
              "    <tr>\n",
              "      <th>2019-01-01 06:00:00</th>\n",
              "      <td>테이트 셀린니트</td>\n",
              "      <td>의류</td>\n",
              "      <td>39900</td>\n",
              "      <td>1</td>\n",
              "      <td>1</td>\n",
              "      <td>6</td>\n",
              "      <td>Tuesday</td>\n",
              "      <td>2</td>\n",
              "      <td>4</td>\n",
              "      <td>1.0</td>\n",
              "      <td>0.0</td>\n",
              "      <td>0.0</td>\n",
              "      <td>15.290502</td>\n",
              "      <td>0</td>\n",
              "      <td>0</td>\n",
              "      <td>2</td>\n",
              "      <td>0</td>\n",
              "    </tr>\n",
              "    <tr>\n",
              "      <th>2019-01-01 06:20:00</th>\n",
              "      <td>테이트 셀린니트</td>\n",
              "      <td>의류</td>\n",
              "      <td>39900</td>\n",
              "      <td>1</td>\n",
              "      <td>1</td>\n",
              "      <td>6</td>\n",
              "      <td>Tuesday</td>\n",
              "      <td>2</td>\n",
              "      <td>4</td>\n",
              "      <td>0.0</td>\n",
              "      <td>1.0</td>\n",
              "      <td>0.0</td>\n",
              "      <td>14.997851</td>\n",
              "      <td>0</td>\n",
              "      <td>0</td>\n",
              "      <td>1</td>\n",
              "      <td>0</td>\n",
              "    </tr>\n",
              "    <tr>\n",
              "      <th>2019-01-01 06:20:00</th>\n",
              "      <td>테이트 셀린니트</td>\n",
              "      <td>의류</td>\n",
              "      <td>39900</td>\n",
              "      <td>1</td>\n",
              "      <td>1</td>\n",
              "      <td>6</td>\n",
              "      <td>Tuesday</td>\n",
              "      <td>2</td>\n",
              "      <td>4</td>\n",
              "      <td>0.0</td>\n",
              "      <td>1.0</td>\n",
              "      <td>0.0</td>\n",
              "      <td>15.754971</td>\n",
              "      <td>0</td>\n",
              "      <td>0</td>\n",
              "      <td>2</td>\n",
              "      <td>0</td>\n",
              "    </tr>\n",
              "    <tr>\n",
              "      <th>2019-01-01 06:40:00</th>\n",
              "      <td>테이트 셀린니트</td>\n",
              "      <td>의류</td>\n",
              "      <td>39900</td>\n",
              "      <td>1</td>\n",
              "      <td>1</td>\n",
              "      <td>6</td>\n",
              "      <td>Tuesday</td>\n",
              "      <td>2</td>\n",
              "      <td>4</td>\n",
              "      <td>0.0</td>\n",
              "      <td>0.0</td>\n",
              "      <td>1.0</td>\n",
              "      <td>15.713430</td>\n",
              "      <td>0</td>\n",
              "      <td>0</td>\n",
              "      <td>1</td>\n",
              "      <td>0</td>\n",
              "    </tr>\n",
              "  </tbody>\n",
              "</table>\n",
              "</div>"
            ],
            "text/plain": [
              "                          상품명 상품군   판매단가  월  일  ...     취급액_로그 세일  결제유형  성별  원플원\n",
              "방송일시                                            ...                             \n",
              "2019-01-01 06:00:00  테이트 셀린니트  의류  39900  1  1  ...  14.556972  0     0   1    0\n",
              "2019-01-01 06:00:00  테이트 셀린니트  의류  39900  1  1  ...  15.290502  0     0   2    0\n",
              "2019-01-01 06:20:00  테이트 셀린니트  의류  39900  1  1  ...  14.997851  0     0   1    0\n",
              "2019-01-01 06:20:00  테이트 셀린니트  의류  39900  1  1  ...  15.754971  0     0   2    0\n",
              "2019-01-01 06:40:00  테이트 셀린니트  의류  39900  1  1  ...  15.713430  0     0   1    0\n",
              "\n",
              "[5 rows x 17 columns]"
            ]
          },
          "metadata": {
            "tags": []
          },
          "execution_count": 38
        }
      ]
    },
    {
      "cell_type": "markdown",
      "metadata": {
        "id": "IYp6YY0LRSh6",
        "colab_type": "text"
      },
      "source": [
        "## Define Functions"
      ]
    },
    {
      "cell_type": "code",
      "metadata": {
        "id": "RZ-mDRixQ_FO",
        "colab_type": "code",
        "colab": {}
      },
      "source": [
        "import re\n",
        "\n",
        "def max_words(goods_kind):\n",
        "    words = ' '.join(list(data[data.상품군 == goods_kind].상품명.values))\n",
        "\n",
        "    words = re.split(r'[+ ]', words)\n",
        "    words = list(filter(lambda x: x != '', words))\n",
        "    word_count = {}\n",
        "    for word in set(words):\n",
        "        count = words.count(word)\n",
        "        word_count.update({word:count})\n",
        "        \n",
        "    return word_count"
      ],
      "execution_count": 7,
      "outputs": []
    },
    {
      "cell_type": "code",
      "metadata": {
        "id": "BCbDLVX5chHW",
        "colab_type": "code",
        "colab": {}
      },
      "source": [
        "def mean_absolute_percentage_error(y_true, y_pred): \n",
        "    y_true, y_pred = np.array(y_true), np.array(y_pred)\n",
        "    return np.mean(np.abs((y_true - y_pred) / y_true)) * 100"
      ],
      "execution_count": 8,
      "outputs": []
    },
    {
      "cell_type": "code",
      "metadata": {
        "id": "iYwn6wTkTz3Z",
        "colab_type": "code",
        "colab": {}
      },
      "source": [
        "def train_df(group_name, max_features):\n",
        "    group_df = data[data.상품군 == group_name]\n",
        "\n",
        "    # Apply CountVectorizer with preprocessed 상품명\n",
        "    words = ' '.join(list(group_df.상품명.dropna().values))\n",
        "    words = re.split(r'[()+ ]', words)\n",
        "    words = list(filter(lambda x: x != '', words))\n",
        "\n",
        "    vect = CountVectorizer(max_features = max_features)\n",
        "    vect.fit(words)\n",
        "\n",
        "    # merge base dataframe with word-embedding dataframe\n",
        "    df = pd.DataFrame(np.stack(group_df.상품명.map(lambda x: vect.transform(x.split()).toarray().sum(axis=0)).values),\n",
        "                      columns=vect.get_feature_names(),\n",
        "                      index = group_df.index)\n",
        "    df = pd.concat([group_df, df], axis=1)\n",
        "    df = df.drop(columns = ['상품명','상품군'])\n",
        "\n",
        "    # LabelEncoder\n",
        "    LE_요일 = LabelEncoder()\n",
        "    df.요일 = LE_요일.fit_transform(df.요일)\n",
        "\n",
        "    return df"
      ],
      "execution_count": 9,
      "outputs": []
    },
    {
      "cell_type": "code",
      "metadata": {
        "id": "DgS9NjtXPhX-",
        "colab_type": "code",
        "colab": {}
      },
      "source": [
        "mmscaler = MinMaxScaler()\n",
        "\n",
        "def LGBM_train(df):\n",
        "    month = list(set(df.월))\n",
        "\n",
        "    raw_x = df.drop(columns=['취급액_로그'])\n",
        "    raw_y = df[['취급액_로그','월']]\n",
        "\n",
        "    cv_test = {}\n",
        "    cv_predict = {}\n",
        "    cv_scores = {}\n",
        "    cv_models = {}\n",
        "\n",
        "    for m in month:\n",
        "\n",
        "        try:\n",
        "            test_x = raw_x[raw_x.월 == m].drop(columns = ['월'])\n",
        "            test_y = raw_y[raw_y.월 == m].취급액_로그\n",
        "            train_x = raw_x.drop(index = test_x.index, columns = ['월'])\n",
        "            train_y = raw_y.drop(index = test_y.index).취급액_로그\n",
        "        \n",
        "            test_x = mmscaler.fit_transform(test_x)\n",
        "            train_x = mmscaler.fit_transform(train_x)\n",
        "\n",
        "            train_y = train_y.to_numpy().reshape(-1)\n",
        "            test_y = test_y.to_numpy().reshape(-1)\n",
        "            \n",
        "            lgb = LGBMRegressor(n_estimators = 5000, num_leaves = 500)\n",
        "            lgb.fit(train_x, train_y,\n",
        "                    early_stopping_rounds=1000,\n",
        "                    eval_set = [(test_x, test_y)],\n",
        "                    eval_metric = 'mape',\n",
        "                    verbose = False)\n",
        "            predict_test = lgb.predict(test_x)\n",
        "\n",
        "            test_y = np.exp(test_y)\n",
        "            predict_test = np.exp(predict_test)\n",
        "\n",
        "            cv_test.update({m:test_y})\n",
        "            cv_predict.update({m: predict_test})\n",
        "\n",
        "            mape = mean_absolute_percentage_error(test_y, predict_test)\n",
        "            print(f'{m}월 MAPE:', mape)\n",
        "\n",
        "            cv_scores.update({m:mape})\n",
        "            cv_models.update({m:lgb})\n",
        "      \n",
        "        except ValueError:\n",
        "            print(f'{m}월 MAPE: No Value')\n",
        "            cv_scores.update({m:'no value'})\n",
        "            cv_models.update({m:'no value'})\n",
        "\n",
        "    return cv_scores, cv_models, cv_test, cv_predict"
      ],
      "execution_count": 10,
      "outputs": []
    },
    {
      "cell_type": "code",
      "metadata": {
        "id": "v4FpdA-VQ48z",
        "colab_type": "code",
        "colab": {}
      },
      "source": [
        "def plot_result(test_dict, predict_dict, scores_dict):\n",
        "    fig,  ax = plt.subplots(2,6, figsize = (15, 5))\n",
        "    for i in range(12):\n",
        "        x = i//6\n",
        "        y = i%6\n",
        "        ax[x, y].plot(test_dict[i+1], predict_dict[i+1], linestyle = '', marker = 'o')\n",
        "        ax[x, y].plot(test_dict[i+1], test_dict[i+1], color = 'r')\n",
        "        ax[x, y].set_title(f'{i+1}: MAPE {round(scores_dict[i+1],2)}')"
      ],
      "execution_count": 11,
      "outputs": []
    },
    {
      "cell_type": "markdown",
      "metadata": {
        "id": "wj-vow5IRZhk",
        "colab_type": "text"
      },
      "source": [
        "## Preprocessing"
      ]
    },
    {
      "cell_type": "code",
      "metadata": {
        "id": "ZmXWPyTKbXcb",
        "colab_type": "code",
        "colab": {}
      },
      "source": [
        "# 세일 문구\n",
        "data['세일'] = data.상품명.map(lambda x: 1 if '세일' in x else 0)\n",
        "data.상품명 = data.상품명.str.replace('세일', '', regex = False)"
      ],
      "execution_count": 19,
      "outputs": []
    },
    {
      "cell_type": "code",
      "metadata": {
        "id": "sNc6ASiRV6JI",
        "colab_type": "code",
        "colab": {}
      },
      "source": [
        "## 일시불 : 0\n",
        "## 무이자 : 1\n",
        "\n",
        "\n",
        "data.상품명 = data.상품명.str.replace('(무)', '무이자', regex = False)\n",
        "data.상품명 = data.상품명.str.replace('무)', '무이자', regex = False)\n",
        "data.상품명 = data.상품명.str.replace('무이자', ' 무이자 ', regex = False)\n",
        "data.상품명 = data.상품명.str.replace('(일)', '일시불', regex = False)\n",
        "data.상품명 = data.상품명.str.replace('일)', '일시불', regex = False)\n",
        "data.상품명 = data.상품명.str.replace('일시불', ' 일시불 ', regex = False)\n",
        "\n",
        "def type(x):\n",
        "    if '일시불' in x:\n",
        "        return 1\n",
        "    if '무이자' in x:\n",
        "        return 2\n",
        "    else:\n",
        "        return 0\n",
        "\n",
        "data['결제유형'] = data.상품명.map(lambda x: type(x))\n",
        "\n",
        "data.상품명 = data.상품명.str.replace('무이자', '', regex = False)\n",
        "data.상품명 = data.상품명.str.replace('일시불', '', regex = False)"
      ],
      "execution_count": 20,
      "outputs": []
    },
    {
      "cell_type": "code",
      "metadata": {
        "id": "a9QIVmqWauLJ",
        "colab_type": "code",
        "colab": {}
      },
      "source": [
        "# 괄호\n",
        "data.상품명 = data.상품명.str.replace('[', ' ', regex = False)\n",
        "data.상품명 = data.상품명.str.replace(']', ' ', regex = False)\n",
        "data.상품명 = data.상품명.str.replace('(', ' ', regex = False)\n",
        "data.상품명 = data.상품명.str.replace(')', ' ', regex = False)"
      ],
      "execution_count": 21,
      "outputs": []
    },
    {
      "cell_type": "code",
      "metadata": {
        "id": "azXonoP-XNjZ",
        "colab_type": "code",
        "colab": {}
      },
      "source": [
        "## 남성 : 1\n",
        "## 여성 : 2\n",
        "\n",
        "data.상품명 = data.상품명.str.replace('남성용', '남성', regex = False)\n",
        "data.상품명 = data.상품명.str.replace('남성', ' 남성 ', regex = False)\n",
        "data.상품명 = data.상품명.str.replace('여성용', '여성', regex = False)\n",
        "data.상품명 = data.상품명.str.replace('여성', ' 여성 ', regex = False)\n",
        "\n",
        "def sex(x):\n",
        "    if '남성' in x:\n",
        "        return 1\n",
        "    if '여성' in x:\n",
        "        return 2\n",
        "    else:\n",
        "        return 0\n",
        "\n",
        "data['성별'] = data.상품명.map(lambda x: sex(x))\n",
        "\n",
        "data.상품명 = data.상품명.str.replace('남성', '', regex = False)\n",
        "data.상품명 = data.상품명.str.replace('여성', '', regex = False)"
      ],
      "execution_count": 22,
      "outputs": []
    },
    {
      "cell_type": "code",
      "metadata": {
        "id": "eyB8cERFD067",
        "colab_type": "code",
        "colab": {}
      },
      "source": [
        "# 연도\n",
        "data.상품명 = data.상품명.str.replace('2018년', '')\n",
        "data.상품명 = data.상품명.str.replace('2018', '')\n",
        "data.상품명 = data.상품명.str.replace('2019년', '')\n",
        "data.상품명 = data.상품명.str.replace('2019', '')\n",
        "data.상품명 = data.상품명.str.replace('19년', '')\n",
        "data.상품명 = data.상품명.str.replace('19', '')"
      ],
      "execution_count": 23,
      "outputs": []
    },
    {
      "cell_type": "code",
      "metadata": {
        "id": "-k8ZsqJ6Inj3",
        "colab_type": "code",
        "colab": {}
      },
      "source": [
        "data.상품명 = data.상품명.str.replace(r'\\d+[월]', '',)\n",
        "data.상품명 = data.상품명.str.replace(r'\\d+[차]', '',)\n",
        "data.상품명 = data.상품명.str.replace(r'[시][즌]\\d+', '',)\n",
        "data.상품명 = data.상품명.str.replace(r'[시][즌] \\d+', '',)\n",
        "\n",
        "data.상품명 = data.상품명.str.replace(r'\\d+[.]\\d+[k][g]', '',)\n",
        "data.상품명 = data.상품명.str.replace(r'\\d+[k][g]', '',)\n",
        "data.상품명 = data.상품명.str.replace(r'\\d+[.]\\d+[g]', '',)\n",
        "data.상품명 = data.상품명.str.replace(r'\\d+[g]', '',)\n",
        "data.상품명 = data.상품명.str.replace(r'\\d+[.]\\d+[L]', '',)\n",
        "data.상품명 = data.상품명.str.replace(r'\\d+[L]', '',)\n",
        "data.상품명 = data.상품명.str.replace(r'\\d+[.]\\d+[리][터]', '',)\n",
        "data.상품명 = data.상품명.str.replace(r'\\d+[리][터]', '',)\n",
        "data.상품명 = data.상품명.str.replace(r'\\d+[.]\\d+[m]', '',)\n",
        "data.상품명 = data.상품명.str.replace(r'\\d+[m]', '',)\n",
        "\n",
        "data.상품명 = data.상품명.str.replace(r'\\d+[팩]', '',)\n",
        "data.상품명 = data.상품명.str.replace(r'\\d+[박][스]', '',)\n",
        "data.상품명 = data.상품명.str.replace(r'\\d+[미]', '')\n",
        "data.상품명 = data.상품명.str.replace(r'\\d+[개]', '')\n",
        "data.상품명 = data.상품명.str.replace(r'\\d+[포]', '')\n",
        "data.상품명 = data.상품명.str.replace(r'\\d+[마][리]', '')"
      ],
      "execution_count": 24,
      "outputs": []
    },
    {
      "cell_type": "code",
      "metadata": {
        "id": "NpZ7rad4gwqk",
        "colab_type": "code",
        "colab": {}
      },
      "source": [
        "data.상품명 = data.상품명.str.replace(r'\\d+[인][용]', '',)\n",
        "data.상품명 = data.상품명.str.replace(r'\\d+[종]', '',)"
      ],
      "execution_count": 25,
      "outputs": []
    },
    {
      "cell_type": "code",
      "metadata": {
        "id": "1666Uhppu5Y0",
        "colab_type": "code",
        "colab": {}
      },
      "source": [
        "data['원플원'] = data.상품명.str.contains('1+1', regex = False)\n",
        "data['원플원'] = data.원플원.map(lambda x: 1 if x == True else 0)\n",
        "data.상품명 = data.상품명.str.replace('1+1', '', regex = False)"
      ],
      "execution_count": 26,
      "outputs": []
    },
    {
      "cell_type": "code",
      "metadata": {
        "id": "INz4wfL5i0dI",
        "colab_type": "code",
        "colab": {}
      },
      "source": [
        "#data['종'] = data.상품명.str.extract(r'(\\d+)[종]').fillna(0)\n",
        "# data['종'] = data.종.map(lambda x: int(x) if x != 0 else 0)\n",
        "\n",
        "\n",
        "# data['세트'] = data.상품명.str.extract(r'(\\d+)[세트]').fillna(0)\n",
        "# data['세트'] = data.세트.map(lambda x: int(x) if x != 0 else 0)\n",
        "\n",
        "# data.상품명 = data.상품명.str.replace(r'\\d+[세][트]', '',)\n",
        "\n",
        "# data['n종세트'] = data.종 +data.세트"
      ],
      "execution_count": 27,
      "outputs": []
    },
    {
      "cell_type": "code",
      "metadata": {
        "id": "MbwkrAjmg_CY",
        "colab_type": "code",
        "colab": {}
      },
      "source": [
        "## 에디션\n",
        "data.상품명 = data.상품명.str.replace('블랙 에디션', '')\n",
        "data.상품명 = data.상품명.str.replace('에디션', '')\n",
        "\n",
        "## 초특가\n",
        "data.상품명 = data.상품명.str.replace('초특가', '') #?"
      ],
      "execution_count": 28,
      "outputs": []
    },
    {
      "cell_type": "markdown",
      "metadata": {
        "id": "1GFdSIsarFrK",
        "colab_type": "text"
      },
      "source": [
        "# 상품명 전처리"
      ]
    },
    {
      "cell_type": "markdown",
      "metadata": {
        "id": "mfNccRZ-_6mA",
        "colab_type": "text"
      },
      "source": [
        "## 주방"
      ]
    },
    {
      "cell_type": "code",
      "metadata": {
        "id": "9Dta8Su9AFK5",
        "colab_type": "code",
        "colab": {}
      },
      "source": [
        "data.상품명 = data.상품명.str.replace('쿠첸', ' 쿠첸 ')\n",
        "data.상품명 = data.상품명.str.replace('쿠쿠', ' 쿠쿠 ')\n",
        "\n",
        "# 쿠쿠전기밥솥\n",
        "data.상품명 = data.상품명.str.replace('도냄', '', regex = False)\n",
        "data.상품명 = data.상품명.str.replace('CRP-QS107FG/FS', '', regex = False)\n",
        "data.상품명 = data.상품명.str.replace('CRP-107FG/FS', '', regex = False)\n",
        "data.상품명 = data.상품명.str.replace('QS', '', regex = False) \n",
        "data.상품명 = data.상품명.str.replace('블랙스톤', '', regex = False) \n",
        "\n",
        "# 쿠첸 압력밥솥\n",
        "data.상품명 = data.상품명.str.replace('풀스텐', '', regex = False)\n",
        "data.상품명 = data.상품명.str.replace('A1', '', regex = False)\n",
        "data.상품명 = data.상품명.str.replace(' 쿠 ', '', regex = False)\n",
        "data.상품명 = data.상품명.str.replace('신제품', '', regex = False)\n",
        "\n",
        "# 린나이 가스레인지\n",
        "data.상품명 = data.상품명.str.replace('자동불꽃조절', '')\n",
        "data.상품명 = data.상품명.str.replace('간편쿡', '')\n",
        "data.상품명 = data.상품명.str.replace('2구', '')\n",
        "data.상품명 = data.상품명.str.replace('3구', '')\n",
        "\n",
        "# 에코라믹\n",
        "data.상품명 = data.상품명.str.replace('냄비세트', ' 냄비 세트')\n",
        "data.상품명 = data.상품명.str.replace('프라이팬세트', ' 프라이팬 세트')\n",
        "data.상품명 = data.상품명.str.replace('통주물', ' ')\n",
        "data.상품명 = data.상품명.str.replace('스톤', ' ')\n",
        "\n",
        "# 후라이팬\n",
        "data.상품명 = data.상품명.str.replace('후라이팬', ' 프라이팬 ')\n",
        "\n",
        "# 에어프라이어\n",
        "data.상품명 = data.상품명.str.replace('대용량', '')\n",
        "data.상품명 = data.상품명.str.replace('디지털', '')\n",
        "data.상품명 = data.상품명.str.replace('듀얼쿡', '')\n",
        "\n",
        "\n",
        "data.상품명 = data.상품명.str.replace('가스와이드그릴레인지', '가스와이드그릴')\n",
        "data.상품명 = data.상품명.str.replace('스텐큐브', '')\n",
        "data.상품명 = data.상품명.str.replace('멀티쿡', '멀티쿠커')\n",
        "data.상품명 = data.상품명.str.replace('팬지', '')\n",
        "\n",
        "# 도마\n",
        "data.상품명 = data.상품명.str.replace('도마', ' 도마 ')\n",
        "\n",
        "data.상품명 = data.상품명.str.replace('대용량', '')\n",
        "\n",
        "# 재질\n",
        "data.상품명 = data.상품명.str.replace('스텐', ' 스텐 ')\n",
        "data.상품명 = data.상품명.str.replace('유리', ' 유리 ')\n",
        "\n",
        "data.상품명 = data.상품명.str.replace('밀폐용기', ' 밀폐용기')\n",
        "data.상품명 = data.상품명.str.replace('플랫타입', '')\n",
        "\n",
        "data.상품명 = data.상품명.str.replace('멀티', '')\n",
        "\n",
        "data.상품명 = data.상품명.str.replace('만능', '')\n",
        "\n",
        "def kitchen(x):\n",
        "    if x.상품군 == '주방':\n",
        "        x.상품명 = x.상품명.replace('옛', '')\n",
        "        x.상품명 = x.상품명.replace('멀티', '')\n",
        "        x.상품명 = x.상품명.replace('크로커다일', '')\n",
        "    else:\n",
        "        x.상품명 = x.상품명\n",
        "    return x\n",
        "\n",
        "data = data.apply(lambda x: kitchen(x), axis = 1)\n",
        "\n",
        "data.상품명 = data.상품명.str.replace(' +', ' ')\n",
        "data.상품명 = data.상품명.str.lstrip()\n",
        "data.상품명 = data.상품명.str.rstrip()"
      ],
      "execution_count": 29,
      "outputs": []
    },
    {
      "cell_type": "code",
      "metadata": {
        "id": "N-csemPsvNyx",
        "colab_type": "code",
        "colab": {
          "base_uri": "https://localhost:8080/",
          "height": 35
        },
        "outputId": "79aa0831-e759-471a-fa53-899c05a308f5"
      },
      "source": [
        "set(data[data.상품명.str.contains('플랫')].상품명)"
      ],
      "execution_count": 30,
      "outputs": [
        {
          "output_type": "execute_result",
          "data": {
            "text/plain": [
              "{'아가타 골든 마스터 펌프스+플랫슈즈', '아가타 올인원 앵클부츠+플랫슈즈', '아가타 컬러풀 앵클부츠+플랫슈즈'}"
            ]
          },
          "metadata": {
            "tags": []
          },
          "execution_count": 30
        }
      ]
    },
    {
      "cell_type": "code",
      "metadata": {
        "id": "Gvb9rV68tTAK",
        "colab_type": "code",
        "colab": {
          "base_uri": "https://localhost:8080/",
          "height": 737
        },
        "outputId": "a98f51a0-f168-4893-95a2-dc0fbbfff17a"
      },
      "source": [
        "word_count = max_words('주방')\n",
        "max_words_count = sorted(word_count.items(), key = lambda x: x[1], reverse = True)\n",
        "max_words_count[:40]"
      ],
      "execution_count": 31,
      "outputs": [
        {
          "output_type": "execute_result",
          "data": {
            "text/plain": [
              "[('쿠쿠', 1630),\n",
              " ('전기밥솥', 1620),\n",
              " ('쿠첸', 1318),\n",
              " ('압력밥솥', 1300),\n",
              " ('세트', 800),\n",
              " ('스텐', 618),\n",
              " ('린나이', 441),\n",
              " ('가스레인지', 441),\n",
              " ('분쇄믹서기', 401),\n",
              " ('한일', 401),\n",
              " ('가스와이드그릴', 390),\n",
              " ('올리고', 390),\n",
              " ('프라이팬', 389),\n",
              " ('프리미엄형', 385),\n",
              " ('냄비', 364),\n",
              " ('에어프라이어', 302),\n",
              " ('에코라믹', 288),\n",
              " ('파뷔에', 235),\n",
              " ('매직쉐프', 222),\n",
              " ('IH', 206),\n",
              " ('에지리', 168),\n",
              " ('키친플라워', 141),\n",
              " ('도마', 135),\n",
              " ('쿠커', 128),\n",
              " ('클란츠', 122),\n",
              " ('대형', 120),\n",
              " ('락앤락', 120),\n",
              " ('전자레인지', 120),\n",
              " ('항균', 115),\n",
              " ('해피콜', 114),\n",
              " ('아이넥스', 80),\n",
              " ('유로오븐글라스', 78),\n",
              " ('모즈', 69),\n",
              " ('밀폐용기', 67),\n",
              " ('진공', 63),\n",
              " ('키친아트', 60),\n",
              " ('행주티슈', 60),\n",
              " ('가마솥', 57),\n",
              " ('싱크선반', 56),\n",
              " ('올', 56)]"
            ]
          },
          "metadata": {
            "tags": []
          },
          "execution_count": 31
        }
      ]
    },
    {
      "cell_type": "code",
      "metadata": {
        "id": "0GpEvPExZT4O",
        "colab_type": "code",
        "colab": {}
      },
      "source": [
        "# data_주방 = data[data.상품군 == '주방']\n",
        "# data_주방.index = pd.to_datetime(data_주방.index)\n",
        "\n",
        "# plot_df = data_주방.resample('30T').count()['취급액'].to_frame()\n",
        "# plot_df['요일'] = plot_df.index.strftime('%A')\n",
        "# plot_df['시간'] = plot_df.index.strftime('%H:%M')\n",
        "# plot_df['취급액'] = plot_df.취급액.map(lambda x: np.NaN if x == 0 else x)\n",
        "\n",
        "# plot_df = plot_df.groupby(['요일','시간']).count()\n",
        "\n",
        "# weekday =  list(set(plot_df.index.get_level_values(0)))\n",
        "# fig,  ax = plt.subplots(3,3, figsize = (15, 12))\n",
        "# for i in range(7):\n",
        "#     df_ = plot_df.loc[weekday[i]]\n",
        "#     x = i//3\n",
        "#     y = i%3\n",
        "#     df_.plot(ax = ax[x, y], marker = 'o', )\n",
        "#     ax[x, y].set_title(weekday[i])"
      ],
      "execution_count": 251,
      "outputs": []
    },
    {
      "cell_type": "code",
      "metadata": {
        "id": "xKQ2aAWnqJ2H",
        "colab_type": "code",
        "colab": {}
      },
      "source": [
        "df = train_df('주방', 39)"
      ],
      "execution_count": 32,
      "outputs": []
    },
    {
      "cell_type": "code",
      "metadata": {
        "id": "DEr48H9rqOK8",
        "colab_type": "code",
        "colab": {
          "base_uri": "https://localhost:8080/",
          "height": 233
        },
        "outputId": "5eb5ed43-3726-4612-9b33-3315d3f68cae"
      },
      "source": [
        "cv_scores, cv_models, cv_test, cv_predict = LGBM_train(df)"
      ],
      "execution_count": 35,
      "outputs": [
        {
          "output_type": "stream",
          "text": [
            "1월 MAPE: 93.95795677208801\n",
            "2월 MAPE: 86.43400464602703\n",
            "3월 MAPE: 98.71168052852074\n",
            "4월 MAPE: 65.03387165226377\n",
            "5월 MAPE: 94.64766927356578\n",
            "6월 MAPE: 52.99487531890611\n",
            "7월 MAPE: 71.44408502613119\n",
            "8월 MAPE: 71.75132208047205\n",
            "9월 MAPE: 67.86403919026598\n",
            "10월 MAPE: 67.73588646940945\n",
            "11월 MAPE: 67.24605762444311\n",
            "12월 MAPE: 62.32248750953975\n"
          ],
          "name": "stdout"
        }
      ]
    },
    {
      "cell_type": "code",
      "metadata": {
        "id": "uY4GR28sqZzA",
        "colab_type": "code",
        "colab": {
          "base_uri": "https://localhost:8080/",
          "height": 381
        },
        "outputId": "aa1e6a50-9cf0-40b9-c24b-9b6b09f91e7b"
      },
      "source": [
        "plot_result(cv_test, cv_predict, cv_scores)"
      ],
      "execution_count": 36,
      "outputs": [
        {
          "output_type": "stream",
          "text": [
            "findfont: Font family ['NanumBarunGothic'] not found. Falling back to DejaVu Sans.\n",
            "findfont: Font family ['NanumBarunGothic'] not found. Falling back to DejaVu Sans.\n"
          ],
          "name": "stderr"
        },
        {
          "output_type": "display_data",
          "data": {
            "image/png": "[encoded data removed]",
            "text/plain": [
              "<Figure size 1080x360 with 12 Axes>"
            ]
          },
          "metadata": {
            "tags": [],
            "needs_background": "light"
          }
        }
      ]
    },
    {
      "cell_type": "code",
      "metadata": {
        "id": "ZbJbXjnysPd1",
        "colab_type": "code",
        "colab": {
          "base_uri": "https://localhost:8080/",
          "height": 364
        },
        "outputId": "d46591c0-764b-4280-ebe4-ced7a559e812"
      },
      "source": [
        "f, ax = plt.subplots(figsize = (12,5))\n",
        "\n",
        "from lightgbm import plot_importance\n",
        "plot_importance(cv_models[12], ax, max_num_features=10)"
      ],
      "execution_count": 37,
      "outputs": [
        {
          "output_type": "execute_result",
          "data": {
            "text/plain": [
              "<matplotlib.axes._subplots.AxesSubplot at 0x7f580d77f080>"
            ]
          },
          "metadata": {
            "tags": []
          },
          "execution_count": 37
        },
        {
          "output_type": "display_data",
          "data": {
            "image/png": "[encoded data removed]",
            "text/plain": [
              "<Figure size 864x360 with 1 Axes>"
            ]
          },
          "metadata": {
            "tags": [],
            "needs_background": "light"
          }
        }
      ]
    },
    {
      "cell_type": "markdown",
      "metadata": {
        "id": "MfSkSJMr8bzk",
        "colab_type": "text"
      },
      "source": [
        "## 가전"
      ]
    },
    {
      "cell_type": "code",
      "metadata": {
        "id": "zhaDoixn8fh_",
        "colab_type": "code",
        "colab": {}
      },
      "source": [
        "## 가전\n",
        "data.상품명 = data.상품명.str.replace('LG전자', 'LG')\n",
        "data.상품명 = data.상품명.str.replace('LG', ' LG ')\n",
        "data.상품명 = data.상품명.str.replace('삼성', ' 삼성 ')\n",
        "\n",
        "# LG 휘센 에어컨\n",
        "data.상품명 = data.상품명.str.replace('휘센', '')\n",
        "data.상품명 = data.상품명.str.replace('싱큐', '')\n",
        "data.상품명 = data.상품명.str.replace('씽큐', '')\n",
        "data.상품명 = data.상품명.str.replace('위너', '')\n",
        "data.상품명 = data.상품명.str.replace('FQ17V9WWA1', '')\n",
        "data.상품명 = data.상품명.str.replace('FQ19V9KWA2', '')\n",
        "data.상품명 = data.상품명.str.replace('FQ17V9KWA2', '')\n",
        "data.상품명 = data.상품명.str.replace('FQ17V8WWJ2', '')\n",
        "data.상품명 = data.상품명.str.replace('FQ17V9KWA1', '')\n",
        "data.상품명 = data.상품명.str.replace('FQ19V9KWA1', '')\n",
        "data.상품명 = data.상품명.str.replace('FQ17V8WWJ1', '')\n",
        "\n",
        "# 삼성 UHD TV\n",
        "data.상품명 = data.상품명.str.replace('UHD', '')\n",
        "data.상품명 = data.상품명.str.replace('UN55NU7010FXKR', '55인치')\n",
        "data.상품명 = data.상품명.str.replace('UN65NU7010FXKR', '65인치')\n",
        "data.상품명 = data.상품명.str.replace('UN75NU7010FXKR', '75인치')\n",
        "data.상품명 = data.상품명.str.replace('UN55NU7050F', '55인치')\n",
        "data.상품명 = data.상품명.str.replace('UN65NU7050F', '65인치')\n",
        "data.상품명 = data.상품명.str.replace('UN75NU7050F', '75인치')\n",
        "data.상품명 = data.상품명.str.replace('UN55RU7150FXKR', '55인치')\n",
        "data.상품명 = data.상품명.str.replace('UN65RU7150FXKR', '65인치')\n",
        "data.상품명 = data.상품명.str.replace('UN75RU7150FXKR', '75인치')\n",
        "\n",
        "# LG 울트라HD TV \n",
        "data.상품명 = data.상품명.str.replace('울트라HD', '')\n",
        "data.상품명 = data.상품명.str.replace('55UK6800HNC', '55인치')\n",
        "data.상품명 = data.상품명.str.replace('55UM7900BNA', '55인치')\n",
        "data.상품명 = data.상품명.str.replace('65UK6800HNC', '65인치')\n",
        "data.상품명 = data.상품명.str.replace('65UM7900BNA', '65인치')\n",
        "data.상품명 = data.상품명.str.replace('70UK6800HNC', '70인치')\n",
        "data.상품명 = data.상품명.str.replace('70UK7400KNA', '70인치')\n",
        "data.상품명 = data.상품명.str.replace('75UK6200KNB', '75인치')\n",
        "data.상품명 = data.상품명.str.replace('75UK7400KNA', '75인치')\n",
        "data.상품명 = data.상품명.str.replace('75UM7900BNA', '75인치')\n",
        "\n",
        "data.상품명 = data.상품명.str.replace('55인치', ' 55인치 ')\n",
        "data.상품명 = data.상품명.str.replace('65인치', ' 65인치 ')\n",
        "data.상품명 = data.상품명.str.replace('75인치', ' 75인치 ')\n",
        "data.상품명 = data.상품명.str.replace('70인치', ' 70인치 ')\n",
        "\n",
        "\n",
        "# 삼성 엑티브워시 세탁기\n",
        "data.상품명 = data.상품명.str.replace('엑티브워시', '')\n",
        "data.상품명 = data.상품명.str.replace('WA14N6781TG', '')\n",
        "\n",
        "# 삼성 노트북 9 메탈\n",
        "data.상품명 = data.상품명.str.replace('9 메탈', '')\n",
        "data.상품명 = data.상품명.str.replace('NT900X5J-K28', '')\n",
        "data.상품명 = data.상품명.str.replace('NT900X5J-K14', '')\n",
        "\n",
        "# LG 통돌이 세탁기\n",
        "data.상품명 = data.상품명.str.replace('통돌이', '')\n",
        "data.상품명 = data.상품명.str.replace('TR14WK1(화이트)', '', regex = False)\n",
        "\n",
        "# LG 냉장고\n",
        "data.상품명 = data.상품명.str.replace('노크온 매직스페이스', '') \n",
        "data.상품명 = data.상품명.str.replace('매직스페이스', '') \n",
        "data.상품명 = data.상품명.str.replace('S831SN75', '', regex = False)\n",
        "\n",
        "## 에어컨\n",
        "data.상품명 = data.상품명.str.replace('에어컨', ' 에어컨 ', regex = False)\n",
        "data.상품명 = data.상품명.str.replace('2IN1형', ' 홈멀티 ', regex = False)\n",
        "data.상품명 = data.상품명.str.replace('2in1', ' 홈멀티 ', regex = False)\n",
        "data.상품명 = data.상품명.str.replace('스탠드형', ' 스탠드 ', regex = False)\n",
        "data.상품명 = data.상품명.str.replace('FQ17V9KW', '', regex = False)\n",
        "data.상품명 = data.상품명.str.replace('무풍슬림', '', regex = False)\n",
        "data.상품명 = data.상품명.str.replace('AF16R5773WSR', '', regex = False)\n",
        "\n",
        "## 냉장고\n",
        "data.상품명 = data.상품명.str.replace('딤채', ' 딤채 ', regex = False)\n",
        "data.상품명 = data.상품명.str.replace('_', '', regex = False)\n",
        "data.상품명 = data.상품명.str.replace('1등급', '', regex = False)\n",
        "\n",
        "data.상품명 = data.상품명.str.replace('냉장고', ' 냉장고 ', regex = False)\n",
        "data.상품명 = data.상품명.str.replace('김치냉장고', ' 김치냉장고 ', regex = False)\n",
        "data.상품명 = data.상품명.str.replace('김치 냉장고', ' 김치냉장고 ', regex = False)\n",
        "\n",
        "## 세탁기\n",
        "data.상품명 = data.상품명.str.replace('세탁기', ' 세탁기 ', regex = False)\n",
        "data.상품명 = data.상품명.str.replace('TR14WK1', '', regex = False)\n",
        "\n",
        "## 캐리어 벽걸이에어컨\n",
        "data.상품명 = data.상품명.str.replace('ARC06NQT', '')\n",
        "data.상품명 = data.상품명.str.replace('ARC07VBC', '')\n",
        "data.상품명 = data.상품명.str.replace('6형', '기본형') #?\n",
        "data.상품명 = data.상품명.str.replace('7형', '고급형') #?\n",
        "\n",
        "# 대우 벽걸이에어컨\n",
        "data.상품명 = data.상품명.str.replace('DOZ-S06JK', '기본형') #?\n",
        "data.상품명 = data.상품명.str.replace('TDOZ-S10JK', '고급형') #?\n",
        "\n",
        "# 건조기\n",
        "data.상품명 = data.상품명.str.replace('RH14WN', '14kg') #?\n",
        "data.상품명 = data.상품명.str.replace('RH16WN', '16kg')\n",
        "\n",
        "data.상품명 = data.상품명.str.replace('미니건조기', '건조기 3kg')\n",
        "\n",
        "data.상품명 = data.상품명.str.replace('DWR-03IDDC', '블랙')\n",
        "data.상품명 = data.상품명.str.replace('DWR-03IDWH', '화이트')\n",
        "\n",
        "data.상품명 = data.상품명.str.replace('DV90M53B0QV', '블랙')\n",
        "data.상품명 = data.상품명.str.replace('DV90M53B0QW', '화이트')\n",
        "data.상품명 = data.상품명.str.replace('DV90M53B0QP', '실버')\n",
        "\n",
        "def electronic(x):\n",
        "    if x.상품군 == '가전':\n",
        "        x.상품명 = x.상품명.replace('청소기', ' 청소기 ')  \n",
        "    else:\n",
        "        x.상품명 = x.상품명\n",
        "    return x\n",
        "\n",
        "data = data.apply(lambda x: electronic(x), axis = 1)\n",
        "\n",
        "data.상품명 = data.상품명.str.replace(' +', ' ')\n",
        "data.상품명 = data.상품명.str.lstrip()\n",
        "data.상품명 = data.상품명.str.rstrip()"
      ],
      "execution_count": 39,
      "outputs": []
    },
    {
      "cell_type": "code",
      "metadata": {
        "id": "1BM3m0IRNYTl",
        "colab_type": "code",
        "colab": {
          "base_uri": "https://localhost:8080/",
          "height": 35
        },
        "outputId": "75876ae2-18f2-4a7e-a9b5-d5ff66457f89"
      },
      "source": [
        "set(data[(data.상품명.str.contains('14kg'))].상품명)"
      ],
      "execution_count": 40,
      "outputs": [
        {
          "output_type": "execute_result",
          "data": {
            "text/plain": [
              "{'LG 트롬 건조기 14kg 화이트'}"
            ]
          },
          "metadata": {
            "tags": []
          },
          "execution_count": 40
        }
      ]
    },
    {
      "cell_type": "code",
      "metadata": {
        "id": "o2jxp6UByRgH",
        "colab_type": "code",
        "colab": {
          "base_uri": "https://localhost:8080/",
          "height": 467
        },
        "outputId": "154a513f-14ae-4d59-ad02-c825091ef907"
      },
      "source": [
        "word_count = max_words('가전')\n",
        "max_words_count = sorted(word_count.items(), key = lambda x: x[1], reverse = True)\n",
        "max_words_count[:25]"
      ],
      "execution_count": 41,
      "outputs": [
        {
          "output_type": "execute_result",
          "data": {
            "text/plain": [
              "[('LG', 3556),\n",
              " ('TV', 2266),\n",
              " ('삼성', 1048),\n",
              " ('에어컨', 946),\n",
              " ('65인치', 819),\n",
              " ('55인치', 818),\n",
              " ('냉장고', 701),\n",
              " ('세탁기', 646),\n",
              " ('벽걸이', 483),\n",
              " ('75인치', 450),\n",
              " ('고급형', 419),\n",
              " ('기본형', 397),\n",
              " ('노트북', 358),\n",
              " ('캐리어', 275),\n",
              " ('대우전자', 230),\n",
              " ('홈멀티', 228),\n",
              " ('70인치', 203),\n",
              " ('스탠드', 192),\n",
              " ('화이트', 79),\n",
              " ('김치냉장고', 57),\n",
              " ('딤채', 57),\n",
              " ('청소기', 56),\n",
              " ('공기청정기', 54),\n",
              " ('홈', 43),\n",
              " ('건조기', 38)]"
            ]
          },
          "metadata": {
            "tags": []
          },
          "execution_count": 41
        }
      ]
    },
    {
      "cell_type": "code",
      "metadata": {
        "id": "HTQeguMFb65i",
        "colab_type": "code",
        "colab": {}
      },
      "source": [
        "df = train_df('가전', 24)"
      ],
      "execution_count": 42,
      "outputs": []
    },
    {
      "cell_type": "code",
      "metadata": {
        "id": "zE6jiqQadU70",
        "colab_type": "code",
        "colab": {
          "base_uri": "https://localhost:8080/",
          "height": 233
        },
        "outputId": "a96193df-92bb-4e2c-d986-55949c023246"
      },
      "source": [
        "cv_scores, cv_models, cv_test, cv_predict = LGBM_train(df)"
      ],
      "execution_count": 43,
      "outputs": [
        {
          "output_type": "stream",
          "text": [
            "1월 MAPE: 101.5670273659676\n",
            "2월 MAPE: 70.56171919170612\n",
            "3월 MAPE: 55.96350499488544\n",
            "4월 MAPE: 56.89269098691639\n",
            "5월 MAPE: 84.99695662397407\n",
            "6월 MAPE: 115.540645121442\n",
            "7월 MAPE: 88.01841167101414\n",
            "8월 MAPE: 68.74296606983403\n",
            "9월 MAPE: 53.69097385635205\n",
            "10월 MAPE: 53.260454118263866\n",
            "11월 MAPE: 64.50295883865346\n",
            "12월 MAPE: 51.142740435508586\n"
          ],
          "name": "stdout"
        }
      ]
    },
    {
      "cell_type": "code",
      "metadata": {
        "id": "l2mrAQSethF2",
        "colab_type": "code",
        "colab": {
          "base_uri": "https://localhost:8080/",
          "height": 345
        },
        "outputId": "54f8fe96-0d53-457d-ebe4-ab66ef3a98ba"
      },
      "source": [
        "plot_result(cv_test, cv_predict, cv_scores)"
      ],
      "execution_count": 44,
      "outputs": [
        {
          "output_type": "display_data",
          "data": {
            "image/png": "[encoded data removed]",
            "text/plain": [
              "<Figure size 1080x360 with 12 Axes>"
            ]
          },
          "metadata": {
            "tags": [],
            "needs_background": "light"
          }
        }
      ]
    },
    {
      "cell_type": "code",
      "metadata": {
        "id": "EaprK2wQew2O",
        "colab_type": "code",
        "colab": {
          "base_uri": "https://localhost:8080/",
          "height": 364
        },
        "outputId": "17f83094-8055-48fa-90ed-e2ee89321f31"
      },
      "source": [
        "f, ax = plt.subplots(figsize = (12,5))\n",
        "\n",
        "from lightgbm import plot_importance\n",
        "plot_importance(cv_models[1], ax, max_num_features=10)"
      ],
      "execution_count": 45,
      "outputs": [
        {
          "output_type": "execute_result",
          "data": {
            "text/plain": [
              "<matplotlib.axes._subplots.AxesSubplot at 0x7f580c1aceb8>"
            ]
          },
          "metadata": {
            "tags": []
          },
          "execution_count": 45
        },
        {
          "output_type": "display_data",
          "data": {
            "image/png": "[encoded data removed]",
            "text/plain": [
              "<Figure size 864x360 with 1 Axes>"
            ]
          },
          "metadata": {
            "tags": [],
            "needs_background": "light"
          }
        }
      ]
    },
    {
      "cell_type": "code",
      "metadata": {
        "id": "QxpI14vce4Qy",
        "colab_type": "code",
        "colab": {}
      },
      "source": [
        "def print_importance(*args):\n",
        "    for a in args:\n",
        "        print_df = df.drop(columns = ['취급액_로그', '월'])\n",
        "        print(print_df.columns[a])"
      ],
      "execution_count": 270,
      "outputs": []
    },
    {
      "cell_type": "code",
      "metadata": {
        "id": "CvUVFE0zfIF5",
        "colab_type": "code",
        "colab": {
          "base_uri": "https://localhost:8080/",
          "height": 197
        },
        "outputId": "d7c06891-f0b4-47d8-fd96-cb64f1b3510b"
      },
      "source": [
        "print_importance(7,1,2,3,11,10,4,27,5,6)"
      ],
      "execution_count": 271,
      "outputs": [
        {
          "output_type": "stream",
          "text": [
            "Middle\n",
            "일\n",
            "시\n",
            "요일\n",
            "70인치\n",
            "65인치\n",
            "휴일\n",
            "에어컨\n",
            "프라임\n",
            "First\n"
          ],
          "name": "stdout"
        }
      ]
    },
    {
      "cell_type": "markdown",
      "metadata": {
        "id": "Tt3nMrmG_4P1",
        "colab_type": "text"
      },
      "source": [
        "## 의류"
      ]
    },
    {
      "cell_type": "code",
      "metadata": {
        "id": "mhk9d3wNDBM0",
        "colab_type": "code",
        "colab": {}
      },
      "source": [
        "def clothes(x):\n",
        "    if x.상품군 == '의류':\n",
        "        x.상품명 = x.상품명.replace('SS', 'S/S')\n",
        "        x.상품명 = x.상품명.replace('K-SWIS/S', 'K-SWISS')\n",
        "        x.상품명 = x.상품명.replace('FW', 'F/W')\n",
        "        x.상품명 = x.상품명.replace('S/S', ' S/S ')\n",
        "        x.상품명 = x.상품명.replace('F/W', ' F/W ')\n",
        "\n",
        "        x.상품명 = x.상품명.replace('기모', ' 기모 ')\n",
        "        x.상품명 = x.상품명.replace('니트', ' 니트 ')\n",
        "        x.상품명 = x.상품명.replace('팬츠', ' 팬츠 ')        \n",
        "        x.상품명 = x.상품명.replace('데님 팬츠', ' 데님 ')\n",
        "        x.상품명 = x.상품명.replace('티셔츠', ' 티셔츠 ')\n",
        "        x.상품명 = x.상품명.replace('밴딩', ' 밴딩 ')\n",
        "\n",
        "        x.상품명 = x.상품명.replace('코트', ' 코트 ')\n",
        "        x.상품명 = x.상품명.replace('밍크', ' 밍크 ')\n",
        "        x.상품명 = x.상품명.replace('그레이스', ' 그레이스 ')\n",
        "    else:\n",
        "        x.상품명 = x.상품명\n",
        "    return x\n",
        "\n",
        "data = data.apply(lambda x: clothes(x), axis = 1)\n",
        "\n",
        "data.상품명 = data.상품명.str.replace('CERINI by PAT', 'CERINI_by_PAT') \n",
        "data.상품명 = data.상품명.str.replace('USPA', 'USPA ')\n",
        "\n",
        "## 마르엘라로사티\n",
        "data.상품명 = data.상품명.str.replace('풀스킨', '')\n",
        "data.상품명 = data.상품명.str.replace('휘메일', '') #?\n",
        "\n",
        "data.상품명 = data.상품명.str.replace('트랙수트', ' 트랙수트 ')\n",
        "\n",
        "data.상품명 = data.상품명.str.replace(' +', ' ')\n",
        "data.상품명 = data.상품명.str.lstrip()\n",
        "data.상품명 = data.상품명.str.rstrip()"
      ],
      "execution_count": null,
      "outputs": []
    },
    {
      "cell_type": "code",
      "metadata": {
        "id": "MHfMWrq4Q-bc",
        "colab_type": "code",
        "colab": {
          "base_uri": "https://localhost:8080/",
          "height": 161
        },
        "outputId": "a3b2f2ea-ecb7-4b66-ca88-70f986077808"
      },
      "source": [
        "set(data[data.상품명.str.contains('그레이스')].상품명)"
      ],
      "execution_count": null,
      "outputs": [
        {
          "output_type": "execute_result",
          "data": {
            "text/plain": [
              "{'루이띠에 18k 그레이스 골드 귀걸이',\n",
              " '루이띠에 18k 그레이스 골드 목걸이',\n",
              " '루이띠에 18k 그레이스 골드 목걸이팔찌 세트',\n",
              " '루이띠에 18k 그레이스 골드 반지',\n",
              " '루이띠에 18k 그레이스 골드 주얼리 세트',\n",
              " '루이띠에 18k 그레이스 골드 팔찌',\n",
              " '루이띠에 18k 그레이스 골드 팔찌반지 세트',\n",
              " '헤스티지 그레이스 양가죽 코트'}"
            ]
          },
          "metadata": {
            "tags": []
          },
          "execution_count": 224
        }
      ]
    },
    {
      "cell_type": "code",
      "metadata": {
        "id": "oSt5LkVM0DTk",
        "colab_type": "code",
        "colab": {
          "base_uri": "https://localhost:8080/",
          "height": 917
        },
        "outputId": "14148007-1399-4ff1-8a87-d8d33356c3b1"
      },
      "source": [
        "word_count = max_words('의류')\n",
        "max_words_count = sorted(word_count.items(), key = lambda x: x[1], reverse = True)\n",
        "max_words_count[:50]"
      ],
      "execution_count": null,
      "outputs": [
        {
          "output_type": "execute_result",
          "data": {
            "text/plain": [
              "[('코트', 668),\n",
              " ('팬츠', 577),\n",
              " ('티셔츠', 566),\n",
              " ('데님', 451),\n",
              " ('K-SWISS', 440),\n",
              " ('S/S', 420),\n",
              " ('썸머', 416),\n",
              " ('뱅뱅', 413),\n",
              " ('세트', 342),\n",
              " ('밍크', 309),\n",
              " ('F/W', 304),\n",
              " ('트랙수트', 298),\n",
              " ('헤스티지', 280),\n",
              " ('마르엘라로사티', 269),\n",
              " ('기모', 267),\n",
              " ('NNF', 246),\n",
              " ('CERINI_by_PAT', 242),\n",
              " ('USPA', 232),\n",
              " ('패딩', 231),\n",
              " ('니트', 220),\n",
              " ('롱', 208),\n",
              " ('임페리얼', 207),\n",
              " ('보코', 200),\n",
              " ('컬렉션', 192),\n",
              " ('그렉노먼', 175),\n",
              " ('폴로셔츠', 171),\n",
              " ('크리스티나앤코', 167),\n",
              " ('봄', 162),\n",
              " ('양가죽', 159),\n",
              " ('베스트', 153),\n",
              " ('헤비추얼', 150),\n",
              " ('후드', 149),\n",
              " ('스트레치', 141),\n",
              " ('코몽트', 130),\n",
              " ('릴렉스', 128),\n",
              " ('에어핏', 126),\n",
              " ('테이트', 121),\n",
              " ('화이트라벨', 118),\n",
              " ('PK', 114),\n",
              " ('트레이닝', 111),\n",
              " ('대동모피', 102),\n",
              " ('본딩', 99),\n",
              " ('마리노블', 98),\n",
              " ('밴딩', 96),\n",
              " ('아웃도어', 94),\n",
              " ('자켓', 93),\n",
              " ('그레이스', 87),\n",
              " ('카라', 84),\n",
              " ('엘레나', 76),\n",
              " ('콤비', 76)]"
            ]
          },
          "metadata": {
            "tags": []
          },
          "execution_count": 225
        }
      ]
    },
    {
      "cell_type": "markdown",
      "metadata": {
        "id": "7xsbGt2uE-Z3",
        "colab_type": "text"
      },
      "source": [
        "## 속옷"
      ]
    },
    {
      "cell_type": "code",
      "metadata": {
        "id": "idTTY-wLNw9R",
        "colab_type": "code",
        "colab": {}
      },
      "source": [
        "## 에버라스트 드로즈\n",
        "data.상품명 = data.상품명.str.replace('10+', '', regex = False)\n",
        "\n",
        "# 헤드\n",
        "data.상품명 = data.상품명.str.replace('파이로라이트', '', regex = False)\n",
        "\n",
        "# 로베르타 디 까메리노\n",
        "data.상품명 = data.상품명.str.replace('로베르타 디 까메리노', '로베르타_디_까메리노')\n",
        "\n",
        "data.상품명 = data.상품명.str.replace('브라탑', ' 브라탑 ')\n",
        "data.상품명 = data.상품명.str.replace('브라팬티', '브라 팬티')\n",
        "data.상품명 = data.상품명.str.replace('브라', ' 브라')\n",
        "data.상품명 = data.상품명.str.replace('팬티', '팬티 ')\n",
        "data.상품명 = data.상품명.str.replace('패키지', ' 패키지 ')\n",
        "data.상품명 = data.상품명.str.replace('드로즈', '드로즈 ')\n",
        "data.상품명 = data.상품명.str.replace('DRY-CELL', '드라이셀')\n",
        "data.상품명 = data.상품명.str.replace('DRY-DELL', '드라이셀')\n",
        "data.상품명 = data.상품명.str.replace('라이크라', ' 라이크라 ')\n",
        "data.상품명 = data.상품명.str.replace('쉐이핑', ' 쉐이핑 ')\n",
        "\n",
        "data.상품명 = data.상품명.str.replace('프레쉬', '')\n",
        "data.상품명 = data.상품명.str.replace('데오', '')\n",
        "data.상품명 = data.상품명.str.replace('델타', '')\n",
        "data.상품명 = data.상품명.str.replace('피트니스', '')\n",
        "data.상품명 = data.상품명.str.replace('INNO', '')\n",
        "data.상품명 = data.상품명.str.replace('프런트후크', '')\n",
        "data.상품명 = data.상품명.str.replace('옴니위크', '')\n",
        "data.상품명 = data.상품명.str.replace('옴니히트', '')\n",
        "\n",
        "data.상품명 = data.상품명.str.replace('퍼융기모', '')\n",
        "data.상품명 = data.상품명.str.replace('융기모', '')\n",
        "\n",
        "def underwear(x):\n",
        "    if x.상품군 == '속옷':\n",
        "        x.상품명 = x.상품명.replace('블랙', '')\n",
        "    else:\n",
        "        x.상품명 = x.상품명   \n",
        "    return x\n",
        "\n",
        "data = data.apply(lambda x: clothes(x), axis = 1)\n",
        "\n",
        "\n",
        "data.상품명 = data.상품명.str.replace(' +', ' ')\n",
        "data.상품명 = data.상품명.str.lstrip()\n",
        "data.상품명 = data.상품명.str.rstrip()"
      ],
      "execution_count": null,
      "outputs": []
    },
    {
      "cell_type": "code",
      "metadata": {
        "id": "uusp8xOQVP51",
        "colab_type": "code",
        "colab": {
          "base_uri": "https://localhost:8080/",
          "height": 269
        },
        "outputId": "52c48bc2-97d6-4d97-88e8-52e339c1e8d5"
      },
      "source": [
        "set(data[data.상품명.str.contains('쉐이핑')].상품명)"
      ],
      "execution_count": null,
      "outputs": [
        {
          "output_type": "execute_result",
          "data": {
            "text/plain": [
              "{'댄스킨 매쉬 풀커버 쉐이핑 브라 패키지',\n",
              " '레이프릴 네추럴 쿨 쉐이핑 브라 패키지',\n",
              " '레이프릴 풍기인견 복부 쉐이핑 거들팬티',\n",
              " '로베르타_디_까메리노 360커브드 지퍼 쉐이핑 란쥬',\n",
              " '로베르타_디_까메리노 Y밸런스업 지퍼 쉐이핑 란쥬',\n",
              " '로베르타_디_까메리노 밸런스업 지퍼 쉐이핑 란쥬 패키지',\n",
              " '로베르타_디_까메리노 트리플커버 지퍼 쉐이핑 란쥬',\n",
              " '오가닉뷰티 황후의 코르셋 리얼 쉐이핑 팬티 패키지',\n",
              " '오모떼 리얼스킨 쉐이핑 브라 팬티',\n",
              " '오모떼 미라클 쉐이핑 브라 팬티',\n",
              " '오모떼 쉐이핑 브라 팬티',\n",
              " '오모떼 쉐이핑 차 브라 팬티',\n",
              " '오모떼 오리지널 쉐이핑 브라 팬티',\n",
              " '푸마 드라이셀 쉐이핑 레깅스'}"
            ]
          },
          "metadata": {
            "tags": []
          },
          "execution_count": 227
        }
      ]
    },
    {
      "cell_type": "code",
      "metadata": {
        "id": "SapibNI_0ibg",
        "colab_type": "code",
        "colab": {
          "base_uri": "https://localhost:8080/",
          "height": 917
        },
        "outputId": "6b463243-14fc-4f4f-8cb3-7fb080ee0954"
      },
      "source": [
        "word_count = max_words('속옷')\n",
        "max_words_count = sorted(word_count.items(), key = lambda x: x[1], reverse = True)\n",
        "max_words_count[:50]"
      ],
      "execution_count": null,
      "outputs": [
        {
          "output_type": "execute_result",
          "data": {
            "text/plain": [
              "[('패키지', 1547),\n",
              " ('푸마', 1013),\n",
              " ('드로즈', 814),\n",
              " ('브라', 737),\n",
              " ('팬티', 533),\n",
              " ('드라이셀', 413),\n",
              " ('트렁크', 296),\n",
              " ('심리스', 286),\n",
              " ('레이스', 278),\n",
              " ('오모떼', 272),\n",
              " ('쉐이핑', 268),\n",
              " ('에버라스트', 263),\n",
              " ('컬럼비아', 230),\n",
              " ('풍기인견', 225),\n",
              " ('코튼', 221),\n",
              " ('헤드', 212),\n",
              " ('라이크라', 208),\n",
              " ('레이프릴', 206),\n",
              " ('란쥬', 200),\n",
              " ('리복', 191),\n",
              " ('아키', 181),\n",
              " ('쿠미투니카', 180),\n",
              " ('카파', 170),\n",
              " ('풀커버', 159),\n",
              " ('동내의', 142),\n",
              " ('세트', 141),\n",
              " ('브라탑', 138),\n",
              " ('쿨', 134),\n",
              " ('롱드로즈', 133),\n",
              " ('로베르타_디_까메리노', 129),\n",
              " ('언더셔츠', 126),\n",
              " ('런닝', 126),\n",
              " ('블랙', 126),\n",
              " ('레깅스', 115),\n",
              " ('라쉬반', 110),\n",
              " ('지퍼', 105),\n",
              " ('치마레깅스', 104),\n",
              " ('베이스레이어', 102),\n",
              " ('원피스', 102),\n",
              " ('극세사', 90),\n",
              " ('7세트', 90),\n",
              " ('히트융', 90),\n",
              " ('브라세트', 89),\n",
              " ('스피드윅', 79),\n",
              " ('컬렉션', 79),\n",
              " ('크로커다일', 77),\n",
              " ('데일리', 75),\n",
              " ('캐리어', 74),\n",
              " ('풀컵', 72),\n",
              " ('와이드', 72)]"
            ]
          },
          "metadata": {
            "tags": []
          },
          "execution_count": 228
        }
      ]
    },
    {
      "cell_type": "markdown",
      "metadata": {
        "id": "dFr4h6e7FJwc",
        "colab_type": "text"
      },
      "source": [
        "## 농수축 & 건강기능\n"
      ]
    },
    {
      "cell_type": "code",
      "metadata": {
        "id": "Uo5KcHz8Nuhs",
        "colab_type": "code",
        "colab": {}
      },
      "source": [
        "# 멋진밥상 흥양농협 쌀 20kg\n",
        "data.상품명 = data.상품명.str.replace('햅쌀', '쌀')\n",
        "data.상품명 = data.상품명.str.replace('멋진밥상 흥양농협', '')\n",
        "\n",
        "## 안동간고등어 & 우리바다 손질왕꼬막\n",
        "data.상품명 = data.상품명.str.replace('안동간고등어', '고등어')\n",
        "\n",
        "# 생선\n",
        "data.상품명 = data.상품명.str.replace('고등어', ' 고등어 ')\n",
        "data.상품명 = data.상품명.str.replace('갈치', ' 갈치 ')\n",
        "data.상품명 = data.상품명.str.replace('광어', ' 광어 ')\n",
        "data.상품명 = data.상품명.str.replace('갑오징어', ' 오징어 ')\n",
        "data.상품명 = data.상품명.str.replace('통오징어', ' 오징어 ')\n",
        "data.상품명 = data.상품명.str.replace('전복', ' 전복 ')\n",
        "data.상품명 = data.상품명.str.replace('왈도활', '')\n",
        "\n",
        "\n",
        "# 영광 生 모시떡\n",
        "data.상품명 = data.상품명.str.replace('영광 生', '')\n",
        "data.상품명 = data.상품명.str.replace('동부기피+검정깨', '', regex=False)\n",
        "\n",
        "# 옛날쥐포 110장\n",
        "data.상품명 = data.상품명.str.replace('옛날', '', regex=False)\n",
        "data.상품명 = data.상품명.str.replace('110장', '', regex=False)\n",
        "\n",
        "\n",
        "data.상품명 = data.상품명.str.replace(' 그 ', ' ', regex=False)\n",
        "data.상품명 = data.상품명.str.replace('x', '', regex=False)\n",
        "data.상품명 = data.상품명.str.replace('손질', ' 손질 ', regex=False)\n",
        "data.상품명 = data.상품명.str.replace('햇', '', regex=False)\n",
        "data.상품명 = data.상품명.str.replace('총', '', regex=False)\n",
        "\n",
        "# 셰프\n",
        "data.상품명 = data.상품명.str.replace('AAB의', '', regex=False)\n",
        "data.상품명 = data.상품명.str.replace('유귀열의', '', regex=False)\n",
        "data.상품명 = data.상품명.str.replace('임성근의', '', regex=False)\n",
        "\n",
        "data.상품명 = data.상품명.str.replace('청정수산', '', regex=False)\n",
        "data.상품명 = data.상품명.str.replace('깐깐송도순', '', regex=False)\n",
        "data.상품명 = data.상품명.str.replace('현대어찬', '', regex=False)\n",
        "data.상품명 = data.상품명.str.replace('하늘내린', '', regex=False)\n",
        "data.상품명 = data.상품명.str.replace('소들녘', '', regex=False)\n",
        "data.상품명 = data.상품명.str.replace('피시원', '', regex=False)\n",
        "data.상품명 = data.상품명.str.replace('우리바다', '', regex=False)\n",
        "\n",
        "\n",
        "# 두유\n",
        "data.상품명 = data.상품명.str.replace('검은콩', '', regex=False)\n",
        "data.상품명 = data.상품명.str.replace('고칼슘', '', regex=False)\n",
        "data.상품명 = data.상품명.str.replace('호두아몬드', '', regex=False)\n",
        "\n",
        "# The 귀한\n",
        "data.상품명 = data.상품명.str.replace('The 귀한', '', regex=False)\n",
        "data.상품명 = data.상품명.str.replace('The귀한', '', regex=False)\n",
        "data.상품명 = data.상품명.str.replace('귀한', '', regex=False)\n",
        "data.상품명 = data.상품명.str.replace('무료체험', '', regex=False) #?\n",
        "\n",
        "# 김치\n",
        "data.상품명 = data.상품명.str.replace('갓김치', '김치', regex=False)\n",
        "data.상품명 = data.상품명.str.replace('포기김치', '김치', regex=False)\n",
        "data.상품명 = data.상품명.str.replace('각김치', '김치', regex=False)\n",
        "data.상품명 = data.상품명.str.replace('백김치', '김치', regex=False)\n",
        "\n",
        "\n",
        "data.상품명 = data.상품명.str.replace(' +', ' ')\n",
        "data.상품명 = data.상품명.str.lstrip()\n",
        "data.상품명 = data.상품명.str.rstrip()"
      ],
      "execution_count": null,
      "outputs": []
    },
    {
      "cell_type": "code",
      "metadata": {
        "id": "54ThjR1Nttfz",
        "colab_type": "code",
        "colab": {
          "base_uri": "https://localhost:8080/",
          "height": 35
        },
        "outputId": "c57dc2eb-0880-4fa0-9968-c20c888c8cfe"
      },
      "source": [
        "set(data[data.상품명.str.contains('하림')].상품명)"
      ],
      "execution_count": null,
      "outputs": [
        {
          "output_type": "execute_result",
          "data": {
            "text/plain": [
              "{'하림 치킨스테이크 4봉', '하림뼈없는양념닭발세트'}"
            ]
          },
          "metadata": {
            "tags": []
          },
          "execution_count": 230
        }
      ]
    },
    {
      "cell_type": "code",
      "metadata": {
        "id": "AVg0pIkJ0r6I",
        "colab_type": "code",
        "colab": {
          "base_uri": "https://localhost:8080/",
          "height": 557
        },
        "outputId": "06203129-3abe-45bb-97b4-d237f61c7ead"
      },
      "source": [
        "word_count = max_words('농수축')\n",
        "max_words_count = sorted(word_count.items(), key = lambda x: x[1], reverse = True)\n",
        "max_words_count[:30]"
      ],
      "execution_count": null,
      "outputs": [
        {
          "output_type": "execute_result",
          "data": {
            "text/plain": [
              "[('손질', 979),\n",
              " ('국내산', 639),\n",
              " ('김치', 442),\n",
              " ('오징어', 410),\n",
              " ('고등어', 326),\n",
              " ('쌀', 264),\n",
              " ('소곱창전골', 252),\n",
              " ('두유', 244),\n",
              " ('모시떡', 182),\n",
              " ('전복', 157),\n",
              " ('풀세트', 147),\n",
              " ('녹용도가니탕', 147),\n",
              " ('문어', 146),\n",
              " ('완도활', 136),\n",
              " ('자연산', 135),\n",
              " ('갈치', 118),\n",
              " ('쥐포', 116),\n",
              " ('꽃게', 99),\n",
              " ('갈비탕', 91),\n",
              " ('용대리황태', 83),\n",
              " ('궁중', 81),\n",
              " ('소', 80),\n",
              " ('동태포', 78),\n",
              " ('새우', 78),\n",
              " ('!!', 76),\n",
              " ('찰보리식혜', 70),\n",
              " ('하림뼈없는양념닭발세트', 69),\n",
              " ('홍어', 68),\n",
              " ('영산포숙성', 68),\n",
              " ('왕꼬막', 66)]"
            ]
          },
          "metadata": {
            "tags": []
          },
          "execution_count": 231
        }
      ]
    },
    {
      "cell_type": "code",
      "metadata": {
        "id": "vRhK6vJX02cr",
        "colab_type": "code",
        "colab": {
          "base_uri": "https://localhost:8080/",
          "height": 557
        },
        "outputId": "a902b56e-08f5-4be0-8124-78c587c7b711"
      },
      "source": [
        "word_count = max_words('건강기능')\n",
        "max_words_count = sorted(word_count.items(), key = lambda x: x[1], reverse = True)\n",
        "max_words_count[:30]"
      ],
      "execution_count": null,
      "outputs": [
        {
          "output_type": "execute_result",
          "data": {
            "text/plain": [
              "[('종근당건강', 253),\n",
              " ('생유산균골드', 199),\n",
              " ('락토핏', 199),\n",
              " ('단하루', 178),\n",
              " ('석류', 115),\n",
              " ('루테인', 93),\n",
              " ('정직한', 84),\n",
              " ('농부의', 84),\n",
              " ('닥터', 81),\n",
              " ('뉴트리원', 75),\n",
              " ('다이어트', 74),\n",
              " ('구미', 72),\n",
              " ('슈퍼', 57),\n",
              " ('아이클리어', 36),\n",
              " ('직매입', 36),\n",
              " ('프리바이오틱스', 33),\n",
              " ('석류즙', 32),\n",
              " ('무농약레드비트즙', 30),\n",
              " ('90봉', 30),\n",
              " ('통째로', 26),\n",
              " ('착즙한', 26),\n",
              " ('루비', 26),\n",
              " ('한삼인순홍삼진', 24),\n",
              " ('100%리얼착즙석류', 24),\n",
              " ('플러스', 24),\n",
              " ('백', 24),\n",
              " ('오메가3', 24),\n",
              " ('양배추진액', 20),\n",
              " ('제주농장', 20),\n",
              " ('유기', 20)]"
            ]
          },
          "metadata": {
            "tags": []
          },
          "execution_count": 232
        }
      ]
    },
    {
      "cell_type": "code",
      "metadata": {
        "id": "a4nFHAAXgdrx",
        "colab_type": "code",
        "colab": {
          "base_uri": "https://localhost:8080/",
          "height": 737
        },
        "outputId": "cd875358-c02b-4ed4-d818-957b2c4376df"
      },
      "source": [
        "data[data.상품군=='건강기능'].상품명.value_counts()[:50]"
      ],
      "execution_count": null,
      "outputs": [
        {
          "output_type": "execute_result",
          "data": {
            "text/plain": [
              "종근당건강 락토핏 생유산균골드 단하루                175\n",
              "정직한 농부의 석류                           84\n",
              "뉴트리원 다이어트 구미                         66\n",
              "닥터 슈퍼 루테인                            57\n",
              "직매입 종근당건강 아이클리어 루테인                  36\n",
              "무농약레드비트즙 90봉                         30\n",
              "통째로 착즙한 루비 석류즙                       26\n",
              "한삼인순홍삼진 백                            24\n",
              "100%리얼착즙석류                           24\n",
              "닥터 프리바이오틱스 플러스                       24\n",
              "종근당건강 락토핏 생유산균골드                     24\n",
              "제주농장 유기 양배추진액                        20\n",
              "광동제약 석류 100,                         19\n",
              "뉴질랜드 초록입홍합 환 100%                    15\n",
              "안국루테인 미니100                          12\n",
              "콜라겐3.2 아임파인 월                        12\n",
              "블랙모어스 알티지 오메가3 3병 53주분               12\n",
              "리얼니파팜 해죽순                            12\n",
              "\" 100%리얼 착즙 석류 \",                    12\n",
              "베지밀 두유                                9\n",
              "경남제약 레모나 S산                           9\n",
              "종근당건강 프로메가 오메가3 파워                    9\n",
              "한국인 모유유래 다이어트 유산균 BNR17 비에날씬 12주      8\n",
              "특집 이롬 황성주1일1생식 스페셜                    8\n",
              "프리바이오틱스 3300 월분                       6\n",
              "종근당건강 전립쎈 프라임                         6\n",
              "네페르티티 유기농 퀸 석류즙                       6\n",
              "여자를 위한 빨강 팥물, 레드빈 티톡                  6\n",
              "모나코사놀                                 6\n",
              "뉴트리원 비비랩 FOS 프리바이오틱스                  3\n",
              "단하루 종근당건강 프로메가 오메가3 파워+비타민D           3\n",
              "광동 장건강엔 생유산균                          3\n",
              "이경제의 황제진액 철갑상어                        3\n",
              "서울대 더 리얼 신바이오틱스 월분                    3\n",
              "밀싹 클렌즈 , 8주분! + 전용보틀                  3\n",
              "뉴트리원 전지현 베리솔 콜라겐 구미 12주분+3일분          3\n",
              "티젠 히비스커스 분말                           3\n",
              "뉴트리원 전지현 베리솔 콜라겐 구미 더블24주분+6일분        3\n",
              "이경제의 레드비트 착즙 100%,                    2\n",
              "Name: 상품명, dtype: int64"
            ]
          },
          "metadata": {
            "tags": []
          },
          "execution_count": 233
        }
      ]
    },
    {
      "cell_type": "markdown",
      "metadata": {
        "id": "jv646kcJFR7w",
        "colab_type": "text"
      },
      "source": [
        "## 잡화"
      ]
    },
    {
      "cell_type": "code",
      "metadata": {
        "id": "nh5d-rg9NOJF",
        "colab_type": "code",
        "colab": {}
      },
      "source": [
        "# 잡화\n",
        "data.상품명 = data.상품명.str.replace('18k', '18K')\n",
        "data.상품명 = data.상품명.str.replace('목걸이', ' 목걸이 ')\n",
        "data.상품명 = data.상품명.str.replace('팔찌', ' 팔찌 ')\n",
        "data.상품명 = data.상품명.str.replace('반지', ' 반지 ')\n",
        "data.상품명 = data.상품명.str.replace('주얼리', ' 주얼리 ')\n",
        "data.상품명 = data.상품명.str.replace('골드바', ' 골드바 ')\n",
        "data.상품명 = data.상품명.str.replace('골드 ', '')\n",
        "data.상품명 = data.상품명.str.replace('크로스바디백', '크로스백', regex = False)\n",
        "\n",
        "\n",
        "## 가이거 워치\n",
        "data.상품명 = data.상품명.str.replace('다이아몬드', '', regex = False)\n",
        "data.상품명 = data.상품명.str.replace('콘체르토', '', regex = False)\n",
        "\n",
        "data.상품명 = data.상품명.str.replace('카이만', ' 카이만 ', regex = False)\n",
        "data.상품명 = data.상품명.str.replace('악어', '', regex = False)\n",
        "data.상품명 = data.상품명.str.replace('리얼', '', regex = False)\n",
        "data.상품명 = data.상품명.str.replace('엠보', ' 엠보 ', regex = False)\n",
        "data.상품명 = data.상품명.str.replace('테스토', '', regex = False)\n",
        "\n",
        "# 루이띠에 (? 이름있는 브랜드인지?)\n",
        "data.상품명 = data.상품명.str.replace('그레이스', '', regex = False)\n",
        "data.상품명 = data.상품명.str.replace('베르니아', '', regex = False)\n",
        "\n",
        "\n",
        "data.상품명 = data.상품명.str.replace('알비에로 마르티니', '알비에로_마르티니', regex = False)\n",
        "data.상품명 = data.상품명.str.replace('1A', '', regex = False)\n",
        "data.상품명 = data.상품명.str.replace('클라쎄', '', regex = False)\n",
        "data.상품명 = data.상품명.str.replace('시그니처', '', regex = False)\n",
        "data.상품명 = data.상품명.str.replace('RYN 린', 'RYN', regex = False)\n",
        "data.상품명 = data.상품명.str.replace('켈시', '', regex = False)\n",
        "\n",
        "def stuff(x):\n",
        "    if x.상품군 == '잡화':\n",
        "        x.상품명 = x.상품명.replace('에어', '')\n",
        "        x.상품명 = x.상품명.replace('주얼리', '')\n",
        "        x.상품명 = x.상품명.replace('SS', 'S/S')\n",
        "    else:\n",
        "        x.상품명 = x.상품명\n",
        "    return x\n",
        "\n",
        "data = data.apply(lambda x: stuff(x), axis = 1)\n",
        "\n",
        "data.상품명 = data.상품명.str.replace(' +', ' ')\n",
        "data.상품명 = data.상품명.str.lstrip()\n",
        "data.상품명 = data.상품명.str.rstrip()"
      ],
      "execution_count": null,
      "outputs": []
    },
    {
      "cell_type": "code",
      "metadata": {
        "id": "5XNp9Nin06qs",
        "colab_type": "code",
        "colab": {
          "base_uri": "https://localhost:8080/",
          "height": 917
        },
        "outputId": "d3f5a40f-4a40-4d3c-a0e2-63b8a9cd7778"
      },
      "source": [
        "word_count = max_words('잡화')\n",
        "max_words_count = sorted(word_count.items(), key = lambda x: x[1], reverse = True)\n",
        "max_words_count[:50]"
      ],
      "execution_count": null,
      "outputs": [
        {
          "output_type": "execute_result",
          "data": {
            "text/plain": [
              "[('루이띠에', 406),\n",
              " ('소가죽', 365),\n",
              " ('세트', 364),\n",
              " ('코치', 357),\n",
              " ('프라다', 342),\n",
              " ('18K', 331),\n",
              " ('카이만', 331),\n",
              " ('크로스백', 280),\n",
              " ('삭루츠', 279),\n",
              " ('월드컵', 272),\n",
              " ('가이거', 246),\n",
              " ('러닝화', 228),\n",
              " ('토트백', 219),\n",
              " ('엠보', 219),\n",
              " ('백', 212),\n",
              " ('숄더백', 200),\n",
              " ('워치', 198),\n",
              " ('도스문도스', 195),\n",
              " ('선글라스', 184),\n",
              " ('팔찌', 174),\n",
              " ('트레킹화', 158),\n",
              " ('목걸이', 152),\n",
              " ('아가타', 141),\n",
              " ('S/S', 138),\n",
              " ('워킹화', 126),\n",
              " ('샌들', 126),\n",
              " ('백팩', 124),\n",
              " ('칼리베이직', 123),\n",
              " ('사첼백', 121),\n",
              " ('핸드백', 96),\n",
              " ('여행가방', 93),\n",
              " ('슬립온', 91),\n",
              " ('AAD', 89),\n",
              " ('순금', 89),\n",
              " ('체인', 86),\n",
              " ('안드레아바나', 86),\n",
              " ('알비에로_마르티니', 84),\n",
              " ('트레스패스', 84),\n",
              " ('F/W', 83),\n",
              " ('에펨', 82),\n",
              " ('반지', 80),\n",
              " ('플랫슈즈', 76),\n",
              " ('RYN', 72),\n",
              " ('펌프스', 69),\n",
              " ('구찌', 69),\n",
              " ('레코바', 66),\n",
              " ('슬리퍼', 66),\n",
              " ('스니커즈', 66),\n",
              " ('로베르타_디_까메리노', 65),\n",
              " ('골드바', 64)]"
            ]
          },
          "metadata": {
            "tags": []
          },
          "execution_count": 235
        }
      ]
    },
    {
      "cell_type": "code",
      "metadata": {
        "id": "ZUXeqL9wFVxj",
        "colab_type": "code",
        "colab": {
          "base_uri": "https://localhost:8080/",
          "height": 935
        },
        "outputId": "a8b25929-0387-4bae-fa3b-7b6d6e20a581"
      },
      "source": [
        "data[data.상품군=='잡화'].상품명.value_counts()[:50]"
      ],
      "execution_count": null,
      "outputs": [
        {
          "output_type": "execute_result",
          "data": {
            "text/plain": [
              "가이거 워치                      174\n",
              "트레스패스 워킹화 + 러닝화              66\n",
              "칼리베이직 백 세트                   63\n",
              "도스문도스 카이만 엠보 소가죽 토트백         57\n",
              "칼리베이직 패브릭 백                  57\n",
              "코치 사첼백                       54\n",
              "레코바 다이얼워킹화세트                 54\n",
              "S/S 엘리자베스아덴 선글라스             54\n",
              "도스문도스 카이만 엠보 소가죽 핸드백         54\n",
              "삭루츠 투 웨이 백팩 TQ55             51\n",
              "가이거 제니스시계 세트                 48\n",
              "월드컵 러닝화+트레킹화                 48\n",
              "프라다 크로스백                     48\n",
              "RYN 다이얼락 히트 웜 퍼 방한화          48\n",
              "월드컵 러닝화+슬리퍼                  48\n",
              "루이띠에 18K 세트                  47\n",
              "루이띠에 18K 귀걸이                 46\n",
              "도스문도스 카이만 엠보 소가죽 체인 숄더백      45\n",
              "루이띠에 18K 목걸이                 44\n",
              "AAA F/W 트레킹화                 44\n",
              "루이띠에 18K 팔찌                  43\n",
              "S/S 로베르타_디_까메리노 선글라스         42\n",
              "썸덱스 트로이카 여행가방 세트             42\n",
              "코치 베네트 사첼백                   42\n",
              "월드컵 워킹화+슬립온                  42\n",
              "월드컵 러닝화+아쿠아트레킹화              42\n",
              "오델로 겨울모자                     40\n",
              "루이띠에 18K 목걸이 팔찌 세트           36\n",
              "아가타 골든 마스터 펌프스+플랫슈즈          36\n",
              "AAD 소가죽 올데이슬립온               35\n",
              "루이띠에 18K 반지                  34\n",
              "삭루츠 크로스백 TQ11                33\n",
              "삭루츠 호보백 TQ48                 33\n",
              "삭루츠 더플백 여행가방 TQ49            33\n",
              "코치 플라이트백                     33\n",
              "프라다 비텔로 피닉스 토트백              33\n",
              "안드레아바나 카이만 토트백               31\n",
              "루이띠에 18K 팔찌 반지 세트            31\n",
              "에펨 소가죽 체인지 샌들                30\n",
              "프라다 탑핸들 토트 숄더백               30\n",
              "에펨 글로스 샌들                    30\n",
              "도스문도스 카이만 엠보 소가죽 핸드백 역시즌     30\n",
              "프라다 더블지퍼 크로스백                28\n",
              "안드레아바나 카이만 바디 숄더백            28\n",
              "삭루츠 토트백 TQ35                 27\n",
              "안드레아바나 카이만 테일 숄더백            27\n",
              "삭루츠 크로스백 TQ12                27\n",
              "구찌 더블G 오버 선글라스               26\n",
              "프라다 레터링 버킷백                  24\n",
              "AAD 소가죽 투웨이 샌들               24\n",
              "Name: 상품명, dtype: int64"
            ]
          },
          "metadata": {
            "tags": []
          },
          "execution_count": 236
        }
      ]
    },
    {
      "cell_type": "markdown",
      "metadata": {
        "id": "1YD8liawFtMk",
        "colab_type": "text"
      },
      "source": [
        "## 이미용"
      ]
    },
    {
      "cell_type": "code",
      "metadata": {
        "id": "KJh_Kos1Kn1a",
        "colab_type": "code",
        "colab": {}
      },
      "source": [
        "# 비버리힐스폴로클럽\n",
        "data.상품명 = data.상품명.str.replace('골드+콜라겐', '', regex=False) \n",
        "data.상품명 = data.상품명.str.replace('FW골드', '', regex=False) \n",
        "data.상품명 = data.상품명.str.replace('골드+플라', '', regex=False) \n",
        "data.상품명 = data.상품명.str.replace('플라센타아이크림+선크림', '', regex=False) \n",
        "\n",
        "## 참존 탑뉴스 지이링클 기초세트\n",
        "data.상품명 = data.상품명.str.replace('탑뉴스 지이링클', '') \n",
        "\n",
        "\n",
        "data.상품명 = data.상품명.str.replace(' +', ' ')\n",
        "data.상품명 = data.상품명.str.lstrip()\n",
        "data.상품명 = data.상품명.str.rstrip()"
      ],
      "execution_count": 90,
      "outputs": []
    },
    {
      "cell_type": "code",
      "metadata": {
        "id": "KAh3i_AUYb6W",
        "colab_type": "code",
        "colab": {
          "base_uri": "https://localhost:8080/",
          "height": 726
        },
        "outputId": "50b816a4-2ff7-421a-80a5-9961ccf655c2"
      },
      "source": [
        "data_이미용 = data[data.상품군 == '이미용']\n",
        "data_이미용.index = pd.to_datetime(data_이미용.index)\n",
        "\n",
        "plot_df = data_이미용.resample('30T').sum()['취급액'].to_frame()\n",
        "plot_df['요일'] = plot_df.index.strftime('%A')\n",
        "plot_df['시간'] = plot_df.index.strftime('%H:%M')\n",
        "plot_df['취급액'] = plot_df.취급액.map(lambda x: np.NaN if x == 0 else x)\n",
        "\n",
        "plot_df = plot_df.groupby(['요일','시간']).count()\n",
        "\n",
        "weekday =  list(set(plot_df.index.get_level_values(0)))\n",
        "fig,  ax = plt.subplots(3,3, figsize = (15, 12))\n",
        "for i in range(7):\n",
        "    df_ = plot_df.loc[weekday[i]]\n",
        "    x = i//3\n",
        "    y = i%3\n",
        "    df_.plot(ax = ax[x, y], marker = 'o', )\n",
        "    ax[x, y].set_title(weekday[i])"
      ],
      "execution_count": 91,
      "outputs": [
        {
          "output_type": "display_data",
          "data": {
            "image/png": "[encoded data removed]",
            "text/plain": [
              "<Figure size 1080x864 with 9 Axes>"
            ]
          },
          "metadata": {
            "tags": [],
            "needs_background": "light"
          }
        }
      ]
    },
    {
      "cell_type": "code",
      "metadata": {
        "id": "vpTTWv-fYjG1",
        "colab_type": "code",
        "colab": {}
      },
      "source": [
        ""
      ],
      "execution_count": 91,
      "outputs": []
    },
    {
      "cell_type": "code",
      "metadata": {
        "id": "O3NA77oVKDhi",
        "colab_type": "code",
        "colab": {
          "base_uri": "https://localhost:8080/",
          "height": 1000
        },
        "outputId": "c784e5fb-75ef-42e7-e168-1094c11d0cfb"
      },
      "source": [
        "data[data.상품명.str.contains('VONIN', regex=False)][5:]"
      ],
      "execution_count": 92,
      "outputs": [
        {
          "output_type": "execute_result",
          "data": {
            "text/html": [
              "<div>\n",
              "<style scoped>\n",
              "    .dataframe tbody tr th:only-of-type {\n",
              "        vertical-align: middle;\n",
              "    }\n",
              "\n",
              "    .dataframe tbody tr th {\n",
              "        vertical-align: top;\n",
              "    }\n",
              "\n",
              "    .dataframe thead th {\n",
              "        text-align: right;\n",
              "    }\n",
              "</style>\n",
              "<table border=\"1\" class=\"dataframe\">\n",
              "  <thead>\n",
              "    <tr style=\"text-align: right;\">\n",
              "      <th></th>\n",
              "      <th>노출(분)</th>\n",
              "      <th>상품명</th>\n",
              "      <th>상품군</th>\n",
              "      <th>판매단가</th>\n",
              "      <th>취급액</th>\n",
              "      <th>월</th>\n",
              "      <th>일</th>\n",
              "      <th>시</th>\n",
              "      <th>분</th>\n",
              "      <th>요일</th>\n",
              "      <th>휴일</th>\n",
              "      <th>프라임</th>\n",
              "      <th>판매수량</th>\n",
              "      <th>First</th>\n",
              "      <th>Middle</th>\n",
              "      <th>Last</th>\n",
              "      <th>취급액_로그</th>\n",
              "      <th>결제유형</th>\n",
              "    </tr>\n",
              "    <tr>\n",
              "      <th>방송일시</th>\n",
              "      <th></th>\n",
              "      <th></th>\n",
              "      <th></th>\n",
              "      <th></th>\n",
              "      <th></th>\n",
              "      <th></th>\n",
              "      <th></th>\n",
              "      <th></th>\n",
              "      <th></th>\n",
              "      <th></th>\n",
              "      <th></th>\n",
              "      <th></th>\n",
              "      <th></th>\n",
              "      <th></th>\n",
              "      <th></th>\n",
              "      <th></th>\n",
              "      <th></th>\n",
              "      <th></th>\n",
              "    </tr>\n",
              "  </thead>\n",
              "  <tbody>\n",
              "    <tr>\n",
              "      <th>2019-09-04 19:40:00</th>\n",
              "      <td>20.0</td>\n",
              "      <td>VONIN 보닌 남성기초세트</td>\n",
              "      <td>이미용</td>\n",
              "      <td>54000</td>\n",
              "      <td>74682000.0</td>\n",
              "      <td>9</td>\n",
              "      <td>4</td>\n",
              "      <td>19</td>\n",
              "      <td>40</td>\n",
              "      <td>Wednesday</td>\n",
              "      <td>0</td>\n",
              "      <td>3</td>\n",
              "      <td>1383.000000</td>\n",
              "      <td>0.0</td>\n",
              "      <td>0.0</td>\n",
              "      <td>1.0</td>\n",
              "      <td>18.128750</td>\n",
              "      <td>0</td>\n",
              "    </tr>\n",
              "    <tr>\n",
              "      <th>2019-09-14 09:00:00</th>\n",
              "      <td>20.0</td>\n",
              "      <td>VONIN 보닌 남성기초세트</td>\n",
              "      <td>이미용</td>\n",
              "      <td>54000</td>\n",
              "      <td>47749000.0</td>\n",
              "      <td>9</td>\n",
              "      <td>14</td>\n",
              "      <td>9</td>\n",
              "      <td>0</td>\n",
              "      <td>Saturday</td>\n",
              "      <td>2</td>\n",
              "      <td>1</td>\n",
              "      <td>884.240741</td>\n",
              "      <td>1.0</td>\n",
              "      <td>0.0</td>\n",
              "      <td>0.0</td>\n",
              "      <td>17.681469</td>\n",
              "      <td>0</td>\n",
              "    </tr>\n",
              "    <tr>\n",
              "      <th>2019-09-14 09:20:00</th>\n",
              "      <td>20.0</td>\n",
              "      <td>VONIN 보닌 남성기초세트</td>\n",
              "      <td>이미용</td>\n",
              "      <td>54000</td>\n",
              "      <td>66569000.0</td>\n",
              "      <td>9</td>\n",
              "      <td>14</td>\n",
              "      <td>9</td>\n",
              "      <td>20</td>\n",
              "      <td>Saturday</td>\n",
              "      <td>2</td>\n",
              "      <td>1</td>\n",
              "      <td>1232.759259</td>\n",
              "      <td>0.0</td>\n",
              "      <td>1.0</td>\n",
              "      <td>0.0</td>\n",
              "      <td>18.013750</td>\n",
              "      <td>0</td>\n",
              "    </tr>\n",
              "    <tr>\n",
              "      <th>2019-09-14 09:40:00</th>\n",
              "      <td>20.0</td>\n",
              "      <td>VONIN 보닌 남성기초세트</td>\n",
              "      <td>이미용</td>\n",
              "      <td>54000</td>\n",
              "      <td>60378000.0</td>\n",
              "      <td>9</td>\n",
              "      <td>14</td>\n",
              "      <td>9</td>\n",
              "      <td>40</td>\n",
              "      <td>Saturday</td>\n",
              "      <td>2</td>\n",
              "      <td>1</td>\n",
              "      <td>1118.111111</td>\n",
              "      <td>0.0</td>\n",
              "      <td>0.0</td>\n",
              "      <td>1.0</td>\n",
              "      <td>17.916135</td>\n",
              "      <td>0</td>\n",
              "    </tr>\n",
              "    <tr>\n",
              "      <th>2019-09-26 19:00:00</th>\n",
              "      <td>20.0</td>\n",
              "      <td>VONIN 보닌 남성기초세트</td>\n",
              "      <td>이미용</td>\n",
              "      <td>54000</td>\n",
              "      <td>35598000.0</td>\n",
              "      <td>9</td>\n",
              "      <td>26</td>\n",
              "      <td>19</td>\n",
              "      <td>0</td>\n",
              "      <td>Thursday</td>\n",
              "      <td>0</td>\n",
              "      <td>3</td>\n",
              "      <td>659.222222</td>\n",
              "      <td>1.0</td>\n",
              "      <td>0.0</td>\n",
              "      <td>0.0</td>\n",
              "      <td>17.387800</td>\n",
              "      <td>0</td>\n",
              "    </tr>\n",
              "    <tr>\n",
              "      <th>...</th>\n",
              "      <td>...</td>\n",
              "      <td>...</td>\n",
              "      <td>...</td>\n",
              "      <td>...</td>\n",
              "      <td>...</td>\n",
              "      <td>...</td>\n",
              "      <td>...</td>\n",
              "      <td>...</td>\n",
              "      <td>...</td>\n",
              "      <td>...</td>\n",
              "      <td>...</td>\n",
              "      <td>...</td>\n",
              "      <td>...</td>\n",
              "      <td>...</td>\n",
              "      <td>...</td>\n",
              "      <td>...</td>\n",
              "      <td>...</td>\n",
              "      <td>...</td>\n",
              "    </tr>\n",
              "    <tr>\n",
              "      <th>2019-12-26 21:40:00</th>\n",
              "      <td>20.0</td>\n",
              "      <td>VONIN 보닌 남성기초세트</td>\n",
              "      <td>이미용</td>\n",
              "      <td>54000</td>\n",
              "      <td>57823000.0</td>\n",
              "      <td>12</td>\n",
              "      <td>26</td>\n",
              "      <td>21</td>\n",
              "      <td>40</td>\n",
              "      <td>Thursday</td>\n",
              "      <td>0</td>\n",
              "      <td>4</td>\n",
              "      <td>1070.796296</td>\n",
              "      <td>0.0</td>\n",
              "      <td>1.0</td>\n",
              "      <td>0.0</td>\n",
              "      <td>17.872897</td>\n",
              "      <td>0</td>\n",
              "    </tr>\n",
              "    <tr>\n",
              "      <th>2019-12-26 22:00:00</th>\n",
              "      <td>20.0</td>\n",
              "      <td>VONIN 보닌 남성기초세트</td>\n",
              "      <td>이미용</td>\n",
              "      <td>54000</td>\n",
              "      <td>61928000.0</td>\n",
              "      <td>12</td>\n",
              "      <td>26</td>\n",
              "      <td>22</td>\n",
              "      <td>0</td>\n",
              "      <td>Thursday</td>\n",
              "      <td>0</td>\n",
              "      <td>4</td>\n",
              "      <td>1146.814815</td>\n",
              "      <td>0.0</td>\n",
              "      <td>0.0</td>\n",
              "      <td>1.0</td>\n",
              "      <td>17.941483</td>\n",
              "      <td>0</td>\n",
              "    </tr>\n",
              "    <tr>\n",
              "      <th>2019-12-29 10:20:00</th>\n",
              "      <td>20.0</td>\n",
              "      <td>VONIN 보닌 남성기초세트</td>\n",
              "      <td>이미용</td>\n",
              "      <td>54000</td>\n",
              "      <td>36735000.0</td>\n",
              "      <td>12</td>\n",
              "      <td>29</td>\n",
              "      <td>10</td>\n",
              "      <td>20</td>\n",
              "      <td>Sunday</td>\n",
              "      <td>1</td>\n",
              "      <td>2</td>\n",
              "      <td>680.277778</td>\n",
              "      <td>1.0</td>\n",
              "      <td>0.0</td>\n",
              "      <td>0.0</td>\n",
              "      <td>17.419241</td>\n",
              "      <td>0</td>\n",
              "    </tr>\n",
              "    <tr>\n",
              "      <th>2019-12-29 10:40:00</th>\n",
              "      <td>20.0</td>\n",
              "      <td>VONIN 보닌 남성기초세트</td>\n",
              "      <td>이미용</td>\n",
              "      <td>54000</td>\n",
              "      <td>82209000.0</td>\n",
              "      <td>12</td>\n",
              "      <td>29</td>\n",
              "      <td>10</td>\n",
              "      <td>40</td>\n",
              "      <td>Sunday</td>\n",
              "      <td>1</td>\n",
              "      <td>2</td>\n",
              "      <td>1522.388889</td>\n",
              "      <td>0.0</td>\n",
              "      <td>1.0</td>\n",
              "      <td>0.0</td>\n",
              "      <td>18.224775</td>\n",
              "      <td>0</td>\n",
              "    </tr>\n",
              "    <tr>\n",
              "      <th>2019-12-29 11:00:00</th>\n",
              "      <td>20.0</td>\n",
              "      <td>VONIN 보닌 남성기초세트</td>\n",
              "      <td>이미용</td>\n",
              "      <td>54000</td>\n",
              "      <td>88859000.0</td>\n",
              "      <td>12</td>\n",
              "      <td>29</td>\n",
              "      <td>11</td>\n",
              "      <td>0</td>\n",
              "      <td>Sunday</td>\n",
              "      <td>1</td>\n",
              "      <td>2</td>\n",
              "      <td>1645.537037</td>\n",
              "      <td>0.0</td>\n",
              "      <td>0.0</td>\n",
              "      <td>1.0</td>\n",
              "      <td>18.302561</td>\n",
              "      <td>0</td>\n",
              "    </tr>\n",
              "  </tbody>\n",
              "</table>\n",
              "<p>77 rows × 18 columns</p>\n",
              "</div>"
            ],
            "text/plain": [
              "                     노출(분)              상품명  상품군  ...  Last     취급액_로그  결제유형\n",
              "방송일시                                              ...                       \n",
              "2019-09-04 19:40:00   20.0  VONIN 보닌 남성기초세트  이미용  ...   1.0  18.128750     0\n",
              "2019-09-14 09:00:00   20.0  VONIN 보닌 남성기초세트  이미용  ...   0.0  17.681469     0\n",
              "2019-09-14 09:20:00   20.0  VONIN 보닌 남성기초세트  이미용  ...   0.0  18.013750     0\n",
              "2019-09-14 09:40:00   20.0  VONIN 보닌 남성기초세트  이미용  ...   1.0  17.916135     0\n",
              "2019-09-26 19:00:00   20.0  VONIN 보닌 남성기초세트  이미용  ...   0.0  17.387800     0\n",
              "...                    ...              ...  ...  ...   ...        ...   ...\n",
              "2019-12-26 21:40:00   20.0  VONIN 보닌 남성기초세트  이미용  ...   0.0  17.872897     0\n",
              "2019-12-26 22:00:00   20.0  VONIN 보닌 남성기초세트  이미용  ...   1.0  17.941483     0\n",
              "2019-12-29 10:20:00   20.0  VONIN 보닌 남성기초세트  이미용  ...   0.0  17.419241     0\n",
              "2019-12-29 10:40:00   20.0  VONIN 보닌 남성기초세트  이미용  ...   0.0  18.224775     0\n",
              "2019-12-29 11:00:00   20.0  VONIN 보닌 남성기초세트  이미용  ...   1.0  18.302561     0\n",
              "\n",
              "[77 rows x 18 columns]"
            ]
          },
          "metadata": {
            "tags": []
          },
          "execution_count": 92
        }
      ]
    },
    {
      "cell_type": "code",
      "metadata": {
        "id": "PcYw32NNFsJ9",
        "colab_type": "code",
        "colab": {
          "base_uri": "https://localhost:8080/",
          "height": 935
        },
        "outputId": "b70832aa-d829-4077-9320-aafcbe1c0c14"
      },
      "source": [
        "data[data.상품군=='이미용'].상품명.value_counts()[:50]"
      ],
      "execution_count": 93,
      "outputs": [
        {
          "output_type": "execute_result",
          "data": {
            "text/plain": [
              "비버리힐스폴로클럽 남성기초세트                   339\n",
              "비버리힐스폴로클럽 남성기초세트 2018              149\n",
              "참존 기초세트                            141\n",
              "VONIN 보닌 남성기초세트                     82\n",
              "엘렌실라 에스까르고에센스 커버쿠션                  60\n",
              "실크테라피 오리지널 에센스 패키지                  53\n",
              "네오젠 에이지큐어 원미닛 링클 리프트                52\n",
              "바바코코 젤네일스트립 SET                     30\n",
              "라라츄 틴트 아이브로우 바                      30\n",
              "엘렌실라 달팽이크림 콜라겐5+팩트3                 27\n",
              "스포메틱스 트리플 샤이닝 쿠션시즌1                 24\n",
              "마리끌레르 파리컬렉션 리얼 하이드로 립스틱 마스카라        21\n",
              "엘렌실라 그린 에너지 썬스틱7                    21\n",
              "아이앤아이 퀵래쉬 속눈썹세트                     21\n",
              "아미니 비노테라 오일 워시 구성2                  18\n",
              "아미니 비노테라 오일 워시 구성1                  18\n",
              "더블모 어성초 샴푸                          15\n",
              "미바 이온칼슘 파운데이션 더블쿠션 RX               15\n",
              "엘렌실라&코즈미 쑥클렌져 단하루                   12\n",
              "마리끌레르 파리컬렉션 리얼 하이드로 립스틱 2019리뉴얼     12\n",
              "자올 닥터스오더 탈모 부스터&샴푸                  11\n",
              "프리미엄 클린샤워                            9\n",
              "마리끌레르 파리컬렉션 리얼 하이드로 립스틱 리뉴얼          9\n",
              "파시노 이지앤퀵 빗살 뿌리펌                      9\n",
              "NEW프리미엄 TS샴푸/트리트먼트 추가                8\n",
              "에이유플러스 슈퍼선스틱 1001 쇼퍼백                8\n",
              "스포메틱스 네츄럴 선스틱                        8\n",
              "NEW프리미엄 TS샴푸세트 추가                    8\n",
              "블링썸 아이스타일러SET                        6\n",
              "스칼프솔루션 트리트먼트 패키지                     6\n",
              "뉴웨이 볼륨브러쉬                            6\n",
              "스포메틱스 트리플 샤이닝 쿠션 이데베논앰플              6\n",
              "스포메틱스 리얼핏 모이스춰라이징 코코넛크림              6\n",
              "달바 화이트 트러플 퍼스트 인텐시브 세럼               6\n",
              "스포메틱스 그린 네츄럴 선쿠션                     6\n",
              "엘렌실라&코즈미 쑥클렌져                        6\n",
              "엘로엘 아쿠아클린 마스크                        6\n",
              "메디앤서 생콜라겐 마스크팩                       3\n",
              "시크릿뮤즈 커버팩트                           3\n",
              "아미니 릴렉싱 풋케어 풀패키지                     3\n",
              "에이온에이 10분 셀프뿌리퍼머                     3\n",
              "코튼플러스 클렌징패드 더블                       3\n",
              "코튼플러스 클렌징패드 싱글                       3\n",
              "컨시크 컬러마크 글로우 립스틱                     3\n",
              "고데롤 플러스                              3\n",
              "AHC 스킨케어링 톤커버크림                      3\n",
              "피부약방 더오리진 크림세트                       3\n",
              "라라츄 헤어볼륨쿠션                           3\n",
              "블링썸 데스트니 아이라이너                       3\n",
              "시크릿 라메종 볼륨 스프레이 고데기                  3\n",
              "Name: 상품명, dtype: int64"
            ]
          },
          "metadata": {
            "tags": []
          },
          "execution_count": 93
        }
      ]
    },
    {
      "cell_type": "markdown",
      "metadata": {
        "id": "eGMG-JFOGE-r",
        "colab_type": "text"
      },
      "source": [
        "## 가구 & 침구 & 생활용품"
      ]
    },
    {
      "cell_type": "code",
      "metadata": {
        "id": "qP9krCU0GgpS",
        "colab_type": "code",
        "colab": {}
      },
      "source": [
        "data.상품명 = data.상품명.str.replace('싱글사이즈', ' 싱글 ')\n",
        "\n",
        "data.상품명 = data.상품명.str.replace('퀸사이즈', ' 퀸 ')\n",
        "data.상품명 = data.상품명.str.replace('Q 퀸', ' 퀸 ')\n",
        "data.상품명 = data.상품명.str.replace('Q(퀸)', ' 퀸 ', regex = False)\n",
        "\n",
        "data.상품명 = data.상품명.str.replace('킹사이즈', ' 킹 ')\n",
        "data.상품명 = data.상품명.str.replace('K 킹', ' 킹 ')\n",
        "data.상품명 = data.상품명.str.replace('K(킹)', ' 킹 ', regex = False)\n",
        "\n",
        "data.상품명 = data.상품명.str.replace('SK(슈퍼킹)', ' 슈퍼킹 ', regex = False)\n",
        "data.상품명 = data.상품명.str.replace('SS 슈퍼싱글', ' 슈퍼싱글 ', regex = False)\n",
        "data.상품명 = data.상품명.str.replace('SS(슈퍼싱글)', ' 슈퍼싱글 ', regex = False)\n",
        "\n",
        "\n",
        "def bedsize(x):\n",
        "    if x.상품군 == '가구' or x.상품군 == '침구' or x.상품군 == '생활용품':\n",
        "        x.상품명 = x.상품명.replace('K', ' 킹 ')\n",
        "        x.상품명 = x.상품명.replace('Q', ' 퀸 ')\n",
        "        x.상품명 = x.상품명.replace('SS', '슈퍼싱글')\n",
        "        x.상품명 = x.상품명.replace('S', '싱글')\n",
        "    else:\n",
        "        x.상품명 = x.상품명   \n",
        "    return x\n",
        "\n",
        "data = data.apply(lambda x: bedsize(x), axis = 1)\n",
        "\n",
        "# 보루네오\n",
        "data.상품명 = data.상품명.str.replace('피올레', '', regex = False)\n",
        "data.상품명 = data.상품명.str.replace('천연소가죽', '', regex = False)\n",
        "data.상품명 = data.상품명.str.replace('유로탑', '', regex = False)\n",
        "data.상품명 = data.상품명.str.replace('루나', '', regex = False)\n",
        "data.상품명 = data.상품명.str.replace('시즌2', '', regex = False)\n",
        "\n",
        "# 보루네오 침대\n",
        "data.상품명 = data.상품명.str.replace('멀티수납형', '', regex = False)\n",
        "data.상품명 = data.상품명.str.replace('멀티 수납형', '', regex = False)\n",
        "data.상품명 = data.상품명.str.replace('서랍형', '', regex = False)\n",
        "data.상품명 = data.상품명.str.replace('가죽 침대', '가죽침대', regex = False)\n",
        "data.상품명 = data.상품명.str.replace('LED', '', regex = False) # LED가 들어간 제품 대부분이 침대\n",
        "\n",
        "# 한샘\n",
        "data.상품명 = data.상품명.str.replace('한샘', ' 한샘 ')\n",
        "\n",
        "# 삼익가구 \n",
        "data.상품명 = data.상품명.str.replace('제니비', '') ## 서랍형 침대\n",
        "data.상품명 = data.상품명.str.replace('어블러', '') ## 멀티수납형 침대\n",
        "\n",
        "# 장수흙침대\n",
        "data.상품명 = data.상품명.str.replace('장수흙침대', '장수 흙침대', regex = False)\n",
        "\n",
        "# 소파\n",
        "data.상품명 = data.상품명.str.replace('소파', ' 소파 ', regex = False)\n",
        "data.상품명 = data.상품명.str.replace('침구세트', ' 침구세트 ')\n",
        "\n",
        "data.상품명 = data.상품명.str.replace(' +', ' ')\n",
        "data.상품명 = data.상품명.str.lstrip()\n",
        "data.상품명 = data.상품명.str.rstrip()"
      ],
      "execution_count": null,
      "outputs": []
    },
    {
      "cell_type": "code",
      "metadata": {
        "id": "Ckskr9IBGGDK",
        "colab_type": "code",
        "colab": {
          "base_uri": "https://localhost:8080/",
          "height": 845
        },
        "outputId": "b97ffb07-5f41-467a-ea0c-237f509fe5de"
      },
      "source": [
        "data[data.상품군=='가구'].상품명.value_counts()[:50]"
      ],
      "execution_count": null,
      "outputs": [
        {
          "output_type": "execute_result",
          "data": {
            "text/plain": [
              "보루네오 소파                               539\n",
              "보루네오 수납형 침대 슈퍼싱글                      252\n",
              "보루네오 수납형 침대 킹                         252\n",
              "보루네오 수납형 침대 퀸                         251\n",
              "삼익가구 침대 슈퍼싱글                          145\n",
              "삼익가구 침대 퀸                             143\n",
              "삼익가구 침대 킹                             134\n",
              "삼익가구 수납형 침대 슈퍼싱글                       75\n",
              "삼익가구 수납형 침대 퀸                          72\n",
              "삼익가구 수납형 침대 킹                          65\n",
              "장수 흙침대 퀸                               50\n",
              "장수 흙침대 싱글                              49\n",
              "한샘 HG 화이트 실버슬림 붙박이장                    47\n",
              "장수 클래식 흙카우치                            33\n",
              "한샘 모데나 프리미엄 슬라이딩 붙박이장                  22\n",
              "이누스바스 시공 패키지                           13\n",
              "한샘 하이바스 내추럴 기본형                        11\n",
              "보루네오 가죽침대 킹                            11\n",
              "보루네오 가죽침대 퀸                            10\n",
              "보루네오 심플 광폭 서랍장 800 3단                   9\n",
              "보루네오 심플 광폭 서랍장 800 5단                   9\n",
              "레스토닉 블루투스 서랍 침대 퀸                       9\n",
              "레스토닉 블루투스 서랍 침대 슈퍼싱글                    9\n",
              "레스토닉 블루투스 서랍 침대 킹                       9\n",
              "보루네오 심플 광폭 서랍장 1000 5단                  9\n",
              "한샘 뉴퍼스티지R 리클라이너                         7\n",
              "한샘 페이지 리클라이너 소파                         7\n",
              "보루네오 가죽침대 슈퍼싱글                          7\n",
              "이조농방 보령황토 흙침대 퀸 T 퀸 100                 6\n",
              "이조농방 보령황토 흙카우치 소파 TC100                 6\n",
              "뉴 벨라홈 리클라이닝 소파                          6\n",
              "이조농방 보령황토 흙침대 싱글 T싱글100                 5\n",
              "한샘 하이바스 내추럴 기본형 + 키큰장                   5\n",
              "보루네오 델라 원목 베드룸 세트1 프레임+매트리스+화장대+협탁      4\n",
              "한샘 하이바스 내추럴 하부장형                        4\n",
              "보루네오 델라 원목 베드룸 세트2 프레임+화장대+협탁           3\n",
              "유캐슬 마리노 침실가구 실속세트 매트리스X                 2\n",
              "유캐슬 마리노 침실가구 풀세트 매트리스포함                 2\n",
              "보루네오 델라 원목 거실장                          2\n",
              "보루네오 델라 원목 베드룸 세트3 프레임+매트리스             2\n",
              "싱글ET 이조농방 보령황토 흙침대 퀸 +카우치 소파            2\n",
              "유캐슬 마리노 협탁                              1\n",
              "유캐슬 마리노 5단 서랍장                          1\n",
              "한샘 하이바스 내추럴 하부장 + 키큰장                   1\n",
              "유캐슬 마리노 화장대세트 화장대+거울                    1\n",
              "Name: 상품명, dtype: int64"
            ]
          },
          "metadata": {
            "tags": []
          },
          "execution_count": 241
        }
      ]
    },
    {
      "cell_type": "code",
      "metadata": {
        "id": "r1iDaQUJ8LHn",
        "colab_type": "code",
        "colab": {}
      },
      "source": [
        "# 선일금고 \n",
        "data.상품명 = data.상품명.str.replace('선일금고 이볼브 시리즈', ' 금고 ')\n",
        "data.상품명 = data.상품명.str.replace('EV-020', '')\n",
        "data.상품명 = data.상품명.str.replace('EV-040', '')\n",
        "\n",
        "## 일월 매트\n",
        "data.상품명 = data.상품명.str.replace('품안애', ' ')\n",
        "\n",
        "## 노비타 비데\n",
        "data.상품명 = data.상품명.str.replace('노비타', ' ')\n",
        "data.상품명 = data.상품명.str.replace('무료설치', ' ')\n",
        "\n",
        "data.상품명 = data.상품명.str.replace('무선', ' 무선 ')\n",
        "\n",
        "# 타이거 충전식 예초기\n",
        "data.상품명 = data.상품명.str.replace('타이거 충전식', '')\n",
        "\n",
        "data.상품명 = data.상품명.str.replace('국내제조', '')\n",
        "data.상품명 = data.상품명.str.replace('엘사', '')\n",
        "\n",
        "\n",
        "def household(x):\n",
        "    if x.상품군 == '생활용품':\n",
        "        x.상품명 = x.상품명.replace('스마트', '')\n",
        "        x.상품명 = x.상품명.replace('온열', '')\n",
        "        x.상품명 = x.상품명.replace('온수', '')\n",
        "        x.상품명 = x.상품명.replace('에너지세이브', '')\n",
        "    else:\n",
        "        x.상품명 = x.상품명\n",
        "    return x\n",
        "\n",
        "data = data.apply(lambda x: household(x), axis = 1)\n",
        "\n",
        "data.상품명 = data.상품명.str.replace(' +', ' ')\n",
        "data.상품명 = data.상품명.str.lstrip()\n",
        "data.상품명 = data.상품명.str.rstrip()"
      ],
      "execution_count": null,
      "outputs": []
    },
    {
      "cell_type": "code",
      "metadata": {
        "id": "viRLKkiM8apX",
        "colab_type": "code",
        "colab": {
          "base_uri": "https://localhost:8080/",
          "height": 35
        },
        "outputId": "00fdff4c-128f-43b4-d2c8-d56f58d15f8d"
      },
      "source": [
        "set(data[(data.상품명.str.contains('엘사'))].상품명)"
      ],
      "execution_count": null,
      "outputs": [
        {
          "output_type": "execute_result",
          "data": {
            "text/plain": [
              "set()"
            ]
          },
          "metadata": {
            "tags": []
          },
          "execution_count": 243
        }
      ]
    },
    {
      "cell_type": "code",
      "metadata": {
        "id": "GP9S8KqG8LoH",
        "colab_type": "code",
        "colab": {
          "base_uri": "https://localhost:8080/",
          "height": 557
        },
        "outputId": "9127b6e8-7a3e-46c8-84b2-1c2259e46ac7"
      },
      "source": [
        "word_count = max_words('생활용품')\n",
        "max_words_count = sorted(word_count.items(), key = lambda x: x[1], reverse = True)\n",
        "max_words_count[:30]"
      ],
      "execution_count": null,
      "outputs": [
        {
          "output_type": "execute_result",
          "data": {
            "text/plain": [
              "[('일월', 638),\n",
              " ('매트', 497),\n",
              " ('무선', 391),\n",
              " ('싱글', 333),\n",
              " ('비데', 277),\n",
              " ('퀸', 267),\n",
              " ('금고', 255),\n",
              " ('킹', 194),\n",
              " ('예초기', 184),\n",
              " ('청소기', 177),\n",
              " ('카페트매트', 162),\n",
              " ('세트', 147),\n",
              " ('바로바로', 135),\n",
              " ('리빙박스', 127),\n",
              " ('순면', 116),\n",
              " ('뉴스파', 109),\n",
              " ('더블', 102),\n",
              " ('파격가', 99),\n",
              " ('배터리', 92),\n",
              " ('코이모', 73),\n",
              " ('노송가구', 72),\n",
              " ('제이드', 72),\n",
              " ('비취', 72),\n",
              " ('교자상', 72),\n",
              " ('물걸레', 69),\n",
              " ('MD-970', 66),\n",
              " ('롤링마사지기', 66),\n",
              " ('메디컬드림', 66),\n",
              " ('니봇', 54),\n",
              " ('진공', 54)]"
            ]
          },
          "metadata": {
            "tags": []
          },
          "execution_count": 244
        }
      ]
    },
    {
      "cell_type": "code",
      "metadata": {
        "id": "NN0YRzuepg9h",
        "colab_type": "code",
        "colab": {}
      },
      "source": [
        "# 미사여구\n",
        "data.상품명 = data.상품명.str.replace('국내제조', '', regex = False)\n",
        "data.상품명 = data.상품명.str.replace('단하루', '', regex = False)"
      ],
      "execution_count": null,
      "outputs": []
    },
    {
      "cell_type": "code",
      "metadata": {
        "id": "QepTihqalBUM",
        "colab_type": "code",
        "colab": {}
      },
      "source": [
        "data.상품명 = data.상품명.str.replace('기본형', '')\n",
        "data.상품명 = data.상품명.str.replace('고급형', '')\n",
        "data.상품명 = data.상품명.str.replace('프리미엄형', '')\n",
        "\n",
        "data.상품명 = data.상품명.str.replace('중형', '')\n",
        "data.상품명 = data.상품명.str.replace('대형', '')\n",
        "data.상품명 = data.상품명.str.replace('특대형', '')\n",
        "data.상품명 = data.상품명.str.replace('점보특대형', '')\n",
        "data.상품명 = data.상품명.str.replace('슈퍼특대형', '')"
      ],
      "execution_count": null,
      "outputs": []
    },
    {
      "cell_type": "markdown",
      "metadata": {
        "id": "O5QpUNjbq7Y8",
        "colab_type": "text"
      },
      "source": [
        "# max_word_count\n"
      ]
    },
    {
      "cell_type": "code",
      "metadata": {
        "id": "33i6ILDrs866",
        "colab_type": "code",
        "colab": {}
      },
      "source": [
        "words = ' '.join(list(data.상품명.dropna().values))\n",
        "\n",
        "import re\n",
        "words = re.split(r'[()+ ]', words)\n",
        "words = list(filter(lambda x: x != '', words))\n",
        "\n",
        "def max_words(text):\n",
        "    word_count = {}\n",
        "    for word in set(words):\n",
        "        count = words.count(word)\n",
        "        word_count.update({word:count})\n",
        "    return word_count\n",
        "\n",
        "word_count = max_words(words)\n",
        "max_words_count = sorted(word_count.items(), key = lambda x: x[1], reverse = True)"
      ],
      "execution_count": null,
      "outputs": []
    },
    {
      "cell_type": "code",
      "metadata": {
        "id": "Kp5R68uhiKlw",
        "colab_type": "code",
        "colab": {
          "base_uri": "https://localhost:8080/",
          "height": 377
        },
        "outputId": "fa07717c-b460-49a6-f2e5-18d3579aeecb"
      },
      "source": [
        "set(data[data.상품명.str.contains('형')].상품명)"
      ],
      "execution_count": null,
      "outputs": [
        {
          "output_type": "execute_result",
          "data": {
            "text/plain": [
              "{'김병지 거미손 풀확장 일체형 코일카매트',\n",
              " '보루네오 수납형 침대 슈퍼싱글',\n",
              " '보루네오 수납형 침대 퀸',\n",
              " '보루네오 수납형 침대 킹',\n",
              " '삼익가구 수납형 침대 슈퍼싱글',\n",
              " '삼익가구 수납형 침대 퀸',\n",
              " '삼익가구 수납형 침대 킹',\n",
              " '아키 조끼형 더블보정 란쥬 쉐이퍼',\n",
              " '점보형 일월 카페트매트',\n",
              " '코지마 손목형 자동전자 혈압계 CBP-160',\n",
              " '크린조이 황사 방역마스크 소형 105매',\n",
              " '푸마 드라이셀 기능성 티셔츠형 브라탑 패키지',\n",
              " '푸마 드라이셀 브라탑 세트 끈형',\n",
              " '푸마 드라이셀 브라탑 세트 런닝형',\n",
              " '푸마 드라이셀 컴포트 탑 레이어 브라탑 세트 긴팔형',\n",
              " '푸마 웜셀 런닝형 브라탑 세트',\n",
              " '푸마 웜셀 티셔츠형 브라탑 세트',\n",
              " '한샘 하이바스 내추럴 하부장형',\n",
              " '형 글라스락 퍼플 클래식 유리 밀폐용기세트 8조',\n",
              " '형 글라스락 퍼플클래식 유리 밀폐용기 세트 16조+4조'}"
            ]
          },
          "metadata": {
            "tags": []
          },
          "execution_count": 248
        }
      ]
    },
    {
      "cell_type": "code",
      "metadata": {
        "id": "54vH1pdffCbZ",
        "colab_type": "code",
        "colab": {
          "base_uri": "https://localhost:8080/",
          "height": 1000
        },
        "outputId": "9cc86a47-dc50-4bf3-f81f-81366d22ef08"
      },
      "source": [
        "max_words_count[:250]"
      ],
      "execution_count": null,
      "outputs": [
        {
          "output_type": "execute_result",
          "data": {
            "text/plain": [
              "[('LG', 3589),\n",
              " ('TV', 2266),\n",
              " ('세트', 1866),\n",
              " ('패키지', 1673),\n",
              " ('쿠쿠', 1630),\n",
              " ('전기밥솥', 1620),\n",
              " ('침대', 1416),\n",
              " ('보루네오', 1360),\n",
              " ('쿠첸', 1318),\n",
              " ('압력밥솥', 1300),\n",
              " ('삼성', 1048),\n",
              " ('푸마', 1013),\n",
              " ('퀸', 1010),\n",
              " ('손질', 979),\n",
              " ('수납형', 967),\n",
              " ('에어컨', 946),\n",
              " ('킹', 909),\n",
              " ('드로즈', 814),\n",
              " ('브라', 737),\n",
              " ('기초세트', 711),\n",
              " ('냉장고', 701),\n",
              " ('코트', 688),\n",
              " ('슈퍼싱글', 669),\n",
              " ('국내산', 648),\n",
              " ('세탁기', 646),\n",
              " ('일월', 638),\n",
              " ('삼익가구', 634),\n",
              " ('스텐', 618),\n",
              " ('침구세트', 600),\n",
              " ('팬츠', 577),\n",
              " ('티셔츠', 566),\n",
              " ('소파', 560),\n",
              " ('S/S', 558),\n",
              " ('보몽드', 543),\n",
              " ('팬티', 533),\n",
              " ('매트', 497),\n",
              " ('비버리힐스폴로클럽', 488),\n",
              " ('벽걸이', 483),\n",
              " ('썸머', 464),\n",
              " ('싱글', 456),\n",
              " ('데님', 451),\n",
              " ('김치', 442),\n",
              " ('가스레인지', 441),\n",
              " ('린나이', 441),\n",
              " ('K-SWISS', 440),\n",
              " ('무선', 428),\n",
              " ('한일', 415),\n",
              " ('드라이셀', 413),\n",
              " ('뱅뱅', 413),\n",
              " ('오징어', 410),\n",
              " ('루이띠에', 406),\n",
              " ('분쇄믹서기', 401),\n",
              " ('올리고', 390),\n",
              " ('가스와이드그릴', 390),\n",
              " ('프라이팬', 389),\n",
              " ('F/W', 387),\n",
              " ('시어서커', 372),\n",
              " ('소가죽', 365),\n",
              " ('냄비', 364),\n",
              " ('노트북', 358),\n",
              " ('코치', 357),\n",
              " ('캐리어', 355),\n",
              " ('프라다', 342),\n",
              " ('18K', 331),\n",
              " ('카이만', 331),\n",
              " ('고등어', 326),\n",
              " ('컬렉션', 313),\n",
              " ('밍크', 309),\n",
              " ('레이스', 308),\n",
              " ('에어프라이어', 302),\n",
              " ('트랙수트', 298),\n",
              " ('트렁크', 296),\n",
              " ('에코라믹', 288),\n",
              " ('심리스', 286),\n",
              " ('기모', 285),\n",
              " ('쿨', 281),\n",
              " ('헤스티지', 280),\n",
              " ('크로스백', 280),\n",
              " ('삭루츠', 279),\n",
              " ('비데', 277),\n",
              " ('에버라스트', 275),\n",
              " ('오모떼', 272),\n",
              " ('월드컵', 272),\n",
              " ('마르엘라로사티', 269),\n",
              " ('쉐이핑', 268),\n",
              " ('쌀', 264),\n",
              " ('풍기인견', 263),\n",
              " ('금고', 255),\n",
              " ('종근당건강', 253),\n",
              " ('두유', 253),\n",
              " ('소곱창전골', 252),\n",
              " ('샐비어', 252),\n",
              " ('리플', 252),\n",
              " ('가이거', 246),\n",
              " ('NNF', 246),\n",
              " ('CERINI_by_PAT', 242),\n",
              " ('백', 236),\n",
              " ('롱', 235),\n",
              " ('파뷔에', 235),\n",
              " ('청소기', 233),\n",
              " ('니트', 232),\n",
              " ('USPA', 232),\n",
              " ('패딩', 231),\n",
              " ('대우전자', 230),\n",
              " ('선글라스', 230),\n",
              " ('컬럼비아', 230),\n",
              " ('러닝화', 228),\n",
              " ('홈멀티', 228),\n",
              " ('코튼', 224),\n",
              " ('매직쉐프', 222),\n",
              " ('엠보', 219),\n",
              " ('토트백', 219),\n",
              " ('헤드', 212),\n",
              " ('라이크라', 208),\n",
              " ('임페', 207),\n",
              " ('레이프릴', 206),\n",
              " ('IH', 206),\n",
              " ('란쥬', 200),\n",
              " ('보코', 200),\n",
              " ('숄더백', 200),\n",
              " ('락토핏', 199),\n",
              " ('워치', 198),\n",
              " ('도스문도스', 195),\n",
              " ('로베르타_디_까메리노', 194),\n",
              " ('스탠드', 192),\n",
              " ('리복', 191),\n",
              " ('스트레치', 189),\n",
              " ('예초기', 184),\n",
              " ('모시떡', 182),\n",
              " ('아키', 181),\n",
              " ('쿠미투니카', 180),\n",
              " ('생유산균', 178),\n",
              " ('풀세트', 177),\n",
              " ('자수', 177),\n",
              " ('그렉노먼', 175),\n",
              " ('팔찌', 174),\n",
              " ('폴로셔츠', 171),\n",
              " ('카파', 170),\n",
              " ('에지리', 168),\n",
              " ('크리스티나앤코', 167),\n",
              " ('양가죽', 165),\n",
              " ('카페트매트', 162),\n",
              " ('봄', 162),\n",
              " ('풀커버', 159),\n",
              " ('베스트', 159),\n",
              " ('트레킹화', 158),\n",
              " ('전복', 157),\n",
              " ('목걸이', 152),\n",
              " ('헤비추얼', 150),\n",
              " ('후드', 149),\n",
              " ('녹용도가니탕', 147),\n",
              " ('문어', 146),\n",
              " ('에어핏', 144),\n",
              " ('동내의', 142),\n",
              " ('참존', 141),\n",
              " ('키친플라워', 141),\n",
              " ('아가타', 141),\n",
              " ('브라탑', 138),\n",
              " ('릴렉스', 137),\n",
              " ('에어', 137),\n",
              " ('완도활', 136),\n",
              " ('코몽트', 136),\n",
              " ('자연산', 135),\n",
              " ('도마', 135),\n",
              " ('바로바로', 135),\n",
              " ('롱드로즈', 133),\n",
              " ('와이드', 133),\n",
              " ('장수', 132),\n",
              " ('원피스', 129),\n",
              " ('쿠커', 128),\n",
              " ('한샘', 127),\n",
              " ('리빙박스', 127),\n",
              " ('런닝', 126),\n",
              " ('극세사', 126),\n",
              " ('언더셔츠', 126),\n",
              " ('샌들', 126),\n",
              " ('워킹화', 126),\n",
              " ('블랙', 126),\n",
              " ('순면', 125),\n",
              " ('백팩', 124),\n",
              " ('지퍼', 123),\n",
              " ('칼리베이직', 123),\n",
              " ('클란츠', 122),\n",
              " ('테이트', 121),\n",
              " ('사첼백', 121),\n",
              " ('화이트라벨', 121),\n",
              " ('전자레인지', 120),\n",
              " ('락앤락', 120),\n",
              " ('갈치', 118),\n",
              " ('진공', 117),\n",
              " ('더블', 117),\n",
              " ('쥐포', 116),\n",
              " ('항균', 115),\n",
              " ('레깅스', 115),\n",
              " ('석류', 115),\n",
              " ('PK', 114),\n",
              " ('해피콜', 114),\n",
              " ('흙침대', 112),\n",
              " ('트레이닝', 111),\n",
              " ('라쉬반', 110),\n",
              " ('웜', 110),\n",
              " ('뉴스파', 109),\n",
              " ('오가닉', 108),\n",
              " ('엘렌실라', 108),\n",
              " ('치마레깅스', 104),\n",
              " ('프리미엄', 103),\n",
              " ('대동모피', 102),\n",
              " ('베이스레이어', 102),\n",
              " ('기능성', 102),\n",
              " ('꽃게', 99),\n",
              " ('본딩', 99),\n",
              " ('데일리', 99),\n",
              " ('파격가', 99),\n",
              " ('마리노블', 98),\n",
              " ('밴딩', 96),\n",
              " ('핸드백', 96),\n",
              " ('정직한', 95),\n",
              " ('1세트', 94),\n",
              " ('아웃도어', 94),\n",
              " ('여행가방', 93),\n",
              " ('자켓', 93),\n",
              " ('루테인', 93),\n",
              " ('배터리', 92),\n",
              " ('슬립온', 91),\n",
              " ('갈비탕', 91),\n",
              " ('히트융', 90),\n",
              " ('7세트', 90),\n",
              " ('순금', 89),\n",
              " ('AAD', 89),\n",
              " ('브라세트', 89),\n",
              " ('퍼', 86),\n",
              " ('체인', 86),\n",
              " ('안드레아바나', 86),\n",
              " ('벨라홈', 84),\n",
              " ('카라', 84),\n",
              " ('농부의', 84),\n",
              " ('트레스패스', 84),\n",
              " ('알비에로_마르티니', 84),\n",
              " ('울', 84),\n",
              " ('용대리황태', 83),\n",
              " ('VONIN', 82),\n",
              " ('에펨', 82),\n",
              " ('보닌', 82),\n",
              " ('닥터', 81),\n",
              " ('궁중', 81),\n",
              " ('아이넥스', 80),\n",
              " ('반지', 80),\n",
              " ('뉴', 80),\n",
              " ('소', 80),\n",
              " ('스피드윅', 79)]"
            ]
          },
          "metadata": {
            "tags": []
          },
          "execution_count": 251
        }
      ]
    },
    {
      "cell_type": "code",
      "metadata": {
        "id": "WlZFykKbmY4K",
        "colab_type": "code",
        "colab": {
          "base_uri": "https://localhost:8080/",
          "height": 497
        },
        "outputId": "6aa867bf-8573-4bfc-dee5-f2f61bbc9fe4"
      },
      "source": [
        "from wordcloud import WordCloud\n",
        "\n",
        "wordcloud = WordCloud(max_font_size=200, font_path= fontpath,\n",
        "                     width=1200,height=800).generate_from_frequencies(word_count)\n",
        "plt.figure(figsize=(10,8))\n",
        "plt.imshow(wordcloud)\n",
        "plt.tight_layout(pad=0)\n",
        "plt.axis('off')\n",
        "plt.show()"
      ],
      "execution_count": null,
      "outputs": [
        {
          "output_type": "display_data",
          "data": {
            "image/png": "[encoded data removed]",
            "text/plain": [
              "<Figure size 720x576 with 1 Axes>"
            ]
          },
          "metadata": {
            "tags": []
          }
        }
      ]
    },
    {
      "cell_type": "code",
      "metadata": {
        "id": "h1Gk2L1fjB8k",
        "colab_type": "code",
        "colab": {
          "base_uri": "https://localhost:8080/",
          "height": 125
        },
        "outputId": "c570b8c4-0e7f-438d-d84b-8362cd8cd999"
      },
      "source": [
        "from sklearn.feature_extraction.text import CountVectorizer\n",
        "vect = CountVectorizer(max_features = 200)\n",
        "vect.fit(words)"
      ],
      "execution_count": null,
      "outputs": [
        {
          "output_type": "execute_result",
          "data": {
            "text/plain": [
              "CountVectorizer(analyzer='word', binary=False, decode_error='strict',\n",
              "                dtype=<class 'numpy.int64'>, encoding='utf-8', input='content',\n",
              "                lowercase=True, max_df=1.0, max_features=200, min_df=1,\n",
              "                ngram_range=(1, 1), preprocessor=None, stop_words=None,\n",
              "                strip_accents=None, token_pattern='(?u)\\\\b\\\\w\\\\w+\\\\b',\n",
              "                tokenizer=None, vocabulary=None)"
            ]
          },
          "metadata": {
            "tags": []
          },
          "execution_count": 287
        }
      ]
    },
    {
      "cell_type": "code",
      "metadata": {
        "id": "mxWrSRo2ojZm",
        "colab_type": "code",
        "colab": {}
      },
      "source": [
        "df = pd.DataFrame(np.stack(data.상품명.map(lambda x: vect.transform(x.split()).toarray().sum(axis=0)).values),\n",
        "                  columns=vect.get_feature_names(),\n",
        "                  index = data.index)\n",
        "df = pd.concat([data, df], axis=1)"
      ],
      "execution_count": null,
      "outputs": []
    },
    {
      "cell_type": "code",
      "metadata": {
        "id": "BblTNAvSoxij",
        "colab_type": "code",
        "colab": {
          "base_uri": "https://localhost:8080/",
          "height": 573
        },
        "outputId": "1ed9607e-be56-47cb-d955-1f764bb24d3f"
      },
      "source": [
        "#df = df.drop(columns = ['CV'])\n",
        "df = df.drop(columns = ['세일','원플원','상품명'])\n",
        "df.head()"
      ],
      "execution_count": null,
      "outputs": [
        {
          "output_type": "execute_result",
          "data": {
            "text/html": [
              "<div>\n",
              "<style scoped>\n",
              "    .dataframe tbody tr th:only-of-type {\n",
              "        vertical-align: middle;\n",
              "    }\n",
              "\n",
              "    .dataframe tbody tr th {\n",
              "        vertical-align: top;\n",
              "    }\n",
              "\n",
              "    .dataframe thead th {\n",
              "        text-align: right;\n",
              "    }\n",
              "</style>\n",
              "<table border=\"1\" class=\"dataframe\">\n",
              "  <thead>\n",
              "    <tr style=\"text-align: right;\">\n",
              "      <th></th>\n",
              "      <th>노출(분)</th>\n",
              "      <th>상품군</th>\n",
              "      <th>판매단가</th>\n",
              "      <th>취급액</th>\n",
              "      <th>판매수량</th>\n",
              "      <th>결제유형</th>\n",
              "      <th>성별</th>\n",
              "      <th>18k</th>\n",
              "      <th>cerini_by_pat</th>\n",
              "      <th>ih</th>\n",
              "      <th>lg</th>\n",
              "      <th>nnf</th>\n",
              "      <th>pk</th>\n",
              "      <th>set</th>\n",
              "      <th>swiss</th>\n",
              "      <th>tv</th>\n",
              "      <th>uspa</th>\n",
              "      <th>가스레인지</th>\n",
              "      <th>가스와이드그릴</th>\n",
              "      <th>가이거</th>\n",
              "      <th>갈치</th>\n",
              "      <th>고등어</th>\n",
              "      <th>국내산</th>\n",
              "      <th>그렉노먼</th>\n",
              "      <th>극세사</th>\n",
              "      <th>금고</th>\n",
              "      <th>기능성</th>\n",
              "      <th>기모</th>\n",
              "      <th>기초세트</th>\n",
              "      <th>김치</th>\n",
              "      <th>냄비</th>\n",
              "      <th>냉장고</th>\n",
              "      <th>노트북</th>\n",
              "      <th>녹용도가니탕</th>\n",
              "      <th>뉴스파</th>\n",
              "      <th>니트</th>\n",
              "      <th>대동모피</th>\n",
              "      <th>대우전자</th>\n",
              "      <th>더블</th>\n",
              "      <th>데님</th>\n",
              "      <th>...</th>\n",
              "      <th>쿠미투니카</th>\n",
              "      <th>쿠첸</th>\n",
              "      <th>쿠커</th>\n",
              "      <th>쿠쿠</th>\n",
              "      <th>크로스백</th>\n",
              "      <th>크리스티나앤코</th>\n",
              "      <th>클란츠</th>\n",
              "      <th>키친플라워</th>\n",
              "      <th>테이트</th>\n",
              "      <th>토트백</th>\n",
              "      <th>트랙수트</th>\n",
              "      <th>트렁크</th>\n",
              "      <th>트레이닝</th>\n",
              "      <th>트레킹화</th>\n",
              "      <th>티셔츠</th>\n",
              "      <th>파뷔에</th>\n",
              "      <th>팔찌</th>\n",
              "      <th>패딩</th>\n",
              "      <th>패키지</th>\n",
              "      <th>팬츠</th>\n",
              "      <th>팬티</th>\n",
              "      <th>폴로셔츠</th>\n",
              "      <th>푸마</th>\n",
              "      <th>풀세트</th>\n",
              "      <th>풀커버</th>\n",
              "      <th>풍기인견</th>\n",
              "      <th>프라다</th>\n",
              "      <th>프라이팬</th>\n",
              "      <th>프리미엄</th>\n",
              "      <th>한샘</th>\n",
              "      <th>한일</th>\n",
              "      <th>항균</th>\n",
              "      <th>해피콜</th>\n",
              "      <th>헤드</th>\n",
              "      <th>헤비추얼</th>\n",
              "      <th>헤스티지</th>\n",
              "      <th>홈멀티</th>\n",
              "      <th>화이트라벨</th>\n",
              "      <th>후드</th>\n",
              "      <th>흙침대</th>\n",
              "    </tr>\n",
              "    <tr>\n",
              "      <th>방송일시</th>\n",
              "      <th></th>\n",
              "      <th></th>\n",
              "      <th></th>\n",
              "      <th></th>\n",
              "      <th></th>\n",
              "      <th></th>\n",
              "      <th></th>\n",
              "      <th></th>\n",
              "      <th></th>\n",
              "      <th></th>\n",
              "      <th></th>\n",
              "      <th></th>\n",
              "      <th></th>\n",
              "      <th></th>\n",
              "      <th></th>\n",
              "      <th></th>\n",
              "      <th></th>\n",
              "      <th></th>\n",
              "      <th></th>\n",
              "      <th></th>\n",
              "      <th></th>\n",
              "      <th></th>\n",
              "      <th></th>\n",
              "      <th></th>\n",
              "      <th></th>\n",
              "      <th></th>\n",
              "      <th></th>\n",
              "      <th></th>\n",
              "      <th></th>\n",
              "      <th></th>\n",
              "      <th></th>\n",
              "      <th></th>\n",
              "      <th></th>\n",
              "      <th></th>\n",
              "      <th></th>\n",
              "      <th></th>\n",
              "      <th></th>\n",
              "      <th></th>\n",
              "      <th></th>\n",
              "      <th></th>\n",
              "      <th></th>\n",
              "      <th></th>\n",
              "      <th></th>\n",
              "      <th></th>\n",
              "      <th></th>\n",
              "      <th></th>\n",
              "      <th></th>\n",
              "      <th></th>\n",
              "      <th></th>\n",
              "      <th></th>\n",
              "      <th></th>\n",
              "      <th></th>\n",
              "      <th></th>\n",
              "      <th></th>\n",
              "      <th></th>\n",
              "      <th></th>\n",
              "      <th></th>\n",
              "      <th></th>\n",
              "      <th></th>\n",
              "      <th></th>\n",
              "      <th></th>\n",
              "      <th></th>\n",
              "      <th></th>\n",
              "      <th></th>\n",
              "      <th></th>\n",
              "      <th></th>\n",
              "      <th></th>\n",
              "      <th></th>\n",
              "      <th></th>\n",
              "      <th></th>\n",
              "      <th></th>\n",
              "      <th></th>\n",
              "      <th></th>\n",
              "      <th></th>\n",
              "      <th></th>\n",
              "      <th></th>\n",
              "      <th></th>\n",
              "      <th></th>\n",
              "      <th></th>\n",
              "      <th></th>\n",
              "      <th></th>\n",
              "    </tr>\n",
              "  </thead>\n",
              "  <tbody>\n",
              "    <tr>\n",
              "      <th>2019-01-01 06:00:00</th>\n",
              "      <td>20.0</td>\n",
              "      <td>의류</td>\n",
              "      <td>39900</td>\n",
              "      <td>2099000.0</td>\n",
              "      <td>52.606516</td>\n",
              "      <td>0</td>\n",
              "      <td>1</td>\n",
              "      <td>0</td>\n",
              "      <td>0</td>\n",
              "      <td>0</td>\n",
              "      <td>0</td>\n",
              "      <td>0</td>\n",
              "      <td>0</td>\n",
              "      <td>0</td>\n",
              "      <td>0</td>\n",
              "      <td>0</td>\n",
              "      <td>0</td>\n",
              "      <td>0</td>\n",
              "      <td>0</td>\n",
              "      <td>0</td>\n",
              "      <td>0</td>\n",
              "      <td>0</td>\n",
              "      <td>0</td>\n",
              "      <td>0</td>\n",
              "      <td>0</td>\n",
              "      <td>0</td>\n",
              "      <td>0</td>\n",
              "      <td>0</td>\n",
              "      <td>0</td>\n",
              "      <td>0</td>\n",
              "      <td>0</td>\n",
              "      <td>0</td>\n",
              "      <td>0</td>\n",
              "      <td>0</td>\n",
              "      <td>0</td>\n",
              "      <td>1</td>\n",
              "      <td>0</td>\n",
              "      <td>0</td>\n",
              "      <td>0</td>\n",
              "      <td>0</td>\n",
              "      <td>...</td>\n",
              "      <td>0</td>\n",
              "      <td>0</td>\n",
              "      <td>0</td>\n",
              "      <td>0</td>\n",
              "      <td>0</td>\n",
              "      <td>0</td>\n",
              "      <td>0</td>\n",
              "      <td>0</td>\n",
              "      <td>1</td>\n",
              "      <td>0</td>\n",
              "      <td>0</td>\n",
              "      <td>0</td>\n",
              "      <td>0</td>\n",
              "      <td>0</td>\n",
              "      <td>0</td>\n",
              "      <td>0</td>\n",
              "      <td>0</td>\n",
              "      <td>0</td>\n",
              "      <td>0</td>\n",
              "      <td>0</td>\n",
              "      <td>0</td>\n",
              "      <td>0</td>\n",
              "      <td>0</td>\n",
              "      <td>0</td>\n",
              "      <td>0</td>\n",
              "      <td>0</td>\n",
              "      <td>0</td>\n",
              "      <td>0</td>\n",
              "      <td>0</td>\n",
              "      <td>0</td>\n",
              "      <td>0</td>\n",
              "      <td>0</td>\n",
              "      <td>0</td>\n",
              "      <td>0</td>\n",
              "      <td>0</td>\n",
              "      <td>0</td>\n",
              "      <td>0</td>\n",
              "      <td>0</td>\n",
              "      <td>0</td>\n",
              "      <td>0</td>\n",
              "    </tr>\n",
              "    <tr>\n",
              "      <th>2019-01-01 06:00:00</th>\n",
              "      <td>20.0</td>\n",
              "      <td>의류</td>\n",
              "      <td>39900</td>\n",
              "      <td>4371000.0</td>\n",
              "      <td>109.548872</td>\n",
              "      <td>0</td>\n",
              "      <td>2</td>\n",
              "      <td>0</td>\n",
              "      <td>0</td>\n",
              "      <td>0</td>\n",
              "      <td>0</td>\n",
              "      <td>0</td>\n",
              "      <td>0</td>\n",
              "      <td>0</td>\n",
              "      <td>0</td>\n",
              "      <td>0</td>\n",
              "      <td>0</td>\n",
              "      <td>0</td>\n",
              "      <td>0</td>\n",
              "      <td>0</td>\n",
              "      <td>0</td>\n",
              "      <td>0</td>\n",
              "      <td>0</td>\n",
              "      <td>0</td>\n",
              "      <td>0</td>\n",
              "      <td>0</td>\n",
              "      <td>0</td>\n",
              "      <td>0</td>\n",
              "      <td>0</td>\n",
              "      <td>0</td>\n",
              "      <td>0</td>\n",
              "      <td>0</td>\n",
              "      <td>0</td>\n",
              "      <td>0</td>\n",
              "      <td>0</td>\n",
              "      <td>1</td>\n",
              "      <td>0</td>\n",
              "      <td>0</td>\n",
              "      <td>0</td>\n",
              "      <td>0</td>\n",
              "      <td>...</td>\n",
              "      <td>0</td>\n",
              "      <td>0</td>\n",
              "      <td>0</td>\n",
              "      <td>0</td>\n",
              "      <td>0</td>\n",
              "      <td>0</td>\n",
              "      <td>0</td>\n",
              "      <td>0</td>\n",
              "      <td>1</td>\n",
              "      <td>0</td>\n",
              "      <td>0</td>\n",
              "      <td>0</td>\n",
              "      <td>0</td>\n",
              "      <td>0</td>\n",
              "      <td>0</td>\n",
              "      <td>0</td>\n",
              "      <td>0</td>\n",
              "      <td>0</td>\n",
              "      <td>0</td>\n",
              "      <td>0</td>\n",
              "      <td>0</td>\n",
              "      <td>0</td>\n",
              "      <td>0</td>\n",
              "      <td>0</td>\n",
              "      <td>0</td>\n",
              "      <td>0</td>\n",
              "      <td>0</td>\n",
              "      <td>0</td>\n",
              "      <td>0</td>\n",
              "      <td>0</td>\n",
              "      <td>0</td>\n",
              "      <td>0</td>\n",
              "      <td>0</td>\n",
              "      <td>0</td>\n",
              "      <td>0</td>\n",
              "      <td>0</td>\n",
              "      <td>0</td>\n",
              "      <td>0</td>\n",
              "      <td>0</td>\n",
              "      <td>0</td>\n",
              "    </tr>\n",
              "    <tr>\n",
              "      <th>2019-01-01 06:20:00</th>\n",
              "      <td>20.0</td>\n",
              "      <td>의류</td>\n",
              "      <td>39900</td>\n",
              "      <td>3262000.0</td>\n",
              "      <td>81.754386</td>\n",
              "      <td>0</td>\n",
              "      <td>1</td>\n",
              "      <td>0</td>\n",
              "      <td>0</td>\n",
              "      <td>0</td>\n",
              "      <td>0</td>\n",
              "      <td>0</td>\n",
              "      <td>0</td>\n",
              "      <td>0</td>\n",
              "      <td>0</td>\n",
              "      <td>0</td>\n",
              "      <td>0</td>\n",
              "      <td>0</td>\n",
              "      <td>0</td>\n",
              "      <td>0</td>\n",
              "      <td>0</td>\n",
              "      <td>0</td>\n",
              "      <td>0</td>\n",
              "      <td>0</td>\n",
              "      <td>0</td>\n",
              "      <td>0</td>\n",
              "      <td>0</td>\n",
              "      <td>0</td>\n",
              "      <td>0</td>\n",
              "      <td>0</td>\n",
              "      <td>0</td>\n",
              "      <td>0</td>\n",
              "      <td>0</td>\n",
              "      <td>0</td>\n",
              "      <td>0</td>\n",
              "      <td>1</td>\n",
              "      <td>0</td>\n",
              "      <td>0</td>\n",
              "      <td>0</td>\n",
              "      <td>0</td>\n",
              "      <td>...</td>\n",
              "      <td>0</td>\n",
              "      <td>0</td>\n",
              "      <td>0</td>\n",
              "      <td>0</td>\n",
              "      <td>0</td>\n",
              "      <td>0</td>\n",
              "      <td>0</td>\n",
              "      <td>0</td>\n",
              "      <td>1</td>\n",
              "      <td>0</td>\n",
              "      <td>0</td>\n",
              "      <td>0</td>\n",
              "      <td>0</td>\n",
              "      <td>0</td>\n",
              "      <td>0</td>\n",
              "      <td>0</td>\n",
              "      <td>0</td>\n",
              "      <td>0</td>\n",
              "      <td>0</td>\n",
              "      <td>0</td>\n",
              "      <td>0</td>\n",
              "      <td>0</td>\n",
              "      <td>0</td>\n",
              "      <td>0</td>\n",
              "      <td>0</td>\n",
              "      <td>0</td>\n",
              "      <td>0</td>\n",
              "      <td>0</td>\n",
              "      <td>0</td>\n",
              "      <td>0</td>\n",
              "      <td>0</td>\n",
              "      <td>0</td>\n",
              "      <td>0</td>\n",
              "      <td>0</td>\n",
              "      <td>0</td>\n",
              "      <td>0</td>\n",
              "      <td>0</td>\n",
              "      <td>0</td>\n",
              "      <td>0</td>\n",
              "      <td>0</td>\n",
              "    </tr>\n",
              "    <tr>\n",
              "      <th>2019-01-01 06:20:00</th>\n",
              "      <td>20.0</td>\n",
              "      <td>의류</td>\n",
              "      <td>39900</td>\n",
              "      <td>6955000.0</td>\n",
              "      <td>174.310777</td>\n",
              "      <td>0</td>\n",
              "      <td>2</td>\n",
              "      <td>0</td>\n",
              "      <td>0</td>\n",
              "      <td>0</td>\n",
              "      <td>0</td>\n",
              "      <td>0</td>\n",
              "      <td>0</td>\n",
              "      <td>0</td>\n",
              "      <td>0</td>\n",
              "      <td>0</td>\n",
              "      <td>0</td>\n",
              "      <td>0</td>\n",
              "      <td>0</td>\n",
              "      <td>0</td>\n",
              "      <td>0</td>\n",
              "      <td>0</td>\n",
              "      <td>0</td>\n",
              "      <td>0</td>\n",
              "      <td>0</td>\n",
              "      <td>0</td>\n",
              "      <td>0</td>\n",
              "      <td>0</td>\n",
              "      <td>0</td>\n",
              "      <td>0</td>\n",
              "      <td>0</td>\n",
              "      <td>0</td>\n",
              "      <td>0</td>\n",
              "      <td>0</td>\n",
              "      <td>0</td>\n",
              "      <td>1</td>\n",
              "      <td>0</td>\n",
              "      <td>0</td>\n",
              "      <td>0</td>\n",
              "      <td>0</td>\n",
              "      <td>...</td>\n",
              "      <td>0</td>\n",
              "      <td>0</td>\n",
              "      <td>0</td>\n",
              "      <td>0</td>\n",
              "      <td>0</td>\n",
              "      <td>0</td>\n",
              "      <td>0</td>\n",
              "      <td>0</td>\n",
              "      <td>1</td>\n",
              "      <td>0</td>\n",
              "      <td>0</td>\n",
              "      <td>0</td>\n",
              "      <td>0</td>\n",
              "      <td>0</td>\n",
              "      <td>0</td>\n",
              "      <td>0</td>\n",
              "      <td>0</td>\n",
              "      <td>0</td>\n",
              "      <td>0</td>\n",
              "      <td>0</td>\n",
              "      <td>0</td>\n",
              "      <td>0</td>\n",
              "      <td>0</td>\n",
              "      <td>0</td>\n",
              "      <td>0</td>\n",
              "      <td>0</td>\n",
              "      <td>0</td>\n",
              "      <td>0</td>\n",
              "      <td>0</td>\n",
              "      <td>0</td>\n",
              "      <td>0</td>\n",
              "      <td>0</td>\n",
              "      <td>0</td>\n",
              "      <td>0</td>\n",
              "      <td>0</td>\n",
              "      <td>0</td>\n",
              "      <td>0</td>\n",
              "      <td>0</td>\n",
              "      <td>0</td>\n",
              "      <td>0</td>\n",
              "    </tr>\n",
              "    <tr>\n",
              "      <th>2019-01-01 06:40:00</th>\n",
              "      <td>20.0</td>\n",
              "      <td>의류</td>\n",
              "      <td>39900</td>\n",
              "      <td>6672000.0</td>\n",
              "      <td>167.218045</td>\n",
              "      <td>0</td>\n",
              "      <td>1</td>\n",
              "      <td>0</td>\n",
              "      <td>0</td>\n",
              "      <td>0</td>\n",
              "      <td>0</td>\n",
              "      <td>0</td>\n",
              "      <td>0</td>\n",
              "      <td>0</td>\n",
              "      <td>0</td>\n",
              "      <td>0</td>\n",
              "      <td>0</td>\n",
              "      <td>0</td>\n",
              "      <td>0</td>\n",
              "      <td>0</td>\n",
              "      <td>0</td>\n",
              "      <td>0</td>\n",
              "      <td>0</td>\n",
              "      <td>0</td>\n",
              "      <td>0</td>\n",
              "      <td>0</td>\n",
              "      <td>0</td>\n",
              "      <td>0</td>\n",
              "      <td>0</td>\n",
              "      <td>0</td>\n",
              "      <td>0</td>\n",
              "      <td>0</td>\n",
              "      <td>0</td>\n",
              "      <td>0</td>\n",
              "      <td>0</td>\n",
              "      <td>1</td>\n",
              "      <td>0</td>\n",
              "      <td>0</td>\n",
              "      <td>0</td>\n",
              "      <td>0</td>\n",
              "      <td>...</td>\n",
              "      <td>0</td>\n",
              "      <td>0</td>\n",
              "      <td>0</td>\n",
              "      <td>0</td>\n",
              "      <td>0</td>\n",
              "      <td>0</td>\n",
              "      <td>0</td>\n",
              "      <td>0</td>\n",
              "      <td>1</td>\n",
              "      <td>0</td>\n",
              "      <td>0</td>\n",
              "      <td>0</td>\n",
              "      <td>0</td>\n",
              "      <td>0</td>\n",
              "      <td>0</td>\n",
              "      <td>0</td>\n",
              "      <td>0</td>\n",
              "      <td>0</td>\n",
              "      <td>0</td>\n",
              "      <td>0</td>\n",
              "      <td>0</td>\n",
              "      <td>0</td>\n",
              "      <td>0</td>\n",
              "      <td>0</td>\n",
              "      <td>0</td>\n",
              "      <td>0</td>\n",
              "      <td>0</td>\n",
              "      <td>0</td>\n",
              "      <td>0</td>\n",
              "      <td>0</td>\n",
              "      <td>0</td>\n",
              "      <td>0</td>\n",
              "      <td>0</td>\n",
              "      <td>0</td>\n",
              "      <td>0</td>\n",
              "      <td>0</td>\n",
              "      <td>0</td>\n",
              "      <td>0</td>\n",
              "      <td>0</td>\n",
              "      <td>0</td>\n",
              "    </tr>\n",
              "  </tbody>\n",
              "</table>\n",
              "<p>5 rows × 207 columns</p>\n",
              "</div>"
            ],
            "text/plain": [
              "                     노출(분) 상품군   판매단가        취급액  ...  홈멀티  화이트라벨  후드  흙침대\n",
              "방송일시                                              ...                     \n",
              "2019-01-01 06:00:00   20.0  의류  39900  2099000.0  ...    0      0   0    0\n",
              "2019-01-01 06:00:00   20.0  의류  39900  4371000.0  ...    0      0   0    0\n",
              "2019-01-01 06:20:00   20.0  의류  39900  3262000.0  ...    0      0   0    0\n",
              "2019-01-01 06:20:00   20.0  의류  39900  6955000.0  ...    0      0   0    0\n",
              "2019-01-01 06:40:00   20.0  의류  39900  6672000.0  ...    0      0   0    0\n",
              "\n",
              "[5 rows x 207 columns]"
            ]
          },
          "metadata": {
            "tags": []
          },
          "execution_count": 360
        }
      ]
    },
    {
      "cell_type": "code",
      "metadata": {
        "id": "Wg1BJBOQ4rjw",
        "colab_type": "code",
        "colab": {}
      },
      "source": [
        ""
      ],
      "execution_count": null,
      "outputs": []
    }
  ]
}